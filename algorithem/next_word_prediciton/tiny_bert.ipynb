{
 "cells": [
  {
   "cell_type": "markdown",
   "metadata": {},
   "source": [
    "# Tiny Bert\n",
    "\n",
    "Model: https://github.com/huawei-noah/Pretrained-Language-Model/tree/master/TinyBERT\n",
    "\n",
    "Quelle: https://www.reddit.com/r/MachineLearning/comments/e7c8bo/run_bert_on_mobile_phones_single_cup_core_a76_in/"
   ]
  }
 ],
 "metadata": {
  "language_info": {
   "name": "python"
  }
 },
 "nbformat": 4,
 "nbformat_minor": 2
}
