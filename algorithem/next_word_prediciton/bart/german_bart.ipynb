{
 "cells": [
  {
   "cell_type": "markdown",
   "metadata": {},
   "source": [
    "# NLP wiht LSTM TensorFlow Youtube Tutorial \n",
    "\n",
    "Code: https://github.com/dbmdz/berts"
   ]
  },
  {
   "cell_type": "markdown",
   "metadata": {},
   "source": [
    "## Setup "
   ]
  },
  {
   "cell_type": "code",
   "execution_count": 1,
   "metadata": {},
   "outputs": [
    {
     "name": "stderr",
     "output_type": "stream",
     "text": [
      "/usr/local/lib/python3.11/site-packages/transformers/tokenization_utils_base.py:1601: FutureWarning: `clean_up_tokenization_spaces` was not set. It will be set to `True` by default. This behavior will be depracted in transformers v4.45, and will be then set to `False` by default. For more details check this issue: https://github.com/huggingface/transformers/issues/31884\n",
      "  warnings.warn(\n",
      "Some weights of the model checkpoint at dbmdz/bert-base-german-cased were not used when initializing BertForMaskedLM: ['bert.pooler.dense.bias', 'bert.pooler.dense.weight']\n",
      "- This IS expected if you are initializing BertForMaskedLM from the checkpoint of a model trained on another task or with another architecture (e.g. initializing a BertForSequenceClassification model from a BertForPreTraining model).\n",
      "- This IS NOT expected if you are initializing BertForMaskedLM from the checkpoint of a model that you expect to be exactly identical (initializing a BertForSequenceClassification model from a BertForSequenceClassification model).\n"
     ]
    },
    {
     "name": "stdout",
     "output_type": "stream",
     "text": [
      "Top 10 nächste Wörter für den Satz: Hallo heute \n",
      ":\n",
      "“\n",
      "–\n",
      ",\n",
      ".\n",
      "\"\n",
      "(\n",
      ";\n",
      "„\n",
      ")\n"
     ]
    }
   ],
   "source": [
    "from transformers import AutoModelForMaskedLM, AutoTokenizer\n",
    "import torch\n",
    "\n",
    "# 1. Tokenizer und Modell laden\n",
    "tokenizer = AutoTokenizer.from_pretrained(\"dbmdz/bert-base-german-cased\")\n",
    "model = AutoModelForMaskedLM.from_pretrained(\"dbmdz/bert-base-german-cased\")\n",
    "\n",
    "# 2. In den Evaluierungsmodus wechseln\n",
    "model.eval()\n",
    "\n",
    "# 3. Beispieltext mit einem maskierten Wort\n",
    "text = \"Hallo heute [MASK]\"\n",
    "\n",
    "# 4. Tokenisieren und Umwandeln in IDs\n",
    "input_ids = tokenizer.encode(text, return_tensors='pt')\n",
    "\n",
    "# 5. Vorhersage der Masken\n",
    "with torch.no_grad():\n",
    "    outputs = model(input_ids)\n",
    "    predictions = outputs.logits  # Hier sollte predictions definiert sein\n",
    "\n",
    "# 6. Index des Maskenworts finden\n",
    "mask_token_index = torch.where(input_ids == tokenizer.mask_token_id)[1]\n",
    "\n",
    "# 7. Wahrscheinlichkeiten für das maskierte Wort erhalten\n",
    "mask_token_logits = predictions[0, mask_token_index, :]\n",
    "\n",
    "# 8. Top-10 vorhergesagte Wörter finden\n",
    "top_k = 10\n",
    "top_k_indices = torch.topk(mask_token_logits, top_k).indices[0].tolist()\n",
    "\n",
    "# 9. Vorhersagen ausgeben\n",
    "predicted_words = tokenizer.convert_ids_to_tokens(top_k_indices)\n",
    "\n",
    "print(\"Top 10 nächste Wörter für den Satz:\", text.replace(\"[MASK]\", \"\"))\n",
    "for word in predicted_words:\n",
    "    print(word)\n"
   ]
  }
 ],
 "metadata": {
  "kernelspec": {
   "display_name": "Python 3",
   "language": "python",
   "name": "python3"
  },
  "language_info": {
   "codemirror_mode": {
    "name": "ipython",
    "version": 3
   },
   "file_extension": ".py",
   "mimetype": "text/x-python",
   "name": "python",
   "nbconvert_exporter": "python",
   "pygments_lexer": "ipython3",
   "version": "3.11.10"
  }
 },
 "nbformat": 4,
 "nbformat_minor": 2
}
