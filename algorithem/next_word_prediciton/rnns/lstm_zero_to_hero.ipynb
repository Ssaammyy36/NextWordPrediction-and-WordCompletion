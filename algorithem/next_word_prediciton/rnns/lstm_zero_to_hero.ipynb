{
 "cells": [
  {
   "cell_type": "markdown",
   "metadata": {},
   "source": [
    "# NLP wiht LSTM TensorFlow Youtube Tutorial \n",
    "\n",
    "Video: https://www.youtube.com/watch?v=ZMudJXhsUpY&list=PLQY2H8rRoyvzDbLUZkbudP-MFQZwNmU4S&index=6\n",
    "\n",
    "Code: https://colab.research.google.com/github/lmoroney/dlaicourse/blob/master/TensorFlow%20In%20Practice/Course%203%20-%20NLP/Course%203%20-%20Week%204%20-%20Lesson%202%20-%20Notebook.ipynb#scrollTo=w9vH8Y59ajYL"
   ]
  },
  {
   "cell_type": "markdown",
   "metadata": {},
   "source": [
    "## Setup "
   ]
  },
  {
   "cell_type": "code",
   "execution_count": 83,
   "metadata": {},
   "outputs": [
    {
     "name": "stdout",
     "output_type": "stream",
     "text": [
      "\n"
     ]
    },
    {
     "name": "stdout",
     "output_type": "stream",
     "text": [
      "Python 3.10.15\n",
      "Tensorflow Version: 2.15.1\n",
      "Keras Version: 2.15.0\n"
     ]
    }
   ],
   "source": [
    "import tensorflow as tf\n",
    "import keras \n",
    "\n",
    "from tensorflow.keras.preprocessing.sequence import pad_sequences\n",
    "from tensorflow.keras.layers import Embedding, LSTM, Dense, Bidirectional, Input\n",
    "from tensorflow.keras.preprocessing.text import Tokenizer\n",
    "from tensorflow.keras.models import Sequential\n",
    "from tensorflow.keras.optimizers import Adam\n",
    "import json\n",
    "\n",
    "import numpy as np \n",
    "import os\n",
    "import random\n",
    "import re\n",
    "\n",
    "#os.environ[\"TF_USE_LEGACY_KERAS\"] = \"1\" # https://github.com/tensorflow/tfjs/issues/8328#issuecomment-2212490809\n",
    "\n",
    "! echo $TF_USE_LEGACY_KERAS\n",
    "! python3 --version\n",
    "print(f\"Tensorflow Version: {tf.__version__}\")\n",
    "print(f\"Keras Version: {keras.__version__}\")\n"
   ]
  },
  {
   "cell_type": "markdown",
   "metadata": {},
   "source": [
    "##  Einstellungen "
   ]
  },
  {
   "cell_type": "code",
   "execution_count": 84,
   "metadata": {},
   "outputs": [],
   "source": [
    "traning_new_model = True   \n",
    "save_wort_index = True              # Soll ein neues Modell traniert werden ?\n",
    "convert_to_js_model = True\n",
    "copie_js_model_to_react = True          # Soll das js Modell direkt rüber kopiert werden ?\n",
    "\n",
    "example_text = \"Hallo ich bin\"\n",
    "traning_sentences = 500\n",
    "model_name = \"lstm\" \n",
    "\n",
    "text_file = os.path.abspath(\"/workspace/dataset/10k_sentences.txt\")\n",
    "project_dir = os.path.abspath(\"/workspace/models/hero_to_zero_lstm\")\n",
    "word_index_file = os.path.join(project_dir, 'tokenizer_word_index.json')\n",
    "\n",
    "model_dir = os.path.join(project_dir, model_name)\n",
    "js_model_dir = os.path.join(project_dir, model_name + \"_js\")\n",
    "\n",
    "react_model_dir = os.path.join(os.path.abspath(\"/workspace/webpage/silvan-webpage/public/models\"),  model_dir)"
   ]
  },
  {
   "cell_type": "markdown",
   "metadata": {},
   "source": [
    "## Data"
   ]
  },
  {
   "cell_type": "code",
   "execution_count": 85,
   "metadata": {},
   "outputs": [
    {
     "name": "stdout",
     "output_type": "stream",
     "text": [
      "Text beinhaltet 9902 Zeile \n",
      "\n",
      "9902 zufällige Zahlen zwischen 1 und 9902: {8193, 6151, 8203, 6164, 31, 6178, 8227, 36, 8232, 8233, 2090, 4140, 4141, 49, 2121, 4172, 79, 102, 4198, 8307, 115, 2167, 8315, 2177, 129, 2178, 135, 4234, 6285, 6286, 2191, 8336, 2194, 6302, 8353, 8355, 2213, 2214, 174, 2226, 8375, 8377, 6332, 6342, 2249, 6349, 8400, 4305, 2258, 213, 6358, 6368, 4321, 2283, 2284, 8433, 4342, 8443, 2300, 4352, 259, 6408, 270, 274, 2323, 2325, 4374, 279, 6423, 8474, 4378, 8476, 2337, 6437, 4397, 8495, 312, 8505, 6459, 8510, 8514, 4430, 2391, 4448, 2401, 357, 2406, 6503, 8550, 6502, 4464, 6520, 8571, 6529, 8599, 4504, 410, 6561, 417, 2469, 8618, 6575, 4528, 2481, 432, 8627, 2486, 6584, 2488, 442, 4540, 2493, 445, 2508, 2509, 464, 4561, 2516, 4564, 6614, 477, 2532, 4584, 2545, 6641, 4593, 4604, 2561, 6658, 8707, 8710, 2570, 2576, 2581, 2587, 8734, 2591, 2598, 6701, 8749, 8752, 563, 8770, 8771, 2635, 6740, 6749, 610, 6755, 2660, 2662, 6758, 614, 4716, 8813, 2668, 2675, 2679, 2686, 4735, 4740, 6791, 2696, 4752, 2711, 6816, 674, 2722, 6825, 4777, 8876, 4783, 2739, 4787, 4789, 6835, 8893, 4804, 6862, 8915, 4819, 725, 724, 733, 738, 6883, 8933, 747, 4858, 6910, 2816, 6914, 8968, 6922, 2827, 6925, 2831, 4884, 8980, 2837, 4893, 8992, 4898, 4904, 6960, 818, 4915, 6970, 826, 4926, 9023, 9032, 844, 2893, 2894, 4948, 9049, 9058, 873, 2925, 2930, 2940, 7048, 907, 2957, 913, 5010, 5013, 9109, 2967, 9110, 7073, 2977, 5030, 7079, 936, 2990, 956, 3004, 961, 966, 9159, 5063, 9161, 7118, 3023, 5087, 3040, 5088, 3047, 5096, 7148, 9198, 3077, 3087, 5136, 7190, 9242, 5148, 1059, 3111, 5160, 3117, 1074, 9269, 9272, 5178, 5189, 1093, 1096, 3147, 5197, 7249, 1106, 7254, 9306, 5210, 5215, 3173, 1126, 5224, 1140, 9340, 5249, 1156, 5255, 7304, 3218, 3223, 7320, 3227, 7326, 3231, 5279, 7335, 9384, 1193, 5291, 9390, 7357, 9413, 7367, 1225, 5329, 1236, 5336, 5339, 1244, 5342, 1254, 1255, 3316, 3323, 1277, 1291, 1295, 3351, 1311, 9507, 7463, 9517, 5431, 9529, 9530, 7497, 5451, 7500, 7504, 7506, 9557, 7511, 1377, 5475, 7523, 5477, 3432, 9576, 9577, 3440, 3441, 9587, 1398, 5501, 9597, 1405, 3456, 9601, 1416, 3465, 7573, 3479, 7576, 3487, 9635, 1444, 5551, 7602, 5560, 3513, 7613, 3522, 7623, 3529, 5579, 5581, 7633, 9685, 3542, 7639, 9687, 3547, 5601, 3553, 7653, 7657, 1517, 5615, 7666, 9716, 7671, 7672, 5629, 7681, 3587, 5638, 9734, 1547, 9744, 5654, 7706, 1562, 3612, 7710, 1570, 7715, 3622, 5672, 9770, 7725, 5679, 3631, 5681, 1590, 9783, 5689, 1595, 9788, 7747, 5701, 9797, 1616, 9816, 3681, 5729, 3683, 9832, 7785, 5740, 5742, 7792, 3699, 7798, 5758, 7807, 1670, 5793, 3746, 1699, 7853, 1712, 7860, 7877, 7880, 7895, 7899, 5855, 5863, 5864, 1771, 1772, 3821, 5871, 3826, 1787, 3837, 7945, 3850, 7947, 3862, 5910, 3864, 7962, 1838, 1848, 3896, 1854, 1864, 1866, 3919, 8015, 1874, 3923, 5978, 1884, 5992, 3948, 1906, 3957, 1913, 3967, 3979, 8079, 3984, 3991, 8090, 6046, 1951, 8096, 6064, 4019, 8117, 6070, 8125, 8126, 6080, 4035, 6084, 1992, 6097, 2005, 8151, 4057, 2012, 4063, 8163, 4074, 8175, 6134, 6142, 4095} \n",
      "\n",
      "Trainingstext: \n",
      "achtung, limited edition!\n",
      "afghanistan empörung über zivile opfer .\n",
      "aktionäre werden in kürze eine ei\n"
     ]
    }
   ],
   "source": [
    "def lade_zufaellige_zeilen(dateipfad, traning_sentences):\n",
    "\n",
    "    # Zeilen zählne\n",
    "    with open(dateipfad, 'r') as datei:\n",
    "        anzahl_zeilen = sum(1 for zeile in datei)\n",
    "    print(f\"Text beinhaltet {anzahl_zeilen} Zeile \\n\")\n",
    "    \n",
    "    # Zufällige Zeilennummern generieren\n",
    "    zufaellige_zeilennummern = set(random.sample(range(anzahl_zeilen), traning_sentences))\n",
    "    print(f\"{anzahl_zeilen} zufällige Zahlen zwischen 1 und {anzahl_zeilen}: {zufaellige_zeilennummern} \\n\")\n",
    "    \n",
    "    # Ausgewählten Zeilen laden\n",
    "    ausgewaehlte_zeilen = \"\"\n",
    "    with open(dateipfad, 'r') as datei:\n",
    "        for nummer, zeile in enumerate(datei):\n",
    "            if nummer in zufaellige_zeilennummern:\n",
    "                zeile = re.sub(r'[^a-zA-Zäöüß.,!? \\n]', '', zeile)\n",
    "                ausgewaehlte_zeilen += zeile.strip().lower() + \"\\n\"\n",
    "    print(f\"Trainingstext: \\n{ausgewaehlte_zeilen[:100]}\")\n",
    "    \n",
    "    return ausgewaehlte_zeilen\n",
    "\n",
    "# Beispiel-Aufruf der Funktion\n",
    "data = lade_zufaellige_zeilen(text_file, traning_sentences)\n"
   ]
  },
  {
   "cell_type": "code",
   "execution_count": 86,
   "metadata": {},
   "outputs": [
    {
     "name": "stdout",
     "output_type": "stream",
     "text": [
      "Corpus mit der länge 501: \n",
      "['achtung, limited edition!', 'afghanistan empörung über zivile opfer .', 'aktionäre werden in kürze eine einladung erhalten.', 'alle musikstile sind gefragt.', 'allerdings mit unterschiedlichem schwierigkeitsgrad.', 'allerdings war das geschäft in der rezession auch tief eingebrochen.', 'alle signalwege des pds sind voll digitalisiert.', 'alles wissenswerte über schweden.', 'also nach der ffnungsdauer fragen.', 'am freitagabend wurden die siegerehrungen vorgenommen und die pokale überreicht.', 'an den festnahmen waren etwa  polizisten beteiligt.', 'andere materialien können vor ort günstig eingekauft werden.', 'an der indexspitze legten bmw , prozent zu.', 'an der rezeption erbeuteten sie lediglich einen geringen geldbetrag.', 'angesichts des steigenden yen standen weiterhin exporttitel auf der abschussliste.', 'anstelle des druidenwalzers kann ein spieler auch den druidensprung machen.', 'auch das thema des nächsten filmwettbewerbs ist nun bekannt.', 'auch der gesetzgeber hat zum erfolg der firma beigetragen.', 'auch die forschung will die hugohäringgesellschaft unterstützen.', 'auch die sbahn macht mit.', 'auch die stadtmauer ist in teilen erhalten.', 'auch einige decken wurden bereits schallgedämmt.', 'auch gonzalo castro fehlt.', 'auf schweizer banken gewaschen?', 'außerdem durch regelmäßige supervision und dokumentation.', 'außerdem gehen wir auf die psychologischen grundlagen ein.', 'baa wäre die krönung für das familienunternehmen.', 'bei den frauen sind es hingegen nur  prozent.', 'bei den frauen waren es fast  prozent.', 'bei der ausfahrt besteht hierfür kein anlaß.', 'bei der jetzigen hauptverhandlung verzichteten die parteien auf zeugen und sachverständige.', 'beides werde unabhängig voneinander behandelt.', 'bereits seit zwei jahren üben sie die verschiedenen formationen.', 'bericht über sicherheitsmängel.', 'besonders im slawischen volksglauben spielt der vampirglaube eine wichtige rolle.', 'beutmüller erreichte , prozent der stimmen.', 'bisher wurde der vertrieb von disneycdroms durch infogrames besorgt.', 'bist du zufrieden mit deinem projekt?', 'blicken sie nach oben.', 'bringen unternehmen auf erfolgskurs.', 'bruno hübner ist auf der suche.', 'bundesrat bestätigt höheres bußgeld für verkehrssünder  yahoo!', 'dadurch wird das besonders schön.', 'dafür gibt es in einigen ländern das berufsgymnasium.', 'da gibt es viele unternehmer.', 'da hält er sich bedeckt.', 'da hofft man auf einen kalten herbst.', 'damals mit  leuten.', 'damit hat sie den sport selbst abgelöst.', 'damit seien die vorverträge hinfällig.', 'danach sind die kleinen mit dreirädern um die wette gefahren.', 'dann gewinnt tatsächlich die ganze stadt.', 'dann kam der durchfall.', 'dann maile sie mir doch!', 'dann steigt dort ein großes rockspektakel.', 'dann verfärben sich die augen gelblich.', 'darin sollen die anmerkungen der richter berücksichtigt werden.', 'das markticket gilt im ganzen land.', 'das abendliche hessenjournal werde eingestellt.', 'das angepeilte ziel heißt .', 'das cabrio prallte gegen eine betonmauer.', 'das drittletzte zeichen ist die trennung zwischen minuten und sekunden.', 'das ehrt uns natürlich über alle massen.', 'das elterngeld kann seit januar beantragt werden.', 'das extravagante aussehen machen abeuro zum hingucker.', 'das gilt natürlich auch für landwirtschaftliche unternehmen.', 'das haus liegt oberhalb von colombo.', 'das idealformat des fotos ist x pixel.', 'das interessiert doch ohnehin niemanden.', 'das ist eine gefährliche mischung, sagt schortschudnow.', 'das ist einer der kritikpunkte einer anwohnerinitiative.', 'das ist natürlich kostenlos.', 'das macht uns nichts.', 'das neubauobjekt präsentieren.', 'das oberlandesgericht schleswig hat die rechte von bankkunden gestärkt.', 'das repowermanagement blieb der feier in frankfurthausen fern.', 'das ressort bietet an maximal  personen bernachtungsmöglichkeiten.', 'das schienennetz bleibt beim staat.', 'das stiftungsrecht braucht eine durchgreifende berprüfung und modernisierung.', 'das team der zone!', 'das thema hatte für unionsinternen streit gesorgt.', 'das treffen soll in den nächsten tagen sein.', 'das trifft vor allem dienstleistungsbetriebe.', 'das überträgt sich auch auf die schauspieler.', 'das unglück ereignete sich gegen . uhr.', 'das vergisst herr ramsauer.', 'das verzuckern von blüten erfordert geduld!', 'das war ja nun nichts.', 'das zeige das beispiel der abwrackprämie.', 'daten werden sonst fehlerhaft übermittelt!', 'davon gehen die behörden aus.', 'den kann man verpassen.', 'dennoch sind die bioregale voll.', 'der alkoholgehalt entspricht ca.  .', 'der anteil der optimisten wuchs von  auf  prozent.', 'der antragstellerin wurde ebenfalls eine einladung zugesagt.', 'der arzt muss schnell eine lösung finden.', 'der aufbau ist heute ab  uhr.', 'der band kostet , euro.', 'der bann brach.', 'der beitrag wird später im bürgerfunk gesendet.', 'der böse traum war ziemlich lang.', 'der bundestag entscheidet heute über den weiteren afghanistaneinsatz der bundeswehr.', 'der deutsche wald.', 'der dezemberkontrakt verlor  punkte auf ..', 'der einzelhandel freute sich über ein reges weihnachtsgeschäft am . advent.', 'der erste gebotsvorschlag liegt bei   euro.', 'der erste potenzielle nachfolger hat indes schon abgesagt.', 'der experte für müllfragen.', 'der gesundheitsfonds war ein fauler kompromiss der großen koalition.', 'der große wachtturm tirion.', 'der großteil der kunden kommt aus dem mittelstand.', 'der kommissionsvorschlag wurde zum dritten mal in der eu abgelehnt.', 'der kosovokrieg war die einstiegsdroge!', 'der krieg hat uns wieder.', 'der krippenberg und der hintergrund wird an einem geeigneten platz installiert.', 'der kurs gehört zur angebotspalette des heimatvereins.', 'der lesezeichendienst evernote hat eine bookmarkfunktion für websites eingeführt.', 'der lichtbogen brennt zwischen dem werkstück und einer abschmelzenden elektrode.', 'der mann darf nicht unterschätzt werden!', 'der marsch durch das gebirge ist mühsam.', 'der modulare aufbau lässt beliebige kombinationen zu.', 'der name tarot stammt wohl aus dem französischen.', 'der neue mann heißt müller.', 'der nikkeiindex schloß , punkte schwächer mit , punkten.', 'der oberschwäbische arbeitsmarkt zeigte sich in glänzender verfassung.', 'der olympiasieg wäre die krönung, sagte steuermann florschütz.', 'der ort das wiener landesgericht für strafsachen.', 'der plan musste daraufhin vorerst aufgegeben werden.', 'der rest ist vernachlässigbar.', 'der schlusstag fiel ihm auch nicht leicht.', 'der schmierer wurde dann im nachtbus festgestellt.', 'der schwierigkeitsgrad der strecke steigert sich im laufe des spiels.', 'der servicesektor ist dank der auftragsvergabe deutlich gewachsen.', 'der soffin ist die deutsche antwort auf die globale finanzkrise.', 'der spfuture erhöht sich um , prozent auf , punkte.', 'der stammtischnachbar von angst vor russland?', 'der technische fortschritt ist enorm.', 'der tod eines ordensgenerals schweiz.', 'der umsatz fiel auf , freitag , mrd titel.', 'derzeit bin ich auf der suche nach einem neuen anbieter.', 'derzeit wird der neue motor auf dem prüfstand erprobt.', 'der zusammenbruch von banken.', 'deshalb gab es solche probleme.', 'die abonnementkarten werden ihnen in der ersten septemberhälfte zugestellt.', 'die absatzschwäche zwingt auch die nationalen regierungen zum handeln.', 'die alte axenstrasse werde für tourismus, freizeit und velofahrer aufgewertet.', 'die amerikanischen investoren agieren auf den aktienmärkten vorsichtig.', 'die angaben sollen nun noch einmal überprüft werden.', 'die ansetzungen der einzelnen spiele werden vom verbandsschiedsrichterausschuß vorgenommen.', 'die ara ag hat . beschäftigte.', 'die rzte entsprechen den patientenwünschen weitgehend.', 'die aufwendungen für investitionen erhöhten sich um  prozent auf  millionen euro.', 'die äußeren schalenschichten wurden durch sandstrahlen entfernt.', 'die autostadt ist dafür ein weiterer beweis.', 'die bayerischen metallarbeitgeber fordern eine gemäßigte tarifrunde.', 'die begeisterung schwappte über.', 'die besten weinberge liegen meist über  m hoch.', 'die bevölkerung geht zurück.', 'die branche will die downloadangebote zukünftig ausweiten.', 'die britische armee rechnet mit dem schlimmsten.', 'die chemikalie ist leicht herzustellen.', 'die deutschen spieler bestürmen den unparteiischen.', 'die elektrische leitfähigkeit einer natriumchloridschmelze nimmt mit steigender temperatur zu.', 'die endgültige entscheidung bleibe den gremien überlassen.', 'die entscheider vertreten die wichtigsten bankengruppen in ihren jeweiligen ländern.', 'die entscheidung trifft jeweils die seminarleiterin oder der seminarleiter.', 'die fragen stellten niklas maak und julia voss.', 'die frau wurde von einer jährigen kundin getreten und mit einem handkantenschlag niedergestreckt.', 'die gedruckte preisliste erscheint in ca.  woche.', 'die grundstücksgrößen liegen zwischen ca.  und  quadratmetern.', 'die gruppe setzt sich für den sorgsamen umgang mit quellen ein.', 'die gruppe zeigte auch beim späteren festakt eine intensive präsenz.', 'die hauptbetroffenen sind jedoch längst stumm geworden.', 'die herausgabe des bandes ist inzwischen erfolgt.', 'die höchstgeschwindigkeit beträgt  kilometer pro stunde.', 'die höhe der hindernisse entspricht ungefähr der oberkante der bande.', 'die inhaftierten werden auf unbestimmte zeit dort festgehalten.', 'die italiener zieht es derzeit nach münchen.', 'die jüngsten zewkonjunkturdaten verhalfen festverzinslichen papieren zu kursgewinnen.', 'die kategorie wird bei den markenaufstellungen stets angegeben.', 'die kinder sind in unserer einrichtung die wichtigsten personen.', 'die klinik verfügt über eine vollständige weiterbildungsermächtigung im schwerpunkt angiologie.', 'die kripo hat außerdem ein kostenloses beratungstelefon eingerichtet.', 'die leichen lagen neben einem starkstrommast in obergassing.', 'die letzten hoffnungen ruhen nun noch auf einem notebook.', 'die lichtführung verlangt die schließung der großen südfenster des kirchenschiffs.', 'die mitglieder der kommission sollen am dienstag vorgestellt werden.', 'die mitglieder servieren kaffee, kuchen und ein abendessen.', 'die musizierenden schüler begeistern das publikum immer wieder neu.', 'die offizielle hompage von schloss veldenz.', 'die preise sind moderat und die portionen sättigend.', 'die probleme der gäste sind viel größer.', 'die qualität der zürcher taxis ist umstritten.', 'die redewendung stammt aus der jägersprache.', 'die reihenfolge der entsteheung und die reihenfolge der erkennung.', 'die reihe umfasst zwei bände.', 'die rundbriefredaktion erhielt  rückantworten auf die umfrage.', 'die schilder seien bereits angebracht.', 'die schöne kaiserin erschienen.', 'diese angst ist aber heute weitgehend unbegründet.', 'die sec hat ca. . mitarbeiter.', 'diese erkenntnis zeigt die tragweite der arbeit von compujob.', 'diese gefahr herrscht insbesondere bei der geldpolitik.', 'diese hatte mit dem gegner keinerlei probleme.', 'diese kamen jetzt öfters gefährlich vor das wfctor.', 'diesen vorgang bezeichnet man als outsourcing.', 'dieser bereich soll mit einer gläsernen wand abgetrennt werden.', 'die serviceseite beginnt mit einem dateiverzeichnis.', 'dieses applet simuliert die bildschirmausgabe eines asciiterminals.', 'dieses faltblatt wurde erstellt von der sdag.', 'diese speisen mussten leicht verdaulich sein.', 'dies habe ihr ein arzt bestätigt.', 'dies hat besondere auswirkungen auf das kosystem.', 'dies liegt meist an den geräusch und abgasvorschriften.', 'dies sagte ein muslimischer geistlicher.', 'die streiks sollen immer am nachmittag des streikvortags angekündigt werden.', 'die trainingsmaßnahmen sollen ihrer arbeitslosigkeit entgegenwirken.', 'die bernahmen würden bar bezahlt.', 'die unternehmen führen seit  klagen gegeneinander.', 'die variomatikabstimmung ist ein wichtiger schritt zum erfolgreichem tuning.', 'die verkörperung einer historischen persönlichkeit.', 'die veröffentlichung wird von branchenkennern im vierten quartal  erwartet.', 'die vorlesungen werden teilweise in englischer sprache abgehalten.', 'die werkkiste bietet beispielsweise auch eine kinderbetreuung an.', 'die wohnung der bethels ist kein einzelfall.', 'die zeit mit ihnen ist manchmal kopflastig!', 'dj bundeskartellamt wird untersuchung gegen e.on.', 'doch der umgang wird schnell professionell.', 'doch die statussymbole sind nicht billig.', 'doch stenlöse ist nicht groß.', 'doch vorsicht bei der bezahlung!', 'dort ist die verschlammungsgefahr besonders hoch.', 'dort lenkt sie die arbeit von  beschäftigten.', 'dort standen früher zapfsäulen.', 'ein besucher wurde leicht verletzt.', 'ein durchgeführter alkoholtest ergab einen wert von , promille.', 'eine absolute berbewertung der droge.', 'eine benutzte zahnbürste brachte  dollar.', 'eine entscheidung ist noch nicht gefallen.', 'eine fortsetzung der chemotherapie nach dem ende der bestrahlung ist ebenfalls möglich.', 'eine ganz wichtige arbeit.', 'eine genaue beschreibung des kursablaufs erhalten sie mit ihrer anmeldebestätigung.', 'eine interne untersuchung habe die vorwürfe entkräftet.', 'eine kündigung ist nicht erforderlich.', 'ein entsprechendes paket soll morgen vom kabinett gebilligt werden.', 'ein erstklassiges hotel fehlt in emden.', 'eine simple suchmaschine erleichtert die auswahl nach klinischen befunden.', 'eine sorge wurde funkel schon genommen.', 'eine stunde dauert ein gespräch.', 'eine tragende säule des aufschwungs dürfte die industrie bleiben.', 'eine vereinbarung zur fernwartung mittels isdn ist möglich.', 'ein freiwilliger test ergab einen wert von , promille.', 'ein minilaptop soll für neuen umsatz sorgen.', 'ein möglicher kandidat wäre mika häkkinen.', 'ein projektor wirft einen kurzen film an die wand.', 'ein specialeventmarketing soll interessenten herbeischaffen.', 'ein übergeordnetes kursziel liegt bei , punkte.', 'ein uneinheitliches bild zeigt sich bei den schwergewichten.', 'ein wandel, der die gesamte bundesrepublik betrifft.', 'endlich zeigt deutschland modernen fußball!', 'entwicklung der gewinne des neugeschäfts sei ebenfalls erfreulich.', 'er beugte sich schließlich.', 'er erzählt eine große geschichte ganz klein.', 'er freute sich über den besuch.', 'er ging nicht einen schritt.', 'er hat seinen sitz in bothel.', 'er hatte insgesamt acht geschwister.', 'erich empfand tiefe rührung.', 'er ist teil eines sensiblen politischmilitärischen beziehungsgeflechts.', 'er kennzeichnet einen wendepunkt.', 'er redet von der quadfx k plattform.', 'er sollte verzaubert werden!', 'er übertraf all meine vorstellungen.', 'er verrichtet teilnahmslos jegliche häusliche arbeit.', 'er verstarb im vergangenen jahr.', 'er war der erste westdeutsche trainer im osten.', 'es gibt einen weg zur vierten dimension.', 'es hat riesig spaß gemacht!', 'es ist eine abschreckungsmaßnahme.', 'es ist eine erfahrung!', 'es ist schwierig, einen menschlichen lohasprototypen zu benennen.', 'es soll eine kleine shockwaveanwendung eingebunden werden.', 'es war der tag der entscheidungen in berlin!', 'es weist die projektbeteiligten auf finanzierungsmöglichkeiten hin.', 'es werden aber immer nur bruchstücke umgesetzt.', 'es wird nichts ausgezeichnet.', 'es wurden farben, zirkel und wahlspruch übernommen.', 'eurojackpot wird in acht staaten gespielt.', 'exakte prognosen verkniff sich der manager.', 'falschbuchungen können dann leichter aufgeklärt werden.', 'fcc zuständig für netzneutralität?', 'ferner entstand das landgericht rottenburg.', 'ferner liegt ein weiterer unterschied in der vergütung.', 'filmisch ist das ein gedicht.', 'florian zehnder . april ,', 'frankenberg hält die gebühren für nötig.', 'freizeitlager ohne drill und druck.', 'frensdorfebrach folgte später.', 'für aufregung sorgte der zwischenzeitliche ausgleichstreffer der gastgeber.', 'für die kinder gibt es einen kindergarten.', 'ganz langsam wurde ich wieder wach.', 'gebrochen werden die klangcollagen mit wortwitzeinlagen und varietartigen nummern.', 'gebt mir etwas zeit.', 'gefunden wurde er westlich des vorplatzes.', 'gemeinsam entwickelten wir die easydesignidee.', 'glaube an die kräfte des geistes.', 'gleichzeitig werde die möglichkeit einer strafverfolgung in kenia geklärt.', 'haben wir unserer ziele erreicht?', 'hankook ist seit  sponsorpartner.', 'hast du familie?', 'häufig wird ein ringertrikot von wrestlinganfängern verwendet.', 'hauptgrund seien die zeitweise gestiegenen preise.', 'henkel gewannen an der daxspitze , prozent.', 'heutzutage wird das gehöft von seinen besitzern landwirtschaftlich genutzt.', 'hier brauche es eine dauerhafte lösung.', 'hier finden sie mehr informationen.', 'hier gibt es seit dem . jahrhundert eine christliche gemeinde.', 'hier können sie angstfrei an die zukunft denken.', 'ich bin der größte softie', 'ich bin doch kein mantafahrer.', 'ich fehle hier noch.', 'ich hoffe, er bleibt stabil.', 'ich liebe diesen streifen!', 'ich muss auch ohne markus zurechtkommen.', 'ich predige nicht.', 'ich stelle überhaupt keine machtfrage.', 'ihnen werden handschellen angelegt.', 'ihre erfolgreichsten lieder sind late und rain.', 'ihre sexuellen präferenzen gehören zum lebensalltag.', 'ihr wart echt mega geil!', 'im gleichen jahr wurde die enzyklopädie entsprechend umbenannt.', 'im hardwaresegment hat das unternehmen hingegen vier prozent eingebüßt.', 'im kern geht es um zwei fragen.', 'immer rger mit billigen dvdbrennern?', 'im sport ist alles möglich.', 'im zweiten weltkrieg wurden teile der kirche gesprengt.', 'in china gehen die lichter aus.', 'in der hand hält andr gäbler ein großes pappschild.', 'in der straßburger innenstadt wurden demonstrationen verboten.', 'in diesem medium gibt es verschiedene dienste.', 'informieren sie auch ihre arbeitskollegen über ihren diabetes.', 'insbesondere schweinefleisch profitiert von einem zeitigen beginn.', 'insgesamt legte der tecdax , prozent zu.', 'insgesamt sind rund  personen im einsatz.', 'insgesamt waren also  maschinen vorhanden.', 'in wenigen monaten soll die aktualisierung der weiterverarbeitungslinien abgeschlossen sein.', 'ist das ein anime?', 'ist echt praktisch.', 'ivg gewinnen , auf , eur und demag , auf , eur.', 'jeder landesverband entsendet mindestens zwei delegierte.', 'jessica und michaela streiten inzwischen über die verteidiger.', 'jetzt ist er wieder der alte.', 'jetzt kann man wieder einsteigen.', 'jetzt schaut euch einfach auf unserer homepage um.', 'jetzt schon usa.', 'junge redakteure helfen ihnen bei der realisierung ihrer ideen.', 'kaltenkirchen der gartenbesitzer kritisiert das system der strauchgutentsorgung.', 'klicken sie dort auf den menüpunkt optionen.', 'konkretisiert wurden diese jedoch nicht.', 'konstruktivismus stellt den absoluten wahrheitsbegriff in frage.', 'langsam wirds sommer.', 'leider nicht mehr lieferbar.', 'literaturtheoretische und institutionelle aspekte einer literarischen bewegung.', 'marion ist heute gegangen.', 'marvin wurde am . mai  geboren.', 'meinungen und kommentare?', 'mesmer ist keine fiktive figur.', 'michael schwelien das boot ist voll.', 'mindestens  weitere plätze werden aus der jahresbestenliste ermittelt.', 'mit dem erlös sollen der haushalt der stadt saniert werden.', 'mit dem treffen wird die arbeit vorläufig abgeschlossen.', 'moritz bruhn markierte direkt vor dem pausenpfiff den führungstreffer.', 'nach der anfrage habe ich überlegt.', 'nach der einjährigen amtszeit wurde er  stadtrichter.', 'nach der medizinischen voruntersuchung wird ein individuell zugeschnittenes drogenentgiftungsprogramm erstellt.', 'nach der volksschule absolvierte er eine klempnerlehre.', 'nach einem jahr können sie den gegenwert verspeisen.', 'nachhaltiges kurspotenzial sieht schneider aber nicht.', 'nehmt partei und volk ernst.', 'nemax kaum verändert.', 'nichts außer kummer.', 'noch einmal zu afghanistan.', 'noch mindestens ein spiel.', 'noralee hat ihre handschuhe verloren.', 'nun aber hat die krise eingeschlagen.', 'nun können sie sogar den lehrermangel egalisieren.', 'nun muss er den nächsten schritt tun.', 'nun verhandeln stadt und gewerkschaft über haustarifverträge.', 'nun will man einen zweiten versuch starten.', 'nun wollen sie auch nächtliche frachtflüge verhindern.', 'nur eben die falsche seite.', 'ob rechsschutz oder krankenversicherung.', 'oder brauchen wir überhaupt einen ausweg?', 'oder ein gesetz zur weiterbildung.', 'oder pusteeulen und spiegelblumen?', 'ohne elektronische kommunikation ist dies kaum möglich.', 'per prerelease gibt es jetzt eine kostprobe.', 'petric die hierarchien waren früher klarer.', 'pfrommer studierte an der stuttgarter kunstakademie.', 'plättner war neben hoelz der wichtigste kampfgruppenleiter.', 'prüfen sie bitte ihre lohnsteuerkarte auf die richtigkeit.', 'qualität statt sonnyboy.', 'rechtlich sind ihr aber die hände gebunden.', 'regelungen über den mrb enthält.', 'rettung einer im .og eingeschlossenen person.', 'rheinböllen kam aber wieder ins spiel.', 'schaffe dir vorurteile.', 'schaffen von anreizen zur konsultation von energieberatern.', 'schier unfaßbar waren die berichte der bewohner.', 'schuldsprüche wegen mordes an französischen studenten in london  yahoo!', 'sein hirn wurde dabei schwer geschädigt.', 'sein siegel war ein quergestelltes schild.', 'sein türchen war offen.', 'seit februar  rentner.', 'seit zwanzig jahren lebt er in asien.', 'seiwert ist der doktorvater von frank usarski.', 'sicherheitskräfte nahmen mindestens acht personen fest.', 'sie besitzen eine verzögernde und plastifizierende wirkung.', 'sie deuten auf eine wundheilungsstörung hin.', 'sie erwartet ihren mann.', 'sie führen rund  millionen telefonate.', 'sie haben nicht an der verlosung teilgenommen?', 'sie handelt von maßstäblichkeit.', 'sie hat an bedeutung verloren.', 'sie mussten schneepflügen auf der landebahn ausweichen.', 'sie profitieren voll von dem gebotenen tageslicht.', 'sie sind ein lebender mythos.', 'sie sollen an dieser stelle vorgestellt werden.', 'sie sollen jeweils zehn monate an einem sozialtraining teilnehmen.', 'sie suchen immobilie gaienhofen?', 'sie tanzen ihn noch in ihrer verkleidung.', 'sie weist kurz auf die wichtigsten nderungen hin.', 'sie wünschen sich noch mehr information?', 'sind die ustruppen schon gelandet?', 'so fielen nur zwei tore.', 'sofort war es in der klasse sehr ruhig.', 'so kommt der ikonographische aspekt der haltungen zur geltung.', 'so lautet verkürzt ein argumentationsschema.', 'solidarität beruht auf gegenseitigkeit.', 'somit konnte ein zuwachs von rund  prozent verzeichnet werden.', 'so wächst der laderaum auf die größe eines mittelklassekombis.', 'spdmomper verlangt rotgrünes bündnis!', 'ständig sind wir auf der suche nach neuem.', 'steinzeitmenschen kannten keine rauchwaren aus tabak.', 'strassen und schiene sind ein ansatz.', 'tolle aktionen, starke sprüche.', 'tonis entwicklung ist enorm.', 'trotzdem zittert marko keineswegs vor den wölfen.', 'berall brachen geschwüre aus.', 'ber arbeitsangebote würde ich mich freuen.', 'ber die verwendung der fördermittel ist ein nachweis zu führen.', 'ber die zulassung zur abschlussprüfung entscheidet die zuständige kammer.', 'umfangreiche nderungen im nachtverkehr.', 'und er will spaß.', 'und nennt euch schönes unkraut.', 'und wofür soll das geld ausgegeben werden?', 'unsere beratertätigkeit könnte stark erleichtert werden.', 'unterdessen trotzten die bergleute in den ostdeutschen braunkohletagebauen der eisigen kälte.', 'unterschiede müssen benannt werden.', 'urkundenfälschung und fahrens ohne fahrerlaubnis angezeigt.', 'verdeckte operationen wurden aus der dokumentation gelöscht.', 'verjüngung ist keine kassenleistung.', 'viele anbieter ohne klare contentstrategie.', 'viele fortisaktionäre hatten gegen das geschäft geklagt.', 'viel vergnügen beim singen.', 'vielversprechend sind aber auch die leistungen des nachwuchses.', 'voraussetzung für die textgestaltung ist die sichere beherrschung des tastenfeldes.', 'vor dem training ist aufwärmen angesagt.', 'wann zeigt der chef die rote karte?', 'was hat euch dort besonders beeindruckt?', 'was kostet eine markenregistrierung?', 'was müssen wir heute erledigen?', 'wegen des großen andrangs verspäteten sich viele züge.', 'weiter siehe nächste grafik.', 'wenn der azubi unterstützung braucht.', 'werbung darf keine kaufabsicht vermitteln.', 'wer macht mit beim jugendfilmfest?', 'wie war das bundesverfassungsgericht damals zusammengesetzt?', 'willst du mit gewalt gewinnen?', 'wir befürworten den plan.', 'wir begleiten sie bei ihrem schritt ins web.', 'wirf dann eine münze.', 'wir haben gemeinsame ziele.', 'wir haben hier lange nicht verloren.', 'wir hatten schon einen schwierigen start durch die europameisterschaft.', 'wir kümmern uns kurzfristig darum.', 'wir machen kommunikationsübungen, wortspiele und gesellschaftsspiele.', 'wir spielten zusammen ein paar genesisstücke.', 'wohlstand für alle?', 'wohnung harsefeld zu kleinen preisen!', 'yahoo fiel , prozent auf , dollar.', 'zessionscode auf saldenliste möglich.', 'zoller riet den gemeinderäten zu einem guten standortmarketing.', 'zudem wird ein für den patienten optimierter diätplan erstellt.', 'zu den thesen können sie dort weitere ausführungen abrufen.', 'zu diesem demonstrationmeeting sind alle interessierten herzlich eingeladen.', 'zuerst sind nur schüsse zu hören.', 'zum abschied bekam das mädchen eine wunderkerze.', 'zum standard gehört das integrierte softwaremenü zur qualitätssicherung.', ''] \n",
      "\n",
      "Der Tokenizer kennt 1681 Wörter \n",
      "\n",
      "Die Wörter werden folgenden Indexen zugeordnet: \n",
      "{'die': 1, 'der': 2, 'das': 3, 'ist': 4, 'ein': 5, 'eine': 6, 'auf': 7, 'und': 8, 'sie': 9, 'in': 10, 'den': 11, 'werden': 12, 'von': 13, 'es': 14, 'er': 15, 'mit': 16, 'sind': 17, 'auch': 18, 'des': 19, 'für': 20, 'an': 21, 'hat': 22, 'im': 23, 'sich': 24, 'wird': 25, 'über': 26, 'wir': 27, 'wurde': 28, 'zu': 29, 'einen': 30, 'dem': 31, 'nicht': 32, 'war': 33, 'nach': 34, 'prozent': 35, 'bei': 36, 'ich': 37, 'nun': 38, 'einer': 39, 'einem': 40, 'aus': 41, 'wurden': 42, 'zum': 43, 'dann': 44, 'dort': 45, 'sollen': 46, 'soll': 47, 'zur': 48, 'noch': 49, 'vor': 50, 'seit': 51, 'gibt': 52, 'doch': 53, 'diese': 54, 'aber': 55, 'können': 56, 'sein': 57, 'wieder': 58, 'jetzt': 59, 'hier': 60, 'alle': 61, 'am': 62, 'waren': 63, 'durch': 64, 'nur': 65, 'zwei': 66, 'man': 67, 'um': 68, 'liegt': 69, 'heute': 70, 'schon': 71, 'oder': 72, 'arbeit': 73, 'dies': 74, 'möglich': 75, 'ohne': 76, 'keine': 77, 'ihre': 78, 'voll': 79, 'kann': 80, 'will': 81, 'werde': 82, 'besonders': 83, 'unternehmen': 84, 'viele': 85, 'gegen': 86, 'uns': 87, 'nichts': 88, 'personen': 89, 'beim': 90, 'ca': 91, 'punkte': 92, 'leicht': 93, 'eines': 94, 'ihnen': 95, 'immer': 96, 'zeigt': 97, 'ihrer': 98, 'schritt': 99, 'insgesamt': 100, 'haben': 101, 'mindestens': 102, 'so': 103, 'erhalten': 104, 'fragen': 105, 'machen': 106, 'nächsten': 107, 'macht': 108, 'bereits': 109, 'außerdem': 110, 'gehen': 111, 'wäre': 112, 'kein': 113, 'du': 114, 'suche': 115, 'yahoo': 116, 'da': 117, 'hält': 118, 'seien': 119, 'stadt': 120, 'zwischen': 121, 'natürlich': 122, 'hatte': 123, 'ebenfalls': 124, 'muss': 125, 'euro': 126, 'erste': 127, 'großen': 128, 'mann': 129, 'fiel': 130, 'derzeit': 131, 'bin': 132, 'probleme': 133, 'entscheidung': 134, 'wichtigsten': 135, 'ihren': 136, 'zeit': 137, 'unserer': 138, 'erstellt': 139, 'habe': 140, 'ihr': 141, 'führen': 142, 'ganz': 143, 'acht': 144, 'jahr': 145, 'hin': 146, 'mehr': 147, 'rund': 148, 'euch': 149, 'verloren': 150, 'ber': 151, 'was': 152, 'afghanistan': 153, 'einladung': 154, 'allerdings': 155, 'schwierigkeitsgrad': 156, 'geschäft': 157, 'alles': 158, 'also': 159, 'vorgenommen': 160, 'ort': 161, 'standen': 162, 'spieler': 163, 'thema': 164, 'fehlt': 165, 'banken': 166, 'dokumentation': 167, 'krönung': 168, 'frauen': 169, 'hingegen': 170, 'jahren': 171, 'wichtige': 172, 'bestätigt': 173, 'dafür': 174, 'ländern': 175, 'damals': 176, 'damit': 177, 'sport': 178, 'kleinen': 179, 'kam': 180, 'mir': 181, 'großes': 182, 'gilt': 183, 'heißt': 184, 'bietet': 185, 'bleibt': 186, 'braucht': 187, 'treffen': 188, 'trifft': 189, 'uhr': 190, 'entspricht': 191, 'arzt': 192, 'schnell': 193, 'lösung': 194, 'finden': 195, 'aufbau': 196, 'kostet': 197, 'später': 198, 'entscheidet': 199, 'deutsche': 200, 'freute': 201, 'große': 202, 'kommt': 203, 'gehört': 204, 'darf': 205, 'stammt': 206, 'französischen': 207, 'neue': 208, 'zeigte': 209, 'sagte': 210, 'plan': 211, 'angst': 212, 'enorm': 213, 'umsatz': 214, 'neuen': 215, 'anbieter': 216, 'alte': 217, 'einmal': 218, 'vom': 219, 'weitgehend': 220, 'millionen': 221, 'weiterer': 222, 'liegen': 223, 'meist': 224, 'hoch': 225, 'geht': 226, 'jeweils': 227, 'gruppe': 228, 'umgang': 229, 'jedoch': 230, 'inzwischen': 231, 'stunde': 232, 'kinder': 233, 'neben': 234, 'verlangt': 235, 'mitglieder': 236, 'vorgestellt': 237, 'preise': 238, 'viel': 239, 'qualität': 240, 'reihenfolge': 241, 'insbesondere': 242, 'diesen': 243, 'dieser': 244, 'wand': 245, 'dieses': 246, 'mussten': 247, 'vierten': 248, 'erwartet': 249, 'wohnung': 250, 'untersuchung': 251, 'früher': 252, 'ergab': 253, 'wert': 254, 'promille': 255, 'dollar': 256, 'erleichtert': 257, 'entwicklung': 258, 'seinen': 259, 'spaß': 260, 'weist': 261, 'ferner': 262, 'langsam': 263, 'ziele': 264, 'stelle': 265, 'überhaupt': 266, 'echt': 267, 'zweiten': 268, 'diesem': 269, 'abgeschlossen': 270, 'gewinnen': 271, 'eur': 272, 'weitere': 273, 'kaum': 274, 'spiel': 275, 'ins': 276, 'wegen': 277, 'nderungen': 278, 'müssen': 279, 'hatten': 280, 'achtung': 281, 'limited': 282, 'edition': 283, 'empörung': 284, 'zivile': 285, 'opfer': 286, 'aktionäre': 287, 'kürze': 288, 'musikstile': 289, 'gefragt': 290, 'unterschiedlichem': 291, 'rezession': 292, 'tief': 293, 'eingebrochen': 294, 'signalwege': 295, 'pds': 296, 'digitalisiert': 297, 'wissenswerte': 298, 'schweden': 299, 'ffnungsdauer': 300, 'freitagabend': 301, 'siegerehrungen': 302, 'pokale': 303, 'überreicht': 304, 'festnahmen': 305, 'etwa': 306, 'polizisten': 307, 'beteiligt': 308, 'andere': 309, 'materialien': 310, 'günstig': 311, 'eingekauft': 312, 'indexspitze': 313, 'legten': 314, 'bmw': 315, 'rezeption': 316, 'erbeuteten': 317, 'lediglich': 318, 'geringen': 319, 'geldbetrag': 320, 'angesichts': 321, 'steigenden': 322, 'yen': 323, 'weiterhin': 324, 'exporttitel': 325, 'abschussliste': 326, 'anstelle': 327, 'druidenwalzers': 328, 'druidensprung': 329, 'filmwettbewerbs': 330, 'bekannt': 331, 'gesetzgeber': 332, 'erfolg': 333, 'firma': 334, 'beigetragen': 335, 'forschung': 336, 'hugohäringgesellschaft': 337, 'unterstützen': 338, 'sbahn': 339, 'stadtmauer': 340, 'teilen': 341, 'einige': 342, 'decken': 343, 'schallgedämmt': 344, 'gonzalo': 345, 'castro': 346, 'schweizer': 347, 'gewaschen': 348, 'regelmäßige': 349, 'supervision': 350, 'psychologischen': 351, 'grundlagen': 352, 'baa': 353, 'familienunternehmen': 354, 'fast': 355, 'ausfahrt': 356, 'besteht': 357, 'hierfür': 358, 'anlaß': 359, 'jetzigen': 360, 'hauptverhandlung': 361, 'verzichteten': 362, 'parteien': 363, 'zeugen': 364, 'sachverständige': 365, 'beides': 366, 'unabhängig': 367, 'voneinander': 368, 'behandelt': 369, 'üben': 370, 'verschiedenen': 371, 'formationen': 372, 'bericht': 373, 'sicherheitsmängel': 374, 'slawischen': 375, 'volksglauben': 376, 'spielt': 377, 'vampirglaube': 378, 'rolle': 379, 'beutmüller': 380, 'erreichte': 381, 'stimmen': 382, 'bisher': 383, 'vertrieb': 384, 'disneycdroms': 385, 'infogrames': 386, 'besorgt': 387, 'bist': 388, 'zufrieden': 389, 'deinem': 390, 'projekt': 391, 'blicken': 392, 'oben': 393, 'bringen': 394, 'erfolgskurs': 395, 'bruno': 396, 'hübner': 397, 'bundesrat': 398, 'höheres': 399, 'bußgeld': 400, 'verkehrssünder': 401, 'dadurch': 402, 'schön': 403, 'einigen': 404, 'berufsgymnasium': 405, 'unternehmer': 406, 'bedeckt': 407, 'hofft': 408, 'kalten': 409, 'herbst': 410, 'leuten': 411, 'selbst': 412, 'abgelöst': 413, 'vorverträge': 414, 'hinfällig': 415, 'danach': 416, 'dreirädern': 417, 'wette': 418, 'gefahren': 419, 'gewinnt': 420, 'tatsächlich': 421, 'ganze': 422, 'durchfall': 423, 'maile': 424, 'steigt': 425, 'rockspektakel': 426, 'verfärben': 427, 'augen': 428, 'gelblich': 429, 'darin': 430, 'anmerkungen': 431, 'richter': 432, 'berücksichtigt': 433, 'markticket': 434, 'ganzen': 435, 'land': 436, 'abendliche': 437, 'hessenjournal': 438, 'eingestellt': 439, 'angepeilte': 440, 'ziel': 441, 'cabrio': 442, 'prallte': 443, 'betonmauer': 444, 'drittletzte': 445, 'zeichen': 446, 'trennung': 447, 'minuten': 448, 'sekunden': 449, 'ehrt': 450, 'massen': 451, 'elterngeld': 452, 'januar': 453, 'beantragt': 454, 'extravagante': 455, 'aussehen': 456, 'abeuro': 457, 'hingucker': 458, 'landwirtschaftliche': 459, 'haus': 460, 'oberhalb': 461, 'colombo': 462, 'idealformat': 463, 'fotos': 464, 'x': 465, 'pixel': 466, 'interessiert': 467, 'ohnehin': 468, 'niemanden': 469, 'gefährliche': 470, 'mischung': 471, 'sagt': 472, 'schortschudnow': 473, 'kritikpunkte': 474, 'anwohnerinitiative': 475, 'kostenlos': 476, 'neubauobjekt': 477, 'präsentieren': 478, 'oberlandesgericht': 479, 'schleswig': 480, 'rechte': 481, 'bankkunden': 482, 'gestärkt': 483, 'repowermanagement': 484, 'blieb': 485, 'feier': 486, 'frankfurthausen': 487, 'fern': 488, 'ressort': 489, 'maximal': 490, 'bernachtungsmöglichkeiten': 491, 'schienennetz': 492, 'staat': 493, 'stiftungsrecht': 494, 'durchgreifende': 495, 'berprüfung': 496, 'modernisierung': 497, 'team': 498, 'zone': 499, 'unionsinternen': 500, 'streit': 501, 'gesorgt': 502, 'tagen': 503, 'allem': 504, 'dienstleistungsbetriebe': 505, 'überträgt': 506, 'schauspieler': 507, 'unglück': 508, 'ereignete': 509, 'vergisst': 510, 'herr': 511, 'ramsauer': 512, 'verzuckern': 513, 'blüten': 514, 'erfordert': 515, 'geduld': 516, 'ja': 517, 'zeige': 518, 'beispiel': 519, 'abwrackprämie': 520, 'daten': 521, 'sonst': 522, 'fehlerhaft': 523, 'übermittelt': 524, 'davon': 525, 'behörden': 526, 'verpassen': 527, 'dennoch': 528, 'bioregale': 529, 'alkoholgehalt': 530, 'anteil': 531, 'optimisten': 532, 'wuchs': 533, 'antragstellerin': 534, 'zugesagt': 535, 'ab': 536, 'band': 537, 'bann': 538, 'brach': 539, 'beitrag': 540, 'bürgerfunk': 541, 'gesendet': 542, 'böse': 543, 'traum': 544, 'ziemlich': 545, 'lang': 546, 'bundestag': 547, 'weiteren': 548, 'afghanistaneinsatz': 549, 'bundeswehr': 550, 'wald': 551, 'dezemberkontrakt': 552, 'verlor': 553, 'einzelhandel': 554, 'reges': 555, 'weihnachtsgeschäft': 556, 'advent': 557, 'gebotsvorschlag': 558, 'potenzielle': 559, 'nachfolger': 560, 'indes': 561, 'abgesagt': 562, 'experte': 563, 'müllfragen': 564, 'gesundheitsfonds': 565, 'fauler': 566, 'kompromiss': 567, 'koalition': 568, 'wachtturm': 569, 'tirion': 570, 'großteil': 571, 'kunden': 572, 'mittelstand': 573, 'kommissionsvorschlag': 574, 'dritten': 575, 'mal': 576, 'eu': 577, 'abgelehnt': 578, 'kosovokrieg': 579, 'einstiegsdroge': 580, 'krieg': 581, 'krippenberg': 582, 'hintergrund': 583, 'geeigneten': 584, 'platz': 585, 'installiert': 586, 'kurs': 587, 'angebotspalette': 588, 'heimatvereins': 589, 'lesezeichendienst': 590, 'evernote': 591, 'bookmarkfunktion': 592, 'websites': 593, 'eingeführt': 594, 'lichtbogen': 595, 'brennt': 596, 'werkstück': 597, 'abschmelzenden': 598, 'elektrode': 599, 'unterschätzt': 600, 'marsch': 601, 'gebirge': 602, 'mühsam': 603, 'modulare': 604, 'lässt': 605, 'beliebige': 606, 'kombinationen': 607, 'name': 608, 'tarot': 609, 'wohl': 610, 'müller': 611, 'nikkeiindex': 612, 'schloß': 613, 'schwächer': 614, 'punkten': 615, 'oberschwäbische': 616, 'arbeitsmarkt': 617, 'glänzender': 618, 'verfassung': 619, 'olympiasieg': 620, 'steuermann': 621, 'florschütz': 622, 'wiener': 623, 'landesgericht': 624, 'strafsachen': 625, 'musste': 626, 'daraufhin': 627, 'vorerst': 628, 'aufgegeben': 629, 'rest': 630, 'vernachlässigbar': 631, 'schlusstag': 632, 'ihm': 633, 'schmierer': 634, 'nachtbus': 635, 'festgestellt': 636, 'strecke': 637, 'steigert': 638, 'laufe': 639, 'spiels': 640, 'servicesektor': 641, 'dank': 642, 'auftragsvergabe': 643, 'deutlich': 644, 'gewachsen': 645, 'soffin': 646, 'antwort': 647, 'globale': 648, 'finanzkrise': 649, 'spfuture': 650, 'erhöht': 651, 'stammtischnachbar': 652, 'russland': 653, 'technische': 654, 'fortschritt': 655, 'tod': 656, 'ordensgenerals': 657, 'schweiz': 658, 'freitag': 659, 'mrd': 660, 'titel': 661, 'motor': 662, 'prüfstand': 663, 'erprobt': 664, 'zusammenbruch': 665, 'deshalb': 666, 'gab': 667, 'solche': 668, 'abonnementkarten': 669, 'ersten': 670, 'septemberhälfte': 671, 'zugestellt': 672, 'absatzschwäche': 673, 'zwingt': 674, 'nationalen': 675, 'regierungen': 676, 'handeln': 677, 'axenstrasse': 678, 'tourismus': 679, 'freizeit': 680, 'velofahrer': 681, 'aufgewertet': 682, 'amerikanischen': 683, 'investoren': 684, 'agieren': 685, 'aktienmärkten': 686, 'vorsichtig': 687, 'angaben': 688, 'überprüft': 689, 'ansetzungen': 690, 'einzelnen': 691, 'spiele': 692, 'verbandsschiedsrichterausschuß': 693, 'ara': 694, 'ag': 695, 'beschäftigte': 696, 'rzte': 697, 'entsprechen': 698, 'patientenwünschen': 699, 'aufwendungen': 700, 'investitionen': 701, 'erhöhten': 702, 'äußeren': 703, 'schalenschichten': 704, 'sandstrahlen': 705, 'entfernt': 706, 'autostadt': 707, 'beweis': 708, 'bayerischen': 709, 'metallarbeitgeber': 710, 'fordern': 711, 'gemäßigte': 712, 'tarifrunde': 713, 'begeisterung': 714, 'schwappte': 715, 'besten': 716, 'weinberge': 717, 'm': 718, 'bevölkerung': 719, 'zurück': 720, 'branche': 721, 'downloadangebote': 722, 'zukünftig': 723, 'ausweiten': 724, 'britische': 725, 'armee': 726, 'rechnet': 727, 'schlimmsten': 728, 'chemikalie': 729, 'herzustellen': 730, 'deutschen': 731, 'bestürmen': 732, 'unparteiischen': 733, 'elektrische': 734, 'leitfähigkeit': 735, 'natriumchloridschmelze': 736, 'nimmt': 737, 'steigender': 738, 'temperatur': 739, 'endgültige': 740, 'bleibe': 741, 'gremien': 742, 'überlassen': 743, 'entscheider': 744, 'vertreten': 745, 'bankengruppen': 746, 'jeweiligen': 747, 'seminarleiterin': 748, 'seminarleiter': 749, 'stellten': 750, 'niklas': 751, 'maak': 752, 'julia': 753, 'voss': 754, 'frau': 755, 'jährigen': 756, 'kundin': 757, 'getreten': 758, 'handkantenschlag': 759, 'niedergestreckt': 760, 'gedruckte': 761, 'preisliste': 762, 'erscheint': 763, 'woche': 764, 'grundstücksgrößen': 765, 'quadratmetern': 766, 'setzt': 767, 'sorgsamen': 768, 'quellen': 769, 'späteren': 770, 'festakt': 771, 'intensive': 772, 'präsenz': 773, 'hauptbetroffenen': 774, 'längst': 775, 'stumm': 776, 'geworden': 777, 'herausgabe': 778, 'bandes': 779, 'erfolgt': 780, 'höchstgeschwindigkeit': 781, 'beträgt': 782, 'kilometer': 783, 'pro': 784, 'höhe': 785, 'hindernisse': 786, 'ungefähr': 787, 'oberkante': 788, 'bande': 789, 'inhaftierten': 790, 'unbestimmte': 791, 'festgehalten': 792, 'italiener': 793, 'zieht': 794, 'münchen': 795, 'jüngsten': 796, 'zewkonjunkturdaten': 797, 'verhalfen': 798, 'festverzinslichen': 799, 'papieren': 800, 'kursgewinnen': 801, 'kategorie': 802, 'markenaufstellungen': 803, 'stets': 804, 'angegeben': 805, 'einrichtung': 806, 'klinik': 807, 'verfügt': 808, 'vollständige': 809, 'weiterbildungsermächtigung': 810, 'schwerpunkt': 811, 'angiologie': 812, 'kripo': 813, 'kostenloses': 814, 'beratungstelefon': 815, 'eingerichtet': 816, 'leichen': 817, 'lagen': 818, 'starkstrommast': 819, 'obergassing': 820, 'letzten': 821, 'hoffnungen': 822, 'ruhen': 823, 'notebook': 824, 'lichtführung': 825, 'schließung': 826, 'südfenster': 827, 'kirchenschiffs': 828, 'kommission': 829, 'dienstag': 830, 'servieren': 831, 'kaffee': 832, 'kuchen': 833, 'abendessen': 834, 'musizierenden': 835, 'schüler': 836, 'begeistern': 837, 'publikum': 838, 'neu': 839, 'offizielle': 840, 'hompage': 841, 'schloss': 842, 'veldenz': 843, 'moderat': 844, 'portionen': 845, 'sättigend': 846, 'gäste': 847, 'größer': 848, 'zürcher': 849, 'taxis': 850, 'umstritten': 851, 'redewendung': 852, 'jägersprache': 853, 'entsteheung': 854, 'erkennung': 855, 'reihe': 856, 'umfasst': 857, 'bände': 858, 'rundbriefredaktion': 859, 'erhielt': 860, 'rückantworten': 861, 'umfrage': 862, 'schilder': 863, 'angebracht': 864, 'schöne': 865, 'kaiserin': 866, 'erschienen': 867, 'unbegründet': 868, 'sec': 869, 'mitarbeiter': 870, 'erkenntnis': 871, 'tragweite': 872, 'compujob': 873, 'gefahr': 874, 'herrscht': 875, 'geldpolitik': 876, 'gegner': 877, 'keinerlei': 878, 'kamen': 879, 'öfters': 880, 'gefährlich': 881, 'wfctor': 882, 'vorgang': 883, 'bezeichnet': 884, 'als': 885, 'outsourcing': 886, 'bereich': 887, 'gläsernen': 888, 'abgetrennt': 889, 'serviceseite': 890, 'beginnt': 891, 'dateiverzeichnis': 892, 'applet': 893, 'simuliert': 894, 'bildschirmausgabe': 895, 'asciiterminals': 896, 'faltblatt': 897, 'sdag': 898, 'speisen': 899, 'verdaulich': 900, 'besondere': 901, 'auswirkungen': 902, 'kosystem': 903, 'geräusch': 904, 'abgasvorschriften': 905, 'muslimischer': 906, 'geistlicher': 907, 'streiks': 908, 'nachmittag': 909, 'streikvortags': 910, 'angekündigt': 911, 'trainingsmaßnahmen': 912, 'arbeitslosigkeit': 913, 'entgegenwirken': 914, 'bernahmen': 915, 'würden': 916, 'bar': 917, 'bezahlt': 918, 'klagen': 919, 'gegeneinander': 920, 'variomatikabstimmung': 921, 'wichtiger': 922, 'erfolgreichem': 923, 'tuning': 924, 'verkörperung': 925, 'historischen': 926, 'persönlichkeit': 927, 'veröffentlichung': 928, 'branchenkennern': 929, 'quartal': 930, 'vorlesungen': 931, 'teilweise': 932, 'englischer': 933, 'sprache': 934, 'abgehalten': 935, 'werkkiste': 936, 'beispielsweise': 937, 'kinderbetreuung': 938, 'bethels': 939, 'einzelfall': 940, 'manchmal': 941, 'kopflastig': 942, 'dj': 943, 'bundeskartellamt': 944, 'e': 945, 'on': 946, 'professionell': 947, 'statussymbole': 948, 'billig': 949, 'stenlöse': 950, 'groß': 951, 'vorsicht': 952, 'bezahlung': 953, 'verschlammungsgefahr': 954, 'lenkt': 955, 'beschäftigten': 956, 'zapfsäulen': 957, 'besucher': 958, 'verletzt': 959, 'durchgeführter': 960, 'alkoholtest': 961, 'absolute': 962, 'berbewertung': 963, 'droge': 964, 'benutzte': 965, 'zahnbürste': 966, 'brachte': 967, 'gefallen': 968, 'fortsetzung': 969, 'chemotherapie': 970, 'ende': 971, 'bestrahlung': 972, 'genaue': 973, 'beschreibung': 974, 'kursablaufs': 975, 'anmeldebestätigung': 976, 'interne': 977, 'vorwürfe': 978, 'entkräftet': 979, 'kündigung': 980, 'erforderlich': 981, 'entsprechendes': 982, 'paket': 983, 'morgen': 984, 'kabinett': 985, 'gebilligt': 986, 'erstklassiges': 987, 'hotel': 988, 'emden': 989, 'simple': 990, 'suchmaschine': 991, 'auswahl': 992, 'klinischen': 993, 'befunden': 994, 'sorge': 995, 'funkel': 996, 'genommen': 997, 'dauert': 998, 'gespräch': 999, 'tragende': 1000, 'säule': 1001, 'aufschwungs': 1002, 'dürfte': 1003, 'industrie': 1004, 'bleiben': 1005, 'vereinbarung': 1006, 'fernwartung': 1007, 'mittels': 1008, 'isdn': 1009, 'freiwilliger': 1010, 'test': 1011, 'minilaptop': 1012, 'sorgen': 1013, 'möglicher': 1014, 'kandidat': 1015, 'mika': 1016, 'häkkinen': 1017, 'projektor': 1018, 'wirft': 1019, 'kurzen': 1020, 'film': 1021, 'specialeventmarketing': 1022, 'interessenten': 1023, 'herbeischaffen': 1024, 'übergeordnetes': 1025, 'kursziel': 1026, 'uneinheitliches': 1027, 'bild': 1028, 'schwergewichten': 1029, 'wandel': 1030, 'gesamte': 1031, 'bundesrepublik': 1032, 'betrifft': 1033, 'endlich': 1034, 'deutschland': 1035, 'modernen': 1036, 'fußball': 1037, 'gewinne': 1038, 'neugeschäfts': 1039, 'sei': 1040, 'erfreulich': 1041, 'beugte': 1042, 'schließlich': 1043, 'erzählt': 1044, 'geschichte': 1045, 'klein': 1046, 'besuch': 1047, 'ging': 1048, 'sitz': 1049, 'bothel': 1050, 'geschwister': 1051, 'erich': 1052, 'empfand': 1053, 'tiefe': 1054, 'rührung': 1055, 'teil': 1056, 'sensiblen': 1057, 'politischmilitärischen': 1058, 'beziehungsgeflechts': 1059, 'kennzeichnet': 1060, 'wendepunkt': 1061, 'redet': 1062, 'quadfx': 1063, 'k': 1064, 'plattform': 1065, 'sollte': 1066, 'verzaubert': 1067, 'übertraf': 1068, 'all': 1069, 'meine': 1070, 'vorstellungen': 1071, 'verrichtet': 1072, 'teilnahmslos': 1073, 'jegliche': 1074, 'häusliche': 1075, 'verstarb': 1076, 'vergangenen': 1077, 'westdeutsche': 1078, 'trainer': 1079, 'osten': 1080, 'weg': 1081, 'dimension': 1082, 'riesig': 1083, 'gemacht': 1084, 'abschreckungsmaßnahme': 1085, 'erfahrung': 1086, 'schwierig': 1087, 'menschlichen': 1088, 'lohasprototypen': 1089, 'benennen': 1090, 'kleine': 1091, 'shockwaveanwendung': 1092, 'eingebunden': 1093, 'tag': 1094, 'entscheidungen': 1095, 'berlin': 1096, 'projektbeteiligten': 1097, 'finanzierungsmöglichkeiten': 1098, 'bruchstücke': 1099, 'umgesetzt': 1100, 'ausgezeichnet': 1101, 'farben': 1102, 'zirkel': 1103, 'wahlspruch': 1104, 'übernommen': 1105, 'eurojackpot': 1106, 'staaten': 1107, 'gespielt': 1108, 'exakte': 1109, 'prognosen': 1110, 'verkniff': 1111, 'manager': 1112, 'falschbuchungen': 1113, 'leichter': 1114, 'aufgeklärt': 1115, 'fcc': 1116, 'zuständig': 1117, 'netzneutralität': 1118, 'entstand': 1119, 'landgericht': 1120, 'rottenburg': 1121, 'unterschied': 1122, 'vergütung': 1123, 'filmisch': 1124, 'gedicht': 1125, 'florian': 1126, 'zehnder': 1127, 'april': 1128, 'frankenberg': 1129, 'gebühren': 1130, 'nötig': 1131, 'freizeitlager': 1132, 'drill': 1133, 'druck': 1134, 'frensdorfebrach': 1135, 'folgte': 1136, 'aufregung': 1137, 'sorgte': 1138, 'zwischenzeitliche': 1139, 'ausgleichstreffer': 1140, 'gastgeber': 1141, 'kindergarten': 1142, 'wach': 1143, 'gebrochen': 1144, 'klangcollagen': 1145, 'wortwitzeinlagen': 1146, 'varietartigen': 1147, 'nummern': 1148, 'gebt': 1149, 'etwas': 1150, 'gefunden': 1151, 'westlich': 1152, 'vorplatzes': 1153, 'gemeinsam': 1154, 'entwickelten': 1155, 'easydesignidee': 1156, 'glaube': 1157, 'kräfte': 1158, 'geistes': 1159, 'gleichzeitig': 1160, 'möglichkeit': 1161, 'strafverfolgung': 1162, 'kenia': 1163, 'geklärt': 1164, 'erreicht': 1165, 'hankook': 1166, 'sponsorpartner': 1167, 'hast': 1168, 'familie': 1169, 'häufig': 1170, 'ringertrikot': 1171, 'wrestlinganfängern': 1172, 'verwendet': 1173, 'hauptgrund': 1174, 'zeitweise': 1175, 'gestiegenen': 1176, 'henkel': 1177, 'gewannen': 1178, 'daxspitze': 1179, 'heutzutage': 1180, 'gehöft': 1181, 'besitzern': 1182, 'landwirtschaftlich': 1183, 'genutzt': 1184, 'brauche': 1185, 'dauerhafte': 1186, 'informationen': 1187, 'jahrhundert': 1188, 'christliche': 1189, 'gemeinde': 1190, 'angstfrei': 1191, 'zukunft': 1192, 'denken': 1193, 'größte': 1194, 'softie': 1195, 'mantafahrer': 1196, 'fehle': 1197, 'hoffe': 1198, 'stabil': 1199, 'liebe': 1200, 'streifen': 1201, 'markus': 1202, 'zurechtkommen': 1203, 'predige': 1204, 'machtfrage': 1205, 'handschellen': 1206, 'angelegt': 1207, 'erfolgreichsten': 1208, 'lieder': 1209, 'late': 1210, 'rain': 1211, 'sexuellen': 1212, 'präferenzen': 1213, 'gehören': 1214, 'lebensalltag': 1215, 'wart': 1216, 'mega': 1217, 'geil': 1218, 'gleichen': 1219, 'enzyklopädie': 1220, 'entsprechend': 1221, 'umbenannt': 1222, 'hardwaresegment': 1223, 'vier': 1224, 'eingebüßt': 1225, 'kern': 1226, 'rger': 1227, 'billigen': 1228, 'dvdbrennern': 1229, 'weltkrieg': 1230, 'teile': 1231, 'kirche': 1232, 'gesprengt': 1233, 'china': 1234, 'lichter': 1235, 'hand': 1236, 'andr': 1237, 'gäbler': 1238, 'pappschild': 1239, 'straßburger': 1240, 'innenstadt': 1241, 'demonstrationen': 1242, 'verboten': 1243, 'medium': 1244, 'verschiedene': 1245, 'dienste': 1246, 'informieren': 1247, 'arbeitskollegen': 1248, 'diabetes': 1249, 'schweinefleisch': 1250, 'profitiert': 1251, 'zeitigen': 1252, 'beginn': 1253, 'legte': 1254, 'tecdax': 1255, 'einsatz': 1256, 'maschinen': 1257, 'vorhanden': 1258, 'wenigen': 1259, 'monaten': 1260, 'aktualisierung': 1261, 'weiterverarbeitungslinien': 1262, 'anime': 1263, 'praktisch': 1264, 'ivg': 1265, 'demag': 1266, 'jeder': 1267, 'landesverband': 1268, 'entsendet': 1269, 'delegierte': 1270, 'jessica': 1271, 'michaela': 1272, 'streiten': 1273, 'verteidiger': 1274, 'einsteigen': 1275, 'schaut': 1276, 'einfach': 1277, 'homepage': 1278, 'usa': 1279, 'junge': 1280, 'redakteure': 1281, 'helfen': 1282, 'realisierung': 1283, 'ideen': 1284, 'kaltenkirchen': 1285, 'gartenbesitzer': 1286, 'kritisiert': 1287, 'system': 1288, 'strauchgutentsorgung': 1289, 'klicken': 1290, 'menüpunkt': 1291, 'optionen': 1292, 'konkretisiert': 1293, 'konstruktivismus': 1294, 'stellt': 1295, 'absoluten': 1296, 'wahrheitsbegriff': 1297, 'frage': 1298, 'wirds': 1299, 'sommer': 1300, 'leider': 1301, 'lieferbar': 1302, 'literaturtheoretische': 1303, 'institutionelle': 1304, 'aspekte': 1305, 'literarischen': 1306, 'bewegung': 1307, 'marion': 1308, 'gegangen': 1309, 'marvin': 1310, 'mai': 1311, 'geboren': 1312, 'meinungen': 1313, 'kommentare': 1314, 'mesmer': 1315, 'fiktive': 1316, 'figur': 1317, 'michael': 1318, 'schwelien': 1319, 'boot': 1320, 'plätze': 1321, 'jahresbestenliste': 1322, 'ermittelt': 1323, 'erlös': 1324, 'haushalt': 1325, 'saniert': 1326, 'vorläufig': 1327, 'moritz': 1328, 'bruhn': 1329, 'markierte': 1330, 'direkt': 1331, 'pausenpfiff': 1332, 'führungstreffer': 1333, 'anfrage': 1334, 'überlegt': 1335, 'einjährigen': 1336, 'amtszeit': 1337, 'stadtrichter': 1338, 'medizinischen': 1339, 'voruntersuchung': 1340, 'individuell': 1341, 'zugeschnittenes': 1342, 'drogenentgiftungsprogramm': 1343, 'volksschule': 1344, 'absolvierte': 1345, 'klempnerlehre': 1346, 'gegenwert': 1347, 'verspeisen': 1348, 'nachhaltiges': 1349, 'kurspotenzial': 1350, 'sieht': 1351, 'schneider': 1352, 'nehmt': 1353, 'partei': 1354, 'volk': 1355, 'ernst': 1356, 'nemax': 1357, 'verändert': 1358, 'außer': 1359, 'kummer': 1360, 'noralee': 1361, 'handschuhe': 1362, 'krise': 1363, 'eingeschlagen': 1364, 'sogar': 1365, 'lehrermangel': 1366, 'egalisieren': 1367, 'tun': 1368, 'verhandeln': 1369, 'gewerkschaft': 1370, 'haustarifverträge': 1371, 'versuch': 1372, 'starten': 1373, 'wollen': 1374, 'nächtliche': 1375, 'frachtflüge': 1376, 'verhindern': 1377, 'eben': 1378, 'falsche': 1379, 'seite': 1380, 'ob': 1381, 'rechsschutz': 1382, 'krankenversicherung': 1383, 'brauchen': 1384, 'ausweg': 1385, 'gesetz': 1386, 'weiterbildung': 1387, 'pusteeulen': 1388, 'spiegelblumen': 1389, 'elektronische': 1390, 'kommunikation': 1391, 'per': 1392, 'prerelease': 1393, 'kostprobe': 1394, 'petric': 1395, 'hierarchien': 1396, 'klarer': 1397, 'pfrommer': 1398, 'studierte': 1399, 'stuttgarter': 1400, 'kunstakademie': 1401, 'plättner': 1402, 'hoelz': 1403, 'wichtigste': 1404, 'kampfgruppenleiter': 1405, 'prüfen': 1406, 'bitte': 1407, 'lohnsteuerkarte': 1408, 'richtigkeit': 1409, 'statt': 1410, 'sonnyboy': 1411, 'rechtlich': 1412, 'hände': 1413, 'gebunden': 1414, 'regelungen': 1415, 'mrb': 1416, 'enthält': 1417, 'rettung': 1418, 'og': 1419, 'eingeschlossenen': 1420, 'person': 1421, 'rheinböllen': 1422, 'schaffe': 1423, 'dir': 1424, 'vorurteile': 1425, 'schaffen': 1426, 'anreizen': 1427, 'konsultation': 1428, 'energieberatern': 1429, 'schier': 1430, 'unfaßbar': 1431, 'berichte': 1432, 'bewohner': 1433, 'schuldsprüche': 1434, 'mordes': 1435, 'studenten': 1436, 'london': 1437, 'hirn': 1438, 'dabei': 1439, 'schwer': 1440, 'geschädigt': 1441, 'siegel': 1442, 'quergestelltes': 1443, 'schild': 1444, 'türchen': 1445, 'offen': 1446, 'februar': 1447, 'rentner': 1448, 'zwanzig': 1449, 'lebt': 1450, 'asien': 1451, 'seiwert': 1452, 'doktorvater': 1453, 'frank': 1454, 'usarski': 1455, 'sicherheitskräfte': 1456, 'nahmen': 1457, 'fest': 1458, 'besitzen': 1459, 'verzögernde': 1460, 'plastifizierende': 1461, 'wirkung': 1462, 'deuten': 1463, 'wundheilungsstörung': 1464, 'telefonate': 1465, 'verlosung': 1466, 'teilgenommen': 1467, 'handelt': 1468, 'maßstäblichkeit': 1469, 'bedeutung': 1470, 'schneepflügen': 1471, 'landebahn': 1472, 'ausweichen': 1473, 'profitieren': 1474, 'gebotenen': 1475, 'tageslicht': 1476, 'lebender': 1477, 'mythos': 1478, 'zehn': 1479, 'monate': 1480, 'sozialtraining': 1481, 'teilnehmen': 1482, 'suchen': 1483, 'immobilie': 1484, 'gaienhofen': 1485, 'tanzen': 1486, 'ihn': 1487, 'verkleidung': 1488, 'kurz': 1489, 'wünschen': 1490, 'information': 1491, 'ustruppen': 1492, 'gelandet': 1493, 'fielen': 1494, 'tore': 1495, 'sofort': 1496, 'klasse': 1497, 'sehr': 1498, 'ruhig': 1499, 'ikonographische': 1500, 'aspekt': 1501, 'haltungen': 1502, 'geltung': 1503, 'lautet': 1504, 'verkürzt': 1505, 'argumentationsschema': 1506, 'solidarität': 1507, 'beruht': 1508, 'gegenseitigkeit': 1509, 'somit': 1510, 'konnte': 1511, 'zuwachs': 1512, 'verzeichnet': 1513, 'wächst': 1514, 'laderaum': 1515, 'größe': 1516, 'mittelklassekombis': 1517, 'spdmomper': 1518, 'rotgrünes': 1519, 'bündnis': 1520, 'ständig': 1521, 'neuem': 1522, 'steinzeitmenschen': 1523, 'kannten': 1524, 'rauchwaren': 1525, 'tabak': 1526, 'strassen': 1527, 'schiene': 1528, 'ansatz': 1529, 'tolle': 1530, 'aktionen': 1531, 'starke': 1532, 'sprüche': 1533, 'tonis': 1534, 'trotzdem': 1535, 'zittert': 1536, 'marko': 1537, 'keineswegs': 1538, 'wölfen': 1539, 'berall': 1540, 'brachen': 1541, 'geschwüre': 1542, 'arbeitsangebote': 1543, 'würde': 1544, 'mich': 1545, 'freuen': 1546, 'verwendung': 1547, 'fördermittel': 1548, 'nachweis': 1549, 'zulassung': 1550, 'abschlussprüfung': 1551, 'zuständige': 1552, 'kammer': 1553, 'umfangreiche': 1554, 'nachtverkehr': 1555, 'nennt': 1556, 'schönes': 1557, 'unkraut': 1558, 'wofür': 1559, 'geld': 1560, 'ausgegeben': 1561, 'unsere': 1562, 'beratertätigkeit': 1563, 'könnte': 1564, 'stark': 1565, 'unterdessen': 1566, 'trotzten': 1567, 'bergleute': 1568, 'ostdeutschen': 1569, 'braunkohletagebauen': 1570, 'eisigen': 1571, 'kälte': 1572, 'unterschiede': 1573, 'benannt': 1574, 'urkundenfälschung': 1575, 'fahrens': 1576, 'fahrerlaubnis': 1577, 'angezeigt': 1578, 'verdeckte': 1579, 'operationen': 1580, 'gelöscht': 1581, 'verjüngung': 1582, 'kassenleistung': 1583, 'klare': 1584, 'contentstrategie': 1585, 'fortisaktionäre': 1586, 'geklagt': 1587, 'vergnügen': 1588, 'singen': 1589, 'vielversprechend': 1590, 'leistungen': 1591, 'nachwuchses': 1592, 'voraussetzung': 1593, 'textgestaltung': 1594, 'sichere': 1595, 'beherrschung': 1596, 'tastenfeldes': 1597, 'training': 1598, 'aufwärmen': 1599, 'angesagt': 1600, 'wann': 1601, 'chef': 1602, 'rote': 1603, 'karte': 1604, 'beeindruckt': 1605, 'markenregistrierung': 1606, 'erledigen': 1607, 'andrangs': 1608, 'verspäteten': 1609, 'züge': 1610, 'weiter': 1611, 'siehe': 1612, 'nächste': 1613, 'grafik': 1614, 'wenn': 1615, 'azubi': 1616, 'unterstützung': 1617, 'werbung': 1618, 'kaufabsicht': 1619, 'vermitteln': 1620, 'wer': 1621, 'jugendfilmfest': 1622, 'wie': 1623, 'bundesverfassungsgericht': 1624, 'zusammengesetzt': 1625, 'willst': 1626, 'gewalt': 1627, 'befürworten': 1628, 'begleiten': 1629, 'ihrem': 1630, 'web': 1631, 'wirf': 1632, 'münze': 1633, 'gemeinsame': 1634, 'lange': 1635, 'schwierigen': 1636, 'start': 1637, 'europameisterschaft': 1638, 'kümmern': 1639, 'kurzfristig': 1640, 'darum': 1641, 'kommunikationsübungen': 1642, 'wortspiele': 1643, 'gesellschaftsspiele': 1644, 'spielten': 1645, 'zusammen': 1646, 'paar': 1647, 'genesisstücke': 1648, 'wohlstand': 1649, 'harsefeld': 1650, 'preisen': 1651, 'zessionscode': 1652, 'saldenliste': 1653, 'zoller': 1654, 'riet': 1655, 'gemeinderäten': 1656, 'guten': 1657, 'standortmarketing': 1658, 'zudem': 1659, 'patienten': 1660, 'optimierter': 1661, 'diätplan': 1662, 'thesen': 1663, 'ausführungen': 1664, 'abrufen': 1665, 'demonstrationmeeting': 1666, 'interessierten': 1667, 'herzlich': 1668, 'eingeladen': 1669, 'zuerst': 1670, 'schüsse': 1671, 'hören': 1672, 'abschied': 1673, 'bekam': 1674, 'mädchen': 1675, 'wunderkerze': 1676, 'standard': 1677, 'integrierte': 1678, 'softwaremenü': 1679, 'qualitätssicherung': 1680} \n",
      "\n",
      "Speichert word_index_file unter '/workspace/models/hero_to_zero_lstm/tokenizer_word_index.json' \n"
     ]
    }
   ],
   "source": [
    "def erstelle_tokenizer(data, word_index_file, save_wort_index):\n",
    "\n",
    "    # Korpus erstellen und Tokenizer initialisieren\n",
    "    tokenizer = Tokenizer()\n",
    "    corpus = data.lower().split(\"\\n\")\n",
    "    tokenizer.fit_on_texts(corpus)\n",
    "    total_words = len(tokenizer.word_index) + 1\n",
    "\n",
    "    print(f\"Corpus mit der länge {len(corpus)}: \\n{corpus} \\n\")\n",
    "    print(f\"Der Tokenizer kennt {total_words} Wörter \\n\")\n",
    "    print(f\"Die Wörter werden folgenden Indexen zugeordnet: \\n{tokenizer.word_index} \\n\")\n",
    "   \n",
    "    \n",
    "    # Wort-Index-Mapping in JSON-Datei speichern\n",
    "    if save_wort_index:\n",
    "        print(f\"Speichert word_index_file unter '{word_index_file}' \")\n",
    "        os.makedirs(os.path.dirname(word_index_file), exist_ok=True)\n",
    "        word_index = tokenizer.word_index\n",
    "        with open(word_index_file, 'w') as f:\n",
    "            json.dump(word_index, f)\n",
    "\n",
    "    return corpus, tokenizer, total_words\n",
    "\n",
    "corpus, tokenizer, total_words = erstelle_tokenizer(data, word_index_file, save_wort_index)\n"
   ]
  },
  {
   "cell_type": "code",
   "execution_count": 87,
   "metadata": {},
   "outputs": [
    {
     "name": "stdout",
     "output_type": "stream",
     "text": [
      "Satz: achtung, limited edition! tokenisiert zu: [281, 282, 283] \n",
      "\n",
      "Generierte n-Gramm-Sequenz: [281, 282]\n",
      "Generierte n-Gramm-Sequenz: [281, 282, 283]\n",
      "\n",
      "Längster Satz: 13\n"
     ]
    },
    {
     "name": "stdout",
     "output_type": "stream",
     "text": [
      "Padding mit der Shape (2733, 13) : [  0   0   0   0   0   0   0   0   0   0   0 281 282]\n"
     ]
    }
   ],
   "source": [
    "def generier_daten(corpus, tokenizer, total_words):\n",
    "\n",
    "    input_sequences = []\n",
    "    is_first_line = True\n",
    "\n",
    "    # Wandelt jede Zeile in eine Liste von Wortindizes und generiert n-Gramm-Sequenzen\n",
    "    for line in corpus:\n",
    "        token_list = tokenizer.texts_to_sequences([line])[0]\n",
    "        print(f\"Satz: {line} tokenisiert zu: {token_list} \\n\") if is_first_line == True else None\n",
    "\n",
    "        # n-Gramm-Sequenz generieren\n",
    "        for i in range(1, len(token_list)):\n",
    "            n_gram_sequence = token_list[:i+1]\n",
    "            input_sequences.append(n_gram_sequence)\n",
    "            print(f\"Generierte n-Gramm-Sequenz: {n_gram_sequence}\") if is_first_line == True else None\n",
    "        \n",
    "        is_first_line = False\n",
    "\n",
    "    # Alle Sequences auf gleiche Länge bringen\n",
    "    max_sequence_len = max([len(seq) for seq in input_sequences])\n",
    "    print(f\"\\nLängster Satz: {max_sequence_len}\")\n",
    "    input_sequences = np.array(pad_sequences(input_sequences, maxlen=max_sequence_len, padding='pre'))\n",
    "    print(f\"Padding mit der Shape {input_sequences.shape} : {input_sequences[0]}\")\n",
    "\n",
    "\n",
    "    # Aufteilen in Prädiktoren (xs) und Labels (ys)\n",
    "    xs, labels = input_sequences[:,:-1], input_sequences[:,-1]\n",
    "    ys = tf.keras.utils.to_categorical(labels, num_classes=total_words)\n",
    "\n",
    "    return xs, ys, max_sequence_len\n",
    "\n",
    "xs, ys, max_sequence_len = generier_daten(corpus, tokenizer, total_words)\n"
   ]
  },
  {
   "cell_type": "markdown",
   "metadata": {},
   "source": [
    "## Modell"
   ]
  },
  {
   "cell_type": "code",
   "execution_count": 88,
   "metadata": {},
   "outputs": [
    {
     "name": "stdout",
     "output_type": "stream",
     "text": [
      "Neuse Model soll traniert werden\n",
      "Startet Training \n",
      "\n",
      "\n",
      "Epoch 1/80\n",
      "86/86 [==============================] - 9s 42ms/step - loss: 7.2290 - accuracy: 0.0333\n",
      "Epoch 2/80\n",
      "86/86 [==============================] - 4s 42ms/step - loss: 6.4074 - accuracy: 0.0340\n",
      "Epoch 3/80\n",
      "86/86 [==============================] - 3s 40ms/step - loss: 5.5860 - accuracy: 0.0640\n",
      "Epoch 4/80\n",
      "86/86 [==============================] - 3s 37ms/step - loss: 4.3308 - accuracy: 0.1475\n",
      "Epoch 5/80\n",
      "86/86 [==============================] - 3s 36ms/step - loss: 2.7847 - accuracy: 0.3893\n",
      "Epoch 6/80\n",
      "86/86 [==============================] - 3s 38ms/step - loss: 1.6060 - accuracy: 0.6469\n",
      "Epoch 7/80\n",
      "86/86 [==============================] - 4s 47ms/step - loss: 0.9545 - accuracy: 0.7896\n",
      "Epoch 8/80\n",
      "86/86 [==============================] - 4s 45ms/step - loss: 0.6835 - accuracy: 0.8467\n",
      "Epoch 9/80\n",
      "86/86 [==============================] - 4s 42ms/step - loss: 0.5850 - accuracy: 0.8639\n",
      "Epoch 10/80\n",
      "86/86 [==============================] - 3s 37ms/step - loss: 0.5409 - accuracy: 0.8708\n",
      "Epoch 11/80\n",
      "86/86 [==============================] - 3s 39ms/step - loss: 0.5098 - accuracy: 0.8712\n",
      "Epoch 12/80\n",
      "86/86 [==============================] - 3s 40ms/step - loss: 0.4971 - accuracy: 0.8723\n",
      "Epoch 13/80\n",
      "86/86 [==============================] - 3s 38ms/step - loss: 0.4854 - accuracy: 0.8716\n",
      "Epoch 14/80\n",
      "86/86 [==============================] - 3s 38ms/step - loss: 0.4807 - accuracy: 0.8705\n",
      "Epoch 15/80\n",
      "86/86 [==============================] - 4s 43ms/step - loss: 0.4722 - accuracy: 0.8741\n",
      "Epoch 16/80\n",
      "86/86 [==============================] - 3s 40ms/step - loss: 0.4648 - accuracy: 0.8749\n",
      "Epoch 17/80\n",
      "86/86 [==============================] - 4s 43ms/step - loss: 0.4591 - accuracy: 0.8752\n",
      "Epoch 18/80\n",
      "86/86 [==============================] - 4s 44ms/step - loss: 0.4624 - accuracy: 0.8738\n",
      "Epoch 19/80\n",
      "86/86 [==============================] - 4s 45ms/step - loss: 0.4563 - accuracy: 0.8716\n",
      "Epoch 20/80\n",
      "86/86 [==============================] - 3s 39ms/step - loss: 0.4534 - accuracy: 0.8719\n",
      "Epoch 21/80\n",
      "86/86 [==============================] - 3s 37ms/step - loss: 0.4534 - accuracy: 0.8727\n",
      "Epoch 22/80\n",
      "86/86 [==============================] - 3s 40ms/step - loss: 0.4490 - accuracy: 0.8730\n",
      "Epoch 23/80\n",
      "86/86 [==============================] - 3s 40ms/step - loss: 0.4483 - accuracy: 0.8712\n",
      "Epoch 24/80\n",
      "86/86 [==============================] - 3s 40ms/step - loss: 0.4407 - accuracy: 0.8741\n",
      "Epoch 25/80\n",
      "86/86 [==============================] - 4s 42ms/step - loss: 0.4409 - accuracy: 0.8738\n",
      "Epoch 26/80\n",
      "86/86 [==============================] - 4s 45ms/step - loss: 0.4378 - accuracy: 0.8745\n",
      "Epoch 27/80\n",
      "86/86 [==============================] - 3s 38ms/step - loss: 0.4353 - accuracy: 0.8738\n",
      "Epoch 28/80\n",
      "86/86 [==============================] - 3s 39ms/step - loss: 0.4396 - accuracy: 0.8745\n",
      "Epoch 29/80\n",
      "86/86 [==============================] - 3s 37ms/step - loss: 0.4349 - accuracy: 0.8730\n",
      "Epoch 30/80\n",
      "86/86 [==============================] - 3s 39ms/step - loss: 0.4340 - accuracy: 0.8723\n",
      "Epoch 31/80\n",
      "86/86 [==============================] - 3s 39ms/step - loss: 0.4309 - accuracy: 0.8738\n",
      "Epoch 32/80\n",
      "86/86 [==============================] - 3s 40ms/step - loss: 0.4317 - accuracy: 0.8727\n",
      "Epoch 33/80\n",
      "86/86 [==============================] - 3s 38ms/step - loss: 0.4303 - accuracy: 0.8727\n",
      "Epoch 34/80\n",
      "86/86 [==============================] - 3s 39ms/step - loss: 0.4270 - accuracy: 0.8708\n",
      "Epoch 35/80\n",
      "86/86 [==============================] - 3s 39ms/step - loss: 0.4233 - accuracy: 0.8734\n",
      "Epoch 36/80\n",
      "86/86 [==============================] - 3s 37ms/step - loss: 0.4289 - accuracy: 0.8752\n",
      "Epoch 37/80\n",
      "86/86 [==============================] - 3s 39ms/step - loss: 0.4298 - accuracy: 0.8723\n",
      "Epoch 38/80\n",
      "86/86 [==============================] - 3s 39ms/step - loss: 0.4352 - accuracy: 0.8719\n",
      "Epoch 39/80\n",
      "86/86 [==============================] - 3s 38ms/step - loss: 0.4529 - accuracy: 0.8701\n",
      "Epoch 40/80\n",
      "86/86 [==============================] - 3s 38ms/step - loss: 1.6888 - accuracy: 0.6004\n",
      "Epoch 41/80\n",
      "86/86 [==============================] - 3s 40ms/step - loss: 3.6982 - accuracy: 0.2547\n",
      "Epoch 42/80\n",
      "86/86 [==============================] - 4s 44ms/step - loss: 1.7671 - accuracy: 0.5628\n",
      "Epoch 43/80\n",
      "86/86 [==============================] - 4s 44ms/step - loss: 0.8584 - accuracy: 0.7783\n",
      "Epoch 44/80\n",
      "86/86 [==============================] - 4s 41ms/step - loss: 0.5606 - accuracy: 0.8566\n",
      "Epoch 45/80\n",
      "86/86 [==============================] - 3s 40ms/step - loss: 0.4774 - accuracy: 0.8701\n",
      "Epoch 46/80\n",
      "86/86 [==============================] - 3s 38ms/step - loss: 0.4574 - accuracy: 0.8745\n",
      "Epoch 47/80\n",
      "86/86 [==============================] - 3s 38ms/step - loss: 0.4504 - accuracy: 0.8719\n",
      "Epoch 48/80\n",
      "86/86 [==============================] - 3s 40ms/step - loss: 0.4435 - accuracy: 0.8716\n",
      "Epoch 49/80\n",
      "86/86 [==============================] - 3s 37ms/step - loss: 0.4409 - accuracy: 0.8756\n",
      "Epoch 50/80\n",
      "86/86 [==============================] - 3s 39ms/step - loss: 0.4363 - accuracy: 0.8708\n",
      "Epoch 51/80\n",
      "86/86 [==============================] - 3s 40ms/step - loss: 0.4346 - accuracy: 0.8730\n",
      "Epoch 52/80\n",
      "86/86 [==============================] - 3s 37ms/step - loss: 0.4325 - accuracy: 0.8745\n",
      "Epoch 53/80\n",
      "86/86 [==============================] - 4s 49ms/step - loss: 0.4311 - accuracy: 0.8701\n",
      "Epoch 54/80\n",
      "86/86 [==============================] - 5s 54ms/step - loss: 0.4294 - accuracy: 0.8741\n",
      "Epoch 55/80\n",
      "86/86 [==============================] - 4s 42ms/step - loss: 0.4337 - accuracy: 0.8727\n",
      "Epoch 56/80\n",
      "86/86 [==============================] - 3s 36ms/step - loss: 0.4285 - accuracy: 0.8738\n",
      "Epoch 57/80\n",
      "86/86 [==============================] - 3s 36ms/step - loss: 0.4246 - accuracy: 0.8708\n",
      "Epoch 58/80\n",
      "86/86 [==============================] - 3s 37ms/step - loss: 0.4219 - accuracy: 0.8723\n",
      "Epoch 59/80\n",
      "86/86 [==============================] - 3s 36ms/step - loss: 0.4234 - accuracy: 0.8727\n",
      "Epoch 60/80\n",
      "86/86 [==============================] - 3s 37ms/step - loss: 0.4265 - accuracy: 0.8727\n",
      "Epoch 61/80\n",
      "86/86 [==============================] - 3s 38ms/step - loss: 0.4214 - accuracy: 0.8745\n",
      "Epoch 62/80\n",
      "86/86 [==============================] - 3s 37ms/step - loss: 0.4231 - accuracy: 0.8712\n",
      "Epoch 63/80\n",
      "86/86 [==============================] - 3s 36ms/step - loss: 0.4233 - accuracy: 0.8723\n",
      "Epoch 64/80\n",
      "86/86 [==============================] - 3s 39ms/step - loss: 0.4190 - accuracy: 0.8749\n",
      "Epoch 65/80\n",
      "86/86 [==============================] - 4s 42ms/step - loss: 0.4215 - accuracy: 0.8712\n",
      "Epoch 66/80\n",
      "86/86 [==============================] - 3s 39ms/step - loss: 0.4195 - accuracy: 0.8745\n",
      "Epoch 67/80\n",
      "86/86 [==============================] - 3s 37ms/step - loss: 0.4173 - accuracy: 0.8749\n",
      "Epoch 68/80\n",
      "86/86 [==============================] - 3s 36ms/step - loss: 0.4178 - accuracy: 0.8712\n",
      "Epoch 69/80\n",
      "86/86 [==============================] - 3s 36ms/step - loss: 0.4140 - accuracy: 0.8767\n",
      "Epoch 70/80\n",
      "86/86 [==============================] - 3s 37ms/step - loss: 0.4157 - accuracy: 0.8756\n",
      "Epoch 71/80\n",
      "86/86 [==============================] - 4s 41ms/step - loss: 0.4140 - accuracy: 0.8741\n",
      "Epoch 72/80\n",
      "86/86 [==============================] - 4s 43ms/step - loss: 0.4161 - accuracy: 0.8716\n",
      "Epoch 73/80\n",
      "86/86 [==============================] - 3s 37ms/step - loss: 0.4155 - accuracy: 0.8730\n",
      "Epoch 74/80\n",
      "86/86 [==============================] - 3s 37ms/step - loss: 0.4146 - accuracy: 0.8734\n",
      "Epoch 75/80\n",
      "86/86 [==============================] - 3s 37ms/step - loss: 0.4138 - accuracy: 0.8727\n",
      "Epoch 76/80\n",
      "86/86 [==============================] - 5s 55ms/step - loss: 0.4121 - accuracy: 0.8760\n",
      "Epoch 77/80\n",
      "86/86 [==============================] - 4s 50ms/step - loss: 0.4117 - accuracy: 0.8716\n",
      "Epoch 78/80\n",
      "86/86 [==============================] - 4s 45ms/step - loss: 0.4132 - accuracy: 0.8745\n",
      "Epoch 79/80\n",
      "86/86 [==============================] - 3s 39ms/step - loss: 0.4122 - accuracy: 0.8741\n",
      "Epoch 80/80\n",
      "86/86 [==============================] - 3s 40ms/step - loss: 0.4108 - accuracy: 0.8749\n",
      "INFO:tensorflow:Assets written to: /workspace/models/hero_to_zero_lstm/lstm/assets\n"
     ]
    },
    {
     "name": "stderr",
     "output_type": "stream",
     "text": [
      "INFO:tensorflow:Assets written to: /workspace/models/hero_to_zero_lstm/lstm/assets\n"
     ]
    },
    {
     "name": "stdout",
     "output_type": "stream",
     "text": [
      "\n",
      "Modell gespeichert unter: /workspace/models/hero_to_zero_lstm/lstm\n"
     ]
    }
   ],
   "source": [
    "# Modell Struktur \n",
    "\n",
    "from tensorflow.keras.models import load_model\n",
    "\n",
    "def create_model():\n",
    "    model = Sequential()\n",
    "    model.add(Embedding(input_dim=total_words,                  # Anzahl aller Wörter\n",
    "                        output_dim=100,                         # Umwandlung des Wortes (des Integers) in den einen n-dimensionanlen Vektor \n",
    "                        input_length=(max_sequence_len-1)))     # Länge der Eingaben (Anzahl Wörter)\n",
    "    model.add(Bidirectional(LSTM(150)))\n",
    "    model.add(Dense(total_words, activation='softmax'))\n",
    "    \n",
    "    # Optimizer und Modell-Compile\n",
    "    adam = Adam(learning_rate=0.01)\n",
    "    model.compile(loss='categorical_crossentropy', optimizer=adam, metrics=['accuracy'])\n",
    "    \n",
    "    return model\n",
    "\n",
    "# Prüfen, ob das Modell bereits existiert\n",
    "if os.path.exists(model_dir) and traning_new_model == False:\n",
    "    print(\"Modell gefunden. Lade bestehendes Modell...\")\n",
    "    model = load_model(model_dir)  \n",
    "    \n",
    "else:\n",
    "    if traning_new_model ==True:\n",
    "        print(\"Neuse Model soll traniert werden\")\n",
    "    else: \n",
    "        print(\"Altes Modell nicht gefunden\")\n",
    "    \n",
    "    print(\"Startet Training \\n\\n\")\n",
    "    model = create_model()  # Neues Modell erstellen\n",
    "    \n",
    "    # Modell trainieren\n",
    "    history = model.fit(xs, ys, epochs=80, verbose=1)\n",
    "    \n",
    "    # Modell speichern\n",
    "    model.save(model_dir)\n",
    "    print(f\"\\nModell gespeichert unter: {model_dir}\")\n"
   ]
  },
  {
   "cell_type": "code",
   "execution_count": 89,
   "metadata": {},
   "outputs": [
    {
     "name": "stdout",
     "output_type": "stream",
     "text": [
      "Embedding Eingabedimensionen: 1681\n",
      "Form der Eingabedaten: (None, 12)\n",
      "Form der Ausgabedaten: (None, 12, 100)\n",
      "Embedding Gewichtedimensionen: (1681, 100)\n",
      "Embedding Ausgabedimensionen: 100\n"
     ]
    }
   ],
   "source": [
    "# Zugriff auf Embedding-Schicht\n",
    "embedding_layer = model.layers[0]  # Die erste Schicht ist die Embedding-Schicht\n",
    "\n",
    "# Eingabedimensionen (Vokabulargröße) und Ausgabedimensionen (Embedding-Dimension)\n",
    "embedding_input_dim = embedding_layer.input_dim                 # Anzahl der Wörter im Vokabular\n",
    "embedding_input_shape = embedding_layer.input_shape             # Form der Eingabedaten (z.B. Batchsize, Satzlänge)\n",
    "embedding_output_shape = embedding_layer.output_shape           # Form der Ausgabedaten (z.B. Batchsize, Satzlänge, Embedding-Dimension)\n",
    "\n",
    "embedding_weights = embedding_layer.get_weights()               # Zugriff auf die Gewichte der Embedding-Schicht\n",
    "embedding_output_dim = embedding_layer.output_dim               # Anzahl der Dimensionen für jedes Wort (z.B. 100 für 100-Dimensionales Embedding)\n",
    "\n",
    "\n",
    "# Ausgabe der Informationen\n",
    "print(f\"Embedding Eingabedimensionen: {embedding_input_dim}\")\n",
    "print(f\"Form der Eingabedaten: {embedding_input_shape}\")  # Form der Eingabedaten\n",
    "print(f\"Form der Ausgabedaten: {embedding_output_shape}\")  # Form der Ausgabedaten\n",
    "\n",
    "print(f\"Embedding Gewichtedimensionen: {embedding_weights[0].shape}\")  # Gewichtedimensionen der Embedding-Matrix\n",
    "print(f\"Embedding Ausgabedimensionen: {embedding_output_dim}\")\n"
   ]
  },
  {
   "cell_type": "markdown",
   "metadata": {},
   "source": [
    "## Verwendung "
   ]
  },
  {
   "cell_type": "markdown",
   "metadata": {},
   "source": [
    "### Text generieren"
   ]
  },
  {
   "cell_type": "code",
   "execution_count": 90,
   "metadata": {},
   "outputs": [
    {
     "name": "stdout",
     "output_type": "stream",
     "text": [
      "Erweiterter Text: Hallo ich bin doch kein mantafahrer auch für tourismus freizeit und velofahrer aufgewertet\n"
     ]
    }
   ],
   "source": [
    "next_words = 10\n",
    "seed_text = example_text\n",
    "\n",
    "for _ in range(next_words):\n",
    "    # Tokenisiere den aktuellen Seed-Text und führe Padding durch\n",
    "    token_list = tokenizer.texts_to_sequences([seed_text])[0]\n",
    "    token_list = pad_sequences([token_list], maxlen=max_sequence_len-1, padding='pre')\n",
    "    \n",
    "    # Mache eine Vorhersage basierend auf dem aktuellen Seed-Text\n",
    "    predicted_probs = model.predict(token_list, verbose=0)[0]\n",
    "    predicted = np.argmax(predicted_probs)  # Bestimme das Wort mit der höchsten Wahrscheinlichkeit\n",
    "    \n",
    "    # Finde das vorhergesagte Wort im Tokenizer-Wörterbuch\n",
    "    output_word = \"\"\n",
    "    for word, index in tokenizer.word_index.items():\n",
    "        if index == predicted:\n",
    "            output_word = word\n",
    "            break\n",
    "    \n",
    "    # Wenn das Wort gefunden wurde, erweitere den Seed-Text\n",
    "    if output_word:\n",
    "        seed_text += \" \" + output_word\n",
    "    else:\n",
    "        print(\"Kein Wort gefunden für den vorhergesagten Index.\")\n",
    "        break\n",
    "\n",
    "# Ausgabe des vollständigen Textes\n",
    "print(\"Erweiterter Text:\", seed_text)\n"
   ]
  },
  {
   "cell_type": "markdown",
   "metadata": {},
   "source": [
    "### Nextes Word vorhesagen  "
   ]
  },
  {
   "cell_type": "code",
   "execution_count": 91,
   "metadata": {},
   "outputs": [
    {
     "name": "stdout",
     "output_type": "stream",
     "text": [
      "Eingabe: 'Ich' tokeiziert zu: [37]\n",
      "Mit Paddig: [[ 0  0  0  0  0  0  0  0  0  0  0 37]]\n",
      "\n",
      "Top 10 nächste Wörter für 'Ich':\n",
      "bin: 19.1827 %\n",
      "hoffe: 18.0123 %\n",
      "liebe: 17.0989 %\n",
      "muss: 14.0489 %\n",
      "fehle: 12.0559 %\n",
      "predige: 9.1918 %\n",
      "stelle: 7.4289 %\n",
      "wird: 0.0741 %\n",
      "wir: 0.0687 %\n",
      "war: 0.0612 %\n"
     ]
    }
   ],
   "source": [
    "import numpy as np\n",
    "\n",
    "top_k = 10  # Anzahl der Top-Wörter\n",
    "seed_text = \"Ich\"\n",
    "\n",
    "# Tokenisierung und Padding des Eingabetexts\n",
    "token_list = tokenizer.texts_to_sequences([seed_text])[0]\n",
    "print(f\"Eingabe: '{seed_text}' tokeiziert zu: {token_list}\")\n",
    "token_list = pad_sequences([token_list], maxlen=max_sequence_len-1, padding='pre')\n",
    "print(f\"Mit Paddig: {token_list}\")\n",
    "\n",
    "# Vorhersagen berechnen\n",
    "predictions = model.predict(token_list, verbose=0)[0]  # Softmax-Ausgabe\n",
    "\n",
    "# Top-10 wahrscheinlichste Wörter finden\n",
    "top_indices = np.argsort(predictions)[-top_k:][::-1]  #Sortiere absteigend\n",
    "\n",
    "# Wörter und Wahrscheinlichkeiten sammeln\n",
    "top_words = [(word, predictions[index]) for word, index in tokenizer.word_index.items() if index in top_indices]\n",
    "\n",
    "# Sortiere die Wörter nach Wahrscheinlichkeit in absteigender Reihenfolge\n",
    "top_words = sorted(top_words, key=lambda x: x[1], reverse=True)\n",
    "\n",
    "# Ausgabe der Top-10 Wörter und Wahrscheinlichkeiten\n",
    "print(f\"\\nTop {top_k} nächste Wörter für '{seed_text}':\")\n",
    "for word, prob in top_words:\n",
    "    print(f\"{word}: {(prob * 100):.4f} %\")\n"
   ]
  },
  {
   "cell_type": "markdown",
   "metadata": {},
   "source": [
    "## Konvertierung "
   ]
  },
  {
   "cell_type": "code",
   "execution_count": 94,
   "metadata": {},
   "outputs": [
    {
     "name": "stdout",
     "output_type": "stream",
     "text": [
      "Konveriert neues Modell in '/workspace/models/hero_to_zero_lstm/lstm_js'\n",
      "\n",
      "2024-11-12 12:48:56.194209: E external/local_xla/xla/stream_executor/cuda/cuda_dnn.cc:9261] Unable to register cuDNN factory: Attempting to register factory for plugin cuDNN when one has already been registered\n",
      "2024-11-12 12:48:56.194522: E external/local_xla/xla/stream_executor/cuda/cuda_fft.cc:607] Unable to register cuFFT factory: Attempting to register factory for plugin cuFFT when one has already been registered\n",
      "2024-11-12 12:48:56.218777: E external/local_xla/xla/stream_executor/cuda/cuda_blas.cc:1515] Unable to register cuBLAS factory: Attempting to register factory for plugin cuBLAS when one has already been registered\n",
      "2024-11-12 12:48:58.458279: W tensorflow/compiler/tf2tensorrt/utils/py_utils.cc:38] TF-TRT Warning: Could not find TensorRT\n",
      "WARNING:root:TensorFlow Decision Forests 1.8.1 is compatible with the following TensorFlow Versions: ['2.15.0']. However, TensorFlow 2.15.1 was detected. This can cause issues with the TF API and symbols in the custom C++ ops. See the TF and TF-DF compatibility table at https://github.com/tensorflow/decision-forests/blob/main/documentation/known_issues.md#compatibility-table.\n",
      "Kopiert Tokenizer in '/workspace/models/hero_to_zero_lstm/lstm_js'\n",
      "total 2028\n",
      "drwxr-xr-x 1 root root    4096 Nov 12 12:47 .\n",
      "drwxr-xr-x 1 root root    4096 Nov 12 12:49 ..\n",
      "drwxr-xr-x 1 root root    4096 Nov 12 12:26 assets\n",
      "-rw-r--r-- 1 root root      57 Nov 12 12:47 fingerprint.pb\n",
      "-rw-r--r-- 1 root root   15730 Nov 12 12:47 keras_metadata.pb\n",
      "-rw-r--r-- 1 root root 2059472 Nov 12 12:47 saved_model.pb\n",
      "drwxr-xr-x 1 root root    4096 Nov 12 12:47 variables\n"
     ]
    }
   ],
   "source": [
    "if convert_to_js_model:\n",
    "    print(f\"Konveriert neues Modell in '{js_model_dir}'\\n\")\n",
    "    ! tensorflowjs_converter --input_format=tf_saved_model {model_file} {js_model_dir}\n",
    "\n",
    "    print(f\"Kopiert Tokenizer in '{js_model_dir}'\")\n",
    "    ! cp -r {word_index_file} {js_model_dir}\n",
    "    \n",
    "    ! cd {model_dir}\n",
    "    ! ls -al {model_dir}\n",
    "\n",
    "else:\n",
    "    print(\"Konvertiertes Model bereits vorhanden\")\n"
   ]
  },
  {
   "cell_type": "markdown",
   "metadata": {},
   "source": [
    "## In React Kopieren "
   ]
  },
  {
   "cell_type": "code",
   "execution_count": 95,
   "metadata": {},
   "outputs": [
    {
     "name": "stdout",
     "output_type": "stream",
     "text": [
      "Kopiere JS-Model in React-Model\n"
     ]
    }
   ],
   "source": [
    "if copie_js_model_to_react:\n",
    "    print(\"Kopiere JS-Model in React-Model\")\n",
    "    ! cp -r {js_model_dir} {react_model_dir}\n",
    "else:\n",
    "    print(\"JS-Model bereits im React-Model vorhanden\")"
   ]
  }
 ],
 "metadata": {
  "kernelspec": {
   "display_name": "Python 3",
   "language": "python",
   "name": "python3"
  },
  "language_info": {
   "codemirror_mode": {
    "name": "ipython",
    "version": 3
   },
   "file_extension": ".py",
   "mimetype": "text/x-python",
   "name": "python",
   "nbconvert_exporter": "python",
   "pygments_lexer": "ipython3",
   "version": "2.7.undefined"
  }
 },
 "nbformat": 4,
 "nbformat_minor": 2
}
