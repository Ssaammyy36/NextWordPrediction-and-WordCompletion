{
 "cells": [
  {
   "cell_type": "markdown",
   "metadata": {},
   "source": [
    "# NLP wiht LSTM TensorFlow Youtube Tutorial \n",
    "\n",
    "Video: https://www.youtube.com/watch?v=ZMudJXhsUpY&list=PLQY2H8rRoyvzDbLUZkbudP-MFQZwNmU4S&index=6\n",
    "\n",
    "Code: https://colab.research.google.com/github/lmoroney/dlaicourse/blob/master/TensorFlow%20In%20Practice/Course%203%20-%20NLP/Course%203%20-%20Week%204%20-%20Lesson%202%20-%20Notebook.ipynb#scrollTo=w9vH8Y59ajYL"
   ]
  },
  {
   "cell_type": "markdown",
   "metadata": {},
   "source": [
    "## Setup "
   ]
  },
  {
   "cell_type": "code",
   "execution_count": 1,
   "metadata": {},
   "outputs": [
    {
     "name": "stderr",
     "output_type": "stream",
     "text": [
      "2024-11-09 19:53:41.089167: I tensorflow/core/util/port.cc:113] oneDNN custom operations are on. You may see slightly different numerical results due to floating-point round-off errors from different computation orders. To turn them off, set the environment variable `TF_ENABLE_ONEDNN_OPTS=0`.\n",
      "2024-11-09 19:53:41.626554: E external/local_xla/xla/stream_executor/cuda/cuda_dnn.cc:9261] Unable to register cuDNN factory: Attempting to register factory for plugin cuDNN when one has already been registered\n",
      "2024-11-09 19:53:41.628051: E external/local_xla/xla/stream_executor/cuda/cuda_fft.cc:607] Unable to register cuFFT factory: Attempting to register factory for plugin cuFFT when one has already been registered\n",
      "2024-11-09 19:53:41.711869: E external/local_xla/xla/stream_executor/cuda/cuda_blas.cc:1515] Unable to register cuBLAS factory: Attempting to register factory for plugin cuBLAS when one has already been registered\n",
      "2024-11-09 19:53:41.865679: I tensorflow/core/platform/cpu_feature_guard.cc:182] This TensorFlow binary is optimized to use available CPU instructions in performance-critical operations.\n",
      "To enable the following instructions: AVX2 AVX512F AVX512_VNNI FMA, in other operations, rebuild TensorFlow with the appropriate compiler flags.\n",
      "2024-11-09 19:53:44.482872: W tensorflow/compiler/tf2tensorrt/utils/py_utils.cc:38] TF-TRT Warning: Could not find TensorRT\n"
     ]
    },
    {
     "name": "stdout",
     "output_type": "stream",
     "text": [
      "\n",
      "Python 3.10.15\n",
      "Tensorflow Version: 2.15.1\n",
      "Keras Version: 2.15.0\n"
     ]
    }
   ],
   "source": [
    "import tensorflow as tf\n",
    "import keras \n",
    "\n",
    "from tensorflow.keras.preprocessing.sequence import pad_sequences\n",
    "from tensorflow.keras.layers import Embedding, LSTM, Dense, Bidirectional, Input\n",
    "from tensorflow.keras.preprocessing.text import Tokenizer\n",
    "from tensorflow.keras.models import Sequential\n",
    "from tensorflow.keras.optimizers import Adam\n",
    "import json\n",
    "\n",
    "import numpy as np \n",
    "import os\n",
    "import random\n",
    "import re\n",
    "\n",
    "#os.environ[\"TF_USE_LEGACY_KERAS\"] = \"1\" # https://github.com/tensorflow/tfjs/issues/8328#issuecomment-2212490809\n",
    "\n",
    "! echo $TF_USE_LEGACY_KERAS\n",
    "! python3 --version\n",
    "print(f\"Tensorflow Version: {tf.__version__}\")\n",
    "print(f\"Keras Version: {keras.__version__}\")\n"
   ]
  },
  {
   "cell_type": "markdown",
   "metadata": {},
   "source": [
    "##  Einstellungen "
   ]
  },
  {
   "cell_type": "code",
   "execution_count": 2,
   "metadata": {},
   "outputs": [],
   "source": [
    "traning_new_model = True                # Soll ein neues Modell traniert werden ?\n",
    "copie_js_model_to_react = True          # Soll das js Modell direkt rüber kopiert werden ?\n",
    "\n",
    "example_text = \"Hallo ich bin\"\n",
    "#max_sequence_len=10\n",
    "text_file = \"10k_sentences.txt\"\n",
    "traning_sentences = 500\n",
    "model_name = \"lstm\" \n",
    "\n",
    "text_file = os.path.join(os.path.abspath(\"/workspace/dataset\"), text_file)\n",
    "react_model_dir = os.path.abspath(\"/workspace/webpage/silvan-webpage/public/models\")\n",
    "model_file = os.path.join(os.path.abspath(\"/workspace/models\"), model_name)\n",
    "js_model_dir = os.path.join(os.path.abspath(\"/workspace/models\"), model_name + \"_js\")\n",
    "react_model_dir = os.path.abspath(\"/workspace/webpage/silvan-webpage/public/models\")\n",
    "word_index_file = os.path.join(model_file, 'tokenizer_word_index.json')"
   ]
  },
  {
   "cell_type": "markdown",
   "metadata": {},
   "source": [
    "## Data"
   ]
  },
  {
   "cell_type": "code",
   "execution_count": null,
   "metadata": {},
   "outputs": [
    {
     "name": "stdout",
     "output_type": "stream",
     "text": [
      "Text beinhaltet 9902 Zeile \n",
      "\n",
      "9902 zufällige Zahlen zwischen 1 und 9902: {6145, 2049, 6147, 4, 6, 9, 11, 6158, 6159, 2072, 33, 2083, 39, 4138, 6193, 6200, 8252, 63, 6210, 6214, 8265, 6218, 6231, 2139, 6240, 2149, 101, 103, 8297, 107, 6254, 4206, 2158, 116, 4216, 4219, 4221, 2187, 6285, 148, 156, 165, 170, 177, 4284, 6337, 4290, 4297, 4308, 6356, 6357, 216, 8184, 8412, 4319, 6370, 2275, 6379, 4332, 6385, 4340, 2305, 4359, 8459, 6415, 281, 2329, 2334, 2341, 300, 4399, 8497, 6450, 308, 317, 2366, 8512, 2369, 8515, 8520, 2390, 8534, 346, 8542, 4446, 363, 4461, 8558, 6526, 384, 6534, 6536, 2445, 6544, 2452, 8602, 4507, 6554, 413, 4512, 419, 6564, 6569, 2474, 2477, 6579, 8628, 4536, 2490, 8634, 2494, 2499, 458, 2507, 2514, 8667, 476, 2545, 503, 509, 6656, 8704, 6658, 6664, 8714, 8716, 6669, 4622, 8721, 541, 2598, 552, 8748, 561, 6706, 6708, 6716, 8764, 2620, 6726, 8774, 6734, 8791, 6744, 8794, 603, 2651, 8798, 4703, 6761, 619, 2667, 8813, 623, 8821, 4726, 633, 8825, 4733, 6786, 2694, 647, 8847, 2705, 2717, 4767, 672, 2720, 8866, 675, 2724, 4775, 4776, 2730, 6828, 2735, 690, 2739, 692, 6842, 699, 2749, 2751, 6848, 2757, 2763, 6866, 8919, 8925, 8926, 745, 8937, 8939, 6899, 6901, 759, 6904, 2813, 8961, 2821, 4871, 4876, 6926, 784, 2835, 4884, 6933, 803, 4904, 9000, 6954, 9002, 2864, 4923, 6974, 832, 9030, 9034, 2893, 2895, 6998, 7009, 4961, 9065, 9075, 892, 897, 4994, 2948, 9095, 904, 5002, 7052, 9102, 9103, 7057, 9111, 5017, 2972, 7070, 927, 929, 932, 5030, 935, 9128, 2988, 953, 956, 9160, 7117, 9166, 977, 3029, 9175, 992, 5088, 3046, 3055, 7153, 1009, 7162, 9213, 1021, 7165, 5121, 7170, 3088, 1043, 9240, 5146, 7197, 9245, 7200, 3108, 7204, 9255, 9256, 9257, 9266, 1086, 7234, 5192, 1099, 5197, 1102, 1104, 7253, 9308, 5213, 5219, 7268, 1136, 9329, 9345, 3202, 1159, 9357, 1167, 5265, 9362, 7333, 1193, 7341, 1200, 3254, 1210, 3262, 3263, 9415, 1226, 1235, 7380, 7386, 7388, 7390, 5343, 5357, 9453, 3311, 9457, 5364, 5370, 3329, 5379, 3332, 9476, 1291, 1293, 3342, 5392, 3345, 9489, 7442, 1300, 3346, 1304, 3356, 1308, 1311, 5408, 7467, 9519, 9524, 3382, 3387, 7484, 7486, 9539, 3397, 5453, 3406, 9554, 5458, 3413, 7509, 5466, 9565, 3421, 9568, 5482, 3434, 7537, 3445, 1397, 9593, 5499, 3456, 9608, 7560, 5516, 5517, 3470, 3475, 3480, 9625, 7577, 9632, 9658, 1472, 7631, 1493, 9686, 7648, 5601, 3554, 5608, 3568, 3576, 9724, 7684, 1542, 3596, 5648, 3605, 1569, 9763, 7715, 1575, 3625, 7722, 3627, 9772, 3639, 1592, 7744, 1602, 3659, 5707, 7758, 3664, 5714, 3671, 7773, 9833, 3691, 9840, 3697, 9841, 1652, 1654, 3709, 7812, 7815, 9865, 1674, 3723, 9866, 5783, 5799, 5812, 1717, 1718, 7869, 3776, 5825, 5831, 1736, 7890, 1755, 5856, 5863, 5866, 1779, 1782, 7930, 3837, 7945, 5899, 5905, 3860, 7959, 3864, 1820, 3881, 5932, 5938, 7986, 7991, 7993, 5950, 3907, 3908, 1861, 8007, 5963, 5967, 1887, 1896, 5993, 3953, 1905, 3964, 1925, 6026, 1935, 6033, 1938, 6037, 8088, 8091, 4003, 4009, 4021, 1976, 4026, 8126, 1986, 6087, 1994, 8146, 4059, 2019, 6121, 4075, 4082, 2036, 8181, 2040, 8185} \n",
      "\n",
      "Trainingstext: \n",
      "aber was ist eigentlich der richtige durstlöscher?\n",
      "aber wer erledigt den schmutzigen job?\n",
      "aber wir w\n"
     ]
    }
   ],
   "source": [
    "def lade_zufaellige_zeilen(dateipfad, traning_sentences):\n",
    "\n",
    "    # Zeilen zählne\n",
    "    with open(dateipfad, 'r') as datei:\n",
    "        anzahl_zeilen = sum(1 for zeile in datei)\n",
    "    print(f\"Text beinhaltet {anzahl_zeilen} Zeile \\n\")\n",
    "    \n",
    "    # Zufällige Zeilennummern generieren\n",
    "    zufaellige_zeilennummern = set(random.sample(range(anzahl_zeilen), traning_sentences))\n",
    "    print(f\"{anzahl_zeilen} zufällige Zahlen zwischen 1 und {anzahl_zeilen}: {zufaellige_zeilennummern} \\n\")\n",
    "    \n",
    "    # Ausgewählten Zeilen laden\n",
    "    ausgewaehlte_zeilen = \"\"\n",
    "    with open(dateipfad, 'r') as datei:\n",
    "        for nummer, zeile in enumerate(datei):\n",
    "            if nummer in zufaellige_zeilennummern:\n",
    "                zeile = re.sub(r'[^a-zA-Zäöüß.,!? \\n]', '', zeile)\n",
    "                ausgewaehlte_zeilen += zeile.strip().lower() + \"\\n\"\n",
    "    print(f\"Trainingstext: \\n{ausgewaehlte_zeilen[:100]}\")\n",
    "    \n",
    "    return ausgewaehlte_zeilen\n",
    "\n",
    "# Beispiel-Aufruf der Funktion\n",
    "data = lade_zufaellige_zeilen(text_file, traning_sentences)\n"
   ]
  },
  {
   "cell_type": "code",
   "execution_count": 4,
   "metadata": {},
   "outputs": [
    {
     "name": "stdout",
     "output_type": "stream",
     "text": [
      "Corpus mit der länge 501: \n",
      "['aber was ist eigentlich der richtige durstlöscher?', 'aber wer erledigt den schmutzigen job?', 'aber wir wollen ja seriös bleiben.', 'aber wollten sie das?', 'adlershorst ist eine genossenschaft geblieben.', 'hnlich äußerte sich auch der hessische grünenchef tarek alwazir.', 'alle angaben beruhen auf den auskünften des verkäufers.', 'allerdings mit jeweils individuellem bewußtsein.', 'allerdings mit wechselndem erfolg.', 'allerdings nur mit mäßigem erfolg.', 'allerdings weist der bitkom nichtsdestotrotz auf schwächen hin.', 'alquist er soll warten.', 'als grundlage dienten den programmierern deutsche telefonbücher.', 'also freundete ich mich mit einer schwarzen k an.', 'also in der ddr.', 'also wird es eingeschränkt.', 'am freitag wird weiterverhandelt.', 'anders entwickelt sich die situation in den neuen ländern.', 'an fahrzeugen besteht ein absoluter nachholbedarf.', 'angeblich wurden sie massiv bedroht.', 'angst habe nur seine lebensgefährtin.', 'anschließen wird mit eiche klar nachgestrichen.', 'antrag verkauf der städtischen wohnbaugesellschaft.', 'rgert er unsere senioren?', 'auch den marktanteil konnte der konzern deutlich steigern.', 'auch der itbranche bleiben aufträge weg.', 'auch eine gehaltskürzung wird angestrebt.', 'auch gegenüber den europäischen währungen fiel die dm weiter.', 'auch nicht zum spaß.', 'auch sie hatte bromantan genommen.', 'auf diesem weg sollte man weitergehen.', 'aufgrund der hohen nachfrage bitten wir um eine rechtzeitige anmeldung.', 'auf reisen gehen beide gerne.', 'aus purer wohltätigkeit geschieht das natürlich nicht.', 'außerdem habe sich die band weiterentwickelt.', 'außerdem ist beim kauf vorsicht geboten.', 'außerdem lassen sich die introvideos deaktivieren.', 'außerdem werden ihre rechtlichen möglichkeiten aufgezeigt.', 'awspieler müssen nach spielende im spielbericht eingetragen werden.', 'babara kam freudig mit.', 'bäume und blätter in jeder richtung.', 'bayern bleibt strikt auf konfrontationskurs.', 'beck klaus erich .', 'beide spielten über jahre in der nationalmannschaft.', 'bei einem element bricht der hebel ab.', 'beim fest  starb ein mann an hitzschlag.', 'bei berprüfungen kooperation mit dbvwinterthur.', 'berührungspunkte gab es aber natürlich schon.', 'biodanza fördert deinen tanz.', 'bis ende  wurde die rückführung der dokumente abgeschlossen.', 'bisher keine entlassungswelle in metallindustrie  yahoo!', 'bitte überprüfen sie ihre anforderung auf korrekte schreibweise!', 'bitte verwendet einen browser der frames unterstützt.', 'bitte wählen sie links ihren plzbereich.', 'blick auf die randberge an der straße .', 'braucht jedoch noch ein bett über dem kopf?', 'bringen unternehmen auf erfolgskurs.', 'carven und carverski!', 'chile ist eine präsidiale demokratie mit einem zweikammerparlament.', 'dabei brach ein teil des schraubendrehers ab.', 'dabei kulminiere alles in der friedensfrage.', 'dabei wurde der mann von der berwachungskamera aufgezeichnet.', 'dafür wird zunächst die form der leinwand virtuell nachgebildet.', 'daher auch der ausdruck fastnacht.', 'daher hatte das photo spekulationen ausgelöst.', 'daher werden die berberitzensträucher von den bauern bekämpft.', 'damit diskriminieren wir die überwältigende mehrheit der bayerischen väter.', 'damit sind langjährige berlegungen und kämpfe abgeschlossen.', 'damit waren wir viel weniger erfolgreich.', 'danach sind die kleinen mit dreirädern um die wette gefahren.', 'danach wurden zuletzt .. erwerbslose registriert.', 'danke für ihre wichtige information!', 'dann ging die bearbeitung recht fix.', 'dann ist es gelungen.', 'das markticket gilt im ganzen land.', 'das gbytemodell kostet , euro, die gbytevariante , euro.', 'das allgemeinbefinden kann erheblich gestört sein.', 'das aluminium sollte möglichst sauber sein.', 'das angebot beweist die leistungsfähigkeit.', 'das angepeilte ziel heißt .', 'das drfluftrettungszentrum verfügt über drei piloten, fünf rettungsassistenten und  notärzte.', 'das gebäude ist normalerweise nicht zugänglich.', 'das geplante konjunkturpaket der bundesregierung bleibt umstritten.', 'das hat sich doch gerade eindrucksvoll erwiesen.', 'das interesse ist ungebrochen, so der coach.', 'das ist auch gut für die geistige klarheit.', 'das ist eine gute betreuung durch den webmaster.', 'das ist ein großer schritt in die richtige richtung.', 'das kunstwerk sei ein wichtiger beitrag für die vereinten nationen.', 'das kursziel des titels wird bei  euro gesehen.', 'das maritime freizeitangebot läßt kaum wünsche offen.', 'das offizielle foto des dekanatsjugendchors.', 'das offizielle programm geht von  bis mitternacht.', 'das preisgeld für den turniersieg beträgt . euro.', 'das publikum dankte es ihm.', 'das rundenwettkampfprogramm ist ab sofort auch einzeln erhältlich.', 'das sagt die polizei.', 'das soll jeder selbst herausfinden.', 'das tor war ein symbol der teilung.', 'das universitätsleben kam praktisch zum erliegen.', 'das urteil des berufungsgerichtes muss an die präsidentschaft übermittelt werden.', 'das verfahren wurde an die vorinstanz zurückverwiesen.', 'das war an einem tag nicht zu schaffen.', 'das wäre für das image noch schlechter!', 'das war ein rundum gelungener urlaub.', 'das wird ein hoch intensives spiel.', 'das würde ja intensive anstrengungen voraussetzen.', 'das ziel in marseille liegt direkt vor dem velodrom.', 'da war er offenbar schlecht beraten.', 'dazu kamen unzählige arbeitsstunden.', 'dazu muß der zahn geöffnet werden.', 'dazu wird ihnen jedenfalls auf der einladung geraten.', 'dem staatsanwalt gefällt das nicht.', 'den betroffenen soll durch schnelle zahlungen geholfen werden.', 'den vorwärtsgang legen die papiere von daimler ein.', 'der . vorsitzender vertritt den . vorsitzenden im verhinderungsfalle.', 'der absatz  regelt die höhe der zuzahlung.', 'derartige geschlechtsspezifische ungleichheiten sollten indes überwunden sein.', 'der controller verfügt außerdem über vier eingänge.', 'der energieverbrauch beträgt ca.  konventioneller systeme.', 'der erste versuch ist am kompetenzgerangel von bund und ländern gescheitert.', 'der euro verbilligte sich auf , , usdollar.', 'der fehler wurde kurz nach der benachrichtigung vom betreiber beseitigt.', 'der freiheitsbrief kann als marktrechtsverleihung bezeichnet werden.', 'der frühere hsvstar manfred kaltz kritisierte die entlassung in der welt.', 'der gestank muss fürchterlich gewesen sein.', 'der japanische nikkeiindex stieg im wochenvergleich um , prozent.', 'der junge soldat schaut ungläubig.', 'der konzern hat sich einen entsprechenden milliardenauftrag gesichert.', 'der konzernvorstand besteht künftig aus sechs personen.', 'der kunde muss zunächst die benötigte software laden.', 'der kurs stieg um , prozent.', 'der landesgruppentag wirft seine schatten voraus.', 'der lehrer gab diskussionsimpulse und hinweise auf fachliteratur.', 'der manager unterstützt dennoch die stabilisierungsmaßnahmen.', 'der modulare aufbau lässt beliebige kombinationen zu.', 'der plan musste daraufhin vorerst aufgegeben werden.', 'der rat der stadt möchte die personalkosten einsparen.', 'der samen wird wissenschaftlich untersucht.', 'der schwerpunkt liegt aber bei den impressionen von bildgalerien.', 'der stadtrat entscheidet im kommenden monat über den haushalt.', 'der tag hat  lange stunden.', 'der textilraum wurde neu eingerichtet.', 'der tischdienst wischt die tische ab.', 'der ton ist schroff.', 'der turm würde damit auf den baustil der romanik zurückgeführt.', 'der umbau des hengstlerareals zu einem vereinszentrum sei gelungen.', 'der umsatz fiel auf , freitag , mrd titel.', 'der unterschied liegt in dem auftreten gegenüber drittländern.', 'der vater war zechendirektor, die mutter rztin.', 'der verlag j.j.', 'der versuch ist geglückt.', 'der wt  schreibt.', 'derzeit sind  asylwerber untergebracht.', 'der zweite thread antwortet mit gesundheit.', 'detallierte information entnehmen sie meinem lebenslauf.', 'die abonnementkarten werden ihnen in der ersten septemberhälfte zugestellt.', 'die abschlusspressekonferenz ist für  uhr geplant.', 'die anklagevertreterin betonte die schwere der straftaten mit kinderpornographie.', 'die arbeitsgruppen wurden ergänzt.', 'die aufsicht über die stiftung hat der bundesinnenminister.', 'die banken seien bereits über die entscheidung informiert.', 'die beförderungsleistung dient der vorbereitung der arbeitsaufnahme durch den arbeitnehmer.', 'die beiträge enthalten die jeweilige versicherungsteuer und die vereinbarten nebenkosten.', 'die bevölkerung nimmt jährlich um drei prozent zu.', 'die börse reagierte nur verhalten auf die ußerungen des notenbankchefs.', 'die eingabe der noten wird mit größtmöglicher sorgfalt vorgenommen.', 'die erste nähstube wird im alten bahnwärterhaus eingerichtet.', 'die erstepapiere sackten dennoch um , prozent auf , kronen.', 'die erstnotierung im smax ist am . februar geplant.', 'die förderung ist zunächst auf drei jahre angelegt.', 'die frist dazu läuft heute aus.', 'die führungsoffiziere halten daher nun eine stehung ab.', 'die ganze gesellschaft steht in der verantwortung.', 'die gaslampe war eine weiterentwicklung der petroleumlampe.', 'die gäste kamen durch hoop zu einer chance.', 'die gefahr für die welt droht von der eigenen unvernunft.', 'die gesamtleistung sei um , prozent auf , millionen dm erhöht worden.', 'die geschossenen rehe verbleiben wohl in havelhöhe.', 'die gesuche sind blau und hängen an der rechten wand.', 'die gewinner werden zusätzlich per email benachrichtigt.', 'die grafikausgabe gibt einen guten berblick über mehrere generationen.', 'die größe des arbeitsspeichers kann ausgelesen werden.', 'die grünen erwägen bereits eine wiederaufnahme der untersuchungsarbeit.', 'die haben jedenfalls noch rechtzeitig reagiert.', 'die hauptbetroffenen sind jedoch längst stumm geworden.', 'die herzlichkeit der feiernden ist ansteckend.', 'die hinweise des auswärtigen amts werden ständig aktualisiert.', 'die höchststrafe von  jahren bleibt unverändert.', 'die klinik verlangt horrende gebühren.', 'die konkurrenten ermöglichen umfangreichere feineinstellungen.', 'die kosten für die versicherung sind bei den versandkostenaufstellungen angegeben.', 'die kurse sind für aokversicherte kostenfrei.', 'die läufe durch den klosterpark beginnen ab  uhr.', 'die leute lieben diesen song.', 'die leverkusener jedenfalls nicht.', 'die lösung ein stadtteilmanager.', 'die masse erscheint seltsam gesichtslos.', 'die meinungsäußerung des jüngeren cox war kein zufall.', 'die meisten seiten sind aber übersichtlich gestaltet.', 'die moderne schule ist ein beliebtes unterrichtszentrum in unserem programm.', 'die multianglefunktion arbeitet etwas anders.', 'die namen werden von der freien universität berlin versteigert.', 'die neueren therapiekonzepte haben sich inzwischen bewährt.', 'die partei will einen ausbildungspass einführen.', 'die qualität der zürcher taxis ist umstritten.', 'die reibräder mit verschleißfestem belag bewegen die züge.', 'die reihe umfasst zwei bände.', 'die reviere werden in der einsatzplanung geplant.', 'dies beinhalte etwa eine meldepflicht.', 'dies berichtet die wirtschaftswoche am freitag.', 'diese beeinflusst die chemie des troposphärischen ozons erheblich.', 'diese endet aber bereits bei beginn der sclera.', 'diese massenverschiebung muß permanent ausgewuchtet werden.', 'diese nachricht hat hamburgs politiker aufgeschreckt.', 'diese ffnungsklausel sei auch aus rechtlichen gründen notwendig.', 'dieser abend war reich an schönen berraschungen.', 'dieser vorgang spielt sich im geheimen ab.', 'dieses formular erscheint während der testphase.', 'dieses ist aber nur auf ethischer grundlage möglich.', 'dies gilt insbesondere auch um die einsatzbereitschaft der zaubernden klassen.', 'die staatsanwaltschaft hat ein verfahren gegen den jährigen eingeleitet.', 'die stärkste leistungsstreuung weist der kanton zürich auf.', 'die steilen hangbereiche wurden von einer bebauung vollständig freigehalten.', 'dies teilte der pressesprecher der mission am donnerstag mit.', 'die tiefenerosion der wutach löste eine kleine kettenreaktion aus.', 'die titel der commerzbank verloren , prozent auf , euro.', 'die todesopfer wurden erst später in dem ausgebrannten tunnel entdeckt.', 'die tränen kamen schon zwischendrin.', 'die bergabe der unterschriften soll während einer stadtverordnetenversammlung erfolgen.', 'die umsatzsteuer wird grundsätzlich nach dem entgelt bemessen.', 'die universität erhielt protestbriefe aus aller welt.', 'die verbandsgemeinde nastätten wurde im jahre  gegründet.', 'die vorschläge des arbeitsministers werden von den gewerkschaften unterstützt.', 'die woche wird das problem ansonsten totgeschwiegen?', 'die zeit der langweiligen kistenarchitektur ist offenbar vorbei.', 'doch anleger können vorbauen.', 'doch darauf muss er verzichten.', 'doch die harmonie störte das nicht.', 'draussen steht doch die große eiche.', 'ein alleingang komme nicht infrage.', 'ein deftiger eintopf wird vom roten kreuz gegen mittag serviert.', 'ein dramatischer rückgang ist jedoch nicht zu messen.', 'eine doppelte staatsbürgerschaft lehne ich ab.', 'eine endlose serie von spaltungen.', 'eine entscheidung, die hierzulande undenkbar wäre.', 'eine politische bühne.', 'eine rechtsverordnung des innenministeriums wird entsprechend geändert.', 'ein erstklassiges hotel fehlt in emden.', 'eine stunde dauert ein gespräch.', 'eine untersuchung über die prinzipien der moral.', 'ein grundgerüst wird entworfen.', 'ein kompletter suchlauf dauerte kurze  minuten.', 'einmal im jahr wird der sachverständigentag veranstaltet.', 'ein neues bewußtsein ist gefordert.', 'ein projektor wirft einen kurzen film an die wand.', 'ein uneinheitliches bild zeigt sich bei den schwergewichten.', 'eli manning betritt den rasen.', 'entweder aufgrund des natürlichen verlaufs der krankheit.', 'er gabs zu.', 'er ging nicht einen schritt.', 'er hatte die freiheit zur flucht genutzt.', 'er hatte unterlagen aus der buchhaltung der partei vernichtet.', 'er legte den zeigefinger auf die lippen.', 'er war der sohn eines niederländischen offiziers.', 'er wird wohl den fließenden verkehr behindern.', 'er zeigt auf seinen brustkorb.', 'es besitzt einen mathematischnaturwissenschaftlichen und einen neusprachlichen zweig.', 'es bietet platz für über  menschen.', 'es existiert bereits eine reihe von jahren.', 'es geht aber nicht nach gefühl.', 'es herrscht eine kluft zwischen itkunden und der iteinheit.', 'es ist alles so falsch!', 'es ist das gedächtnis für alles theoretische.', 'es ist ein jeweils individuelles erlebnis von unsicherheit.', 'es ist praktisch das unwort der woche.', 'es kommt zu rangeleien mit autonomen.', 'es kommt zu schlechten noten und misserfolgen.', 'es wird nichts ausgezeichnet.', 'es wurde ein gelungenes fest.', 'extreme preissteigerungen und soziale abstürze seien vorhersehbar.', 'folglich führt die reine variation der temperatur zu einer definierten deformation.', 'ford kannte rumsfeld gut.', 'für den tischbetrieb ist ein umgehäuse in technik erhältlich.', 'für die planung sind aber landwirtschaftliche aspekte wesentlich.', 'für einen denkprozess muss man lesen.', 'für jeden hund ist eine gesonderte meldung abzugeben.', 'für manchen besucher wurde die entwicklung der malerin sichtbar.', 'garden line durchbricht den trott der eintönigen gartenzäune.', 'gebrochen werden die klangcollagen mit wortwitzeinlagen und varietartigen nummern.', 'gedacht ist das abkommen ausdrücklich für steuerparadiese.', 'geld ist seine liebe.', 'geleitet von einem bestimmten interesse.', 'geschäfte blieben geschlossen.', 'geschichten und momentaufnahmen der wirklichkeit.', 'gesteuert wird das vrradio ausschließlich per infrarotfernbedienung.', 'gewöhnliche sterbliche warten zehn jahre auf eintrittskarten.', 'gibt es dazu eine einfache lösung?', 'gleichzeitig wurde die alte dosversion aus dem verkehr gezogen.', 'gute laune ist bei supersystem garantiert.', 'gute voraussetzung für ein scheitern der mediation.', 'haare wachsen in drei phasen.', 'hauptstreitpunkt ist die regelung der arbeitszeit.', 'heute soll eine entscheidung verkündet werden.', 'hierdurch wurden etwa . personen vom wahlrecht ausgeschlossen.', 'hier erfahren sie alles wissenswerte zum unternehmen.', 'hierfür würden auch akquisitionen ins auge gefasst.', 'hier gebe es noch keinen durchbruch.', 'hier setzt der mainkinzigkreis auf verschiedene freie träger.', 'hier sitzt eine priesterin und bewacht den wasserfinder.', 'hier wird auch der wunsch nach feinsinnigem humor bedient.', 'hier wolle die landesregierung ein staatliches landessozialamt schaffen.', 'hier zeigte sich der alte gildegeist!', 'hinterher zog karalahti weiter zu einem kumpel.', 'hinzu kommt eine radikale emotionalität der figuren.', 'hohe handkräfte erforderlich.', 'ich bin der größte softie', 'ich kenne die gefahren des schiffes.', 'ich nenne es eine ausufernde gesellschaft.', 'ich plädiere für ein angemessenes verhalten beider seiten.', 'ich tippe aber auf eine mischform.', 'ich wähle hier die dritte möglichkeit.', 'ich werde jede beantworten!', 'ihre auslaufenden verträge werden nicht verlängert.', 'ihr keller stand unter wasser.', 'im märchen schlug der puls der gegenwart.', 'immerhin konnte ich in den raum hineinsehen.', 'immer mehr unternehmen zieht es an die börse.', 'im morgengraun beginnt die müh.', 'im prozess wies ein zeuge die vorwürfe des angeklagten zurück.', 'im bernachtungsraum bin ich wieder allein.', 'im vormonat waren es , prozent.', 'in anderen fällen schaut die bandscheibe ausgezeichnet aus.', 'in diesem kurzen moment offenbart sich das grüne selbst.', 'in diesem medium gibt es verschiedene dienste.', 'in diesem zusammenhang ist auch die virtuelle adressierung zu sehen.', 'in dieser hinsicht werde eine nulltoleranzpolitik verfolgt.', 'in gemischten arbeitsgruppen werden gemeinsame internetprojekte verwirklicht.', 'inhaber, gesellschafter, geschäftsführer, betriebsdaten, erlaubnisse, tätigkeiten.', 'in ihren wanderstiefeln läuft sie die baustelle ab.', 'in mammolshain entstand eine gauschulungsburg der n.s.', 'innovativ ist das unternehmen auch auf dem signalleuchtensektor.', 'insgesamt beläuft sich die subvention auf rund  millionen euro.', 'insgesamt warten elf ansteige auf die fahrer.', 'in ungarn übernachten wir auf einem parkplatz.', 'ist ein rücktransport mitversichert?', 'jahre olympische bilder.', 'jan wartet auf der zweiten etage.', 'jeder spieler hat seine feste spielposition.', 'jetzt ging es leichter.', 'jetzt haben sie sich etwas neues ausgedacht.', 'jetzt hat es auch die fuggerstadt erwischt.', 'jetzt sind die namen der prominenten pharmaunternehmen bekannt geworden.', 'jetzt suchen wir uns gemeinsam eine wohnung.', 'josephskreuz auf dem auerberg fachwerkbauten', 'kann ich besondere leistungen beanspruchen?', 'kein bereich ist unangetastet geblieben.', 'keine vermietung von tageszimmern.', 'knapp wird die zeit besonders am wochenende.', 'köln cardinals    . darmstadt rockets    .', 'konkrete beschlüsse seien aber noch nicht gefasst.', 'langsam kommt bewegung in die europäische berichtssaison.', 'leider wurden in den ersten tagen bereits fünf pflanzen entwendet.', 'lernen oder leben?', 'lesen sie bitte auch die veröffentlichungsvereinbarung.', 'letzteres sei eine reaktionäre kategorie.', 'lorants welt ist ein fußball.', 'luftblasen beim pipettieren vermeiden.', 'madhouse spielt rock!', 'man muss immer pointiert sein.', 'martina blank immobilienvermarktung hannover .', 'mehdorn entschuldigt sich bei bahnmitarbeitern  yahoo!', 'milliarden euro erwartet.', 'minute tor für manchester united!', 'mit der konstante ipcprivate.', 'mit diesem system können sie ihren individuellen schrankbedarf zusammenstellen.', 'mit einem digitalen archiv wird diese zeit drastisch reduziert.', 'mit einem verstellbaren kantenschleifgerät z.b.', 'mobilfunk und dsl zum schnäppchenpreis!', 'müller ist ein figurenmaler.', 'nach dem ehrenbürger der stadt monschau wurde die hansgeorgweissstraße benannt.', 'nach dem geometrieimport wird der zulässige bauraum diskretisiert.', 'nach dokumentation des zeitpunktes findet die auswahl der jeweiligen regionalanästhesieart statt.', 'nach welchen kriterien wähle ich meinen vertrag aus?', 'natürlich sollen sie das eigentliche motiv nicht verdecken.', 'nephele gebiert einen sohn mit namen kentauros.', 'nokia liegt uneinholbar auf dem ersten platz der handyhersteller.', 'nun hat das einhorn keine ruhe mehr.', 'nur ihm obliegt das recht der traditionen.', 'oder ein gesetz zur weiterbildung.', 'oder nach pilzen und trüffeln.', 'ohne ampel wäre dieses vorhaben chancenlos.', 'ostalgie ist wohl nicht das größte problem.', 'partnersuche suchst du einen partner?', 'politik für bibliotheken in der stadt der zukunft?', 'politische gremien waren mit der zukunft des bilsteintals befaßt.', 'rauchen ist aus gesundheitlichen und feuerschutzpolizeilichen gründen verboten.', 'renault mganewie fährt sich der neue golfkonkurrent?', 'sm ist doch mein liebling.', 'schaffe dir vorurteile.', 'scheidung einer beziehung?', 'schock für korkmaz!', 'schon eine gewöhnliche erkältung ist sehr unangenehm.', 'schöner beitrag, azrael!', 'schon wieder feuer auf sylt!', 'sein rücktritt sei deshalb nur konsequent.', 'sein spitzname ist mr. november.', 'seiwert ist der doktorvater von frank usarski.', 'sg fortschritt eibau e.v.', 'sie enthält von den republikanern übernommene ideen.', 'sie entsprächen den vorgaben der ausschreibung.', 'sie entsprach in vielen dem langläufigen schönheitsideal.', 'sie ist chronisch, aber nicht ansteckend.', 'sie kommt ausschließlich an fliessgewässern vor.', 'sie mißt den restsauerstoffgehalt im abgas.', 'sie werden mittels einer holzleistenmechanik przise bewegt.', 'smartrac fielen um , prozent auf , euro.', 'so können sie auch ein land führen.', 'so machen plattenrezensionen wieder spaß.', 'somit nicht in versicherungen.', 'somit waren die sowjets für die endrunde in frankreich qualifiziert.', 'so schnell vergeht die schöne königszeit.', 'so spielt ein aufsteiger.', 'so ziemlich die gediengenste restauration in sabang.', 'starke windböen verhinderten einen sicheren wettkampf in laax.', 'straßen und trambahnschienen verbinden sie.', 'studentische arbeitsräume sollen ebenfalls länger geöffnet sein.', 'teammanager johan bruyneel drohen persönliche konsequenzen.', 'tobler muss vielmehr zahlungsverweigerungsgründe erfinden.', 'träger ist die bayerische schlösserverwaltung.', 'trainingszeiten und ansprechpartner runden den informationsgehalt ab.', 'trish your friends?', 'ber  feuerwehrmänner waren im einsatz.', 'ber die bedingungen der transaktion haben die parteien stillschweigen vereinbart.', 'ber einen bergsattel erreichen sie das chertal.', 'berstunden sollen in form von freizeitausgleich abgegolten werden.', 'ber welche stufen entwickelt sich die schreibfähigkeit?', 'brigens werden flugzeuge auch durch geistheiler beeinträchtigt.', 'umfangreiche nderungen im nachtverkehr.', 'umrahmt wurde die auszeichnungsveranstaltung von mehreren klavierdarbietungen.', 'umso größer ist die hoffnung auf die chinesischen investoren.', 'und da sahen wir es.', 'und die glaubwürdigkeit habe deutlich gelitten.', 'und zwar schöne erinnerungen.', 'union braucht bessere leute!', 'unionsfraktionsvize ronald pofalla erklärte eine kürzung für denkbar.', 'unseren keyaccount erreichen sie hier!', 'unsere seiten sind noch in entwicklung.', 'unter dem strich bleibt ein verlust von , millionen euro.', 'ursula zündorf pflegt die dröppelminnas im niederbergischen museum.', 'usbürger sollten das land verlassen.', 'verhandlungen in sindelfingen gehen weiter.', 'verlust der mutersprache.', 'viele meiner leiter sind aus verschiedenen gründen erschöpft.', 'viele teams haben gemeldet.', 'vielleicht meine spanischen wurzeln.', 'vielleicht wird es ja bei den finals besser.', 'vielmehr müsse es mehr spielraum innerhalb des flächentarifvertrags geben.', 'viel zeit ist seitdem vergangen.', 'vom verband der deutschen internetwirtschaft e.v.', 'vorbörslich notierten die e.onaktien , prozent im minus.', 'vor einem jahr hatte sie bei , prozent gelegen.', 'vornehmlich sollen söhne von bedürftigen ausgewählt werden.', 'warum jetzt dieser rger?', 'was haben sie richtig gemacht?', 'was ich finde, sind auffangende gedanken.', 'was ist ihre höchststrafe?', 'was ist kinderarbeit?', 'was ist los in brasilien?', 'was können sie von ihrer rechtsschutzversicherung erwarten?', 'wegen dieser einsätze wird gegen die staatsdiener ermittelt.', 'weitere stationen sind hamburg, kiel, köln und düsseldorf.', 'welche betriebswirtschaftlichen verbesserungen gibt es?', 'welche regionen berühren sie?', 'welche schulnoten muß ich haben?', 'werner zimmermann wurde als kassenführer gewählt.', 'wie funktioniert ein einfacher stromkreis?', 'wie gefällt ihnen adiuvando.de?', 'wie kann qualität gemanagt werden?', 'wie schnell ist ein tandem?', 'winfried marquardt bei der arbeit.', 'wir arbeiten mit lineal, geodreieck, bleistiften und buntstiften.', 'wir brauchen aber individuelle förderung.', 'wir erstellen ihnen gerne unverbindlich ein entsorgungsangebot.', 'wir gehen aus von inhalten.', 'wir haben die problematik sehr schnell ausgeräumt.', 'wir können keinen buchhändlerrabatt gewähren.', 'wir müssen uns von der frühverrentung verabschieden.', 'wir sind hersteller von', 'wir sind verwundbar, betonte er.', 'wir werden sie dann aus unserer liste streichen.', 'wohnungenschon seit zehn jahren genutzt.', 'zeigen sie ihre visitenkarte.', 'zudem überraschte arcandor gestern mit einer gewinnwarnung.', 'zudem wurde eine oberleitung beschädigt.', 'zum teil übertrieben teuer.', 'zunächst muß die leuchtdichte l eingeführt werden.', 'zunächst wäre es um einen versuch in sterreich gegangen.', 'zusammen hatten sie fünf kinder.', 'zusammen mit der burg entstand das dorf tringensten.', ''] \n",
      "\n",
      "Der Tokenizer kennt 1697 Wörter \n",
      "\n",
      "Die Wörter werden folgenden Indexen zugeordnet: \n",
      "{'die': 1, 'der': 2, 'ist': 3, 'das': 4, 'in': 5, 'ein': 6, 'auf': 7, 'den': 8, 'eine': 9, 'sie': 10, 'es': 11, 'werden': 12, 'wird': 13, 'von': 14, 'mit': 15, 'und': 16, 'für': 17, 'auch': 18, 'im': 19, 'des': 20, 'wir': 21, 'sich': 22, 'nicht': 23, 'sind': 24, 'aber': 25, 'ich': 26, 'aus': 27, 'einen': 28, 'dem': 29, 'er': 30, 'wurde': 31, 'an': 32, 'bei': 33, 'zu': 34, 'um': 35, 'nach': 36, 'über': 37, 'einem': 38, 'ab': 39, 'euro': 40, 'prozent': 41, 'hat': 42, 'war': 43, 'hier': 44, 'einer': 45, 'sein': 46, 'haben': 47, 'was': 48, 'wurden': 49, 'so': 50, 'muss': 51, 'nur': 52, 'am': 53, 'ihre': 54, 'noch': 55, 'doch': 56, 'durch': 57, 'sei': 58, 'diese': 59, 'jetzt': 60, 'soll': 61, 'zum': 62, 'hatte': 63, 'diesem': 64, 'außerdem': 65, 'jahre': 66, 'zunächst': 67, 'waren': 68, 'kann': 69, 'dazu': 70, 'bereits': 71, 'dieser': 72, 'können': 73, 'kommt': 74, 'allerdings': 75, 'seine': 76, 'bleibt': 77, 'schon': 78, 'bitte': 79, 'unternehmen': 80, 'alles': 81, 'daher': 82, 'damit': 83, 'drei': 84, 'wäre': 85, 'liegt': 86, 'muß': 87, 'ihnen': 88, 'vom': 89, 'welt': 90, 'gibt': 91, 'dies': 92, 'zeit': 93, 'sollen': 94, 'ber': 95, 'welche': 96, 'wie': 97, 'ja': 98, 'warten': 99, 'als': 100, 'also': 101, 'freitag': 102, 'habe': 103, 'weiter': 104, 'man': 105, 'gehen': 106, 'natürlich': 107, 'beim': 108, 'jeder': 109, 'keine': 110, 'unterstützt': 111, 'ihren': 112, 'jedoch': 113, 'dabei': 114, 'dann': 115, 'ging': 116, 'land': 117, 'fünf': 118, 'gute': 119, 'vor': 120, 'kamen': 121, 'jedenfalls': 122, 'versuch': 123, 'stadt': 124, 'ersten': 125, 'geplant': 126, 'seien': 127, 'entscheidung': 128, 'millionen': 129, 'wohl': 130, 'jahren': 131, 'seiten': 132, 'namen': 133, 'gründen': 134, 'spielt': 135, 'dieses': 136, 'gegen': 137, 'mehr': 138, 'wieder': 139, 'oder': 140, 'e': 141, 'schnell': 142, 'richtige': 143, 'bleiben': 144, 'geblieben': 145, 'jeweils': 146, 'bewußtsein': 147, 'erfolg': 148, 'weist': 149, 'grundlage': 150, 'anders': 151, 'entwickelt': 152, 'ländern': 153, 'besteht': 154, 'eiche': 155, 'unsere': 156, 'konnte': 157, 'konzern': 158, 'deutlich': 159, 'weg': 160, 'gegenüber': 161, 'fiel': 162, 'dm': 163, 'spaß': 164, 'sollte': 165, 'aufgrund': 166, 'beide': 167, 'gerne': 168, 'rechtlichen': 169, 'müssen': 170, 'kam': 171, 'richtung': 172, 'fest': 173, 'mann': 174, 'gab': 175, 'bis': 176, 'abgeschlossen': 177, 'yahoo': 178, 'braucht': 179, 'teil': 180, 'form': 181, 'viel': 182, 'danach': 183, 'gefahren': 184, 'information': 185, 'recht': 186, 'gelungen': 187, 'gilt': 188, 'erheblich': 189, 'ziel': 190, 'verfügt': 191, 'umstritten': 192, 'interesse': 193, 'gut': 194, 'schritt': 195, 'beitrag': 196, 'offizielle': 197, 'programm': 198, 'geht': 199, 'beträgt': 200, 'ihm': 201, 'erhältlich': 202, 'selbst': 203, 'tor': 204, 'praktisch': 205, 'verfahren': 206, 'tag': 207, 'schaffen': 208, 'würde': 209, 'da': 210, 'offenbar': 211, 'geöffnet': 212, 'gefällt': 213, 'sollten': 214, 'erste': 215, 'stieg': 216, 'schaut': 217, 'personen': 218, 'wirft': 219, 'hinweise': 220, 'dennoch': 221, 'eingerichtet': 222, 'titel': 223, 'j': 224, 'uhr': 225, 'betonte': 226, 'arbeitsgruppen': 227, 'börse': 228, 'verhalten': 229, 'noten': 230, 'förderung': 231, 'läuft': 232, 'heute': 233, 'nun': 234, 'gesellschaft': 235, 'steht': 236, 'wand': 237, 'per': 238, 'geworden': 239, 'ansteckend': 240, 'höchststrafe': 241, 'leute': 242, 'lösung': 243, 'erscheint': 244, 'kein': 245, 'etwas': 246, 'universität': 247, 'partei': 248, 'qualität': 249, 'reihe': 250, 'etwa': 251, 'während': 252, 'woche': 253, 'problem': 254, 'politische': 255, 'jahr': 256, 'neues': 257, 'kurzen': 258, 'zeigt': 259, 'zur': 260, 'genutzt': 261, 'sohn': 262, 'verkehr': 263, 'platz': 264, 'ausgezeichnet': 265, 'lesen': 266, 'entwicklung': 267, 'ausschließlich': 268, 'gewöhnliche': 269, 'zehn': 270, 'alte': 271, 'gefasst': 272, 'keinen': 273, 'verschiedene': 274, 'träger': 275, 'bin': 276, 'größte': 277, 'wähle': 278, 'werde': 279, 'unter': 280, 'immer': 281, 'entstand': 282, 'insgesamt': 283, 'uns': 284, 'köln': 285, 'zukunft': 286, 'sehr': 287, 'v': 288, 'somit': 289, 'schöne': 290, 'vielmehr': 291, 'erreichen': 292, 'verlust': 293, 'viele': 294, 'vielleicht': 295, 'zudem': 296, 'zusammen': 297, 'eigentlich': 298, 'durstlöscher': 299, 'wer': 300, 'erledigt': 301, 'schmutzigen': 302, 'job': 303, 'wollen': 304, 'seriös': 305, 'wollten': 306, 'adlershorst': 307, 'genossenschaft': 308, 'hnlich': 309, 'äußerte': 310, 'hessische': 311, 'grünenchef': 312, 'tarek': 313, 'alwazir': 314, 'alle': 315, 'angaben': 316, 'beruhen': 317, 'auskünften': 318, 'verkäufers': 319, 'individuellem': 320, 'wechselndem': 321, 'mäßigem': 322, 'bitkom': 323, 'nichtsdestotrotz': 324, 'schwächen': 325, 'hin': 326, 'alquist': 327, 'dienten': 328, 'programmierern': 329, 'deutsche': 330, 'telefonbücher': 331, 'freundete': 332, 'mich': 333, 'schwarzen': 334, 'k': 335, 'ddr': 336, 'eingeschränkt': 337, 'weiterverhandelt': 338, 'situation': 339, 'neuen': 340, 'fahrzeugen': 341, 'absoluter': 342, 'nachholbedarf': 343, 'angeblich': 344, 'massiv': 345, 'bedroht': 346, 'angst': 347, 'lebensgefährtin': 348, 'anschließen': 349, 'klar': 350, 'nachgestrichen': 351, 'antrag': 352, 'verkauf': 353, 'städtischen': 354, 'wohnbaugesellschaft': 355, 'rgert': 356, 'senioren': 357, 'marktanteil': 358, 'steigern': 359, 'itbranche': 360, 'aufträge': 361, 'gehaltskürzung': 362, 'angestrebt': 363, 'europäischen': 364, 'währungen': 365, 'bromantan': 366, 'genommen': 367, 'weitergehen': 368, 'hohen': 369, 'nachfrage': 370, 'bitten': 371, 'rechtzeitige': 372, 'anmeldung': 373, 'reisen': 374, 'purer': 375, 'wohltätigkeit': 376, 'geschieht': 377, 'band': 378, 'weiterentwickelt': 379, 'kauf': 380, 'vorsicht': 381, 'geboten': 382, 'lassen': 383, 'introvideos': 384, 'deaktivieren': 385, 'möglichkeiten': 386, 'aufgezeigt': 387, 'awspieler': 388, 'spielende': 389, 'spielbericht': 390, 'eingetragen': 391, 'babara': 392, 'freudig': 393, 'bäume': 394, 'blätter': 395, 'bayern': 396, 'strikt': 397, 'konfrontationskurs': 398, 'beck': 399, 'klaus': 400, 'erich': 401, 'spielten': 402, 'nationalmannschaft': 403, 'element': 404, 'bricht': 405, 'hebel': 406, 'starb': 407, 'hitzschlag': 408, 'berprüfungen': 409, 'kooperation': 410, 'dbvwinterthur': 411, 'berührungspunkte': 412, 'biodanza': 413, 'fördert': 414, 'deinen': 415, 'tanz': 416, 'ende': 417, 'rückführung': 418, 'dokumente': 419, 'bisher': 420, 'entlassungswelle': 421, 'metallindustrie': 422, 'überprüfen': 423, 'anforderung': 424, 'korrekte': 425, 'schreibweise': 426, 'verwendet': 427, 'browser': 428, 'frames': 429, 'wählen': 430, 'links': 431, 'plzbereich': 432, 'blick': 433, 'randberge': 434, 'straße': 435, 'bett': 436, 'kopf': 437, 'bringen': 438, 'erfolgskurs': 439, 'carven': 440, 'carverski': 441, 'chile': 442, 'präsidiale': 443, 'demokratie': 444, 'zweikammerparlament': 445, 'brach': 446, 'schraubendrehers': 447, 'kulminiere': 448, 'friedensfrage': 449, 'berwachungskamera': 450, 'aufgezeichnet': 451, 'dafür': 452, 'leinwand': 453, 'virtuell': 454, 'nachgebildet': 455, 'ausdruck': 456, 'fastnacht': 457, 'photo': 458, 'spekulationen': 459, 'ausgelöst': 460, 'berberitzensträucher': 461, 'bauern': 462, 'bekämpft': 463, 'diskriminieren': 464, 'überwältigende': 465, 'mehrheit': 466, 'bayerischen': 467, 'väter': 468, 'langjährige': 469, 'berlegungen': 470, 'kämpfe': 471, 'weniger': 472, 'erfolgreich': 473, 'kleinen': 474, 'dreirädern': 475, 'wette': 476, 'zuletzt': 477, 'erwerbslose': 478, 'registriert': 479, 'danke': 480, 'wichtige': 481, 'bearbeitung': 482, 'fix': 483, 'markticket': 484, 'ganzen': 485, 'gbytemodell': 486, 'kostet': 487, 'gbytevariante': 488, 'allgemeinbefinden': 489, 'gestört': 490, 'aluminium': 491, 'möglichst': 492, 'sauber': 493, 'angebot': 494, 'beweist': 495, 'leistungsfähigkeit': 496, 'angepeilte': 497, 'heißt': 498, 'drfluftrettungszentrum': 499, 'piloten': 500, 'rettungsassistenten': 501, 'notärzte': 502, 'gebäude': 503, 'normalerweise': 504, 'zugänglich': 505, 'geplante': 506, 'konjunkturpaket': 507, 'bundesregierung': 508, 'gerade': 509, 'eindrucksvoll': 510, 'erwiesen': 511, 'ungebrochen': 512, 'coach': 513, 'geistige': 514, 'klarheit': 515, 'betreuung': 516, 'webmaster': 517, 'großer': 518, 'kunstwerk': 519, 'wichtiger': 520, 'vereinten': 521, 'nationen': 522, 'kursziel': 523, 'titels': 524, 'gesehen': 525, 'maritime': 526, 'freizeitangebot': 527, 'läßt': 528, 'kaum': 529, 'wünsche': 530, 'offen': 531, 'foto': 532, 'dekanatsjugendchors': 533, 'mitternacht': 534, 'preisgeld': 535, 'turniersieg': 536, 'publikum': 537, 'dankte': 538, 'rundenwettkampfprogramm': 539, 'sofort': 540, 'einzeln': 541, 'sagt': 542, 'polizei': 543, 'herausfinden': 544, 'symbol': 545, 'teilung': 546, 'universitätsleben': 547, 'erliegen': 548, 'urteil': 549, 'berufungsgerichtes': 550, 'präsidentschaft': 551, 'übermittelt': 552, 'vorinstanz': 553, 'zurückverwiesen': 554, 'image': 555, 'schlechter': 556, 'rundum': 557, 'gelungener': 558, 'urlaub': 559, 'hoch': 560, 'intensives': 561, 'spiel': 562, 'intensive': 563, 'anstrengungen': 564, 'voraussetzen': 565, 'marseille': 566, 'direkt': 567, 'velodrom': 568, 'schlecht': 569, 'beraten': 570, 'unzählige': 571, 'arbeitsstunden': 572, 'zahn': 573, 'einladung': 574, 'geraten': 575, 'staatsanwalt': 576, 'betroffenen': 577, 'schnelle': 578, 'zahlungen': 579, 'geholfen': 580, 'vorwärtsgang': 581, 'legen': 582, 'papiere': 583, 'daimler': 584, 'vorsitzender': 585, 'vertritt': 586, 'vorsitzenden': 587, 'verhinderungsfalle': 588, 'absatz': 589, 'regelt': 590, 'höhe': 591, 'zuzahlung': 592, 'derartige': 593, 'geschlechtsspezifische': 594, 'ungleichheiten': 595, 'indes': 596, 'überwunden': 597, 'controller': 598, 'vier': 599, 'eingänge': 600, 'energieverbrauch': 601, 'ca': 602, 'konventioneller': 603, 'systeme': 604, 'kompetenzgerangel': 605, 'bund': 606, 'gescheitert': 607, 'verbilligte': 608, 'usdollar': 609, 'fehler': 610, 'kurz': 611, 'benachrichtigung': 612, 'betreiber': 613, 'beseitigt': 614, 'freiheitsbrief': 615, 'marktrechtsverleihung': 616, 'bezeichnet': 617, 'frühere': 618, 'hsvstar': 619, 'manfred': 620, 'kaltz': 621, 'kritisierte': 622, 'entlassung': 623, 'gestank': 624, 'fürchterlich': 625, 'gewesen': 626, 'japanische': 627, 'nikkeiindex': 628, 'wochenvergleich': 629, 'junge': 630, 'soldat': 631, 'ungläubig': 632, 'entsprechenden': 633, 'milliardenauftrag': 634, 'gesichert': 635, 'konzernvorstand': 636, 'künftig': 637, 'sechs': 638, 'kunde': 639, 'benötigte': 640, 'software': 641, 'laden': 642, 'kurs': 643, 'landesgruppentag': 644, 'schatten': 645, 'voraus': 646, 'lehrer': 647, 'diskussionsimpulse': 648, 'fachliteratur': 649, 'manager': 650, 'stabilisierungsmaßnahmen': 651, 'modulare': 652, 'aufbau': 653, 'lässt': 654, 'beliebige': 655, 'kombinationen': 656, 'plan': 657, 'musste': 658, 'daraufhin': 659, 'vorerst': 660, 'aufgegeben': 661, 'rat': 662, 'möchte': 663, 'personalkosten': 664, 'einsparen': 665, 'samen': 666, 'wissenschaftlich': 667, 'untersucht': 668, 'schwerpunkt': 669, 'impressionen': 670, 'bildgalerien': 671, 'stadtrat': 672, 'entscheidet': 673, 'kommenden': 674, 'monat': 675, 'haushalt': 676, 'lange': 677, 'stunden': 678, 'textilraum': 679, 'neu': 680, 'tischdienst': 681, 'wischt': 682, 'tische': 683, 'ton': 684, 'schroff': 685, 'turm': 686, 'baustil': 687, 'romanik': 688, 'zurückgeführt': 689, 'umbau': 690, 'hengstlerareals': 691, 'vereinszentrum': 692, 'umsatz': 693, 'mrd': 694, 'unterschied': 695, 'auftreten': 696, 'drittländern': 697, 'vater': 698, 'zechendirektor': 699, 'mutter': 700, 'rztin': 701, 'verlag': 702, 'geglückt': 703, 'wt': 704, 'schreibt': 705, 'derzeit': 706, 'asylwerber': 707, 'untergebracht': 708, 'zweite': 709, 'thread': 710, 'antwortet': 711, 'gesundheit': 712, 'detallierte': 713, 'entnehmen': 714, 'meinem': 715, 'lebenslauf': 716, 'abonnementkarten': 717, 'septemberhälfte': 718, 'zugestellt': 719, 'abschlusspressekonferenz': 720, 'anklagevertreterin': 721, 'schwere': 722, 'straftaten': 723, 'kinderpornographie': 724, 'ergänzt': 725, 'aufsicht': 726, 'stiftung': 727, 'bundesinnenminister': 728, 'banken': 729, 'informiert': 730, 'beförderungsleistung': 731, 'dient': 732, 'vorbereitung': 733, 'arbeitsaufnahme': 734, 'arbeitnehmer': 735, 'beiträge': 736, 'enthalten': 737, 'jeweilige': 738, 'versicherungsteuer': 739, 'vereinbarten': 740, 'nebenkosten': 741, 'bevölkerung': 742, 'nimmt': 743, 'jährlich': 744, 'reagierte': 745, 'ußerungen': 746, 'notenbankchefs': 747, 'eingabe': 748, 'größtmöglicher': 749, 'sorgfalt': 750, 'vorgenommen': 751, 'nähstube': 752, 'alten': 753, 'bahnwärterhaus': 754, 'erstepapiere': 755, 'sackten': 756, 'kronen': 757, 'erstnotierung': 758, 'smax': 759, 'februar': 760, 'angelegt': 761, 'frist': 762, 'führungsoffiziere': 763, 'halten': 764, 'stehung': 765, 'ganze': 766, 'verantwortung': 767, 'gaslampe': 768, 'weiterentwicklung': 769, 'petroleumlampe': 770, 'gäste': 771, 'hoop': 772, 'chance': 773, 'gefahr': 774, 'droht': 775, 'eigenen': 776, 'unvernunft': 777, 'gesamtleistung': 778, 'erhöht': 779, 'worden': 780, 'geschossenen': 781, 'rehe': 782, 'verbleiben': 783, 'havelhöhe': 784, 'gesuche': 785, 'blau': 786, 'hängen': 787, 'rechten': 788, 'gewinner': 789, 'zusätzlich': 790, 'email': 791, 'benachrichtigt': 792, 'grafikausgabe': 793, 'guten': 794, 'berblick': 795, 'mehrere': 796, 'generationen': 797, 'größe': 798, 'arbeitsspeichers': 799, 'ausgelesen': 800, 'grünen': 801, 'erwägen': 802, 'wiederaufnahme': 803, 'untersuchungsarbeit': 804, 'rechtzeitig': 805, 'reagiert': 806, 'hauptbetroffenen': 807, 'längst': 808, 'stumm': 809, 'herzlichkeit': 810, 'feiernden': 811, 'auswärtigen': 812, 'amts': 813, 'ständig': 814, 'aktualisiert': 815, 'unverändert': 816, 'klinik': 817, 'verlangt': 818, 'horrende': 819, 'gebühren': 820, 'konkurrenten': 821, 'ermöglichen': 822, 'umfangreichere': 823, 'feineinstellungen': 824, 'kosten': 825, 'versicherung': 826, 'versandkostenaufstellungen': 827, 'angegeben': 828, 'kurse': 829, 'aokversicherte': 830, 'kostenfrei': 831, 'läufe': 832, 'klosterpark': 833, 'beginnen': 834, 'lieben': 835, 'diesen': 836, 'song': 837, 'leverkusener': 838, 'stadtteilmanager': 839, 'masse': 840, 'seltsam': 841, 'gesichtslos': 842, 'meinungsäußerung': 843, 'jüngeren': 844, 'cox': 845, 'zufall': 846, 'meisten': 847, 'übersichtlich': 848, 'gestaltet': 849, 'moderne': 850, 'schule': 851, 'beliebtes': 852, 'unterrichtszentrum': 853, 'unserem': 854, 'multianglefunktion': 855, 'arbeitet': 856, 'freien': 857, 'berlin': 858, 'versteigert': 859, 'neueren': 860, 'therapiekonzepte': 861, 'inzwischen': 862, 'bewährt': 863, 'will': 864, 'ausbildungspass': 865, 'einführen': 866, 'zürcher': 867, 'taxis': 868, 'reibräder': 869, 'verschleißfestem': 870, 'belag': 871, 'bewegen': 872, 'züge': 873, 'umfasst': 874, 'zwei': 875, 'bände': 876, 'reviere': 877, 'einsatzplanung': 878, 'beinhalte': 879, 'meldepflicht': 880, 'berichtet': 881, 'wirtschaftswoche': 882, 'beeinflusst': 883, 'chemie': 884, 'troposphärischen': 885, 'ozons': 886, 'endet': 887, 'beginn': 888, 'sclera': 889, 'massenverschiebung': 890, 'permanent': 891, 'ausgewuchtet': 892, 'nachricht': 893, 'hamburgs': 894, 'politiker': 895, 'aufgeschreckt': 896, 'ffnungsklausel': 897, 'notwendig': 898, 'abend': 899, 'reich': 900, 'schönen': 901, 'berraschungen': 902, 'vorgang': 903, 'geheimen': 904, 'formular': 905, 'testphase': 906, 'ethischer': 907, 'möglich': 908, 'insbesondere': 909, 'einsatzbereitschaft': 910, 'zaubernden': 911, 'klassen': 912, 'staatsanwaltschaft': 913, 'jährigen': 914, 'eingeleitet': 915, 'stärkste': 916, 'leistungsstreuung': 917, 'kanton': 918, 'zürich': 919, 'steilen': 920, 'hangbereiche': 921, 'bebauung': 922, 'vollständig': 923, 'freigehalten': 924, 'teilte': 925, 'pressesprecher': 926, 'mission': 927, 'donnerstag': 928, 'tiefenerosion': 929, 'wutach': 930, 'löste': 931, 'kleine': 932, 'kettenreaktion': 933, 'commerzbank': 934, 'verloren': 935, 'todesopfer': 936, 'erst': 937, 'später': 938, 'ausgebrannten': 939, 'tunnel': 940, 'entdeckt': 941, 'tränen': 942, 'zwischendrin': 943, 'bergabe': 944, 'unterschriften': 945, 'stadtverordnetenversammlung': 946, 'erfolgen': 947, 'umsatzsteuer': 948, 'grundsätzlich': 949, 'entgelt': 950, 'bemessen': 951, 'erhielt': 952, 'protestbriefe': 953, 'aller': 954, 'verbandsgemeinde': 955, 'nastätten': 956, 'gegründet': 957, 'vorschläge': 958, 'arbeitsministers': 959, 'gewerkschaften': 960, 'ansonsten': 961, 'totgeschwiegen': 962, 'langweiligen': 963, 'kistenarchitektur': 964, 'vorbei': 965, 'anleger': 966, 'vorbauen': 967, 'darauf': 968, 'verzichten': 969, 'harmonie': 970, 'störte': 971, 'draussen': 972, 'große': 973, 'alleingang': 974, 'komme': 975, 'infrage': 976, 'deftiger': 977, 'eintopf': 978, 'roten': 979, 'kreuz': 980, 'mittag': 981, 'serviert': 982, 'dramatischer': 983, 'rückgang': 984, 'messen': 985, 'doppelte': 986, 'staatsbürgerschaft': 987, 'lehne': 988, 'endlose': 989, 'serie': 990, 'spaltungen': 991, 'hierzulande': 992, 'undenkbar': 993, 'bühne': 994, 'rechtsverordnung': 995, 'innenministeriums': 996, 'entsprechend': 997, 'geändert': 998, 'erstklassiges': 999, 'hotel': 1000, 'fehlt': 1001, 'emden': 1002, 'stunde': 1003, 'dauert': 1004, 'gespräch': 1005, 'untersuchung': 1006, 'prinzipien': 1007, 'moral': 1008, 'grundgerüst': 1009, 'entworfen': 1010, 'kompletter': 1011, 'suchlauf': 1012, 'dauerte': 1013, 'kurze': 1014, 'minuten': 1015, 'einmal': 1016, 'sachverständigentag': 1017, 'veranstaltet': 1018, 'gefordert': 1019, 'projektor': 1020, 'film': 1021, 'uneinheitliches': 1022, 'bild': 1023, 'schwergewichten': 1024, 'eli': 1025, 'manning': 1026, 'betritt': 1027, 'rasen': 1028, 'entweder': 1029, 'natürlichen': 1030, 'verlaufs': 1031, 'krankheit': 1032, 'gabs': 1033, 'freiheit': 1034, 'flucht': 1035, 'unterlagen': 1036, 'buchhaltung': 1037, 'vernichtet': 1038, 'legte': 1039, 'zeigefinger': 1040, 'lippen': 1041, 'eines': 1042, 'niederländischen': 1043, 'offiziers': 1044, 'fließenden': 1045, 'behindern': 1046, 'seinen': 1047, 'brustkorb': 1048, 'besitzt': 1049, 'mathematischnaturwissenschaftlichen': 1050, 'neusprachlichen': 1051, 'zweig': 1052, 'bietet': 1053, 'menschen': 1054, 'existiert': 1055, 'gefühl': 1056, 'herrscht': 1057, 'kluft': 1058, 'zwischen': 1059, 'itkunden': 1060, 'iteinheit': 1061, 'falsch': 1062, 'gedächtnis': 1063, 'theoretische': 1064, 'individuelles': 1065, 'erlebnis': 1066, 'unsicherheit': 1067, 'unwort': 1068, 'rangeleien': 1069, 'autonomen': 1070, 'schlechten': 1071, 'misserfolgen': 1072, 'nichts': 1073, 'gelungenes': 1074, 'extreme': 1075, 'preissteigerungen': 1076, 'soziale': 1077, 'abstürze': 1078, 'vorhersehbar': 1079, 'folglich': 1080, 'führt': 1081, 'reine': 1082, 'variation': 1083, 'temperatur': 1084, 'definierten': 1085, 'deformation': 1086, 'ford': 1087, 'kannte': 1088, 'rumsfeld': 1089, 'tischbetrieb': 1090, 'umgehäuse': 1091, 'technik': 1092, 'planung': 1093, 'landwirtschaftliche': 1094, 'aspekte': 1095, 'wesentlich': 1096, 'denkprozess': 1097, 'jeden': 1098, 'hund': 1099, 'gesonderte': 1100, 'meldung': 1101, 'abzugeben': 1102, 'manchen': 1103, 'besucher': 1104, 'malerin': 1105, 'sichtbar': 1106, 'garden': 1107, 'line': 1108, 'durchbricht': 1109, 'trott': 1110, 'eintönigen': 1111, 'gartenzäune': 1112, 'gebrochen': 1113, 'klangcollagen': 1114, 'wortwitzeinlagen': 1115, 'varietartigen': 1116, 'nummern': 1117, 'gedacht': 1118, 'abkommen': 1119, 'ausdrücklich': 1120, 'steuerparadiese': 1121, 'geld': 1122, 'liebe': 1123, 'geleitet': 1124, 'bestimmten': 1125, 'geschäfte': 1126, 'blieben': 1127, 'geschlossen': 1128, 'geschichten': 1129, 'momentaufnahmen': 1130, 'wirklichkeit': 1131, 'gesteuert': 1132, 'vrradio': 1133, 'infrarotfernbedienung': 1134, 'sterbliche': 1135, 'eintrittskarten': 1136, 'einfache': 1137, 'gleichzeitig': 1138, 'dosversion': 1139, 'gezogen': 1140, 'laune': 1141, 'supersystem': 1142, 'garantiert': 1143, 'voraussetzung': 1144, 'scheitern': 1145, 'mediation': 1146, 'haare': 1147, 'wachsen': 1148, 'phasen': 1149, 'hauptstreitpunkt': 1150, 'regelung': 1151, 'arbeitszeit': 1152, 'verkündet': 1153, 'hierdurch': 1154, 'wahlrecht': 1155, 'ausgeschlossen': 1156, 'erfahren': 1157, 'wissenswerte': 1158, 'hierfür': 1159, 'würden': 1160, 'akquisitionen': 1161, 'ins': 1162, 'auge': 1163, 'gebe': 1164, 'durchbruch': 1165, 'setzt': 1166, 'mainkinzigkreis': 1167, 'freie': 1168, 'sitzt': 1169, 'priesterin': 1170, 'bewacht': 1171, 'wasserfinder': 1172, 'wunsch': 1173, 'feinsinnigem': 1174, 'humor': 1175, 'bedient': 1176, 'wolle': 1177, 'landesregierung': 1178, 'staatliches': 1179, 'landessozialamt': 1180, 'zeigte': 1181, 'gildegeist': 1182, 'hinterher': 1183, 'zog': 1184, 'karalahti': 1185, 'kumpel': 1186, 'hinzu': 1187, 'radikale': 1188, 'emotionalität': 1189, 'figuren': 1190, 'hohe': 1191, 'handkräfte': 1192, 'erforderlich': 1193, 'softie': 1194, 'kenne': 1195, 'schiffes': 1196, 'nenne': 1197, 'ausufernde': 1198, 'plädiere': 1199, 'angemessenes': 1200, 'beider': 1201, 'tippe': 1202, 'mischform': 1203, 'dritte': 1204, 'möglichkeit': 1205, 'jede': 1206, 'beantworten': 1207, 'auslaufenden': 1208, 'verträge': 1209, 'verlängert': 1210, 'ihr': 1211, 'keller': 1212, 'stand': 1213, 'wasser': 1214, 'märchen': 1215, 'schlug': 1216, 'puls': 1217, 'gegenwart': 1218, 'immerhin': 1219, 'raum': 1220, 'hineinsehen': 1221, 'zieht': 1222, 'morgengraun': 1223, 'beginnt': 1224, 'müh': 1225, 'prozess': 1226, 'wies': 1227, 'zeuge': 1228, 'vorwürfe': 1229, 'angeklagten': 1230, 'zurück': 1231, 'bernachtungsraum': 1232, 'allein': 1233, 'vormonat': 1234, 'anderen': 1235, 'fällen': 1236, 'bandscheibe': 1237, 'moment': 1238, 'offenbart': 1239, 'grüne': 1240, 'medium': 1241, 'dienste': 1242, 'zusammenhang': 1243, 'virtuelle': 1244, 'adressierung': 1245, 'sehen': 1246, 'hinsicht': 1247, 'nulltoleranzpolitik': 1248, 'verfolgt': 1249, 'gemischten': 1250, 'gemeinsame': 1251, 'internetprojekte': 1252, 'verwirklicht': 1253, 'inhaber': 1254, 'gesellschafter': 1255, 'geschäftsführer': 1256, 'betriebsdaten': 1257, 'erlaubnisse': 1258, 'tätigkeiten': 1259, 'wanderstiefeln': 1260, 'baustelle': 1261, 'mammolshain': 1262, 'gauschulungsburg': 1263, 'n': 1264, 's': 1265, 'innovativ': 1266, 'signalleuchtensektor': 1267, 'beläuft': 1268, 'subvention': 1269, 'rund': 1270, 'elf': 1271, 'ansteige': 1272, 'fahrer': 1273, 'ungarn': 1274, 'übernachten': 1275, 'parkplatz': 1276, 'rücktransport': 1277, 'mitversichert': 1278, 'olympische': 1279, 'bilder': 1280, 'jan': 1281, 'wartet': 1282, 'zweiten': 1283, 'etage': 1284, 'spieler': 1285, 'feste': 1286, 'spielposition': 1287, 'leichter': 1288, 'ausgedacht': 1289, 'fuggerstadt': 1290, 'erwischt': 1291, 'prominenten': 1292, 'pharmaunternehmen': 1293, 'bekannt': 1294, 'suchen': 1295, 'gemeinsam': 1296, 'wohnung': 1297, 'josephskreuz': 1298, 'auerberg': 1299, 'fachwerkbauten': 1300, 'besondere': 1301, 'leistungen': 1302, 'beanspruchen': 1303, 'bereich': 1304, 'unangetastet': 1305, 'vermietung': 1306, 'tageszimmern': 1307, 'knapp': 1308, 'besonders': 1309, 'wochenende': 1310, 'cardinals': 1311, 'darmstadt': 1312, 'rockets': 1313, 'konkrete': 1314, 'beschlüsse': 1315, 'langsam': 1316, 'bewegung': 1317, 'europäische': 1318, 'berichtssaison': 1319, 'leider': 1320, 'tagen': 1321, 'pflanzen': 1322, 'entwendet': 1323, 'lernen': 1324, 'leben': 1325, 'veröffentlichungsvereinbarung': 1326, 'letzteres': 1327, 'reaktionäre': 1328, 'kategorie': 1329, 'lorants': 1330, 'fußball': 1331, 'luftblasen': 1332, 'pipettieren': 1333, 'vermeiden': 1334, 'madhouse': 1335, 'rock': 1336, 'pointiert': 1337, 'martina': 1338, 'blank': 1339, 'immobilienvermarktung': 1340, 'hannover': 1341, 'mehdorn': 1342, 'entschuldigt': 1343, 'bahnmitarbeitern': 1344, 'milliarden': 1345, 'erwartet': 1346, 'minute': 1347, 'manchester': 1348, 'united': 1349, 'konstante': 1350, 'ipcprivate': 1351, 'system': 1352, 'individuellen': 1353, 'schrankbedarf': 1354, 'zusammenstellen': 1355, 'digitalen': 1356, 'archiv': 1357, 'drastisch': 1358, 'reduziert': 1359, 'verstellbaren': 1360, 'kantenschleifgerät': 1361, 'z': 1362, 'b': 1363, 'mobilfunk': 1364, 'dsl': 1365, 'schnäppchenpreis': 1366, 'müller': 1367, 'figurenmaler': 1368, 'ehrenbürger': 1369, 'monschau': 1370, 'hansgeorgweissstraße': 1371, 'benannt': 1372, 'geometrieimport': 1373, 'zulässige': 1374, 'bauraum': 1375, 'diskretisiert': 1376, 'dokumentation': 1377, 'zeitpunktes': 1378, 'findet': 1379, 'auswahl': 1380, 'jeweiligen': 1381, 'regionalanästhesieart': 1382, 'statt': 1383, 'welchen': 1384, 'kriterien': 1385, 'meinen': 1386, 'vertrag': 1387, 'eigentliche': 1388, 'motiv': 1389, 'verdecken': 1390, 'nephele': 1391, 'gebiert': 1392, 'kentauros': 1393, 'nokia': 1394, 'uneinholbar': 1395, 'handyhersteller': 1396, 'einhorn': 1397, 'ruhe': 1398, 'obliegt': 1399, 'traditionen': 1400, 'gesetz': 1401, 'weiterbildung': 1402, 'pilzen': 1403, 'trüffeln': 1404, 'ohne': 1405, 'ampel': 1406, 'vorhaben': 1407, 'chancenlos': 1408, 'ostalgie': 1409, 'partnersuche': 1410, 'suchst': 1411, 'du': 1412, 'partner': 1413, 'politik': 1414, 'bibliotheken': 1415, 'gremien': 1416, 'bilsteintals': 1417, 'befaßt': 1418, 'rauchen': 1419, 'gesundheitlichen': 1420, 'feuerschutzpolizeilichen': 1421, 'verboten': 1422, 'renault': 1423, 'mganewie': 1424, 'fährt': 1425, 'neue': 1426, 'golfkonkurrent': 1427, 'sm': 1428, 'mein': 1429, 'liebling': 1430, 'schaffe': 1431, 'dir': 1432, 'vorurteile': 1433, 'scheidung': 1434, 'beziehung': 1435, 'schock': 1436, 'korkmaz': 1437, 'erkältung': 1438, 'unangenehm': 1439, 'schöner': 1440, 'azrael': 1441, 'feuer': 1442, 'sylt': 1443, 'rücktritt': 1444, 'deshalb': 1445, 'konsequent': 1446, 'spitzname': 1447, 'mr': 1448, 'november': 1449, 'seiwert': 1450, 'doktorvater': 1451, 'frank': 1452, 'usarski': 1453, 'sg': 1454, 'fortschritt': 1455, 'eibau': 1456, 'enthält': 1457, 'republikanern': 1458, 'übernommene': 1459, 'ideen': 1460, 'entsprächen': 1461, 'vorgaben': 1462, 'ausschreibung': 1463, 'entsprach': 1464, 'vielen': 1465, 'langläufigen': 1466, 'schönheitsideal': 1467, 'chronisch': 1468, 'fliessgewässern': 1469, 'mißt': 1470, 'restsauerstoffgehalt': 1471, 'abgas': 1472, 'mittels': 1473, 'holzleistenmechanik': 1474, 'przise': 1475, 'bewegt': 1476, 'smartrac': 1477, 'fielen': 1478, 'führen': 1479, 'machen': 1480, 'plattenrezensionen': 1481, 'versicherungen': 1482, 'sowjets': 1483, 'endrunde': 1484, 'frankreich': 1485, 'qualifiziert': 1486, 'vergeht': 1487, 'königszeit': 1488, 'aufsteiger': 1489, 'ziemlich': 1490, 'gediengenste': 1491, 'restauration': 1492, 'sabang': 1493, 'starke': 1494, 'windböen': 1495, 'verhinderten': 1496, 'sicheren': 1497, 'wettkampf': 1498, 'laax': 1499, 'straßen': 1500, 'trambahnschienen': 1501, 'verbinden': 1502, 'studentische': 1503, 'arbeitsräume': 1504, 'ebenfalls': 1505, 'länger': 1506, 'teammanager': 1507, 'johan': 1508, 'bruyneel': 1509, 'drohen': 1510, 'persönliche': 1511, 'konsequenzen': 1512, 'tobler': 1513, 'zahlungsverweigerungsgründe': 1514, 'erfinden': 1515, 'bayerische': 1516, 'schlösserverwaltung': 1517, 'trainingszeiten': 1518, 'ansprechpartner': 1519, 'runden': 1520, 'informationsgehalt': 1521, 'trish': 1522, 'your': 1523, 'friends': 1524, 'feuerwehrmänner': 1525, 'einsatz': 1526, 'bedingungen': 1527, 'transaktion': 1528, 'parteien': 1529, 'stillschweigen': 1530, 'vereinbart': 1531, 'bergsattel': 1532, 'chertal': 1533, 'berstunden': 1534, 'freizeitausgleich': 1535, 'abgegolten': 1536, 'stufen': 1537, 'schreibfähigkeit': 1538, 'brigens': 1539, 'flugzeuge': 1540, 'geistheiler': 1541, 'beeinträchtigt': 1542, 'umfangreiche': 1543, 'nderungen': 1544, 'nachtverkehr': 1545, 'umrahmt': 1546, 'auszeichnungsveranstaltung': 1547, 'mehreren': 1548, 'klavierdarbietungen': 1549, 'umso': 1550, 'größer': 1551, 'hoffnung': 1552, 'chinesischen': 1553, 'investoren': 1554, 'sahen': 1555, 'glaubwürdigkeit': 1556, 'gelitten': 1557, 'zwar': 1558, 'erinnerungen': 1559, 'union': 1560, 'bessere': 1561, 'unionsfraktionsvize': 1562, 'ronald': 1563, 'pofalla': 1564, 'erklärte': 1565, 'kürzung': 1566, 'denkbar': 1567, 'unseren': 1568, 'keyaccount': 1569, 'strich': 1570, 'ursula': 1571, 'zündorf': 1572, 'pflegt': 1573, 'dröppelminnas': 1574, 'niederbergischen': 1575, 'museum': 1576, 'usbürger': 1577, 'verlassen': 1578, 'verhandlungen': 1579, 'sindelfingen': 1580, 'mutersprache': 1581, 'meiner': 1582, 'leiter': 1583, 'verschiedenen': 1584, 'erschöpft': 1585, 'teams': 1586, 'gemeldet': 1587, 'meine': 1588, 'spanischen': 1589, 'wurzeln': 1590, 'finals': 1591, 'besser': 1592, 'müsse': 1593, 'spielraum': 1594, 'innerhalb': 1595, 'flächentarifvertrags': 1596, 'geben': 1597, 'seitdem': 1598, 'vergangen': 1599, 'verband': 1600, 'deutschen': 1601, 'internetwirtschaft': 1602, 'vorbörslich': 1603, 'notierten': 1604, 'onaktien': 1605, 'minus': 1606, 'gelegen': 1607, 'vornehmlich': 1608, 'söhne': 1609, 'bedürftigen': 1610, 'ausgewählt': 1611, 'warum': 1612, 'rger': 1613, 'richtig': 1614, 'gemacht': 1615, 'finde': 1616, 'auffangende': 1617, 'gedanken': 1618, 'kinderarbeit': 1619, 'los': 1620, 'brasilien': 1621, 'ihrer': 1622, 'rechtsschutzversicherung': 1623, 'erwarten': 1624, 'wegen': 1625, 'einsätze': 1626, 'staatsdiener': 1627, 'ermittelt': 1628, 'weitere': 1629, 'stationen': 1630, 'hamburg': 1631, 'kiel': 1632, 'düsseldorf': 1633, 'betriebswirtschaftlichen': 1634, 'verbesserungen': 1635, 'regionen': 1636, 'berühren': 1637, 'schulnoten': 1638, 'werner': 1639, 'zimmermann': 1640, 'kassenführer': 1641, 'gewählt': 1642, 'funktioniert': 1643, 'einfacher': 1644, 'stromkreis': 1645, 'adiuvando': 1646, 'de': 1647, 'gemanagt': 1648, 'tandem': 1649, 'winfried': 1650, 'marquardt': 1651, 'arbeit': 1652, 'arbeiten': 1653, 'lineal': 1654, 'geodreieck': 1655, 'bleistiften': 1656, 'buntstiften': 1657, 'brauchen': 1658, 'individuelle': 1659, 'erstellen': 1660, 'unverbindlich': 1661, 'entsorgungsangebot': 1662, 'inhalten': 1663, 'problematik': 1664, 'ausgeräumt': 1665, 'buchhändlerrabatt': 1666, 'gewähren': 1667, 'frühverrentung': 1668, 'verabschieden': 1669, 'hersteller': 1670, 'verwundbar': 1671, 'unserer': 1672, 'liste': 1673, 'streichen': 1674, 'wohnungenschon': 1675, 'seit': 1676, 'zeigen': 1677, 'visitenkarte': 1678, 'überraschte': 1679, 'arcandor': 1680, 'gestern': 1681, 'gewinnwarnung': 1682, 'oberleitung': 1683, 'beschädigt': 1684, 'übertrieben': 1685, 'teuer': 1686, 'leuchtdichte': 1687, 'l': 1688, 'eingeführt': 1689, 'sterreich': 1690, 'gegangen': 1691, 'hatten': 1692, 'kinder': 1693, 'burg': 1694, 'dorf': 1695, 'tringensten': 1696}\n"
     ]
    }
   ],
   "source": [
    "def erstelle_tokenizer(data, word_index_file):\n",
    "\n",
    "    # Korpus erstellen und Tokenizer initialisieren\n",
    "    tokenizer = Tokenizer()\n",
    "    corpus = data.lower().split(\"\\n\")\n",
    "    tokenizer.fit_on_texts(corpus)\n",
    "    total_words = len(tokenizer.word_index) + 1\n",
    "\n",
    "    print(f\"Corpus mit der länge {len(corpus)}: \\n{corpus} \\n\")\n",
    "    print(f\"Der Tokenizer kennt {total_words} Wörter \\n\")\n",
    "    print(f\"Die Wörter werden folgenden Indexen zugeordnet: \\n{tokenizer.word_index}\")\n",
    "   \n",
    "    \n",
    "    # Wort-Index-Mapping in JSON-Datei speichern\n",
    "    os.makedirs(os.path.dirname(word_index_file), exist_ok=True)\n",
    "    word_index = tokenizer.word_index\n",
    "    with open(word_index_file, 'w') as f:\n",
    "        json.dump(word_index, f)\n",
    "\n",
    "    return corpus, tokenizer, total_words\n",
    "\n",
    "corpus, tokenizer, total_words = erstelle_tokenizer(data, word_index_file)\n"
   ]
  },
  {
   "cell_type": "code",
   "execution_count": 5,
   "metadata": {},
   "outputs": [
    {
     "name": "stdout",
     "output_type": "stream",
     "text": [
      "Satz: aber was ist eigentlich der richtige durstlöscher? tokenisiert zu: [25, 48, 3, 298, 2, 143, 299] \n",
      "\n",
      "Generierte n-Gramm-Sequenz: [25, 48]\n",
      "Generierte n-Gramm-Sequenz: [25, 48, 3]\n",
      "Generierte n-Gramm-Sequenz: [25, 48, 3, 298]\n",
      "Generierte n-Gramm-Sequenz: [25, 48, 3, 298, 2]\n",
      "Generierte n-Gramm-Sequenz: [25, 48, 3, 298, 2, 143]\n",
      "Generierte n-Gramm-Sequenz: [25, 48, 3, 298, 2, 143, 299]\n",
      "\n",
      "Längster Satz: 11\n",
      "Padding mit der Shape (2763, 11) : [ 0  0  0  0  0  0  0  0  0 25 48]\n"
     ]
    }
   ],
   "source": [
    "def generier_daten(corpus, tokenizer, total_words):\n",
    "\n",
    "    input_sequences = []\n",
    "    is_first_line = True\n",
    "\n",
    "    # Wandelt jede Zeile in eine Liste von Wortindizes und generiert n-Gramm-Sequenzen\n",
    "    for line in corpus:\n",
    "        token_list = tokenizer.texts_to_sequences([line])[0]\n",
    "        print(f\"Satz: {line} tokenisiert zu: {token_list} \\n\") if is_first_line == True else None\n",
    "\n",
    "        # n-Gramm-Sequenz generieren\n",
    "        for i in range(1, len(token_list)):\n",
    "            n_gram_sequence = token_list[:i+1]\n",
    "            input_sequences.append(n_gram_sequence)\n",
    "            print(f\"Generierte n-Gramm-Sequenz: {n_gram_sequence}\") if is_first_line == True else None\n",
    "        \n",
    "        is_first_line = False\n",
    "\n",
    "    # Alle Sequences auf gleiche Länge bringen\n",
    "    max_sequence_len = max([len(seq) for seq in input_sequences])\n",
    "    print(f\"\\nLängster Satz: {max_sequence_len}\")\n",
    "    input_sequences = np.array(pad_sequences(input_sequences, maxlen=max_sequence_len, padding='pre'))\n",
    "    print(f\"Padding mit der Shape {input_sequences.shape} : {input_sequences[0]}\")\n",
    "\n",
    "\n",
    "    # Aufteilen in Prädiktoren (xs) und Labels (ys)\n",
    "    xs, labels = input_sequences[:,:-1], input_sequences[:,-1]\n",
    "    ys = tf.keras.utils.to_categorical(labels, num_classes=total_words)\n",
    "\n",
    "    return xs, ys, max_sequence_len\n",
    "\n",
    "xs, ys, max_sequence_len = generier_daten(corpus, tokenizer, total_words)\n"
   ]
  },
  {
   "cell_type": "markdown",
   "metadata": {},
   "source": [
    "## Modell"
   ]
  },
  {
   "cell_type": "code",
   "execution_count": 6,
   "metadata": {},
   "outputs": [
    {
     "name": "stdout",
     "output_type": "stream",
     "text": [
      "Neuse Model soll traniert werden\n",
      "Startet Training \n",
      "\n",
      "\n",
      "Epoch 1/100\n",
      "87/87 [==============================] - 8s 34ms/step - loss: 7.1851 - accuracy: 0.0297\n",
      "Epoch 2/100\n",
      "87/87 [==============================] - 3s 31ms/step - loss: 6.4214 - accuracy: 0.0442\n",
      "Epoch 3/100\n",
      "87/87 [==============================] - 3s 30ms/step - loss: 5.7505 - accuracy: 0.0586\n",
      "Epoch 4/100\n",
      "87/87 [==============================] - 3s 29ms/step - loss: 4.7143 - accuracy: 0.1252\n",
      "Epoch 5/100\n",
      "87/87 [==============================] - 3s 34ms/step - loss: 3.3539 - accuracy: 0.2859\n",
      "Epoch 6/100\n",
      "87/87 [==============================] - 3s 29ms/step - loss: 2.0638 - accuracy: 0.5346\n",
      "Epoch 7/100\n",
      "87/87 [==============================] - 2s 27ms/step - loss: 1.2482 - accuracy: 0.7315\n",
      "Epoch 8/100\n",
      "87/87 [==============================] - 2s 28ms/step - loss: 0.8059 - accuracy: 0.8248\n",
      "Epoch 9/100\n",
      "87/87 [==============================] - 3s 30ms/step - loss: 0.6089 - accuracy: 0.8636\n",
      "Epoch 10/100\n",
      "87/87 [==============================] - 3s 35ms/step - loss: 0.5324 - accuracy: 0.8693\n",
      "Epoch 11/100\n",
      "87/87 [==============================] - 3s 31ms/step - loss: 0.4969 - accuracy: 0.8730\n",
      "Epoch 12/100\n",
      "87/87 [==============================] - 3s 33ms/step - loss: 0.4696 - accuracy: 0.8784\n",
      "Epoch 13/100\n",
      "87/87 [==============================] - 3s 33ms/step - loss: 0.4604 - accuracy: 0.8766\n",
      "Epoch 14/100\n",
      "87/87 [==============================] - 3s 32ms/step - loss: 0.4472 - accuracy: 0.8766\n",
      "Epoch 15/100\n",
      "87/87 [==============================] - 3s 31ms/step - loss: 0.4434 - accuracy: 0.8755\n",
      "Epoch 16/100\n",
      "87/87 [==============================] - 3s 31ms/step - loss: 0.4325 - accuracy: 0.8777\n",
      "Epoch 17/100\n",
      "87/87 [==============================] - 3s 31ms/step - loss: 0.4287 - accuracy: 0.8751\n",
      "Epoch 18/100\n",
      "87/87 [==============================] - 3s 33ms/step - loss: 0.4252 - accuracy: 0.8751\n",
      "Epoch 19/100\n",
      "87/87 [==============================] - 3s 34ms/step - loss: 0.4188 - accuracy: 0.8777\n",
      "Epoch 20/100\n",
      "87/87 [==============================] - 3s 38ms/step - loss: 0.4174 - accuracy: 0.8777\n",
      "Epoch 21/100\n",
      "87/87 [==============================] - 3s 33ms/step - loss: 0.4160 - accuracy: 0.8784\n",
      "Epoch 22/100\n",
      "87/87 [==============================] - 3s 35ms/step - loss: 0.4152 - accuracy: 0.8788\n",
      "Epoch 23/100\n",
      "87/87 [==============================] - 3s 31ms/step - loss: 0.4120 - accuracy: 0.8773\n",
      "Epoch 24/100\n",
      "87/87 [==============================] - 3s 31ms/step - loss: 0.4130 - accuracy: 0.8755\n",
      "Epoch 25/100\n",
      "87/87 [==============================] - 3s 30ms/step - loss: 0.4122 - accuracy: 0.8798\n",
      "Epoch 26/100\n",
      "87/87 [==============================] - 3s 30ms/step - loss: 0.4089 - accuracy: 0.8773\n",
      "Epoch 27/100\n",
      "87/87 [==============================] - 2s 28ms/step - loss: 0.4056 - accuracy: 0.8773\n",
      "Epoch 28/100\n",
      "87/87 [==============================] - 3s 31ms/step - loss: 0.4048 - accuracy: 0.8777\n",
      "Epoch 29/100\n",
      "87/87 [==============================] - 3s 32ms/step - loss: 0.3993 - accuracy: 0.8791\n",
      "Epoch 30/100\n",
      "87/87 [==============================] - 3s 30ms/step - loss: 0.4005 - accuracy: 0.8766\n",
      "Epoch 31/100\n",
      "87/87 [==============================] - 3s 30ms/step - loss: 0.4054 - accuracy: 0.8784\n",
      "Epoch 32/100\n",
      "87/87 [==============================] - 3s 30ms/step - loss: 0.3996 - accuracy: 0.8769\n",
      "Epoch 33/100\n",
      "87/87 [==============================] - 3s 32ms/step - loss: 0.4020 - accuracy: 0.8766\n",
      "Epoch 34/100\n",
      "87/87 [==============================] - 2s 27ms/step - loss: 0.3994 - accuracy: 0.8769\n",
      "Epoch 35/100\n",
      "87/87 [==============================] - 2s 29ms/step - loss: 0.4874 - accuracy: 0.8592\n",
      "Epoch 36/100\n",
      "87/87 [==============================] - 3s 29ms/step - loss: 2.5625 - accuracy: 0.4115\n",
      "Epoch 37/100\n",
      "87/87 [==============================] - 2s 28ms/step - loss: 2.6567 - accuracy: 0.4035\n",
      "Epoch 38/100\n",
      "87/87 [==============================] - 2s 28ms/step - loss: 1.2395 - accuracy: 0.6862\n",
      "Epoch 39/100\n",
      "87/87 [==============================] - 2s 28ms/step - loss: 0.6632 - accuracy: 0.8339\n",
      "Epoch 40/100\n",
      "87/87 [==============================] - 2s 28ms/step - loss: 0.4743 - accuracy: 0.8722\n",
      "Epoch 41/100\n",
      "87/87 [==============================] - 2s 27ms/step - loss: 0.4353 - accuracy: 0.8755\n",
      "Epoch 42/100\n",
      "87/87 [==============================] - 2s 28ms/step - loss: 0.4187 - accuracy: 0.8780\n",
      "Epoch 43/100\n",
      "87/87 [==============================] - 2s 28ms/step - loss: 0.4177 - accuracy: 0.8769\n",
      "Epoch 44/100\n",
      "87/87 [==============================] - 2s 28ms/step - loss: 0.4103 - accuracy: 0.8769\n",
      "Epoch 45/100\n",
      "87/87 [==============================] - 2s 28ms/step - loss: 0.4042 - accuracy: 0.8780\n",
      "Epoch 46/100\n",
      "87/87 [==============================] - 3s 33ms/step - loss: 0.3982 - accuracy: 0.8791\n",
      "Epoch 47/100\n",
      "87/87 [==============================] - 3s 34ms/step - loss: 0.3959 - accuracy: 0.8766\n",
      "Epoch 48/100\n",
      "87/87 [==============================] - 2s 28ms/step - loss: 0.3977 - accuracy: 0.8769\n",
      "Epoch 49/100\n",
      "87/87 [==============================] - 2s 29ms/step - loss: 0.3964 - accuracy: 0.8766\n",
      "Epoch 50/100\n",
      "87/87 [==============================] - 2s 29ms/step - loss: 0.3942 - accuracy: 0.8762\n",
      "Epoch 51/100\n",
      "87/87 [==============================] - 3s 29ms/step - loss: 0.3900 - accuracy: 0.8759\n",
      "Epoch 52/100\n",
      "87/87 [==============================] - 3s 30ms/step - loss: 0.3921 - accuracy: 0.8780\n",
      "Epoch 53/100\n",
      "87/87 [==============================] - 3s 29ms/step - loss: 0.3941 - accuracy: 0.8766\n",
      "Epoch 54/100\n",
      "87/87 [==============================] - 2s 28ms/step - loss: 0.3910 - accuracy: 0.8795\n",
      "Epoch 55/100\n",
      "87/87 [==============================] - 3s 29ms/step - loss: 0.3889 - accuracy: 0.8769\n",
      "Epoch 56/100\n",
      "87/87 [==============================] - 2s 29ms/step - loss: 0.3860 - accuracy: 0.8795\n",
      "Epoch 57/100\n",
      "87/87 [==============================] - 3s 31ms/step - loss: 0.3890 - accuracy: 0.8795\n",
      "Epoch 58/100\n",
      "87/87 [==============================] - 3s 30ms/step - loss: 0.3852 - accuracy: 0.8777\n",
      "Epoch 59/100\n",
      "87/87 [==============================] - 2s 28ms/step - loss: 0.3887 - accuracy: 0.8788\n",
      "Epoch 60/100\n",
      "87/87 [==============================] - 3s 29ms/step - loss: 0.3872 - accuracy: 0.8769\n",
      "Epoch 61/100\n",
      "87/87 [==============================] - 2s 28ms/step - loss: 0.3870 - accuracy: 0.8751\n",
      "Epoch 62/100\n",
      "87/87 [==============================] - 3s 29ms/step - loss: 0.3851 - accuracy: 0.8777\n",
      "Epoch 63/100\n",
      "87/87 [==============================] - 3s 29ms/step - loss: 0.3854 - accuracy: 0.8780\n",
      "Epoch 64/100\n",
      "87/87 [==============================] - 2s 28ms/step - loss: 0.3864 - accuracy: 0.8791\n",
      "Epoch 65/100\n",
      "87/87 [==============================] - 3s 29ms/step - loss: 0.3841 - accuracy: 0.8784\n",
      "Epoch 66/100\n",
      "87/87 [==============================] - 3s 30ms/step - loss: 0.3829 - accuracy: 0.8759\n",
      "Epoch 67/100\n",
      "87/87 [==============================] - 2s 28ms/step - loss: 0.3869 - accuracy: 0.8777\n",
      "Epoch 68/100\n",
      "87/87 [==============================] - 2s 28ms/step - loss: 0.3869 - accuracy: 0.8777\n",
      "Epoch 69/100\n",
      "87/87 [==============================] - 3s 29ms/step - loss: 0.3838 - accuracy: 0.8755\n",
      "Epoch 70/100\n",
      "87/87 [==============================] - 2s 28ms/step - loss: 0.3858 - accuracy: 0.8798\n",
      "Epoch 71/100\n",
      "87/87 [==============================] - 2s 28ms/step - loss: 0.3824 - accuracy: 0.8762\n",
      "Epoch 72/100\n",
      "87/87 [==============================] - 3s 34ms/step - loss: 0.3854 - accuracy: 0.8769\n",
      "Epoch 73/100\n",
      "87/87 [==============================] - 3s 34ms/step - loss: 0.3812 - accuracy: 0.8773\n",
      "Epoch 74/100\n",
      "87/87 [==============================] - 2s 28ms/step - loss: 0.3800 - accuracy: 0.8766\n",
      "Epoch 75/100\n",
      "87/87 [==============================] - 3s 30ms/step - loss: 0.3788 - accuracy: 0.8791\n",
      "Epoch 76/100\n",
      "87/87 [==============================] - 3s 31ms/step - loss: 0.3791 - accuracy: 0.8780\n",
      "Epoch 77/100\n",
      "87/87 [==============================] - 3s 31ms/step - loss: 0.3788 - accuracy: 0.8780\n",
      "Epoch 78/100\n",
      "87/87 [==============================] - 3s 29ms/step - loss: 0.3792 - accuracy: 0.8773\n",
      "Epoch 79/100\n",
      "87/87 [==============================] - 3s 30ms/step - loss: 0.3771 - accuracy: 0.8813\n",
      "Epoch 80/100\n",
      "87/87 [==============================] - 3s 29ms/step - loss: 0.3775 - accuracy: 0.8766\n",
      "Epoch 81/100\n",
      "87/87 [==============================] - 2s 27ms/step - loss: 0.3789 - accuracy: 0.8773\n",
      "Epoch 82/100\n",
      "87/87 [==============================] - 3s 29ms/step - loss: 0.3787 - accuracy: 0.8806\n",
      "Epoch 83/100\n",
      "87/87 [==============================] - 2s 28ms/step - loss: 0.3808 - accuracy: 0.8773\n",
      "Epoch 84/100\n",
      "87/87 [==============================] - 2s 27ms/step - loss: 0.3816 - accuracy: 0.8759\n",
      "Epoch 85/100\n",
      "87/87 [==============================] - 3s 29ms/step - loss: 0.3803 - accuracy: 0.8766\n",
      "Epoch 86/100\n",
      "87/87 [==============================] - 2s 28ms/step - loss: 0.3786 - accuracy: 0.8806\n",
      "Epoch 87/100\n",
      "87/87 [==============================] - 2s 27ms/step - loss: 0.3791 - accuracy: 0.8788\n",
      "Epoch 88/100\n",
      "87/87 [==============================] - 2s 28ms/step - loss: 0.3778 - accuracy: 0.8777\n",
      "Epoch 89/100\n",
      "87/87 [==============================] - 2s 29ms/step - loss: 0.3757 - accuracy: 0.8795\n",
      "Epoch 90/100\n",
      "87/87 [==============================] - 3s 29ms/step - loss: 0.3758 - accuracy: 0.8773\n",
      "Epoch 91/100\n",
      "87/87 [==============================] - 3s 30ms/step - loss: 0.3760 - accuracy: 0.8744\n",
      "Epoch 92/100\n",
      "87/87 [==============================] - 3s 29ms/step - loss: 0.3758 - accuracy: 0.8784\n",
      "Epoch 93/100\n",
      "87/87 [==============================] - 3s 31ms/step - loss: 0.3748 - accuracy: 0.8777\n",
      "Epoch 94/100\n",
      "87/87 [==============================] - 3s 29ms/step - loss: 0.3731 - accuracy: 0.8769\n",
      "Epoch 95/100\n",
      "87/87 [==============================] - 3s 30ms/step - loss: 0.3733 - accuracy: 0.8784\n",
      "Epoch 96/100\n",
      "87/87 [==============================] - 3s 31ms/step - loss: 0.3719 - accuracy: 0.8784\n",
      "Epoch 97/100\n",
      "87/87 [==============================] - 3s 34ms/step - loss: 0.3717 - accuracy: 0.8784\n",
      "Epoch 98/100\n",
      "87/87 [==============================] - 3s 36ms/step - loss: 0.3736 - accuracy: 0.8780\n",
      "Epoch 99/100\n",
      "87/87 [==============================] - 3s 31ms/step - loss: 0.3728 - accuracy: 0.8780\n",
      "Epoch 100/100\n",
      "87/87 [==============================] - 3s 30ms/step - loss: 0.3730 - accuracy: 0.8791\n",
      "INFO:tensorflow:Assets written to: /workspace/models/lstm/assets\n"
     ]
    },
    {
     "name": "stderr",
     "output_type": "stream",
     "text": [
      "INFO:tensorflow:Assets written to: /workspace/models/lstm/assets\n"
     ]
    },
    {
     "name": "stdout",
     "output_type": "stream",
     "text": [
      "Modell gespeichert unter: /workspace/models/lstm\n"
     ]
    }
   ],
   "source": [
    "# Modell Struktur \n",
    "\n",
    "from tensorflow.keras.models import load_model\n",
    "\n",
    "def create_model():\n",
    "    model = Sequential()\n",
    "    model.add(Embedding(input_dim=total_words,                  # Anzahl aller Wörter\n",
    "                        output_dim=100,                         # Umwandlung des Wortes (des Integers) in den einen n-dimensionanlen Vektor \n",
    "                        input_length=(max_sequence_len-1)))     # Länge der Eingaben (Anzahl Wörter)\n",
    "    model.add(Bidirectional(LSTM(150)))\n",
    "    model.add(Dense(total_words, activation='softmax'))\n",
    "    \n",
    "    # Optimizer und Modell-Compile\n",
    "    adam = Adam(learning_rate=0.01)\n",
    "    model.compile(loss='categorical_crossentropy', optimizer=adam, metrics=['accuracy'])\n",
    "    \n",
    "    return model\n",
    "\n",
    "# Prüfen, ob das Modell bereits existiert\n",
    "if os.path.exists(model_file) and traning_new_model == False:\n",
    "    print(\"Modell gefunden. Lade bestehendes Modell...\")\n",
    "    model = load_model(model_file)  \n",
    "    \n",
    "else:\n",
    "    if traning_new_model ==True:\n",
    "        print(\"Neuse Model soll traniert werden\")\n",
    "    else: \n",
    "        print(\"Altes Modell nicht gefunden\")\n",
    "    \n",
    "    print(\"Startet Training \\n\\n\")\n",
    "    model = create_model()  # Neues Modell erstellen\n",
    "    \n",
    "    # Modell trainieren\n",
    "    history = model.fit(xs, ys, epochs=100, verbose=1)\n",
    "    \n",
    "    # Modell speichern\n",
    "    model.save(model_file)\n",
    "    print(f\"Modell gespeichert unter: {model_file}\")\n"
   ]
  },
  {
   "cell_type": "code",
   "execution_count": 7,
   "metadata": {},
   "outputs": [
    {
     "name": "stdout",
     "output_type": "stream",
     "text": [
      "Embedding Eingabedimensionen: 1697\n",
      "Form der Eingabedaten: (None, 10)\n",
      "Form der Ausgabedaten: (None, 10, 100)\n",
      "Embedding Gewichtedimensionen: (1697, 100)\n",
      "Embedding Ausgabedimensionen: 100\n"
     ]
    }
   ],
   "source": [
    "# Zugriff auf Embedding-Schicht\n",
    "embedding_layer = model.layers[0]  # Die erste Schicht ist die Embedding-Schicht\n",
    "\n",
    "# Eingabedimensionen (Vokabulargröße) und Ausgabedimensionen (Embedding-Dimension)\n",
    "embedding_input_dim = embedding_layer.input_dim                 # Anzahl der Wörter im Vokabular\n",
    "embedding_input_shape = embedding_layer.input_shape             # Form der Eingabedaten (z.B. Batchsize, Satzlänge)\n",
    "embedding_output_shape = embedding_layer.output_shape           # Form der Ausgabedaten (z.B. Batchsize, Satzlänge, Embedding-Dimension)\n",
    "\n",
    "embedding_weights = embedding_layer.get_weights()               # Zugriff auf die Gewichte der Embedding-Schicht\n",
    "embedding_output_dim = embedding_layer.output_dim               # Anzahl der Dimensionen für jedes Wort (z.B. 100 für 100-Dimensionales Embedding)\n",
    "\n",
    "\n",
    "# Ausgabe der Informationen\n",
    "print(f\"Embedding Eingabedimensionen: {embedding_input_dim}\")\n",
    "print(f\"Form der Eingabedaten: {embedding_input_shape}\")  # Form der Eingabedaten\n",
    "print(f\"Form der Ausgabedaten: {embedding_output_shape}\")  # Form der Ausgabedaten\n",
    "\n",
    "print(f\"Embedding Gewichtedimensionen: {embedding_weights[0].shape}\")  # Gewichtedimensionen der Embedding-Matrix\n",
    "print(f\"Embedding Ausgabedimensionen: {embedding_output_dim}\")\n"
   ]
  },
  {
   "cell_type": "markdown",
   "metadata": {},
   "source": [
    "## Verwendung "
   ]
  },
  {
   "cell_type": "markdown",
   "metadata": {},
   "source": [
    "### Text generieren"
   ]
  },
  {
   "cell_type": "code",
   "execution_count": 8,
   "metadata": {},
   "outputs": [
    {
     "name": "stdout",
     "output_type": "stream",
     "text": [
      "Erweiterter Text: Hallo ich bin der größte softie an die dm weiter zu statt deformation\n"
     ]
    }
   ],
   "source": [
    "next_words = 10\n",
    "seed_text = example_text\n",
    "\n",
    "for _ in range(next_words):\n",
    "    # Tokenisiere den aktuellen Seed-Text und führe Padding durch\n",
    "    token_list = tokenizer.texts_to_sequences([seed_text])[0]\n",
    "    token_list = pad_sequences([token_list], maxlen=max_sequence_len-1, padding='pre')\n",
    "    \n",
    "    # Mache eine Vorhersage basierend auf dem aktuellen Seed-Text\n",
    "    predicted_probs = model.predict(token_list, verbose=0)[0]\n",
    "    predicted = np.argmax(predicted_probs)  # Bestimme das Wort mit der höchsten Wahrscheinlichkeit\n",
    "    \n",
    "    # Finde das vorhergesagte Wort im Tokenizer-Wörterbuch\n",
    "    output_word = \"\"\n",
    "    for word, index in tokenizer.word_index.items():\n",
    "        if index == predicted:\n",
    "            output_word = word\n",
    "            break\n",
    "    \n",
    "    # Wenn das Wort gefunden wurde, erweitere den Seed-Text\n",
    "    if output_word:\n",
    "        seed_text += \" \" + output_word\n",
    "    else:\n",
    "        print(\"Kein Wort gefunden für den vorhergesagten Index.\")\n",
    "        break\n",
    "\n",
    "# Ausgabe des vollständigen Textes\n",
    "print(\"Erweiterter Text:\", seed_text)\n"
   ]
  },
  {
   "cell_type": "markdown",
   "metadata": {},
   "source": [
    "### Nextes Word vorhesagen  "
   ]
  },
  {
   "cell_type": "code",
   "execution_count": 9,
   "metadata": {},
   "outputs": [
    {
     "name": "stdout",
     "output_type": "stream",
     "text": [
      "Eingabe: 'Ich' tokeiziert zu: [26]\n",
      "Mit Paddig: [[ 0  0  0  0  0  0  0  0  0 26]]\n",
      "\n",
      "Top 10 nächste Wörter für 'Ich':\n",
      "plädiere: 15.8889 %\n",
      "kenne: 15.1063 %\n",
      "werde: 15.0562 %\n",
      "wähle: 14.7281 %\n",
      "bin: 13.7550 %\n",
      "tippe: 10.8042 %\n",
      "nenne: 10.6282 %\n",
      "wird: 0.2152 %\n",
      "den: 0.1665 %\n",
      "einen: 0.1265 %\n"
     ]
    }
   ],
   "source": [
    "import numpy as np\n",
    "\n",
    "top_k = 10  # Anzahl der Top-Wörter\n",
    "seed_text = \"Ich\"\n",
    "\n",
    "# Tokenisierung und Padding des Eingabetexts\n",
    "token_list = tokenizer.texts_to_sequences([seed_text])[0]\n",
    "print(f\"Eingabe: '{seed_text}' tokeiziert zu: {token_list}\")\n",
    "token_list = pad_sequences([token_list], maxlen=max_sequence_len-1, padding='pre')\n",
    "print(f\"Mit Paddig: {token_list}\")\n",
    "\n",
    "# Vorhersagen berechnen\n",
    "predictions = model.predict(token_list, verbose=0)[0]  # Softmax-Ausgabe\n",
    "\n",
    "# Top-10 wahrscheinlichste Wörter finden\n",
    "top_indices = np.argsort(predictions)[-top_k:][::-1]  #Sortiere absteigend\n",
    "\n",
    "# Wörter und Wahrscheinlichkeiten sammeln\n",
    "top_words = [(word, predictions[index]) for word, index in tokenizer.word_index.items() if index in top_indices]\n",
    "\n",
    "# Sortiere die Wörter nach Wahrscheinlichkeit in absteigender Reihenfolge\n",
    "top_words = sorted(top_words, key=lambda x: x[1], reverse=True)\n",
    "\n",
    "# Ausgabe der Top-10 Wörter und Wahrscheinlichkeiten\n",
    "print(f\"\\nTop {top_k} nächste Wörter für '{seed_text}':\")\n",
    "for word, prob in top_words:\n",
    "    print(f\"{word}: {(prob * 100):.4f} %\")\n"
   ]
  },
  {
   "cell_type": "markdown",
   "metadata": {},
   "source": [
    "## Konvertierung "
   ]
  },
  {
   "cell_type": "code",
   "execution_count": 10,
   "metadata": {},
   "outputs": [
    {
     "name": "stdout",
     "output_type": "stream",
     "text": [
      "Konveriert neues Modell \n",
      "\n",
      "\n",
      "2024-11-09 19:58:28.484648: E external/local_xla/xla/stream_executor/cuda/cuda_dnn.cc:9261] Unable to register cuDNN factory: Attempting to register factory for plugin cuDNN when one has already been registered\n",
      "2024-11-09 19:58:28.484734: E external/local_xla/xla/stream_executor/cuda/cuda_fft.cc:607] Unable to register cuFFT factory: Attempting to register factory for plugin cuFFT when one has already been registered\n",
      "2024-11-09 19:58:28.485841: E external/local_xla/xla/stream_executor/cuda/cuda_blas.cc:1515] Unable to register cuBLAS factory: Attempting to register factory for plugin cuBLAS when one has already been registered\n",
      "2024-11-09 19:58:29.710243: W tensorflow/compiler/tf2tensorrt/utils/py_utils.cc:38] TF-TRT Warning: Could not find TensorRT\n",
      "WARNING:root:TensorFlow Decision Forests 1.8.1 is compatible with the following TensorFlow Versions: ['2.15.0']. However, TensorFlow 2.15.1 was detected. This can cause issues with the TF API and symbols in the custom C++ ops. See the TF and TF-DF compatibility table at https://github.com/tensorflow/decision-forests/blob/main/documentation/known_issues.md#compatibility-table.\n",
      "Kopiert Tokenizer\n"
     ]
    }
   ],
   "source": [
    "if traning_new_model:\n",
    "    print(\"Konveriert neues Modell \\n\\n\")\n",
    "    #! tensorflowjs_converter --input_format=keras {model_file} {js_model_dir}\n",
    "    ! tensorflowjs_converter --input_format=tf_saved_model {model_file} {js_model_dir}\n",
    "else:\n",
    "    print(\"Konvertiertes Model bereits vorhanden\")\n",
    "\n",
    "print(\"Kopiert Tokenizer\")\n",
    "! cp -r {word_index_file} {js_model_dir}\n"
   ]
  },
  {
   "cell_type": "code",
   "execution_count": 11,
   "metadata": {},
   "outputs": [
    {
     "name": "stdout",
     "output_type": "stream",
     "text": [
      "Kopiere JS-Model in React-Model\n"
     ]
    }
   ],
   "source": [
    "if copie_js_model_to_react:\n",
    "    print(\"Kopiere JS-Model in React-Model\")\n",
    "    ! cp -r {js_model_dir} {react_model_dir}\n",
    "else:\n",
    "    print(\"JS-Model bereits im React-Model vorhanden\")"
   ]
  }
 ],
 "metadata": {
  "kernelspec": {
   "display_name": "Python 3",
   "language": "python",
   "name": "python3"
  },
  "language_info": {
   "codemirror_mode": {
    "name": "ipython",
    "version": 3
   },
   "file_extension": ".py",
   "mimetype": "text/x-python",
   "name": "python",
   "nbconvert_exporter": "python",
   "pygments_lexer": "ipython3",
   "version": "3.10.15"
  }
 },
 "nbformat": 4,
 "nbformat_minor": 2
}
