{
 "cells": [
  {
   "cell_type": "markdown",
   "metadata": {},
   "source": [
    "# NLP wiht LSTM TensorFlow Youtube Tutorial \n",
    "\n",
    "Video: https://www.youtube.com/watch?v=ZMudJXhsUpY&list=PLQY2H8rRoyvzDbLUZkbudP-MFQZwNmU4S&index=6\n",
    "\n",
    "Code: https://colab.research.google.com/github/lmoroney/dlaicourse/blob/master/TensorFlow%20In%20Practice/Course%203%20-%20NLP/Course%203%20-%20Week%204%20-%20Lesson%202%20-%20Notebook.ipynb#scrollTo=w9vH8Y59ajYL"
   ]
  },
  {
   "cell_type": "code",
   "execution_count": 50,
   "metadata": {},
   "outputs": [],
   "source": [
    "traning_new_model = False                # Soll ein neues Modell traniert werden ?\n",
    "copie_js_model_to_react = False          # Soll das js Modell direkt rüber kopiert werden ?\n",
    "\n",
    "example_text = \"Hallo ich bin\""
   ]
  },
  {
   "cell_type": "markdown",
   "metadata": {},
   "source": [
    "## Setup "
   ]
  },
  {
   "cell_type": "code",
   "execution_count": 51,
   "metadata": {},
   "outputs": [
    {
     "name": "stdout",
     "output_type": "stream",
     "text": [
      "\n"
     ]
    },
    {
     "name": "stdout",
     "output_type": "stream",
     "text": [
      "Python 3.10.15\n",
      "2.15.1\n",
      "2.15.0\n"
     ]
    }
   ],
   "source": [
    "import tensorflow as tf\n",
    "import keras \n",
    "\n",
    "from tensorflow.keras.preprocessing.sequence import pad_sequences\n",
    "from tensorflow.keras.layers import Embedding, LSTM, Dense, Bidirectional, Input\n",
    "from tensorflow.keras.preprocessing.text import Tokenizer\n",
    "from tensorflow.keras.models import Sequential\n",
    "from tensorflow.keras.optimizers import Adam\n",
    "import json\n",
    "\n",
    "import numpy as np \n",
    "import os\n",
    "\n",
    "#os.environ[\"TF_USE_LEGACY_KERAS\"] = \"1\" # https://github.com/tensorflow/tfjs/issues/8328#issuecomment-2212490809\n",
    "\n",
    "! echo $TF_USE_LEGACY_KERAS\n",
    "! python3 --version\n",
    "print(tf.__version__)\n",
    "print(keras.__version__)\n"
   ]
  },
  {
   "cell_type": "code",
   "execution_count": 52,
   "metadata": {},
   "outputs": [
    {
     "name": "stdout",
     "output_type": "stream",
     "text": [
      "/workspace/algorithem/next_word_prediciton/rnns/models/lstm_js\n",
      "/workspace/webpage/silvan-webpage/public/models\n"
     ]
    }
   ],
   "source": [
    "# Modellname ohne führenden Schrägstrich\n",
    "model_name = \"lstm\"  # ohne führendes \"/\"\n",
    "\n",
    "text_file = os.path.abspath(\"../../example_text.txt\")\n",
    "#model_file = os.path.join(os.path.abspath(\"./models\"), model_name + \".h5\")\n",
    "model_file = os.path.join(os.path.abspath(\"./models\"), model_name)\n",
    "js_model_dir = os.path.join(os.path.abspath(\"./models\"), model_name + \"_js\")\n",
    "react_model_path = os.path.join(os.path.abspath(\"/workspace/webpage/silvan-webpage/public/models\"))\n",
    "\n",
    "print(js_model_dir)\n",
    "print(react_model_path)\n",
    "\n",
    "max_sequence_len=10"
   ]
  },
  {
   "cell_type": "markdown",
   "metadata": {},
   "source": [
    "## Data"
   ]
  },
  {
   "cell_type": "code",
   "execution_count": 53,
   "metadata": {},
   "outputs": [
    {
     "name": "stdout",
     "output_type": "stream",
     "text": [
      "Inhalte des Datensatzes: \n",
      "\n",
      "Wie geht es dir?\n",
      "Mir geht's gut, danke.\n",
      "Was machst du heute?\n",
      "Hast du gut geschlafen?\n",
      "Wo wohnst du?\n",
      "Ich wohne in Berlin.\n",
      "Wie spät ist es?\n",
      "Es ist schon ziemlich spät.\n",
      "Hast du heute Zeit?\n",
      "Was hast du am Wochenende vor?\n",
      "Kannst du mir bitte helf\n"
     ]
    }
   ],
   "source": [
    "# Datensatz laden\n",
    "data = open(text_file, 'rb').read().decode(encoding='utf-8')\n",
    "\n",
    "print(f\"Inhalte des Datensatzes: \\n\\n{data[:250]}\")"
   ]
  },
  {
   "cell_type": "code",
   "execution_count": 54,
   "metadata": {},
   "outputs": [
    {
     "name": "stdout",
     "output_type": "stream",
     "text": [
      "Der Tokenizer kennt 200 Wörter\n",
      "Die Wörter werden folgenden Indexe zugenortnet: {'\\r': 1, 'du': 2, 'ich': 3, 'das': 4, 'hast': 5, 'habe': 6, 'was': 7, 'wie': 8, 'es': 9, 'ist': 10, 'heute': 11, 'schon': 12, 'kannst': 13, 'möchtest': 14, 'hier': 15, 'wann': 16, 'nicht': 17, 'lange': 18, 'kann': 19, 'wo': 20, 'in': 21, 'zeit': 22, 'zu': 23, 'noch': 24, 'zum': 25, 'der': 26, 'bin': 27, 'dir': 28, 'mir': 29, 'gut': 30, 'bitte': 31, 'etwas': 32, 'gehen': 33, 'muss': 34, 'war': 35, 'machst': 36, 'spät': 37, 'ziemlich': 38, 'wochenende': 39, 'frei': 40, 'wir': 41, 'uns': 42, 'mich': 43, 'schön': 44, 'den': 45, 'film': 46, 'viel': 47, 'tun': 48, 'mit': 49, 'keine': 50, 'einen': 51, 'dauert': 52, 'finde': 53, 'die': 54, 'nächste': 55, 'gibt': 56, 'komme': 57, 'bleibst': 58, 'gleich': 59, 'an': 60, 'meinen': 61, 'vergessen': 62, 'dein': 63, 'morgen': 64, 'bus': 65, 'weit': 66, 'bis': 67, 'eine': 68, 'geht': 69, \"geht's\": 70, 'danke': 71, 'geschlafen': 72, 'wohnst': 73, 'wohne': 74, 'berlin': 75, 'am': 76, 'vor': 77, 'helfen': 78, 'gestern': 79, 'gemacht': 80, 'hunger': 81, 'trinken': 82, 'arbeiten': 83, 'sie': 84, 'arbeite': 85, 'als': 86, 'lehrer': 87, 'treffen': 88, 'freue': 89, 'dich': 90, 'sehen': 91, 'wetter': 92, 'oder': 93, 'kalt': 94, 'draußen': 95, 'regnet': 96, 'seit': 97, 'stunden': 98, 'fenster': 99, 'schließen': 100, 'ins': 101, 'kino': 102, 'für': 103, 'musik': 104, 'hörst': 105, 'gerne': 106, 'gesehen': 107, 'kommst': 108, 'gehört': 109, 'einkaufen': 110, 'isst': 111, 'mittagessen': 112, 'lust': 113, 'kochen': 114, 'moment': 115, 'gesagt': 116, 'wiederholen': 117, 'verstanden': 118, 'lauter': 119, 'sprechen': 120, 'kostet': 121, 'u': 122, 'bahn': 123, 'station': 124, 'ein': 125, 'gutes': 126, 'restaurant': 127, 'bahnhof': 128, 'karte': 129, 'bezahlen': 130, 'alles': 131, 'zurück': 132, 'jetzt': 133, 'los': 134, 'ruf': 135, 'wenn': 136, 'schlüssel': 137, 'gekauft': 138, 'wirklich': 139, 'gefrühstückt': 140, 'abendessen': 141, 'anbieten': 142, 'lieblingsessen': 143, 'pläne': 144, 'fängt': 145, 'verpasst': 146, 'stadtzentrum': 147, 'erklären': 148, 'erwartet': 149, 'klingt': 150, 'interessant': 151, 'sehr': 152, 'müde': 153, 'denkst': 154, 'darüber': 155, 'tag': 156, 'bist': 157, 'aufgestanden': 158, 'machen': 159, 'fertig': 160, 'wohin': 161, 'früh': 162, 'aufstehen': 163, 'erledigt': 164, 'fast': 165, 'deiner': 166, 'freizeit': 167, 'gegessen': 168, 'satt': 169, 'durstig': 170, 'lieblingsort': 171, 'stadt': 172, 'wlan': 173, 'mein': 174, 'handy': 175, 'aufladen': 176, 'brauchst': 177, 'hilfe': 178, 'beste': 179, 'teil': 180, 'deines': 181, 'tages': 182, 'fährst': 183, 'urlaub': 184, 'adresse': 185, 'gefunden': 186, 'frage': 187, 'stellen': 188, 'kennen': 189, 'arbeit': 190, 'erledigen': 191, 'gute': 192, 'idee': 193, 'eilig': 194, 'anprobieren': 195, 'groß': 196, 'zimmer': 197, 'von': 198, 'später': 199}\n"
     ]
    }
   ],
   "source": [
    "# Corpus erstellen\n",
    "tokenizer = Tokenizer()\n",
    "corpus = data.lower().split(\"\\n\")\n",
    "tokenizer.fit_on_texts(corpus)\n",
    "\n",
    "# Speichern des word_index in eine JSON-Datei\n",
    "word_index = tokenizer.word_index\n",
    "with open('models/tokenizer_word_index.json', 'w') as f:\n",
    "    json.dump(word_index, f)\n",
    "\n",
    "total_words = len(tokenizer.word_index) + 1\n",
    "\n",
    "print(f\"Der Tokenizer kennt {total_words} Wörter\")\n",
    "print(f\"Die Wörter werden folgenden Indexe zugenortnet: {tokenizer.word_index}\")\n"
   ]
  },
  {
   "cell_type": "code",
   "execution_count": 55,
   "metadata": {},
   "outputs": [],
   "source": [
    "# Datensatu generieren\n",
    "input_sequences = []\n",
    "\n",
    "# Wandelt jede Zeile in eine Liste von Wortindizes \n",
    "for line in corpus:\n",
    "\ttoken_list = tokenizer.texts_to_sequences([line])[0]\n",
    "\n",
    "\t# n-Gramm-Sequenz generieren\n",
    "\tfor i in range(1, len(token_list)):\n",
    "\n",
    "\t\tn_gram_sequence = token_list[:i+1]\n",
    "\t\tinput_sequences.append(n_gram_sequence)\n",
    "\n",
    "# Alle Sequences auf gleiche Laenge bringen \n",
    "#max_sequence_len = max([len(x) for x in input_sequences])\n",
    "input_sequences = np.array(pad_sequences(input_sequences, maxlen=max_sequence_len, padding='pre'))\n",
    "\n",
    "# Aufteilen in Prädiktoren und Labels\n",
    "xs, labels = input_sequences[:,:-1],input_sequences[:,-1]\n",
    "ys = tf.keras.utils.to_categorical(labels, num_classes=total_words)"
   ]
  },
  {
   "cell_type": "markdown",
   "metadata": {},
   "source": [
    "## Modell"
   ]
  },
  {
   "cell_type": "code",
   "execution_count": 56,
   "metadata": {},
   "outputs": [
    {
     "name": "stdout",
     "output_type": "stream",
     "text": [
      "Modell gefunden. Lade bestehendes Modell...\n"
     ]
    }
   ],
   "source": [
    "# Modell Struktur \n",
    "\n",
    "from tensorflow.keras.models import load_model\n",
    "\n",
    "def create_model():\n",
    "    model = Sequential()\n",
    "    model.add(Embedding(input_dim=total_words,                  # Anzahl aller Wörter\n",
    "                        output_dim=100,                         # Umwandlung des Wortes (des Integers) in den einen n-dimensionanlen Vektor \n",
    "                        input_length=(max_sequence_len-1)))       # Länge der Eingaben (Anzahl Wörter)\n",
    "    model.add(Bidirectional(LSTM(150)))\n",
    "    model.add(Dense(total_words, activation='softmax'))\n",
    "    \n",
    "    # Optimizer und Modell-Compile\n",
    "    adam = Adam(learning_rate=0.01)\n",
    "    model.compile(loss='categorical_crossentropy', optimizer=adam, metrics=['accuracy'])\n",
    "    \n",
    "    return model\n",
    "\n",
    "# Prüfen, ob das Modell bereits existiert\n",
    "if os.path.exists(model_file) and traning_new_model == False:\n",
    "    print(\"Modell gefunden. Lade bestehendes Modell...\")\n",
    "    model = load_model(model_file)  \n",
    "    \n",
    "else:\n",
    "    if traning_new_model ==True:\n",
    "        print(\"Neuse Model soll traniert werden\")\n",
    "    else: \n",
    "        print(\"Altes Modell nicht gefunden\")\n",
    "    \n",
    "    print(\"Startet Training \\n\\n\")\n",
    "    model = create_model()  # Neues Modell erstellen\n",
    "    \n",
    "    # Modell trainieren\n",
    "    history = model.fit(xs, ys, epochs=100, verbose=1)\n",
    "    \n",
    "    # Modell speichern\n",
    "    model.save(model_file)\n",
    "    print(f\"Modell gespeichert unter: {model_file}\")\n"
   ]
  },
  {
   "cell_type": "code",
   "execution_count": 57,
   "metadata": {},
   "outputs": [
    {
     "name": "stdout",
     "output_type": "stream",
     "text": [
      "Embedding Eingabedimensionen: 200\n",
      "Embedding Ausgabedimensionen: 100\n",
      "Embedding Gewichtedimensionen: (200, 100)\n"
     ]
    }
   ],
   "source": [
    "# Zugriff auf die Dimensionen der Embedding-Schicht\n",
    "embedding_layer = model.layers[0]  # Die erste Schicht ist die Embedding-Schicht\n",
    "embedding_input_dim = embedding_layer.input_dim  # Eingabedimensionen (total_words)\n",
    "embedding_output_dim = embedding_layer.output_dim  # Ausgabedimensionen (Embedding Dimension)\n",
    "embedding_weights = embedding_layer.get_weights()  # Zugriff auf die Gewichte der Embedding-Schicht\n",
    "\n",
    "print(f\"Embedding Eingabedimensionen: {embedding_input_dim}\")\n",
    "print(f\"Embedding Ausgabedimensionen: {embedding_output_dim}\")\n",
    "print(f\"Embedding Gewichtedimensionen: {embedding_weights[0].shape}\")  # Die Dimensionen der Gewichtsmatrix"
   ]
  },
  {
   "cell_type": "markdown",
   "metadata": {},
   "source": [
    "## Verwendung "
   ]
  },
  {
   "cell_type": "markdown",
   "metadata": {},
   "source": [
    "### Text generieren"
   ]
  },
  {
   "cell_type": "code",
   "execution_count": 58,
   "metadata": {},
   "outputs": [
    {
     "name": "stdout",
     "output_type": "stream",
     "text": [
      " rweiterter Text: Hallo ich bin gleich fertig \n"
     ]
    }
   ],
   "source": [
    "next_words = 10\n",
    "seed_text = example_text\n",
    "\n",
    "for _ in range(next_words):\n",
    "    # Tokenisiere den aktuellen Seed-Text und führe Padding durch\n",
    "    token_list = tokenizer.texts_to_sequences([seed_text])[0]\n",
    "    token_list = pad_sequences([token_list], maxlen=max_sequence_len-1, padding='pre')\n",
    "    \n",
    "    # Mache eine Vorhersage basierend auf dem aktuellen Seed-Text\n",
    "    predicted_probs = model.predict(token_list, verbose=0)[0]\n",
    "    predicted = np.argmax(predicted_probs)  # Bestimme das Wort mit der höchsten Wahrscheinlichkeit\n",
    "    \n",
    "    # Finde das vorhergesagte Wort im Tokenizer-Wörterbuch\n",
    "    output_word = \"\"\n",
    "    for word, index in tokenizer.word_index.items():\n",
    "        if index == predicted:\n",
    "            output_word = word\n",
    "            break\n",
    "    \n",
    "    # Wenn das Wort gefunden wurde, erweitere den Seed-Text\n",
    "    if output_word:\n",
    "        seed_text += \" \" + output_word\n",
    "    else:\n",
    "        print(\"Kein Wort gefunden für den vorhergesagten Index.\")\n",
    "        break\n",
    "\n",
    "# Ausgabe des vollständigen Textes\n",
    "print(\"Erweiterter Text:\", seed_text)\n"
   ]
  },
  {
   "cell_type": "markdown",
   "metadata": {},
   "source": [
    "### Nextes Word vorhesagen  "
   ]
  },
  {
   "cell_type": "code",
   "execution_count": 59,
   "metadata": {},
   "outputs": [
    {
     "name": "stdout",
     "output_type": "stream",
     "text": [
      "[[ 0  0  0  0  0  0  0  3 27]]\n",
      "Top 10 nächste Wörter für 'Hallo ich bin':\n",
      "gleich: 34.1834 %\n",
      "durstig: 24.3747 %\n",
      "sehr: 24.1861 %\n",
      "satt: 15.7751 %\n",
      "noch: 0.0751 %\n",
      "schlüssel: 0.0606 %\n",
      "bus: 0.0450 %\n",
      "in: 0.0430 %\n",
      "heute: 0.0409 %\n",
      "schon: 0.0366 %\n"
     ]
    }
   ],
   "source": [
    "import numpy as np\n",
    "\n",
    "top_k = 10  # Anzahl der Top-Wörter\n",
    "seed_text = example_text\n",
    "\n",
    "# Tokenisierung und Padding des Eingabetexts\n",
    "token_list = tokenizer.texts_to_sequences([seed_text])[0]\n",
    "token_list = pad_sequences([token_list], maxlen=max_sequence_len-1, padding='pre')\n",
    "print(token_list)\n",
    "\n",
    "# Vorhersagen berechnen\n",
    "predictions = model.predict(token_list, verbose=0)[0]  # Softmax-Ausgabe\n",
    "\n",
    "# Top-10 wahrscheinlichste Wörter finden\n",
    "top_indices = np.argsort(predictions)[-top_k:][::-1]  #Sortiere absteigend\n",
    "\n",
    "# Wörter und Wahrscheinlichkeiten sammeln\n",
    "top_words = [(word, predictions[index]) for word, index in tokenizer.word_index.items() if index in top_indices]\n",
    "\n",
    "# Sortiere die Wörter nach Wahrscheinlichkeit in absteigender Reihenfolge\n",
    "top_words = sorted(top_words, key=lambda x: x[1], reverse=True)\n",
    "\n",
    "# Ausgabe der Top-10 Wörter und Wahrscheinlichkeiten\n",
    "print(f\"Top {top_k} nächste Wörter für '{seed_text}':\")\n",
    "for word, prob in top_words:\n",
    "    print(f\"{word}: {(prob * 100):.4f} %\")\n"
   ]
  },
  {
   "cell_type": "markdown",
   "metadata": {},
   "source": [
    "## Konvertierung "
   ]
  },
  {
   "cell_type": "code",
   "execution_count": 60,
   "metadata": {},
   "outputs": [
    {
     "name": "stdout",
     "output_type": "stream",
     "text": [
      "Konvertiertes Model bereits vorhanden\n"
     ]
    }
   ],
   "source": [
    "if traning_new_model:\n",
    "    print(\"Konveriert neues Modell \\n\\n\")\n",
    "    #! tensorflowjs_converter --input_format=keras {model_file} {js_model_dir}\n",
    "    ! tensorflowjs_converter --input_format=tf_saved_model {model_file} {js_model_dir}\n",
    "else:\n",
    "    print(\"Konvertiertes Model bereits vorhanden\")\n"
   ]
  },
  {
   "cell_type": "code",
   "execution_count": 61,
   "metadata": {},
   "outputs": [
    {
     "name": "stdout",
     "output_type": "stream",
     "text": [
      "JS-Model bereits im React-Model vorhanden\n"
     ]
    }
   ],
   "source": [
    "if copie_js_model_to_react:\n",
    "    print(\"Kopiere JS-Model in React-Model\")\n",
    "    ! cp -r {js_model_dir} {react_model_path}\n",
    "else:\n",
    "    print(\"JS-Model bereits im React-Model vorhanden\")"
   ]
  }
 ],
 "metadata": {
  "kernelspec": {
   "display_name": "Python 3",
   "language": "python",
   "name": "python3"
  },
  "language_info": {
   "codemirror_mode": {
    "name": "ipython",
    "version": 3
   },
   "file_extension": ".py",
   "mimetype": "text/x-python",
   "name": "python",
   "nbconvert_exporter": "python",
   "pygments_lexer": "ipython3",
   "version": "3.10.15"
  }
 },
 "nbformat": 4,
 "nbformat_minor": 2
}
