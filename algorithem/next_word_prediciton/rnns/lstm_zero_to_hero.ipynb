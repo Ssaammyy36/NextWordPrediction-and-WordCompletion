{
 "cells": [
  {
   "cell_type": "markdown",
   "metadata": {},
   "source": [
    "# NLP wiht LSTM TensorFlow Youtube Tutorial \n",
    "\n",
    "Video: https://www.youtube.com/watch?v=ZMudJXhsUpY&list=PLQY2H8rRoyvzDbLUZkbudP-MFQZwNmU4S&index=6\n",
    "\n",
    "Code: https://colab.research.google.com/github/lmoroney/dlaicourse/blob/master/TensorFlow%20In%20Practice/Course%203%20-%20NLP/Course%203%20-%20Week%204%20-%20Lesson%202%20-%20Notebook.ipynb#scrollTo=w9vH8Y59ajYL"
   ]
  },
  {
   "cell_type": "markdown",
   "metadata": {},
   "source": [
    "## Setup "
   ]
  },
  {
   "cell_type": "code",
   "execution_count": 77,
   "metadata": {},
   "outputs": [
    {
     "name": "stdout",
     "output_type": "stream",
     "text": [
      "\n"
     ]
    },
    {
     "name": "stdout",
     "output_type": "stream",
     "text": [
      "Python 3.10.15\n",
      "Tensorflow Version: 2.15.1\n",
      "Keras Version: 2.15.0\n"
     ]
    }
   ],
   "source": [
    "import tensorflow as tf\n",
    "import keras \n",
    "\n",
    "from tensorflow.keras.preprocessing.sequence import pad_sequences\n",
    "from tensorflow.keras.layers import Embedding, LSTM, Dense, Bidirectional, Input\n",
    "from tensorflow.keras.preprocessing.text import Tokenizer\n",
    "from tensorflow.keras.models import Sequential\n",
    "from tensorflow.keras.optimizers import Adam\n",
    "import json\n",
    "\n",
    "import numpy as np \n",
    "import os\n",
    "import random\n",
    "import re\n",
    "\n",
    "#os.environ[\"TF_USE_LEGACY_KERAS\"] = \"1\" # https://github.com/tensorflow/tfjs/issues/8328#issuecomment-2212490809\n",
    "\n",
    "! echo $TF_USE_LEGACY_KERAS\n",
    "! python3 --version\n",
    "print(f\"Tensorflow Version: {tf.__version__}\")\n",
    "print(f\"Keras Version: {keras.__version__}\")\n"
   ]
  },
  {
   "cell_type": "markdown",
   "metadata": {},
   "source": [
    "##  Einstellungen "
   ]
  },
  {
   "cell_type": "code",
   "execution_count": null,
   "metadata": {},
   "outputs": [],
   "source": [
    "traning_new_model = True   \n",
    "save_wort_index = True              # Soll ein neues Modell traniert werden ?\n",
    "convert_to_js_model = True\n",
    "copie_js_model_to_react = True          # Soll das js Modell direkt rüber kopiert werden ?\n",
    "\n",
    "example_text = \"Hallo ich bin\"\n",
    "traning_sentences = 500\n",
    "model_name = \"lstm\" \n",
    "\n",
    "text_file = os.path.abspath(\"/workspace/dataset/10k_sentences.txt\")\n",
    "project_dir = os.path.abspath(\"/workspace/models/hero_to_zero_lstm\")\n",
    "word_index_file = os.path.join(project_dir, 'tokenizer_word_index.json')\n",
    "\n",
    "model_dir = os.path.join(project_dir, model_name)\n",
    "js_model_dir = os.path.join(project_dir, model_name + \"_js\")\n",
    "\n",
    "react_model_dir = os.path.join(os.path.abspath(\"/workspace/webpage/silvan-webpage/public/models\"),  model_dir)"
   ]
  },
  {
   "cell_type": "markdown",
   "metadata": {},
   "source": [
    "## Data"
   ]
  },
  {
   "cell_type": "code",
   "execution_count": 79,
   "metadata": {},
   "outputs": [
    {
     "name": "stdout",
     "output_type": "stream",
     "text": [
      "Text beinhaltet 9902 Zeile \n",
      "\n",
      "9902 zufällige Zahlen zwischen 1 und 9902: {8194, 4099, 6153, 6159, 2067, 4115, 21, 2069, 4118, 6168, 2074, 33, 4134, 4141, 6194, 4148, 6197, 8250, 4170, 2128, 8278, 87, 4185, 4188, 8285, 8293, 105, 2153, 4202, 4205, 2160, 6259, 4214, 4219, 8324, 4246, 8342, 6296, 8349, 6305, 2211, 2212, 169, 8376, 4280, 4282, 2236, 8388, 201, 2252, 6353, 4307, 2260, 2259, 8407, 215, 4313, 2272, 2286, 8442, 258, 4356, 6407, 2317, 2324, 6420, 4374, 8474, 2333, 4389, 6437, 8490, 2351, 315, 321, 8516, 2374, 8520, 8525, 2382, 334, 2386, 6485, 6498, 356, 8551, 2409, 364, 2413, 8556, 8560, 2421, 4475, 6527, 2435, 394, 6549, 407, 8601, 4507, 4509, 413, 6570, 4534, 8631, 8639, 8641, 2498, 451, 2506, 6617, 2526, 4575, 8674, 492, 8687, 6640, 8689, 2547, 2550, 503, 6648, 2554, 508, 512, 6662, 8717, 6673, 2578, 4626, 4630, 8737, 551, 6698, 4658, 564, 6708, 4661, 572, 4681, 8779, 587, 8780, 4690, 4699, 2651, 6759, 4712, 8809, 620, 6765, 2668, 4718, 8812, 625, 2673, 6771, 2672, 2677, 2669, 2681, 634, 8827, 4739, 8846, 6798, 656, 6804, 8853, 2713, 8861, 8864, 2736, 4786, 2743, 8891, 701, 6846, 2752, 6851, 8902, 2761, 6868, 728, 729, 2776, 2780, 736, 737, 4837, 4839, 8938, 8946, 2805, 6906, 4859, 6912, 8960, 2824, 8972, 8977, 2834, 4886, 2842, 6939, 2856, 9001, 4911, 2863, 6960, 4913, 2869, 9019, 9023, 4928, 835, 9034, 4939, 9037, 6993, 854, 866, 4966, 4976, 7026, 9083, 2941, 896, 7040, 9098, 9103, 5010, 5011, 9107, 9113, 2979, 932, 5029, 935, 7090, 7106, 3016, 7114, 9167, 5079, 9183, 5088, 7143, 3051, 3052, 1013, 9205, 5115, 7168, 7173, 3078, 7176, 5130, 7181, 7182, 9230, 9232, 7191, 5145, 9248, 3112, 3115, 9265, 1074, 7224, 3131, 1086, 7237, 9288, 3148, 7245, 3149, 1103, 7248, 9300, 7255, 5210, 3163, 5212, 7261, 7258, 9311, 7267, 9316, 9331, 3191, 3195, 3200, 5253, 9354, 9356, 1165, 9358, 5263, 5262, 9362, 3219, 5266, 5270, 5271, 5278, 7326, 9384, 9388, 7348, 1216, 9413, 1222, 7367, 7366, 7365, 1225, 3276, 9425, 1236, 3288, 1240, 1260, 3310, 3311, 7410, 9459, 7420, 3336, 3347, 7446, 1308, 7457, 5415, 7466, 7467, 3373, 7472, 9520, 3381, 5430, 3389, 7487, 1345, 9546, 1354, 1357, 3408, 1364, 3413, 1371, 5468, 1379, 7525, 9577, 5482, 5491, 9589, 9590, 1406, 7550, 5502, 7555, 1412, 5509, 9606, 9612, 3470, 9617, 9620, 1429, 3484, 3486, 9636, 3498, 1453, 1454, 5552, 1458, 3526, 9685, 1495, 5597, 9704, 5612, 1526, 1527, 1530, 9723, 5630, 5632, 9734, 9738, 9740, 3596, 7695, 3603, 1557, 3606, 9751, 1562, 9757, 1571, 1578, 9772, 3630, 7728, 7731, 5684, 5688, 1604, 7750, 7753, 3664, 5728, 5746, 5748, 7799, 9847, 3705, 7811, 1670, 9870, 3727, 7824, 7825, 5780, 9879, 3735, 3737, 3758, 3761, 3769, 1724, 7881, 3787, 7884, 1747, 1749, 3798, 7896, 5850, 7902, 5862, 5864, 5866, 7919, 3830, 3850, 1803, 7955, 1820, 5917, 7971, 3884, 7981, 7982, 1838, 7980, 5942, 3903, 1855, 5953, 1870, 1871, 8022, 1882, 8028, 1886, 5984, 8032, 6005, 6023, 1930, 3983, 8085, 6038, 6045, 8097, 1957, 4008, 8109, 8112, 6065, 8123, 1980, 6077, 4043, 6093, 4049, 4055, 6106, 6108, 8158, 2019, 6116, 6117, 4070, 2027, 6134} \n",
      "\n",
      "Trainingstext: \n",
      "abschied von der sommerrallye?\n",
      "adlershorst ist eine genossenschaft geblieben.\n",
      "allerdings fehlte auch\n"
     ]
    }
   ],
   "source": [
    "def lade_zufaellige_zeilen(dateipfad, traning_sentences):\n",
    "\n",
    "    # Zeilen zählne\n",
    "    with open(dateipfad, 'r') as datei:\n",
    "        anzahl_zeilen = sum(1 for zeile in datei)\n",
    "    print(f\"Text beinhaltet {anzahl_zeilen} Zeile \\n\")\n",
    "    \n",
    "    # Zufällige Zeilennummern generieren\n",
    "    zufaellige_zeilennummern = set(random.sample(range(anzahl_zeilen), traning_sentences))\n",
    "    print(f\"{anzahl_zeilen} zufällige Zahlen zwischen 1 und {anzahl_zeilen}: {zufaellige_zeilennummern} \\n\")\n",
    "    \n",
    "    # Ausgewählten Zeilen laden\n",
    "    ausgewaehlte_zeilen = \"\"\n",
    "    with open(dateipfad, 'r') as datei:\n",
    "        for nummer, zeile in enumerate(datei):\n",
    "            if nummer in zufaellige_zeilennummern:\n",
    "                zeile = re.sub(r'[^a-zA-Zäöüß.,!? \\n]', '', zeile)\n",
    "                ausgewaehlte_zeilen += zeile.strip().lower() + \"\\n\"\n",
    "    print(f\"Trainingstext: \\n{ausgewaehlte_zeilen[:100]}\")\n",
    "    \n",
    "    return ausgewaehlte_zeilen\n",
    "\n",
    "# Beispiel-Aufruf der Funktion\n",
    "data = lade_zufaellige_zeilen(text_file, traning_sentences)\n"
   ]
  },
  {
   "cell_type": "code",
   "execution_count": 80,
   "metadata": {},
   "outputs": [
    {
     "name": "stdout",
     "output_type": "stream",
     "text": [
      "Corpus mit der länge 501: \n",
      "['abschied von der sommerrallye?', 'adlershorst ist eine genossenschaft geblieben.', 'allerdings fehlte auch hier schon die kontinuität.', 'allerdings mussten zahlreiche industriebetriebe die arbeit einstellen.', 'also haben sie sicherlich genug unterhaltung während dem grinden.', 'am brenner herrschte fast weltuntergangsstimmung.', 'am freitag startet die fußballwm.', 'an den buskoppler werden die elektronischen reihenklemmen angesteckt.', 'angriff auf die pressefreiheit', 'an jedem pelz klebt blut!', 'anschließend flüchtete er in die wohnung seiner schwester.', 'anstelle der gestohlenen gegenstände findet der junge spurensucher klebrige krümel.', 'antworten nimmt jeder briefträger entgegen.', 'auch aus dem telekommunikationssektor kamen spekulationen um eine bernahme.', 'auch das fahrpersonal profitierte von der kommunalisierung der straßenbahn.', 'auch den marktanteil konnte der konzern deutlich steigern.', 'auch die zertifizierungsproblematik wurde erörtert.', 'auch in polen blüht der markt.', 'auch nicht zum spaß.', 'auch seine kooperationsbereitschaft war allgemein anerkannt.', 'auch war sie gegen die fortführung des npdverbotsverfahrens.', 'auf griechischen abbildungen sind ausschließlich gedoppelte instrumente dargestellt.', 'auf sie werden die assoziationen geschrieben.', 'august    uhr .', 'aus diesem grund ist auch die ffentlichkeit von der verhandlung ausgeschlossen.', 'außerdem hat es unsere gemeinschaft gefördert.', 'außerdem ist die demographische vermischung beträchtlich.', 'außerdem muss das gepäck richtig verteilt werden.', 'außerdem wurden vorschläge für die bauliche entwicklung unterbreitet.', 'befinden wir uns nun in diesem prozeß?', 'bei den niederländern stimmte zumindest das ergebnis.', 'bei den russischen exporten besteht bisher kein risiko.', 'bei der einvernahme hat der mann sofort gestanden.', 'beide reisen sind individuell buchbar.', 'besitzen sie die notwendigen ergonomischen kenntnisse?', 'bestehende altlizenzen können in den wartungsvertrag integriert werden.', 'beteiligt sind unter anderem gewerkschaften, wohlfahrtsverbände, kommunen und migrantenvereine.', 'bis dann läuft die meldefrist.', 'bitte wählen sie links ihren plzbereich.', 'blick auf die randberge an der straße .', 'dabei freuen wir uns jederzeit über neue besucher!', 'dafür gibt es in einigen ländern das berufsgymnasium.', 'dafür wird zunächst die form der leinwand virtuell nachgebildet.', 'daher sollten regelmäßige blutuntersuchungen gemacht werden.', 'damit war das ausgangsmaterial zu einer topologie des authentischen bereitgestellt.', 'dann buchen sie unsere ferienwohnung im obergeschoss.', 'dann fuhren wir weiter richtung mostar.', 'dann gewinnt tatsächlich die ganze stadt.', 'dann kam der durchfall.', 'dann kommt der alte hund ins tierheim.', 'dann will land das gesamtkonzept vorstellen.', 'das angebot beweist die leistungsfähigkeit.', 'das berichtet ars technica.', 'das bezaubernde lächeln dieser frau.', 'das bild wurde vor unserem vereinsheim aufgenommen.', 'das börsenkotierte unternehmen verfügt über eine klar definierte distribution.', 'das bundesgericht hat die beschwerde des gebüssten nun abgewiesen.', 'das controller pak ist ohne funktion.', 'das eindringen der biowirksamen elemente bewirkt eine eutrophierung der betroffenen wasserresourcen.', 'das eisen ist gleich breit wie die sohle.', 'das ergebnis ist vergleichbar mit der hohen qualiät eines wetgate.', 'das festplatten subsystem ist mit einer eigenen stromversorgung ausgestattet.', 'das finale des abends nahte.', 'das format wurde leicht reduziert.', 'das gerät ist manuell oder über eine zeitschaltuhr steuerbar.', 'das große handbuch.', 'das grünamt der stadt mainz zerlegte den umgefahrenen baum.', 'das habe ich nicht ausgeschlossen.', 'das honorar wird im vorgespräch festgelegt.', 'das idealformat des fotos ist x pixel.', 'das internet hat keine führung im eigentlichen sinne.', 'das ist das handwerkszeug des schauspielers.', 'das ist ein sehr gutes uboot.', 'das macht uns nichts.', 'das opfer hatte sich in einen täter verwandelt.', 'das programm unterstützt subcodes.', 'das projekt erfordert ein investment von  millionen mark.', 'das seien drei prozent mehr als im april.', 'das soll jeder selbst herausfinden.', 'das stiftungsrecht braucht eine durchgreifende berprüfung und modernisierung.', 'das thema lautete miteinander reden.', 'das turnier besteht aus drei teilen.', 'das tut auch der gegner msv duisburg.', 'das unabbr kommando löscht einträge aus der abkürzungstabelle.', 'das unglück ereignete sich um . uhr ortszeit.', 'das wäre dann eine art globaler greenshoot.', 'das wasserleitsungsabzeichen stellte keine große hürde dar.', 'das wird selbstverständlicher werden.', 'da war er offenbar schlecht beraten.', 'dazu bräuchten sie eine bankenlizenz.', 'demonstrationen waren die folge.', 'dem provider steht lediglich ein zurückbehaltungsrecht an der domain zu.', 'dem ständerat genügt dies.', 'denn sie sind nahezu uneingeschränkt vermehrbar.', 'der jährige habe ein glücksspielproblem.', 'der abschreckungseffekt der codieraktion wirkt sich bereits auf die diebstahlszahlen aus.', 'der balkon liegt südseitig.', 'der band enthält die schönsten märchen der wichtigsten sammler.', 'der besuch der zirkusschule hat aber noch einen positiven nebeneffekt.', 'der brief wird die ausnahme bleiben.', 'der bundestag war durch vizepräsidentin antje vollmer vertreten.', 'der bundeswehrverband protestierte bereits gegen weitere einsparungen.', 'der chorklang wurde schlanker und transparenter.', 'der donnerstag steht im zeichen des rock.', 'der erste advent war da.', 'der erste gottesdienst ist für ostermontag  vorgesehen.', 'der eurokurs ist am dienstag leicht gestiegen.', 'der finanzinvestor geht über umwege an die börse.', 'der ganzjährige blütenreichtum lockt natürlich ein heer von insekten an.', 'der gesamtschaden wird auf . eur geschätzt.', 'der geschmack sollte auch bei den juroren wieder einkehren.', 'der grund dafür steht auf der bühne.', 'der grund für die auseinandersetzung war am dienstagmorgen noch unklar.', 'der handymanager enthält ein komplettes softwarepaket mit riesigem funktionsumfang.', 'der hockenheimring war vor vier jahren für  millionen euro modernisiert worden.', 'der landeschef nimmt stellung.', 'der lauf führt entlang der trasse der ehemaligen pferdeeisenbahn gmundenbudweis.', 'der margendruck ist wegen der starken konkurrenz allerdings hoch.', 'der mörder hatte die leichen zersägt.', 'der motor erbrachte ein leistung von  ps.', 'der mystiker hat einen blick für die innenseite der phänomene.', 'der nutzer stimmt dieser datenverarbeitung ausdrücklich zu.', 'der samen wird wissenschaftlich untersucht.', 'der schwierigkeitsgrad der strecke steigert sich im laufe des spiels.', 'der schwottenlehrling hat einen tollen humor.', 'der see ist seit bald acht wochen abgesperrt.', 'der senat muss jedoch erst ebenfalls abstimmen.', 'der silvesterlauf war wieder einmal klasse.', 'der sozialen spaltung der stadt entgegensteuern..', 'der telefonhandel wird auch telefonverkehr genannt.', 'der umfang der spionageoperation war erschütternd.', 'der umsatz nahm um , prozent auf , mio. fr. zu.', 'der verdacht auf ein schädelhirntrauma bestätigte sich nicht.', 'der verlust je aktie sank von  auf  cent.', 'der vorsitzende der promotionskommission sendet das protokoll an den vorsitzenden des promotionsausschusses.', 'der vorstand kann eine mitgliedschaft ohne angabe von gründen ablehnen.', 'der wert wird auf mehrere millionen dollar geschätzt.', 'derzeit sitzen juristen über den unterlagen.', 'der zweibeinrüde fuhr ganz normal morgens weg.', 'deshalb müssen nun schädlingsbekämpfer anrücken.', 'dessen jähriger bruder wurde schwer verletzt.', 'details zum geschäftsverlauf nannte kaeser nicht.', 'deutsche verbraucherpreise gestiegen.', 'die angelgewässer wurden mit folgenden ziel errichtet', 'die auffüllerde sollte mit gartenhumus oder pflanzerde aufgebessert werden.', 'die auszeichnungen werden am . april in marl vergeben.', 'die beiden klagen gegen ihre behauptungen.', 'die beiden mitangeklagten sind flüchtig.', 'die besteuerung von investmentfonds bleibt knifflig.', 'die brandbriefe sind raus.', 'die bremer im uefacupviertelfinale.', 'die bürgerverschuldung ist nicht mehr zu stoppen.', 'die ciscoaktie stieg im nachbörslichen ushandel um drei prozent.', 'die computerkenntnisse der pädagoginnen sind minimal.', 'die demonopolisierung wird seit  angestrebt.', 'die ecole normale suprieure bietet ausgezeichnete arbeitsbedingungen.', 'die eigenart eines jeweiligen versicherungsvertrages besteht in den besonderen tarifvoraussetzungen.', 'die einführung der argen verstieß nach karlsruher ansicht gegen die kommunale selbstverwaltung.', 'die elfjährigen mussten zweimal über die strecke.', 'die fahrt wird mit dem bus durchgeführt.', 'die fertigungstiefe ist der eigene anteil an der produktion.', 'die förderung der betreuung steht dabei im mittelpunkt.', 'die förderung ist zunächst auf drei jahre angelegt.', 'die futtersorten finden sie weiter unten bei den futterempfehlungen.', 'die gastgeber richten sich am ersten pünktchen auf.', 'die geringeren energiekosten haben sich positiv auf die verbraucherpreise ausgewirkt.', 'die gesamtfläche beträgt fast  quadratkilometer.', 'die gesellschaft fliegt von zwei plätzen in yellowknife.', 'die giftstoffe werden über die poren an die schweineleberzellen abgegeben.', 'die grafikausgabe gibt einen guten berblick über mehrere generationen.', 'die herzlichkeit der feiernden ist ansteckend.', 'die höhe der aufstockung blieb aber unklar.', 'die höhe der beute steht zurzeit noch nicht fest.', 'die hotels sind sehr gut ausgebucht.', 'die jugendlichen hatten sich der polizei gestellt.', 'die kurse sind für aokversicherte kostenfrei.', 'die längsnähte des godetrockes sind streckend.', 'die laufende periode geht bis märz .', 'die lichtdurchlässigen fenstersteine über dem portal lockern die strenge ostfassade auf.', 'die meinungsäußerung des jüngeren cox war kein zufall.', 'die nächste mitgliederversammlung ist für den frühjahr nächsten jahres geplant.', 'die neuwahlen waren letztlich nur formsache.', 'die notwendigen finanzmittel nahmen von  millionen auf  millionen dollar zu.', 'dienstgradabzeichen wie bei der linie.', 'die oppositionsparteien kritisierten die entscheidung.', 'die orangeriegebäude wurden in den jahren  bis  erbaut.', 'die papiere sackten daraufhin um , prozent auf , euro ab.', 'die pflege des systems ist problemlos und wenig kostenintensiv.', 'die polizei beschlagnahmte mehr als vier millionen dollar.', 'die prognosen für den yenkurs fallen derzeit unterschiedlich aus.', 'die redewendung stammt aus der jägersprache.', 'die richtige kleidung!', 'die saisonbereinigte arbeitslosenquote sank auf , prozent von , prozent im vormonat.', 'diese haben folglich eine essentielles interesse an instabilität.', 'diese mühe wird belohnt.', 'dieser habe zunächst gehalten.', 'dieser praxis folgte auch das christentum.', 'die serumröhrchen dürfen in keinem fall geöffnet werden.', 'diese seite ist auch in deutsch verfügbar.', 'diese straße soll nach der inbetriebnahme des tunnels verschwinden.', 'diese vorstellung behagte ihm nicht.', 'diese werden dem fahrer vor ort berechnet!', 'dies geht aus einem am mittwoch veröffentlichten urteil des hessischen landessozialgerichts hervor.', 'dies hat besondere auswirkungen auf das kosystem.', 'die signatur finden sie bei den einzelbänden.', 'dies könne allein gott.', 'die sonderregelung gilt als verfassungsrechtlich bedenklich.', 'die soziale frage im . jahrhundert.', 'dies sichert eine hohe akzeptanz im volk.', 'dies stieß auf neuerliche kritik.', 'die stadt war gezwungen, den kredit zu verlängern.', 'die steilen hangbereiche wurden von einer bebauung vollständig freigehalten.', 'die suppe für das gemeinsame mahl hatten die kanuwallfahrer mitgebracht.', 'die themen orientieren sich an den aktuellen herausforderungen des politischen systems.', 'diethild frank wurde zweite vorsitzende.', 'die trainingstermine könnt ihr aus dem trainingskalender entnehmen.', 'die türen des zuges lassen sich nur beidseitig freigeben.', 'die veranstalter sprachen von mehr als . teilnehmern.', 'die verkörperung einer historischen persönlichkeit.', 'die vielfalt der arbeitszeitformen entspricht der vielfalt an lebensentwürfen.', 'die zufuhr von flüssigkeit ist nun der entscheidende punkt.', 'doch anleger können vorbauen.', 'doch bei den steelers kam die ernüchterung.', 'doch die eroberung der wüsten stößt an grenzen.', 'dort geht er auch nicht mehr weg.', 'drei menschen wurden verletzt,  hausbewohner evakuiert.', 'drogenextrakt auszug aus einer pflanze droge.', 'durch eine geschäftsprozeßoptimierung lassen sich ähnliche effizienzsteigerungen realisieren.', 'durch regelmäßige wiederholung werden die prozesse optimiert.', 'eigene trendscoutabteilungen kämmen die szene nach den neuesten modesportarten ab.', 'eigentlich war er gelernter koch.', 'ein afrikareisender stolpert über ein riesenmädchen.', 'ein basketballspieler setzt zum wurf an.', 'ein betrieb sei schließlich kein selbstbedienungsladen.', 'eine absage des castings sei nicht verlangt worden.', 'eine frau aus der medienszene vergesse ich allerdings nicht.', 'ein ende der belastungen scheint derzeit nicht in sicht.', 'einen entsprechenden beschluss fasste das kabinett am vormittag.', 'einen berblick über die nderungen finden sie hier.', 'eine rundfahrt auf dem see.', 'eine telefonische verifizierung kann gegebenenfalls durch die agentur erfolgen.', 'eine therapeutische gemeinschaft ist eine lebensgemeinschaft auf zeit.', 'eine vorschauversion findet sich unter httpwww.tv.detvproductionmainpageindex.htm.', 'eine wütende menge stellt sich den wissenschaftlern gegenüber.', 'ein hengst, dem die zukunft gehört!', 'einige schriften sind derzeit nicht aufgelegt.', 'ein minilaptop soll für neuen umsatz sorgen.', 'ein mitglied des skilanglauf teams war wahrscheinlich gedopt.', 'ein positives beispiel ist die evangelische kindertagesstätte in herbornhörbach.', 'ein torjäger löst die aufgaben anders.', 'ein uneinheitliches bild zeigt sich bei den schwergewichten.', 'einzelheiten zur geburt wurden zunächst nicht bekannt.', 'endlich eine gute nachricht für verbraucher!', 'entsprechende vorschläge präsentiert sie am mittwoch dem bundesrat.', 'er hat seinen sitz in bothel.', 'er hatte andere pläne.', 'er kann ja als modeberater arbeiten.', 'er lädt heute zum fest.', 'erläuterungen zur berechnung finden sie hier.', 'er leidet im harz unter akuter wohnungsnot.', 'ermittlungen wegen tierquälerei werden aufgenommen.', 'ermöglicht wird dies durch die neue staronetechnologie.', 'er rauchte seit seinem . lebensjahr.', 'es geschieht nichts.', 'es gibt einen potenziellen käufer.', 'es ist das sinnbild der wirtschaft, der natur und der arbeit.', 'es ist ein jeweils individuelles erlebnis von unsicherheit.', 'es ist im september ausgelaufen.', 'es ist selbstverstndlich absolut freiwillig.', 'es kann auch eigene software mitgebracht werden.', 'es soll ja möglichst naturgetreu aussehen.', 'es wird ein sohn geboren.', 'es wurden  cannabispflanzen in töpfen festgestellt.', 'europapokalspiel der königsblauen für den . sieg.', 'euterbalsam sollte vorbeugend angewandt werden.', 'fernsehen und zeitungen meldeten die demonstrationen.', 'fiachef mosley gewinnt vertrauensabstimmung nach videosexskandal  yahoo!', 'frank  semester.', 'frischwassertank mit  liter inhalt.', 'früher mochte ich western.', 'für den oberen belastungsbereich stehen sonderwagen zur verfügung.', 'gabrielle zuckte mit den schultern.', 'gebraucht werde ein innovationsschub.', 'gebt mir etwas zeit.', 'gedacht ist das abkommen ausdrücklich für steuerparadiese.', 'geniestreich oder blendwerk also?', 'gestaltet wurde die figur von der dorumer künstlerin sybille harder.', 'gesundheit leichte haarprobleme sind möglich.', 'gleichwohl erwähnte er auch die schwierige situation des angeklagten.', 'große schlachten mit vielen bewegungen.', 'gucken wir die republikanische partei an.', 'habe ich da in der schule gepennt?', 'haben sie fragen zur anmeldung?', 'hans joachim esser strasse carlschurzstr.', 'hat palästina eine zukunft?', 'heimspiel . uhr gegen sportf.', 'herzstück ist ein grosser wohnraum mit offener küche.', 'heute ändern sich die trends viel schneller.', 'heute ist die prophylaxe wesentlich angenehmer.', 'heute kann sie nur noch wenige schritte gehen.', 'heutzutage wird das gehöft von seinen besitzern landwirtschaftlich genutzt.', 'hier findest du immer die aktuelle mitgliederliste.', 'hier gebe es noch keinen durchbruch.', 'hier hätten wir heute gewinnen müssen.', 'hier sieht man lars.', 'hier sind derzeit fast . tierfunde erfaßt.', 'holland car war auf dem fünften platz.', 'ich denke dabei an folgekosten und messen.', 'ich finde den kühler sehr gelungen.', 'ich nehme das mit humor.', 'ihnen sollen beschäftigungsangebote unterbreitet werden.', 'ihre eigene datenbank.', 'ihre sexuellen präferenzen gehören zum lebensalltag.', 'im eudurchschnitt waren es  prozent.', 'im gegensatz zur seelower region.', 'im mdax profitierten prosiebensat. von einer positiven analystenstudie.', 'im oecdschnitt waren es , prozent.', 'im weiteren überlegt sich das komitee eine schadenersatzklage gegen die eidgenossenschaft.', 'in der jugendwehr wird die arbeit der feuerwehrleute spielerisch erlernt.', 'in der stadt sind die nibelungen allgegenwärtig.', 'in die biotonne dürfen nur kompostierbare abfälle geworfen werden.', 'in diesem zusammenhang erschien eine flut von arbeiten.', 'in dieser zeit wird der platz von einer erzieherin betreut.', 'informationen, software und linkliste eines betroffenen.', 'inhaber, gesellschafter, geschäftsführer, betriebsdaten, erlaubnisse, tätigkeiten.', 'insgesamt waren etwa  einsatzkräfte an der brandbekämpfung beteiligt.', 'insgesamt zeigte die deutsche mannschaft eine geschlossene mannschaftsleistung.', 'in sozialen netzwerken werden hoch private informationen preisgegeben.', 'inzwischen interessiert das auch die breite bevölkerung.', 'inzwischen ruderte brown zurück.', 'januar  flucht aus krakau.', 'jay wartet gleichgültig auf sie.', 'jeder vorwurf an die polizei wurde abgebügelt.', 'jetzt ist das imposante bauwerk gesprengt worden.', 'jetzt ist es hier ganz nett geworden.', 'jetzt winkt ihm ein großes fest.', 'junge redakteure helfen ihnen bei der realisierung ihrer ideen.', 'kaufen sie kein überdimensioniertes gerät.', 'kerviel wurde bis sonntagfrüh verhört.', 'klassiker auf der straße.', 'krisenbank ikb rechnet mit weiteren belastungen  yahoo!', 'lage und orientierung?', 'langjähriger widerstand schweißt zusammen.', 'lehrer und erzieher erhalten verhaltensregeln.', 'letzten freitag begann ein neuer abschnitt innerhalb der einführungsphase der maut.', 'letztlich steht dann if. für den infanteriekarren.', 'lichtführung und maske unterstützen diesen eindruck.', 'liefereinheit set mit  stück.', 'linde übernimmt restliche anteile am australischen lpgu.', 'literatur war mein land.', 'manchmal sind gerade dann große bewegungen möglich.', 'man schaue sich die talkshows an.', 'marco ist ein sehr intelligenter spieler.', 'marilyn monroe war das sexsymbol der er jahre.', 'märz  entsprechend entschieden.', 'mattelaktien steigen um , auf , usd.', 'maxdata hat ein günstiges einsteigernotebook mit breitbilddisplay vorgestellt.', 'medien gibt es in vielfältigen formen.', 'michael schwelien das boot ist voll.', 'mit  cpus in einem einzigen rack.', 'mit dem solidarpakt ist der fonds indes nicht verwandt.', 'mit dem stellenabbau wird die abteilung an die sinkende nachfrage angepasst.', 'mit dem treffen wird die arbeit vorläufig abgeschlossen.', 'mit migräneartigen kopfschmerzen musste sie zuletzt eine trainingspause einlegen.', 'mit skyglow waren die helligkeitsunterschiede der sterne deutlicher.', 'mode die laune macht!', 'morganit eine rosarote varietät des berylls.', 'mühe war im juli verstorben.', 'müller ist ein figurenmaler.', 'musikindustrie steigert umsatz im onlinesektor  yahoo!', 'nach dem nachtisch kam der abwasch.', 'nach jeder feuerbeschau sollte ein protokoll erstellt werden.', 'natürlich bin ich sehr zufrieden.', 'natürlich greife ich ein.', 'nur steine, wind und einsamkeit.', 'oder werde ich nur immer spießiger?', 'offensichtlich habe die polizei das haus seit tagen beobachtet.', 'kologie und ihr gegenstand.', 'oliver twist bleibt dem buchklassiker treu.', 'pharmaaktien gelten als defensiv.', 'plötzlich stieg wut in ccile hoch.', 'präsident und hauptgeschäftsführer vertreten gemeinsam die handwerkskammer.', 'präsident wladimir putin will das staatliche alkoholmonopol einführen.', 'regie führt andreas kleinert.', 'reihe , nr. .', 'rettungsdienste bleiben ganz verschont.', 'riesenpuppets wirkungsvoller blickfang!', 'rund  arbeitsplätze seien gefährdet.', 'schaut euch um.', 'schließlich kommt günther schumacher zu ehren.', 'schneider war der sohn eines rüstungsfabrikanten.', 'schnell erkannte er die ursache.', 'schnelle umsetzung durch einsatz von erprobter technik.', 'schwergewichtseuropameister vitali klitschko soll nun den hauptkampf bestreiten.', 'scolastanische bürger leben gefährlich.', 'sechs wochen später beginnt die fußballweltmeisterschaft.', 'sein mörder hieß salomon teilirian.', 'sein vorsprung beträgt nun  punkte.', 'seitdem erfreut es sich großer beliebtheit.', 'seit dem wegfall der grenzkontrollen sinkt die kriminalität.', 'seit juni sinken die lebenshaltungskosten in der eurozone.', 'sie benötigen eine professionelle softwareschulung?', 'sie fahren ja nach links.', 'sie insperierte uns zur namensgebung der website.', 'sie kontrollierten den autofahrer am grenzübergang konstanzautobahn.', 'sie legen ihre eier meistens in den frühen morgenstunden.', 'sie mahnen zur ruhe.', 'sie schließt eine wichtige lücke.', 'sie sind kein arzt oder apotheker?', 'sie sind vom erfolg ihres turnaroundkonzeptes überzeugt.', 'sie surfen drahtlos mit dem laptop?', 'sie versteckten sich vor gottes angesicht.', 'sie werden exakt das gleiche gefühl verspüren.', 'sind das nicht technische spielereien?', 'so fielen nur zwei tore.', 'so ist es jetzt auch in europa.', 'somit trägt die verfolgte strategie früchte.', 'somit waren die sowjets für die endrunde in frankreich qualifiziert.', 'sonst ist das ergebnis der prüfung vorprogrammiert.', 'so war er völlig ahnungslos.', 'so wollen die lebensmittelmultis einen neuen milliardenmarkt erschließen.', 'spammer haben also keine chance.', 'stärkere umsätze seien bei medigene verzeichnet worden.', 'streit unter den pärchen habe es nicht gegeben.', 'suchst du links?', 'super preise sowie individuelle kundenbetreuung.', 'teilnahmeschluss ist montag, . märz.', 'testen sie ihre kenntnisse in psychologie.', 'texte in deutscher, englischer und italienischer sprache.', 'transfairkaffee plant höheren marktanteil reuter.', 'tschüssssssssss der guenna!', 'ber jahrzehnte existierte die ohmstedereschapotheke an der friedrichnaumannstraße.', 'ber kommentare würde ich mich freuen!', 'um  uhr endet der vormittagsunterricht.', 'um eine geräucherte knackwurst.', 'umstritten ist auch die zahl der polizisten.', 'und dann startete der kunsthistoriker durch.', 'und das sind viele erinnerungen.', 'und der kampf um die plätze bleibt attraktiv.', 'und der zeitplan wird eingehalten!', 'und mir vergibt er auch.', 'und überall kann ich deine spur riechen.', 'unsere reiseunterlagen bringen sie sicher zu den etappenzielen.', 'unser nächster programmpunkt war der mitteralterliche jahrmarkt.', 'unter dem deckmantel des unweltschutzes soll abgesahnt werden.', 'unter einer zusatzbedingung ergibt sich ein besonderes multiplikationsprinzip.', 'unter meinen händen.', 'usa raus aus afghanistan!', 'verbesserungen im fftrauschfilter verbesserung im audiomixer.', 'verdeckte operationen wurden aus der dokumentation gelöscht.', 'verlust der mutersprache.', 'vermutlich eine glassäge hat den brand verursacht.', 'vielleicht geht die welt aus dem leim.', 'vielleicht sollte man einen lesekreis hier machen.', 'vielmehr müsse es mehr spielraum innerhalb des flächentarifvertrags geben.', 'viel spass daheim!', 'vier heringe reichen zum aufstellen des nallo.', 'vor einer woche hatte die polizeigewerkschaft über harte zeiten geklagt.', 'vorteil des dimmers ist die stufenlose regelbarkeit.', 'war es eine berufsanzeige oder familienanzeige?', 'was empfindet man da bei der bekanntgabe?', 'was erhalten sie im schadenfall?', 'was ist das problem bei kreditkartenschulden?', 'was kommt nach nordwest?', 'was war am sonntag passiert?', 'weder koalition noch tolerierung.', 'weil der wettbewerb immer härter wird.', 'weitere informationen erteilt die lbank.', 'weitere zuschriften sind gern gesehen.', 'welchen anteil hat der atomstrom in deutschland?', 'welchen versicherungsschutz gewährleistet hertz?', 'welcher gierschlund ist über diese möhre hergefallen?', 'welche schulnoten muß ich haben?', 'wenn der azubi unterstützung braucht.', 'wenn sie wählen.', 'wer macht mit beim jugendfilmfest?', 'westeuropa ist der fokus für billiger.de.', 'wie groß ist das risiko für osteuropa?', 'wir aktualisieren sie stündlich.', 'wird sie ihn lebend verlassen?', 'wir haben hier lange nicht verloren.', 'wir helfen beim erstellen von internetseiten.', 'wir helfen ihnen auch in den schwersten stunden.', 'wir müssen schneller werden.', 'wir präsentieren hier informationen zu diesen politikbereichen.', 'wir schwiegen den ganzen weg über.', 'wir sind auf dem besten weg zur humanität!', 'wir springen aus dem auto und rennen in das nächste geschäft.', 'wohlstand für alle?', 'wo sind denn eigentlich die prüfungsergebnisse?', 'zehn anbieter im vergleich.', 'zessionscode auf saldenliste möglich.', 'ziel ist spanien.', 'zimmert das haus und die wiege!', 'zudem bietet ts eine pluginfähigkeit.', 'zudem habe der autozulieferer den eigenen ausblick angehoben.', 'zudem wurde eine oberleitung beschädigt.', 'zur auseinandersetzung zwischen christentum und römischem senat.', 'zusätzliche schulden seien unvermeidbar.', 'zuvor muss der kleine bruder seine hausaufgaben erledigen.', ''] \n",
      "\n",
      "Der Tokenizer kennt 1729 Wörter \n",
      "\n",
      "Die Wörter werden folgenden Indexen zugeordnet: \n",
      "{'die': 1, 'der': 2, 'das': 3, 'ist': 4, 'sie': 5, 'den': 6, 'in': 7, 'eine': 8, 'ein': 9, 'auf': 10, 'im': 11, 'des': 12, 'und': 13, 'von': 14, 'auch': 15, 'dem': 16, 'war': 17, 'werden': 18, 'sind': 19, 'es': 20, 'mit': 21, 'an': 22, 'wird': 23, 'sich': 24, 'für': 25, 'nicht': 26, 'aus': 27, 'er': 28, 'wir': 29, 'über': 30, 'hat': 31, 'bei': 32, 'ich': 33, 'hier': 34, 'am': 35, 'dann': 36, 'um': 37, 'wurde': 38, 'zu': 39, 'einen': 40, 'einer': 41, 'zur': 42, 'wurden': 43, 'prozent': 44, 'nach': 45, 'haben': 46, 'unter': 47, 'habe': 48, 'waren': 49, 'dies': 50, 'durch': 51, 'nur': 52, 'diese': 53, 'zum': 54, 'gegen': 55, 'nun': 56, 'oder': 57, 'millionen': 58, 'mehr': 59, 'als': 60, 'soll': 61, 'steht': 62, 'noch': 63, 'seit': 64, 'kann': 65, 'kein': 66, 'stadt': 67, 'dieser': 68, 'vor': 69, 'sehr': 70, 'drei': 71, 'geht': 72, 'sollte': 73, 'derzeit': 74, 'ihre': 75, 'heute': 76, 'was': 77, 'allerdings': 78, 'arbeit': 79, 'jeder': 80, 'uhr': 81, 'außerdem': 82, 'uns': 83, 'bis': 84, 'gibt': 85, 'zunächst': 86, 'eines': 87, 'große': 88, 'hatte': 89, 'seien': 90, 'da': 91, 'worden': 92, 'weg': 93, 'eigene': 94, 'finden': 95, 'polizei': 96, 'man': 97, 'informationen': 98, 'jetzt': 99, 'so': 100, 'also': 101, 'fast': 102, 'diesem': 103, 'grund': 104, 'unsere': 105, 'muss': 106, 'ergebnis': 107, 'besteht': 108, 'links': 109, 'straße': 110, 'dabei': 111, 'dafür': 112, 'kam': 113, 'kommt': 114, 'wie': 115, 'keine': 116, 'macht': 117, 'weitere': 118, 'natürlich': 119, 'vier': 120, 'hoch': 121, 'umsatz': 122, 'dollar': 123, 'ganz': 124, 'müssen': 125, 'bleibt': 126, 'fest': 127, 'märz': 128, 'doch': 129, 'zeit': 130, 'ja': 131, 'yahoo': 132, 'möglich': 133, 'immer': 134, 'ihnen': 135, 'helfen': 136, 'zudem': 137, 'mussten': 138, 'freitag': 139, 'findet': 140, 'junge': 141, 'nimmt': 142, 'marktanteil': 143, 'seine': 144, 'ausgeschlossen': 145, 'gemeinschaft': 146, 'vorschläge': 147, 'unterbreitet': 148, 'risiko': 149, 'notwendigen': 150, 'kenntnisse': 151, 'können': 152, 'beteiligt': 153, 'wählen': 154, 'blick': 155, 'freuen': 156, 'neue': 157, 'regelmäßige': 158, 'weiter': 159, 'gewinnt': 160, 'will': 161, 'land': 162, 'frau': 163, 'bild': 164, 'aufgenommen': 165, 'ohne': 166, 'betroffenen': 167, 'eigenen': 168, 'leicht': 169, 'gerät': 170, 'nichts': 171, 'april': 172, 'braucht': 173, 'demonstrationen': 174, 'denn': 175, 'bereits': 176, 'enthält': 177, 'aber': 178, 'positiven': 179, 'bleiben': 180, 'vertreten': 181, 'erste': 182, 'gestiegen': 183, 'geschätzt': 184, 'wieder': 185, 'auseinandersetzung': 186, 'unklar': 187, 'jahren': 188, 'euro': 189, 'führt': 190, 'wegen': 191, 'mörder': 192, 'ausdrücklich': 193, 'strecke': 194, 'steigert': 195, 'humor': 196, 'see': 197, 'wochen': 198, 'senat': 199, 'sozialen': 200, 'verlust': 201, 'sank': 202, 'vorsitzende': 203, 'protokoll': 204, 'mehrere': 205, 'bruder': 206, 'verletzt': 207, 'deutsche': 208, 'verbraucherpreise': 209, 'ziel': 210, 'beiden': 211, 'raus': 212, 'stieg': 213, 'bietet': 214, 'anteil': 215, 'förderung': 216, 'jahre': 217, 'beträgt': 218, 'zwei': 219, 'berblick': 220, 'höhe': 221, 'hatten': 222, 'nächste': 223, 'letztlich': 224, 'ab': 225, 'systems': 226, 'mühe': 227, 'christentum': 228, 'dürfen': 229, 'ihm': 230, 'einem': 231, 'mittwoch': 232, 'mitgebracht': 233, 'frank': 234, 'ihr': 235, 'lassen': 236, 'vielfalt': 237, 'eigentlich': 238, 'sei': 239, 'schließlich': 240, 'belastungen': 241, 'zukunft': 242, 'neuen': 243, 'seinen': 244, 'arbeiten': 245, 'software': 246, 'sohn': 247, 'werde': 248, 'mir': 249, 'bewegungen': 250, 'viel': 251, 'schneller': 252, 'du': 253, 'platz': 254, 'weiteren': 255, 'insgesamt': 256, 'inzwischen': 257, 'erhalten': 258, 'innerhalb': 259, 'diesen': 260, 'haus': 261, 'präsident': 262, 'sein': 263, 'somit': 264, 'ber': 265, 'vielleicht': 266, 'welchen': 267, 'wenn': 268, 'beim': 269, 'abschied': 270, 'sommerrallye': 271, 'adlershorst': 272, 'genossenschaft': 273, 'geblieben': 274, 'fehlte': 275, 'schon': 276, 'kontinuität': 277, 'zahlreiche': 278, 'industriebetriebe': 279, 'einstellen': 280, 'sicherlich': 281, 'genug': 282, 'unterhaltung': 283, 'während': 284, 'grinden': 285, 'brenner': 286, 'herrschte': 287, 'weltuntergangsstimmung': 288, 'startet': 289, 'fußballwm': 290, 'buskoppler': 291, 'elektronischen': 292, 'reihenklemmen': 293, 'angesteckt': 294, 'angriff': 295, 'pressefreiheit': 296, 'jedem': 297, 'pelz': 298, 'klebt': 299, 'blut': 300, 'anschließend': 301, 'flüchtete': 302, 'wohnung': 303, 'seiner': 304, 'schwester': 305, 'anstelle': 306, 'gestohlenen': 307, 'gegenstände': 308, 'spurensucher': 309, 'klebrige': 310, 'krümel': 311, 'antworten': 312, 'briefträger': 313, 'entgegen': 314, 'telekommunikationssektor': 315, 'kamen': 316, 'spekulationen': 317, 'bernahme': 318, 'fahrpersonal': 319, 'profitierte': 320, 'kommunalisierung': 321, 'straßenbahn': 322, 'konnte': 323, 'konzern': 324, 'deutlich': 325, 'steigern': 326, 'zertifizierungsproblematik': 327, 'erörtert': 328, 'polen': 329, 'blüht': 330, 'markt': 331, 'spaß': 332, 'kooperationsbereitschaft': 333, 'allgemein': 334, 'anerkannt': 335, 'fortführung': 336, 'npdverbotsverfahrens': 337, 'griechischen': 338, 'abbildungen': 339, 'ausschließlich': 340, 'gedoppelte': 341, 'instrumente': 342, 'dargestellt': 343, 'assoziationen': 344, 'geschrieben': 345, 'august': 346, 'ffentlichkeit': 347, 'verhandlung': 348, 'gefördert': 349, 'demographische': 350, 'vermischung': 351, 'beträchtlich': 352, 'gepäck': 353, 'richtig': 354, 'verteilt': 355, 'bauliche': 356, 'entwicklung': 357, 'befinden': 358, 'prozeß': 359, 'niederländern': 360, 'stimmte': 361, 'zumindest': 362, 'russischen': 363, 'exporten': 364, 'bisher': 365, 'einvernahme': 366, 'mann': 367, 'sofort': 368, 'gestanden': 369, 'beide': 370, 'reisen': 371, 'individuell': 372, 'buchbar': 373, 'besitzen': 374, 'ergonomischen': 375, 'bestehende': 376, 'altlizenzen': 377, 'wartungsvertrag': 378, 'integriert': 379, 'anderem': 380, 'gewerkschaften': 381, 'wohlfahrtsverbände': 382, 'kommunen': 383, 'migrantenvereine': 384, 'läuft': 385, 'meldefrist': 386, 'bitte': 387, 'ihren': 388, 'plzbereich': 389, 'randberge': 390, 'jederzeit': 391, 'besucher': 392, 'einigen': 393, 'ländern': 394, 'berufsgymnasium': 395, 'form': 396, 'leinwand': 397, 'virtuell': 398, 'nachgebildet': 399, 'daher': 400, 'sollten': 401, 'blutuntersuchungen': 402, 'gemacht': 403, 'damit': 404, 'ausgangsmaterial': 405, 'topologie': 406, 'authentischen': 407, 'bereitgestellt': 408, 'buchen': 409, 'ferienwohnung': 410, 'obergeschoss': 411, 'fuhren': 412, 'richtung': 413, 'mostar': 414, 'tatsächlich': 415, 'ganze': 416, 'durchfall': 417, 'alte': 418, 'hund': 419, 'ins': 420, 'tierheim': 421, 'gesamtkonzept': 422, 'vorstellen': 423, 'angebot': 424, 'beweist': 425, 'leistungsfähigkeit': 426, 'berichtet': 427, 'ars': 428, 'technica': 429, 'bezaubernde': 430, 'lächeln': 431, 'unserem': 432, 'vereinsheim': 433, 'börsenkotierte': 434, 'unternehmen': 435, 'verfügt': 436, 'klar': 437, 'definierte': 438, 'distribution': 439, 'bundesgericht': 440, 'beschwerde': 441, 'gebüssten': 442, 'abgewiesen': 443, 'controller': 444, 'pak': 445, 'funktion': 446, 'eindringen': 447, 'biowirksamen': 448, 'elemente': 449, 'bewirkt': 450, 'eutrophierung': 451, 'wasserresourcen': 452, 'eisen': 453, 'gleich': 454, 'breit': 455, 'sohle': 456, 'vergleichbar': 457, 'hohen': 458, 'qualiät': 459, 'wetgate': 460, 'festplatten': 461, 'subsystem': 462, 'stromversorgung': 463, 'ausgestattet': 464, 'finale': 465, 'abends': 466, 'nahte': 467, 'format': 468, 'reduziert': 469, 'manuell': 470, 'zeitschaltuhr': 471, 'steuerbar': 472, 'handbuch': 473, 'grünamt': 474, 'mainz': 475, 'zerlegte': 476, 'umgefahrenen': 477, 'baum': 478, 'honorar': 479, 'vorgespräch': 480, 'festgelegt': 481, 'idealformat': 482, 'fotos': 483, 'x': 484, 'pixel': 485, 'internet': 486, 'führung': 487, 'eigentlichen': 488, 'sinne': 489, 'handwerkszeug': 490, 'schauspielers': 491, 'gutes': 492, 'uboot': 493, 'opfer': 494, 'täter': 495, 'verwandelt': 496, 'programm': 497, 'unterstützt': 498, 'subcodes': 499, 'projekt': 500, 'erfordert': 501, 'investment': 502, 'mark': 503, 'selbst': 504, 'herausfinden': 505, 'stiftungsrecht': 506, 'durchgreifende': 507, 'berprüfung': 508, 'modernisierung': 509, 'thema': 510, 'lautete': 511, 'miteinander': 512, 'reden': 513, 'turnier': 514, 'teilen': 515, 'tut': 516, 'gegner': 517, 'msv': 518, 'duisburg': 519, 'unabbr': 520, 'kommando': 521, 'löscht': 522, 'einträge': 523, 'abkürzungstabelle': 524, 'unglück': 525, 'ereignete': 526, 'ortszeit': 527, 'wäre': 528, 'art': 529, 'globaler': 530, 'greenshoot': 531, 'wasserleitsungsabzeichen': 532, 'stellte': 533, 'hürde': 534, 'dar': 535, 'selbstverständlicher': 536, 'offenbar': 537, 'schlecht': 538, 'beraten': 539, 'dazu': 540, 'bräuchten': 541, 'bankenlizenz': 542, 'folge': 543, 'provider': 544, 'lediglich': 545, 'zurückbehaltungsrecht': 546, 'domain': 547, 'ständerat': 548, 'genügt': 549, 'nahezu': 550, 'uneingeschränkt': 551, 'vermehrbar': 552, 'jährige': 553, 'glücksspielproblem': 554, 'abschreckungseffekt': 555, 'codieraktion': 556, 'wirkt': 557, 'diebstahlszahlen': 558, 'balkon': 559, 'liegt': 560, 'südseitig': 561, 'band': 562, 'schönsten': 563, 'märchen': 564, 'wichtigsten': 565, 'sammler': 566, 'besuch': 567, 'zirkusschule': 568, 'nebeneffekt': 569, 'brief': 570, 'ausnahme': 571, 'bundestag': 572, 'vizepräsidentin': 573, 'antje': 574, 'vollmer': 575, 'bundeswehrverband': 576, 'protestierte': 577, 'einsparungen': 578, 'chorklang': 579, 'schlanker': 580, 'transparenter': 581, 'donnerstag': 582, 'zeichen': 583, 'rock': 584, 'advent': 585, 'gottesdienst': 586, 'ostermontag': 587, 'vorgesehen': 588, 'eurokurs': 589, 'dienstag': 590, 'finanzinvestor': 591, 'umwege': 592, 'börse': 593, 'ganzjährige': 594, 'blütenreichtum': 595, 'lockt': 596, 'heer': 597, 'insekten': 598, 'gesamtschaden': 599, 'eur': 600, 'geschmack': 601, 'juroren': 602, 'einkehren': 603, 'bühne': 604, 'dienstagmorgen': 605, 'handymanager': 606, 'komplettes': 607, 'softwarepaket': 608, 'riesigem': 609, 'funktionsumfang': 610, 'hockenheimring': 611, 'modernisiert': 612, 'landeschef': 613, 'stellung': 614, 'lauf': 615, 'entlang': 616, 'trasse': 617, 'ehemaligen': 618, 'pferdeeisenbahn': 619, 'gmundenbudweis': 620, 'margendruck': 621, 'starken': 622, 'konkurrenz': 623, 'leichen': 624, 'zersägt': 625, 'motor': 626, 'erbrachte': 627, 'leistung': 628, 'ps': 629, 'mystiker': 630, 'innenseite': 631, 'phänomene': 632, 'nutzer': 633, 'stimmt': 634, 'datenverarbeitung': 635, 'samen': 636, 'wissenschaftlich': 637, 'untersucht': 638, 'schwierigkeitsgrad': 639, 'laufe': 640, 'spiels': 641, 'schwottenlehrling': 642, 'tollen': 643, 'bald': 644, 'acht': 645, 'abgesperrt': 646, 'jedoch': 647, 'erst': 648, 'ebenfalls': 649, 'abstimmen': 650, 'silvesterlauf': 651, 'einmal': 652, 'klasse': 653, 'spaltung': 654, 'entgegensteuern': 655, 'telefonhandel': 656, 'telefonverkehr': 657, 'genannt': 658, 'umfang': 659, 'spionageoperation': 660, 'erschütternd': 661, 'nahm': 662, 'mio': 663, 'fr': 664, 'verdacht': 665, 'schädelhirntrauma': 666, 'bestätigte': 667, 'je': 668, 'aktie': 669, 'cent': 670, 'promotionskommission': 671, 'sendet': 672, 'vorsitzenden': 673, 'promotionsausschusses': 674, 'vorstand': 675, 'mitgliedschaft': 676, 'angabe': 677, 'gründen': 678, 'ablehnen': 679, 'wert': 680, 'sitzen': 681, 'juristen': 682, 'unterlagen': 683, 'zweibeinrüde': 684, 'fuhr': 685, 'normal': 686, 'morgens': 687, 'deshalb': 688, 'schädlingsbekämpfer': 689, 'anrücken': 690, 'dessen': 691, 'jähriger': 692, 'schwer': 693, 'details': 694, 'geschäftsverlauf': 695, 'nannte': 696, 'kaeser': 697, 'angelgewässer': 698, 'folgenden': 699, 'errichtet': 700, 'auffüllerde': 701, 'gartenhumus': 702, 'pflanzerde': 703, 'aufgebessert': 704, 'auszeichnungen': 705, 'marl': 706, 'vergeben': 707, 'klagen': 708, 'behauptungen': 709, 'mitangeklagten': 710, 'flüchtig': 711, 'besteuerung': 712, 'investmentfonds': 713, 'knifflig': 714, 'brandbriefe': 715, 'bremer': 716, 'uefacupviertelfinale': 717, 'bürgerverschuldung': 718, 'stoppen': 719, 'ciscoaktie': 720, 'nachbörslichen': 721, 'ushandel': 722, 'computerkenntnisse': 723, 'pädagoginnen': 724, 'minimal': 725, 'demonopolisierung': 726, 'angestrebt': 727, 'ecole': 728, 'normale': 729, 'suprieure': 730, 'ausgezeichnete': 731, 'arbeitsbedingungen': 732, 'eigenart': 733, 'jeweiligen': 734, 'versicherungsvertrages': 735, 'besonderen': 736, 'tarifvoraussetzungen': 737, 'einführung': 738, 'argen': 739, 'verstieß': 740, 'karlsruher': 741, 'ansicht': 742, 'kommunale': 743, 'selbstverwaltung': 744, 'elfjährigen': 745, 'zweimal': 746, 'fahrt': 747, 'bus': 748, 'durchgeführt': 749, 'fertigungstiefe': 750, 'produktion': 751, 'betreuung': 752, 'mittelpunkt': 753, 'angelegt': 754, 'futtersorten': 755, 'unten': 756, 'futterempfehlungen': 757, 'gastgeber': 758, 'richten': 759, 'ersten': 760, 'pünktchen': 761, 'geringeren': 762, 'energiekosten': 763, 'positiv': 764, 'ausgewirkt': 765, 'gesamtfläche': 766, 'quadratkilometer': 767, 'gesellschaft': 768, 'fliegt': 769, 'plätzen': 770, 'yellowknife': 771, 'giftstoffe': 772, 'poren': 773, 'schweineleberzellen': 774, 'abgegeben': 775, 'grafikausgabe': 776, 'guten': 777, 'generationen': 778, 'herzlichkeit': 779, 'feiernden': 780, 'ansteckend': 781, 'aufstockung': 782, 'blieb': 783, 'beute': 784, 'zurzeit': 785, 'hotels': 786, 'gut': 787, 'ausgebucht': 788, 'jugendlichen': 789, 'gestellt': 790, 'kurse': 791, 'aokversicherte': 792, 'kostenfrei': 793, 'längsnähte': 794, 'godetrockes': 795, 'streckend': 796, 'laufende': 797, 'periode': 798, 'lichtdurchlässigen': 799, 'fenstersteine': 800, 'portal': 801, 'lockern': 802, 'strenge': 803, 'ostfassade': 804, 'meinungsäußerung': 805, 'jüngeren': 806, 'cox': 807, 'zufall': 808, 'mitgliederversammlung': 809, 'frühjahr': 810, 'nächsten': 811, 'jahres': 812, 'geplant': 813, 'neuwahlen': 814, 'formsache': 815, 'finanzmittel': 816, 'nahmen': 817, 'dienstgradabzeichen': 818, 'linie': 819, 'oppositionsparteien': 820, 'kritisierten': 821, 'entscheidung': 822, 'orangeriegebäude': 823, 'erbaut': 824, 'papiere': 825, 'sackten': 826, 'daraufhin': 827, 'pflege': 828, 'problemlos': 829, 'wenig': 830, 'kostenintensiv': 831, 'beschlagnahmte': 832, 'prognosen': 833, 'yenkurs': 834, 'fallen': 835, 'unterschiedlich': 836, 'redewendung': 837, 'stammt': 838, 'jägersprache': 839, 'richtige': 840, 'kleidung': 841, 'saisonbereinigte': 842, 'arbeitslosenquote': 843, 'vormonat': 844, 'folglich': 845, 'essentielles': 846, 'interesse': 847, 'instabilität': 848, 'belohnt': 849, 'gehalten': 850, 'praxis': 851, 'folgte': 852, 'serumröhrchen': 853, 'keinem': 854, 'fall': 855, 'geöffnet': 856, 'seite': 857, 'deutsch': 858, 'verfügbar': 859, 'inbetriebnahme': 860, 'tunnels': 861, 'verschwinden': 862, 'vorstellung': 863, 'behagte': 864, 'fahrer': 865, 'ort': 866, 'berechnet': 867, 'veröffentlichten': 868, 'urteil': 869, 'hessischen': 870, 'landessozialgerichts': 871, 'hervor': 872, 'besondere': 873, 'auswirkungen': 874, 'kosystem': 875, 'signatur': 876, 'einzelbänden': 877, 'könne': 878, 'allein': 879, 'gott': 880, 'sonderregelung': 881, 'gilt': 882, 'verfassungsrechtlich': 883, 'bedenklich': 884, 'soziale': 885, 'frage': 886, 'jahrhundert': 887, 'sichert': 888, 'hohe': 889, 'akzeptanz': 890, 'volk': 891, 'stieß': 892, 'neuerliche': 893, 'kritik': 894, 'gezwungen': 895, 'kredit': 896, 'verlängern': 897, 'steilen': 898, 'hangbereiche': 899, 'bebauung': 900, 'vollständig': 901, 'freigehalten': 902, 'suppe': 903, 'gemeinsame': 904, 'mahl': 905, 'kanuwallfahrer': 906, 'themen': 907, 'orientieren': 908, 'aktuellen': 909, 'herausforderungen': 910, 'politischen': 911, 'diethild': 912, 'zweite': 913, 'trainingstermine': 914, 'könnt': 915, 'trainingskalender': 916, 'entnehmen': 917, 'türen': 918, 'zuges': 919, 'beidseitig': 920, 'freigeben': 921, 'veranstalter': 922, 'sprachen': 923, 'teilnehmern': 924, 'verkörperung': 925, 'historischen': 926, 'persönlichkeit': 927, 'arbeitszeitformen': 928, 'entspricht': 929, 'lebensentwürfen': 930, 'zufuhr': 931, 'flüssigkeit': 932, 'entscheidende': 933, 'punkt': 934, 'anleger': 935, 'vorbauen': 936, 'steelers': 937, 'ernüchterung': 938, 'eroberung': 939, 'wüsten': 940, 'stößt': 941, 'grenzen': 942, 'dort': 943, 'menschen': 944, 'hausbewohner': 945, 'evakuiert': 946, 'drogenextrakt': 947, 'auszug': 948, 'pflanze': 949, 'droge': 950, 'geschäftsprozeßoptimierung': 951, 'ähnliche': 952, 'effizienzsteigerungen': 953, 'realisieren': 954, 'wiederholung': 955, 'prozesse': 956, 'optimiert': 957, 'trendscoutabteilungen': 958, 'kämmen': 959, 'szene': 960, 'neuesten': 961, 'modesportarten': 962, 'gelernter': 963, 'koch': 964, 'afrikareisender': 965, 'stolpert': 966, 'riesenmädchen': 967, 'basketballspieler': 968, 'setzt': 969, 'wurf': 970, 'betrieb': 971, 'selbstbedienungsladen': 972, 'absage': 973, 'castings': 974, 'verlangt': 975, 'medienszene': 976, 'vergesse': 977, 'ende': 978, 'scheint': 979, 'sicht': 980, 'entsprechenden': 981, 'beschluss': 982, 'fasste': 983, 'kabinett': 984, 'vormittag': 985, 'nderungen': 986, 'rundfahrt': 987, 'telefonische': 988, 'verifizierung': 989, 'gegebenenfalls': 990, 'agentur': 991, 'erfolgen': 992, 'therapeutische': 993, 'lebensgemeinschaft': 994, 'vorschauversion': 995, 'httpwww': 996, 'tv': 997, 'detvproductionmainpageindex': 998, 'htm': 999, 'wütende': 1000, 'menge': 1001, 'stellt': 1002, 'wissenschaftlern': 1003, 'gegenüber': 1004, 'hengst': 1005, 'gehört': 1006, 'einige': 1007, 'schriften': 1008, 'aufgelegt': 1009, 'minilaptop': 1010, 'sorgen': 1011, 'mitglied': 1012, 'skilanglauf': 1013, 'teams': 1014, 'wahrscheinlich': 1015, 'gedopt': 1016, 'positives': 1017, 'beispiel': 1018, 'evangelische': 1019, 'kindertagesstätte': 1020, 'herbornhörbach': 1021, 'torjäger': 1022, 'löst': 1023, 'aufgaben': 1024, 'anders': 1025, 'uneinheitliches': 1026, 'zeigt': 1027, 'schwergewichten': 1028, 'einzelheiten': 1029, 'geburt': 1030, 'bekannt': 1031, 'endlich': 1032, 'gute': 1033, 'nachricht': 1034, 'verbraucher': 1035, 'entsprechende': 1036, 'präsentiert': 1037, 'bundesrat': 1038, 'sitz': 1039, 'bothel': 1040, 'andere': 1041, 'pläne': 1042, 'modeberater': 1043, 'lädt': 1044, 'erläuterungen': 1045, 'berechnung': 1046, 'leidet': 1047, 'harz': 1048, 'akuter': 1049, 'wohnungsnot': 1050, 'ermittlungen': 1051, 'tierquälerei': 1052, 'ermöglicht': 1053, 'staronetechnologie': 1054, 'rauchte': 1055, 'seinem': 1056, 'lebensjahr': 1057, 'geschieht': 1058, 'potenziellen': 1059, 'käufer': 1060, 'sinnbild': 1061, 'wirtschaft': 1062, 'natur': 1063, 'jeweils': 1064, 'individuelles': 1065, 'erlebnis': 1066, 'unsicherheit': 1067, 'september': 1068, 'ausgelaufen': 1069, 'selbstverstndlich': 1070, 'absolut': 1071, 'freiwillig': 1072, 'möglichst': 1073, 'naturgetreu': 1074, 'aussehen': 1075, 'geboren': 1076, 'cannabispflanzen': 1077, 'töpfen': 1078, 'festgestellt': 1079, 'europapokalspiel': 1080, 'königsblauen': 1081, 'sieg': 1082, 'euterbalsam': 1083, 'vorbeugend': 1084, 'angewandt': 1085, 'fernsehen': 1086, 'zeitungen': 1087, 'meldeten': 1088, 'fiachef': 1089, 'mosley': 1090, 'vertrauensabstimmung': 1091, 'videosexskandal': 1092, 'semester': 1093, 'frischwassertank': 1094, 'liter': 1095, 'inhalt': 1096, 'früher': 1097, 'mochte': 1098, 'western': 1099, 'oberen': 1100, 'belastungsbereich': 1101, 'stehen': 1102, 'sonderwagen': 1103, 'verfügung': 1104, 'gabrielle': 1105, 'zuckte': 1106, 'schultern': 1107, 'gebraucht': 1108, 'innovationsschub': 1109, 'gebt': 1110, 'etwas': 1111, 'gedacht': 1112, 'abkommen': 1113, 'steuerparadiese': 1114, 'geniestreich': 1115, 'blendwerk': 1116, 'gestaltet': 1117, 'figur': 1118, 'dorumer': 1119, 'künstlerin': 1120, 'sybille': 1121, 'harder': 1122, 'gesundheit': 1123, 'leichte': 1124, 'haarprobleme': 1125, 'gleichwohl': 1126, 'erwähnte': 1127, 'schwierige': 1128, 'situation': 1129, 'angeklagten': 1130, 'schlachten': 1131, 'vielen': 1132, 'gucken': 1133, 'republikanische': 1134, 'partei': 1135, 'schule': 1136, 'gepennt': 1137, 'fragen': 1138, 'anmeldung': 1139, 'hans': 1140, 'joachim': 1141, 'esser': 1142, 'strasse': 1143, 'carlschurzstr': 1144, 'palästina': 1145, 'heimspiel': 1146, 'sportf': 1147, 'herzstück': 1148, 'grosser': 1149, 'wohnraum': 1150, 'offener': 1151, 'küche': 1152, 'ändern': 1153, 'trends': 1154, 'prophylaxe': 1155, 'wesentlich': 1156, 'angenehmer': 1157, 'wenige': 1158, 'schritte': 1159, 'gehen': 1160, 'heutzutage': 1161, 'gehöft': 1162, 'besitzern': 1163, 'landwirtschaftlich': 1164, 'genutzt': 1165, 'findest': 1166, 'aktuelle': 1167, 'mitgliederliste': 1168, 'gebe': 1169, 'keinen': 1170, 'durchbruch': 1171, 'hätten': 1172, 'gewinnen': 1173, 'sieht': 1174, 'lars': 1175, 'tierfunde': 1176, 'erfaßt': 1177, 'holland': 1178, 'car': 1179, 'fünften': 1180, 'denke': 1181, 'folgekosten': 1182, 'messen': 1183, 'finde': 1184, 'kühler': 1185, 'gelungen': 1186, 'nehme': 1187, 'sollen': 1188, 'beschäftigungsangebote': 1189, 'datenbank': 1190, 'sexuellen': 1191, 'präferenzen': 1192, 'gehören': 1193, 'lebensalltag': 1194, 'eudurchschnitt': 1195, 'gegensatz': 1196, 'seelower': 1197, 'region': 1198, 'mdax': 1199, 'profitierten': 1200, 'prosiebensat': 1201, 'analystenstudie': 1202, 'oecdschnitt': 1203, 'überlegt': 1204, 'komitee': 1205, 'schadenersatzklage': 1206, 'eidgenossenschaft': 1207, 'jugendwehr': 1208, 'feuerwehrleute': 1209, 'spielerisch': 1210, 'erlernt': 1211, 'nibelungen': 1212, 'allgegenwärtig': 1213, 'biotonne': 1214, 'kompostierbare': 1215, 'abfälle': 1216, 'geworfen': 1217, 'zusammenhang': 1218, 'erschien': 1219, 'flut': 1220, 'erzieherin': 1221, 'betreut': 1222, 'linkliste': 1223, 'inhaber': 1224, 'gesellschafter': 1225, 'geschäftsführer': 1226, 'betriebsdaten': 1227, 'erlaubnisse': 1228, 'tätigkeiten': 1229, 'etwa': 1230, 'einsatzkräfte': 1231, 'brandbekämpfung': 1232, 'zeigte': 1233, 'mannschaft': 1234, 'geschlossene': 1235, 'mannschaftsleistung': 1236, 'netzwerken': 1237, 'private': 1238, 'preisgegeben': 1239, 'interessiert': 1240, 'breite': 1241, 'bevölkerung': 1242, 'ruderte': 1243, 'brown': 1244, 'zurück': 1245, 'januar': 1246, 'flucht': 1247, 'krakau': 1248, 'jay': 1249, 'wartet': 1250, 'gleichgültig': 1251, 'vorwurf': 1252, 'abgebügelt': 1253, 'imposante': 1254, 'bauwerk': 1255, 'gesprengt': 1256, 'nett': 1257, 'geworden': 1258, 'winkt': 1259, 'großes': 1260, 'redakteure': 1261, 'realisierung': 1262, 'ihrer': 1263, 'ideen': 1264, 'kaufen': 1265, 'überdimensioniertes': 1266, 'kerviel': 1267, 'sonntagfrüh': 1268, 'verhört': 1269, 'klassiker': 1270, 'krisenbank': 1271, 'ikb': 1272, 'rechnet': 1273, 'lage': 1274, 'orientierung': 1275, 'langjähriger': 1276, 'widerstand': 1277, 'schweißt': 1278, 'zusammen': 1279, 'lehrer': 1280, 'erzieher': 1281, 'verhaltensregeln': 1282, 'letzten': 1283, 'begann': 1284, 'neuer': 1285, 'abschnitt': 1286, 'einführungsphase': 1287, 'maut': 1288, 'if': 1289, 'infanteriekarren': 1290, 'lichtführung': 1291, 'maske': 1292, 'unterstützen': 1293, 'eindruck': 1294, 'liefereinheit': 1295, 'set': 1296, 'stück': 1297, 'linde': 1298, 'übernimmt': 1299, 'restliche': 1300, 'anteile': 1301, 'australischen': 1302, 'lpgu': 1303, 'literatur': 1304, 'mein': 1305, 'manchmal': 1306, 'gerade': 1307, 'schaue': 1308, 'talkshows': 1309, 'marco': 1310, 'intelligenter': 1311, 'spieler': 1312, 'marilyn': 1313, 'monroe': 1314, 'sexsymbol': 1315, 'entsprechend': 1316, 'entschieden': 1317, 'mattelaktien': 1318, 'steigen': 1319, 'usd': 1320, 'maxdata': 1321, 'günstiges': 1322, 'einsteigernotebook': 1323, 'breitbilddisplay': 1324, 'vorgestellt': 1325, 'medien': 1326, 'vielfältigen': 1327, 'formen': 1328, 'michael': 1329, 'schwelien': 1330, 'boot': 1331, 'voll': 1332, 'cpus': 1333, 'einzigen': 1334, 'rack': 1335, 'solidarpakt': 1336, 'fonds': 1337, 'indes': 1338, 'verwandt': 1339, 'stellenabbau': 1340, 'abteilung': 1341, 'sinkende': 1342, 'nachfrage': 1343, 'angepasst': 1344, 'treffen': 1345, 'vorläufig': 1346, 'abgeschlossen': 1347, 'migräneartigen': 1348, 'kopfschmerzen': 1349, 'musste': 1350, 'zuletzt': 1351, 'trainingspause': 1352, 'einlegen': 1353, 'skyglow': 1354, 'helligkeitsunterschiede': 1355, 'sterne': 1356, 'deutlicher': 1357, 'mode': 1358, 'laune': 1359, 'morganit': 1360, 'rosarote': 1361, 'varietät': 1362, 'berylls': 1363, 'juli': 1364, 'verstorben': 1365, 'müller': 1366, 'figurenmaler': 1367, 'musikindustrie': 1368, 'onlinesektor': 1369, 'nachtisch': 1370, 'abwasch': 1371, 'feuerbeschau': 1372, 'erstellt': 1373, 'bin': 1374, 'zufrieden': 1375, 'greife': 1376, 'steine': 1377, 'wind': 1378, 'einsamkeit': 1379, 'spießiger': 1380, 'offensichtlich': 1381, 'tagen': 1382, 'beobachtet': 1383, 'kologie': 1384, 'gegenstand': 1385, 'oliver': 1386, 'twist': 1387, 'buchklassiker': 1388, 'treu': 1389, 'pharmaaktien': 1390, 'gelten': 1391, 'defensiv': 1392, 'plötzlich': 1393, 'wut': 1394, 'ccile': 1395, 'hauptgeschäftsführer': 1396, 'gemeinsam': 1397, 'handwerkskammer': 1398, 'wladimir': 1399, 'putin': 1400, 'staatliche': 1401, 'alkoholmonopol': 1402, 'einführen': 1403, 'regie': 1404, 'andreas': 1405, 'kleinert': 1406, 'reihe': 1407, 'nr': 1408, 'rettungsdienste': 1409, 'verschont': 1410, 'riesenpuppets': 1411, 'wirkungsvoller': 1412, 'blickfang': 1413, 'rund': 1414, 'arbeitsplätze': 1415, 'gefährdet': 1416, 'schaut': 1417, 'euch': 1418, 'günther': 1419, 'schumacher': 1420, 'ehren': 1421, 'schneider': 1422, 'rüstungsfabrikanten': 1423, 'schnell': 1424, 'erkannte': 1425, 'ursache': 1426, 'schnelle': 1427, 'umsetzung': 1428, 'einsatz': 1429, 'erprobter': 1430, 'technik': 1431, 'schwergewichtseuropameister': 1432, 'vitali': 1433, 'klitschko': 1434, 'hauptkampf': 1435, 'bestreiten': 1436, 'scolastanische': 1437, 'bürger': 1438, 'leben': 1439, 'gefährlich': 1440, 'sechs': 1441, 'später': 1442, 'beginnt': 1443, 'fußballweltmeisterschaft': 1444, 'hieß': 1445, 'salomon': 1446, 'teilirian': 1447, 'vorsprung': 1448, 'punkte': 1449, 'seitdem': 1450, 'erfreut': 1451, 'großer': 1452, 'beliebtheit': 1453, 'wegfall': 1454, 'grenzkontrollen': 1455, 'sinkt': 1456, 'kriminalität': 1457, 'juni': 1458, 'sinken': 1459, 'lebenshaltungskosten': 1460, 'eurozone': 1461, 'benötigen': 1462, 'professionelle': 1463, 'softwareschulung': 1464, 'fahren': 1465, 'insperierte': 1466, 'namensgebung': 1467, 'website': 1468, 'kontrollierten': 1469, 'autofahrer': 1470, 'grenzübergang': 1471, 'konstanzautobahn': 1472, 'legen': 1473, 'eier': 1474, 'meistens': 1475, 'frühen': 1476, 'morgenstunden': 1477, 'mahnen': 1478, 'ruhe': 1479, 'schließt': 1480, 'wichtige': 1481, 'lücke': 1482, 'arzt': 1483, 'apotheker': 1484, 'vom': 1485, 'erfolg': 1486, 'ihres': 1487, 'turnaroundkonzeptes': 1488, 'überzeugt': 1489, 'surfen': 1490, 'drahtlos': 1491, 'laptop': 1492, 'versteckten': 1493, 'gottes': 1494, 'angesicht': 1495, 'exakt': 1496, 'gleiche': 1497, 'gefühl': 1498, 'verspüren': 1499, 'technische': 1500, 'spielereien': 1501, 'fielen': 1502, 'tore': 1503, 'europa': 1504, 'trägt': 1505, 'verfolgte': 1506, 'strategie': 1507, 'früchte': 1508, 'sowjets': 1509, 'endrunde': 1510, 'frankreich': 1511, 'qualifiziert': 1512, 'sonst': 1513, 'prüfung': 1514, 'vorprogrammiert': 1515, 'völlig': 1516, 'ahnungslos': 1517, 'wollen': 1518, 'lebensmittelmultis': 1519, 'milliardenmarkt': 1520, 'erschließen': 1521, 'spammer': 1522, 'chance': 1523, 'stärkere': 1524, 'umsätze': 1525, 'medigene': 1526, 'verzeichnet': 1527, 'streit': 1528, 'pärchen': 1529, 'gegeben': 1530, 'suchst': 1531, 'super': 1532, 'preise': 1533, 'sowie': 1534, 'individuelle': 1535, 'kundenbetreuung': 1536, 'teilnahmeschluss': 1537, 'montag': 1538, 'testen': 1539, 'psychologie': 1540, 'texte': 1541, 'deutscher': 1542, 'englischer': 1543, 'italienischer': 1544, 'sprache': 1545, 'transfairkaffee': 1546, 'plant': 1547, 'höheren': 1548, 'reuter': 1549, 'tschüssssssssss': 1550, 'guenna': 1551, 'jahrzehnte': 1552, 'existierte': 1553, 'ohmstedereschapotheke': 1554, 'friedrichnaumannstraße': 1555, 'kommentare': 1556, 'würde': 1557, 'mich': 1558, 'endet': 1559, 'vormittagsunterricht': 1560, 'geräucherte': 1561, 'knackwurst': 1562, 'umstritten': 1563, 'zahl': 1564, 'polizisten': 1565, 'startete': 1566, 'kunsthistoriker': 1567, 'viele': 1568, 'erinnerungen': 1569, 'kampf': 1570, 'plätze': 1571, 'attraktiv': 1572, 'zeitplan': 1573, 'eingehalten': 1574, 'vergibt': 1575, 'überall': 1576, 'deine': 1577, 'spur': 1578, 'riechen': 1579, 'reiseunterlagen': 1580, 'bringen': 1581, 'sicher': 1582, 'etappenzielen': 1583, 'unser': 1584, 'nächster': 1585, 'programmpunkt': 1586, 'mitteralterliche': 1587, 'jahrmarkt': 1588, 'deckmantel': 1589, 'unweltschutzes': 1590, 'abgesahnt': 1591, 'zusatzbedingung': 1592, 'ergibt': 1593, 'besonderes': 1594, 'multiplikationsprinzip': 1595, 'meinen': 1596, 'händen': 1597, 'usa': 1598, 'afghanistan': 1599, 'verbesserungen': 1600, 'fftrauschfilter': 1601, 'verbesserung': 1602, 'audiomixer': 1603, 'verdeckte': 1604, 'operationen': 1605, 'dokumentation': 1606, 'gelöscht': 1607, 'mutersprache': 1608, 'vermutlich': 1609, 'glassäge': 1610, 'brand': 1611, 'verursacht': 1612, 'welt': 1613, 'leim': 1614, 'lesekreis': 1615, 'machen': 1616, 'vielmehr': 1617, 'müsse': 1618, 'spielraum': 1619, 'flächentarifvertrags': 1620, 'geben': 1621, 'spass': 1622, 'daheim': 1623, 'heringe': 1624, 'reichen': 1625, 'aufstellen': 1626, 'nallo': 1627, 'woche': 1628, 'polizeigewerkschaft': 1629, 'harte': 1630, 'zeiten': 1631, 'geklagt': 1632, 'vorteil': 1633, 'dimmers': 1634, 'stufenlose': 1635, 'regelbarkeit': 1636, 'berufsanzeige': 1637, 'familienanzeige': 1638, 'empfindet': 1639, 'bekanntgabe': 1640, 'schadenfall': 1641, 'problem': 1642, 'kreditkartenschulden': 1643, 'nordwest': 1644, 'sonntag': 1645, 'passiert': 1646, 'weder': 1647, 'koalition': 1648, 'tolerierung': 1649, 'weil': 1650, 'wettbewerb': 1651, 'härter': 1652, 'erteilt': 1653, 'lbank': 1654, 'zuschriften': 1655, 'gern': 1656, 'gesehen': 1657, 'atomstrom': 1658, 'deutschland': 1659, 'versicherungsschutz': 1660, 'gewährleistet': 1661, 'hertz': 1662, 'welcher': 1663, 'gierschlund': 1664, 'möhre': 1665, 'hergefallen': 1666, 'welche': 1667, 'schulnoten': 1668, 'muß': 1669, 'azubi': 1670, 'unterstützung': 1671, 'wer': 1672, 'jugendfilmfest': 1673, 'westeuropa': 1674, 'fokus': 1675, 'billiger': 1676, 'de': 1677, 'groß': 1678, 'osteuropa': 1679, 'aktualisieren': 1680, 'stündlich': 1681, 'ihn': 1682, 'lebend': 1683, 'verlassen': 1684, 'lange': 1685, 'verloren': 1686, 'erstellen': 1687, 'internetseiten': 1688, 'schwersten': 1689, 'stunden': 1690, 'präsentieren': 1691, 'politikbereichen': 1692, 'schwiegen': 1693, 'ganzen': 1694, 'besten': 1695, 'humanität': 1696, 'springen': 1697, 'auto': 1698, 'rennen': 1699, 'geschäft': 1700, 'wohlstand': 1701, 'alle': 1702, 'wo': 1703, 'prüfungsergebnisse': 1704, 'zehn': 1705, 'anbieter': 1706, 'vergleich': 1707, 'zessionscode': 1708, 'saldenliste': 1709, 'spanien': 1710, 'zimmert': 1711, 'wiege': 1712, 'ts': 1713, 'pluginfähigkeit': 1714, 'autozulieferer': 1715, 'ausblick': 1716, 'angehoben': 1717, 'oberleitung': 1718, 'beschädigt': 1719, 'zwischen': 1720, 'römischem': 1721, 'zusätzliche': 1722, 'schulden': 1723, 'unvermeidbar': 1724, 'zuvor': 1725, 'kleine': 1726, 'hausaufgaben': 1727, 'erledigen': 1728} \n",
      "\n",
      "Speichert word_index_file unter '/workspace/models/hero_to_zero_lstm/tokenizer_word_index.json' \n"
     ]
    }
   ],
   "source": [
    "def erstelle_tokenizer(data, word_index_file, save_wort_index):\n",
    "\n",
    "    # Korpus erstellen und Tokenizer initialisieren\n",
    "    tokenizer = Tokenizer()\n",
    "    corpus = data.lower().split(\"\\n\")\n",
    "    tokenizer.fit_on_texts(corpus)\n",
    "    total_words = len(tokenizer.word_index) + 1\n",
    "\n",
    "    print(f\"Corpus mit der länge {len(corpus)}: \\n{corpus} \\n\")\n",
    "    print(f\"Der Tokenizer kennt {total_words} Wörter \\n\")\n",
    "    print(f\"Die Wörter werden folgenden Indexen zugeordnet: \\n{tokenizer.word_index} \\n\")\n",
    "   \n",
    "    \n",
    "    # Wort-Index-Mapping in JSON-Datei speichern\n",
    "    if save_wort_index:\n",
    "        print(f\"Speichert word_index_file unter '{word_index_file}' \")\n",
    "        os.makedirs(os.path.dirname(word_index_file), exist_ok=True)\n",
    "        word_index = tokenizer.word_index\n",
    "        with open(word_index_file, 'w') as f:\n",
    "            json.dump(word_index, f)\n",
    "\n",
    "    return corpus, tokenizer, total_words\n",
    "\n",
    "corpus, tokenizer, total_words = erstelle_tokenizer(data, word_index_file, save_wort_index)\n"
   ]
  },
  {
   "cell_type": "code",
   "execution_count": 81,
   "metadata": {},
   "outputs": [
    {
     "name": "stdout",
     "output_type": "stream",
     "text": [
      "Satz: abschied von der sommerrallye? tokenisiert zu: [270, 14, 2, 271] \n",
      "\n",
      "Generierte n-Gramm-Sequenz: [270, 14]\n",
      "Generierte n-Gramm-Sequenz: [270, 14, 2]\n",
      "Generierte n-Gramm-Sequenz: [270, 14, 2, 271]\n",
      "\n",
      "Längster Satz: 12\n",
      "Padding mit der Shape (2779, 12) : [  0   0   0   0   0   0   0   0   0   0 270  14]\n"
     ]
    }
   ],
   "source": [
    "def generier_daten(corpus, tokenizer, total_words):\n",
    "\n",
    "    input_sequences = []\n",
    "    is_first_line = True\n",
    "\n",
    "    # Wandelt jede Zeile in eine Liste von Wortindizes und generiert n-Gramm-Sequenzen\n",
    "    for line in corpus:\n",
    "        token_list = tokenizer.texts_to_sequences([line])[0]\n",
    "        print(f\"Satz: {line} tokenisiert zu: {token_list} \\n\") if is_first_line == True else None\n",
    "\n",
    "        # n-Gramm-Sequenz generieren\n",
    "        for i in range(1, len(token_list)):\n",
    "            n_gram_sequence = token_list[:i+1]\n",
    "            input_sequences.append(n_gram_sequence)\n",
    "            print(f\"Generierte n-Gramm-Sequenz: {n_gram_sequence}\") if is_first_line == True else None\n",
    "        \n",
    "        is_first_line = False\n",
    "\n",
    "    # Alle Sequences auf gleiche Länge bringen\n",
    "    max_sequence_len = max([len(seq) for seq in input_sequences])\n",
    "    print(f\"\\nLängster Satz: {max_sequence_len}\")\n",
    "    input_sequences = np.array(pad_sequences(input_sequences, maxlen=max_sequence_len, padding='pre'))\n",
    "    print(f\"Padding mit der Shape {input_sequences.shape} : {input_sequences[0]}\")\n",
    "\n",
    "\n",
    "    # Aufteilen in Prädiktoren (xs) und Labels (ys)\n",
    "    xs, labels = input_sequences[:,:-1], input_sequences[:,-1]\n",
    "    ys = tf.keras.utils.to_categorical(labels, num_classes=total_words)\n",
    "\n",
    "    return xs, ys, max_sequence_len\n",
    "\n",
    "xs, ys, max_sequence_len = generier_daten(corpus, tokenizer, total_words)\n"
   ]
  },
  {
   "cell_type": "markdown",
   "metadata": {},
   "source": [
    "## Modell"
   ]
  },
  {
   "cell_type": "code",
   "execution_count": null,
   "metadata": {},
   "outputs": [
    {
     "name": "stdout",
     "output_type": "stream",
     "text": [
      "Neuse Model soll traniert werden\n",
      "Startet Training \n",
      "\n",
      "\n",
      "Epoch 1/80\n",
      "87/87 [==============================] - 9s 40ms/step - loss: 7.1917 - accuracy: 0.0237\n",
      "Epoch 2/80\n",
      "87/87 [==============================] - 4s 42ms/step - loss: 6.3690 - accuracy: 0.0439\n",
      "Epoch 3/80\n",
      "87/87 [==============================] - 3s 36ms/step - loss: 5.4632 - accuracy: 0.0666\n",
      "Epoch 4/80\n",
      "87/87 [==============================] - 3s 32ms/step - loss: 4.0395 - accuracy: 0.1785\n",
      "Epoch 5/80\n",
      "87/87 [==============================] - 3s 32ms/step - loss: 2.4937 - accuracy: 0.4232\n",
      "Epoch 6/80\n",
      "87/87 [==============================] - 3s 36ms/step - loss: 1.3754 - accuracy: 0.6869\n",
      "Epoch 7/80\n",
      "87/87 [==============================] - 3s 36ms/step - loss: 0.8099 - accuracy: 0.8226\n",
      "Epoch 8/80\n",
      "87/87 [==============================] - 3s 35ms/step - loss: 0.6096 - accuracy: 0.8607\n",
      "Epoch 9/80\n",
      "87/87 [==============================] - 3s 36ms/step - loss: 0.5205 - accuracy: 0.8784\n",
      "Epoch 10/80\n",
      "87/87 [==============================] - 3s 35ms/step - loss: 0.4797 - accuracy: 0.8805\n",
      "Epoch 11/80\n",
      "87/87 [==============================] - 4s 48ms/step - loss: 0.4640 - accuracy: 0.8827\n",
      "Epoch 12/80\n",
      "87/87 [==============================] - 4s 43ms/step - loss: 0.4494 - accuracy: 0.8823\n",
      "Epoch 13/80\n",
      "87/87 [==============================] - 4s 40ms/step - loss: 0.4408 - accuracy: 0.8834\n",
      "Epoch 14/80\n",
      "76/87 [=========================>....] - ETA: 0s - loss: 0.4244 - accuracy: 0.8840"
     ]
    },
    {
     "ename": "KeyboardInterrupt",
     "evalue": "",
     "output_type": "error",
     "traceback": [
      "\u001b[0;31m---------------------------------------------------------------------------\u001b[0m",
      "\u001b[0;31mKeyboardInterrupt\u001b[0m                         Traceback (most recent call last)",
      "Cell \u001b[0;32mIn[82], line 34\u001b[0m\n\u001b[1;32m     31\u001b[0m model \u001b[38;5;241m=\u001b[39m create_model()  \u001b[38;5;66;03m# Neues Modell erstellen\u001b[39;00m\n\u001b[1;32m     33\u001b[0m \u001b[38;5;66;03m# Modell trainieren\u001b[39;00m\n\u001b[0;32m---> 34\u001b[0m history \u001b[38;5;241m=\u001b[39m \u001b[43mmodel\u001b[49m\u001b[38;5;241;43m.\u001b[39;49m\u001b[43mfit\u001b[49m\u001b[43m(\u001b[49m\u001b[43mxs\u001b[49m\u001b[43m,\u001b[49m\u001b[43m \u001b[49m\u001b[43mys\u001b[49m\u001b[43m,\u001b[49m\u001b[43m \u001b[49m\u001b[43mepochs\u001b[49m\u001b[38;5;241;43m=\u001b[39;49m\u001b[38;5;241;43m80\u001b[39;49m\u001b[43m,\u001b[49m\u001b[43m \u001b[49m\u001b[43mverbose\u001b[49m\u001b[38;5;241;43m=\u001b[39;49m\u001b[38;5;241;43m1\u001b[39;49m\u001b[43m)\u001b[49m\n\u001b[1;32m     36\u001b[0m \u001b[38;5;66;03m# Modell speichern\u001b[39;00m\n\u001b[1;32m     37\u001b[0m model\u001b[38;5;241m.\u001b[39msave(model_file)\n",
      "File \u001b[0;32m/usr/local/lib/python3.10/site-packages/keras/src/utils/traceback_utils.py:65\u001b[0m, in \u001b[0;36mfilter_traceback.<locals>.error_handler\u001b[0;34m(*args, **kwargs)\u001b[0m\n\u001b[1;32m     63\u001b[0m filtered_tb \u001b[38;5;241m=\u001b[39m \u001b[38;5;28;01mNone\u001b[39;00m\n\u001b[1;32m     64\u001b[0m \u001b[38;5;28;01mtry\u001b[39;00m:\n\u001b[0;32m---> 65\u001b[0m     \u001b[38;5;28;01mreturn\u001b[39;00m \u001b[43mfn\u001b[49m\u001b[43m(\u001b[49m\u001b[38;5;241;43m*\u001b[39;49m\u001b[43margs\u001b[49m\u001b[43m,\u001b[49m\u001b[43m \u001b[49m\u001b[38;5;241;43m*\u001b[39;49m\u001b[38;5;241;43m*\u001b[39;49m\u001b[43mkwargs\u001b[49m\u001b[43m)\u001b[49m\n\u001b[1;32m     66\u001b[0m \u001b[38;5;28;01mexcept\u001b[39;00m \u001b[38;5;167;01mException\u001b[39;00m \u001b[38;5;28;01mas\u001b[39;00m e:\n\u001b[1;32m     67\u001b[0m     filtered_tb \u001b[38;5;241m=\u001b[39m _process_traceback_frames(e\u001b[38;5;241m.\u001b[39m__traceback__)\n",
      "File \u001b[0;32m/usr/local/lib/python3.10/site-packages/keras/src/engine/training.py:1807\u001b[0m, in \u001b[0;36mModel.fit\u001b[0;34m(self, x, y, batch_size, epochs, verbose, callbacks, validation_split, validation_data, shuffle, class_weight, sample_weight, initial_epoch, steps_per_epoch, validation_steps, validation_batch_size, validation_freq, max_queue_size, workers, use_multiprocessing)\u001b[0m\n\u001b[1;32m   1799\u001b[0m \u001b[38;5;28;01mwith\u001b[39;00m tf\u001b[38;5;241m.\u001b[39mprofiler\u001b[38;5;241m.\u001b[39mexperimental\u001b[38;5;241m.\u001b[39mTrace(\n\u001b[1;32m   1800\u001b[0m     \u001b[38;5;124m\"\u001b[39m\u001b[38;5;124mtrain\u001b[39m\u001b[38;5;124m\"\u001b[39m,\n\u001b[1;32m   1801\u001b[0m     epoch_num\u001b[38;5;241m=\u001b[39mepoch,\n\u001b[0;32m   (...)\u001b[0m\n\u001b[1;32m   1804\u001b[0m     _r\u001b[38;5;241m=\u001b[39m\u001b[38;5;241m1\u001b[39m,\n\u001b[1;32m   1805\u001b[0m ):\n\u001b[1;32m   1806\u001b[0m     callbacks\u001b[38;5;241m.\u001b[39mon_train_batch_begin(step)\n\u001b[0;32m-> 1807\u001b[0m     tmp_logs \u001b[38;5;241m=\u001b[39m \u001b[38;5;28;43mself\u001b[39;49m\u001b[38;5;241;43m.\u001b[39;49m\u001b[43mtrain_function\u001b[49m\u001b[43m(\u001b[49m\u001b[43miterator\u001b[49m\u001b[43m)\u001b[49m\n\u001b[1;32m   1808\u001b[0m     \u001b[38;5;28;01mif\u001b[39;00m data_handler\u001b[38;5;241m.\u001b[39mshould_sync:\n\u001b[1;32m   1809\u001b[0m         context\u001b[38;5;241m.\u001b[39masync_wait()\n",
      "File \u001b[0;32m/usr/local/lib/python3.10/site-packages/tensorflow/python/util/traceback_utils.py:150\u001b[0m, in \u001b[0;36mfilter_traceback.<locals>.error_handler\u001b[0;34m(*args, **kwargs)\u001b[0m\n\u001b[1;32m    148\u001b[0m filtered_tb \u001b[38;5;241m=\u001b[39m \u001b[38;5;28;01mNone\u001b[39;00m\n\u001b[1;32m    149\u001b[0m \u001b[38;5;28;01mtry\u001b[39;00m:\n\u001b[0;32m--> 150\u001b[0m   \u001b[38;5;28;01mreturn\u001b[39;00m \u001b[43mfn\u001b[49m\u001b[43m(\u001b[49m\u001b[38;5;241;43m*\u001b[39;49m\u001b[43margs\u001b[49m\u001b[43m,\u001b[49m\u001b[43m \u001b[49m\u001b[38;5;241;43m*\u001b[39;49m\u001b[38;5;241;43m*\u001b[39;49m\u001b[43mkwargs\u001b[49m\u001b[43m)\u001b[49m\n\u001b[1;32m    151\u001b[0m \u001b[38;5;28;01mexcept\u001b[39;00m \u001b[38;5;167;01mException\u001b[39;00m \u001b[38;5;28;01mas\u001b[39;00m e:\n\u001b[1;32m    152\u001b[0m   filtered_tb \u001b[38;5;241m=\u001b[39m _process_traceback_frames(e\u001b[38;5;241m.\u001b[39m__traceback__)\n",
      "File \u001b[0;32m/usr/local/lib/python3.10/site-packages/tensorflow/python/eager/polymorphic_function/polymorphic_function.py:832\u001b[0m, in \u001b[0;36mFunction.__call__\u001b[0;34m(self, *args, **kwds)\u001b[0m\n\u001b[1;32m    829\u001b[0m compiler \u001b[38;5;241m=\u001b[39m \u001b[38;5;124m\"\u001b[39m\u001b[38;5;124mxla\u001b[39m\u001b[38;5;124m\"\u001b[39m \u001b[38;5;28;01mif\u001b[39;00m \u001b[38;5;28mself\u001b[39m\u001b[38;5;241m.\u001b[39m_jit_compile \u001b[38;5;28;01melse\u001b[39;00m \u001b[38;5;124m\"\u001b[39m\u001b[38;5;124mnonXla\u001b[39m\u001b[38;5;124m\"\u001b[39m\n\u001b[1;32m    831\u001b[0m \u001b[38;5;28;01mwith\u001b[39;00m OptionalXlaContext(\u001b[38;5;28mself\u001b[39m\u001b[38;5;241m.\u001b[39m_jit_compile):\n\u001b[0;32m--> 832\u001b[0m   result \u001b[38;5;241m=\u001b[39m \u001b[38;5;28;43mself\u001b[39;49m\u001b[38;5;241;43m.\u001b[39;49m\u001b[43m_call\u001b[49m\u001b[43m(\u001b[49m\u001b[38;5;241;43m*\u001b[39;49m\u001b[43margs\u001b[49m\u001b[43m,\u001b[49m\u001b[43m \u001b[49m\u001b[38;5;241;43m*\u001b[39;49m\u001b[38;5;241;43m*\u001b[39;49m\u001b[43mkwds\u001b[49m\u001b[43m)\u001b[49m\n\u001b[1;32m    834\u001b[0m new_tracing_count \u001b[38;5;241m=\u001b[39m \u001b[38;5;28mself\u001b[39m\u001b[38;5;241m.\u001b[39mexperimental_get_tracing_count()\n\u001b[1;32m    835\u001b[0m without_tracing \u001b[38;5;241m=\u001b[39m (tracing_count \u001b[38;5;241m==\u001b[39m new_tracing_count)\n",
      "File \u001b[0;32m/usr/local/lib/python3.10/site-packages/tensorflow/python/eager/polymorphic_function/polymorphic_function.py:868\u001b[0m, in \u001b[0;36mFunction._call\u001b[0;34m(self, *args, **kwds)\u001b[0m\n\u001b[1;32m    865\u001b[0m   \u001b[38;5;28mself\u001b[39m\u001b[38;5;241m.\u001b[39m_lock\u001b[38;5;241m.\u001b[39mrelease()\n\u001b[1;32m    866\u001b[0m   \u001b[38;5;66;03m# In this case we have created variables on the first call, so we run the\u001b[39;00m\n\u001b[1;32m    867\u001b[0m   \u001b[38;5;66;03m# defunned version which is guaranteed to never create variables.\u001b[39;00m\n\u001b[0;32m--> 868\u001b[0m   \u001b[38;5;28;01mreturn\u001b[39;00m \u001b[43mtracing_compilation\u001b[49m\u001b[38;5;241;43m.\u001b[39;49m\u001b[43mcall_function\u001b[49m\u001b[43m(\u001b[49m\n\u001b[1;32m    869\u001b[0m \u001b[43m      \u001b[49m\u001b[43margs\u001b[49m\u001b[43m,\u001b[49m\u001b[43m \u001b[49m\u001b[43mkwds\u001b[49m\u001b[43m,\u001b[49m\u001b[43m \u001b[49m\u001b[38;5;28;43mself\u001b[39;49m\u001b[38;5;241;43m.\u001b[39;49m\u001b[43m_no_variable_creation_config\u001b[49m\n\u001b[1;32m    870\u001b[0m \u001b[43m  \u001b[49m\u001b[43m)\u001b[49m\n\u001b[1;32m    871\u001b[0m \u001b[38;5;28;01melif\u001b[39;00m \u001b[38;5;28mself\u001b[39m\u001b[38;5;241m.\u001b[39m_variable_creation_config \u001b[38;5;129;01mis\u001b[39;00m \u001b[38;5;129;01mnot\u001b[39;00m \u001b[38;5;28;01mNone\u001b[39;00m:\n\u001b[1;32m    872\u001b[0m   \u001b[38;5;66;03m# Release the lock early so that multiple threads can perform the call\u001b[39;00m\n\u001b[1;32m    873\u001b[0m   \u001b[38;5;66;03m# in parallel.\u001b[39;00m\n\u001b[1;32m    874\u001b[0m   \u001b[38;5;28mself\u001b[39m\u001b[38;5;241m.\u001b[39m_lock\u001b[38;5;241m.\u001b[39mrelease()\n",
      "File \u001b[0;32m/usr/local/lib/python3.10/site-packages/tensorflow/python/eager/polymorphic_function/tracing_compilation.py:139\u001b[0m, in \u001b[0;36mcall_function\u001b[0;34m(args, kwargs, tracing_options)\u001b[0m\n\u001b[1;32m    137\u001b[0m bound_args \u001b[38;5;241m=\u001b[39m function\u001b[38;5;241m.\u001b[39mfunction_type\u001b[38;5;241m.\u001b[39mbind(\u001b[38;5;241m*\u001b[39margs, \u001b[38;5;241m*\u001b[39m\u001b[38;5;241m*\u001b[39mkwargs)\n\u001b[1;32m    138\u001b[0m flat_inputs \u001b[38;5;241m=\u001b[39m function\u001b[38;5;241m.\u001b[39mfunction_type\u001b[38;5;241m.\u001b[39munpack_inputs(bound_args)\n\u001b[0;32m--> 139\u001b[0m \u001b[38;5;28;01mreturn\u001b[39;00m \u001b[43mfunction\u001b[49m\u001b[38;5;241;43m.\u001b[39;49m\u001b[43m_call_flat\u001b[49m\u001b[43m(\u001b[49m\u001b[43m  \u001b[49m\u001b[38;5;66;43;03m# pylint: disable=protected-access\u001b[39;49;00m\n\u001b[1;32m    140\u001b[0m \u001b[43m    \u001b[49m\u001b[43mflat_inputs\u001b[49m\u001b[43m,\u001b[49m\u001b[43m \u001b[49m\u001b[43mcaptured_inputs\u001b[49m\u001b[38;5;241;43m=\u001b[39;49m\u001b[43mfunction\u001b[49m\u001b[38;5;241;43m.\u001b[39;49m\u001b[43mcaptured_inputs\u001b[49m\n\u001b[1;32m    141\u001b[0m \u001b[43m\u001b[49m\u001b[43m)\u001b[49m\n",
      "File \u001b[0;32m/usr/local/lib/python3.10/site-packages/tensorflow/python/eager/polymorphic_function/concrete_function.py:1323\u001b[0m, in \u001b[0;36mConcreteFunction._call_flat\u001b[0;34m(self, tensor_inputs, captured_inputs)\u001b[0m\n\u001b[1;32m   1319\u001b[0m possible_gradient_type \u001b[38;5;241m=\u001b[39m gradients_util\u001b[38;5;241m.\u001b[39mPossibleTapeGradientTypes(args)\n\u001b[1;32m   1320\u001b[0m \u001b[38;5;28;01mif\u001b[39;00m (possible_gradient_type \u001b[38;5;241m==\u001b[39m gradients_util\u001b[38;5;241m.\u001b[39mPOSSIBLE_GRADIENT_TYPES_NONE\n\u001b[1;32m   1321\u001b[0m     \u001b[38;5;129;01mand\u001b[39;00m executing_eagerly):\n\u001b[1;32m   1322\u001b[0m   \u001b[38;5;66;03m# No tape is watching; skip to running the function.\u001b[39;00m\n\u001b[0;32m-> 1323\u001b[0m   \u001b[38;5;28;01mreturn\u001b[39;00m \u001b[38;5;28;43mself\u001b[39;49m\u001b[38;5;241;43m.\u001b[39;49m\u001b[43m_inference_function\u001b[49m\u001b[38;5;241;43m.\u001b[39;49m\u001b[43mcall_preflattened\u001b[49m\u001b[43m(\u001b[49m\u001b[43margs\u001b[49m\u001b[43m)\u001b[49m\n\u001b[1;32m   1324\u001b[0m forward_backward \u001b[38;5;241m=\u001b[39m \u001b[38;5;28mself\u001b[39m\u001b[38;5;241m.\u001b[39m_select_forward_and_backward_functions(\n\u001b[1;32m   1325\u001b[0m     args,\n\u001b[1;32m   1326\u001b[0m     possible_gradient_type,\n\u001b[1;32m   1327\u001b[0m     executing_eagerly)\n\u001b[1;32m   1328\u001b[0m forward_function, args_with_tangents \u001b[38;5;241m=\u001b[39m forward_backward\u001b[38;5;241m.\u001b[39mforward()\n",
      "File \u001b[0;32m/usr/local/lib/python3.10/site-packages/tensorflow/python/eager/polymorphic_function/atomic_function.py:216\u001b[0m, in \u001b[0;36mAtomicFunction.call_preflattened\u001b[0;34m(self, args)\u001b[0m\n\u001b[1;32m    214\u001b[0m \u001b[38;5;28;01mdef\u001b[39;00m \u001b[38;5;21mcall_preflattened\u001b[39m(\u001b[38;5;28mself\u001b[39m, args: Sequence[core\u001b[38;5;241m.\u001b[39mTensor]) \u001b[38;5;241m-\u001b[39m\u001b[38;5;241m>\u001b[39m Any:\n\u001b[1;32m    215\u001b[0m \u001b[38;5;250m  \u001b[39m\u001b[38;5;124;03m\"\"\"Calls with flattened tensor inputs and returns the structured output.\"\"\"\u001b[39;00m\n\u001b[0;32m--> 216\u001b[0m   flat_outputs \u001b[38;5;241m=\u001b[39m \u001b[38;5;28;43mself\u001b[39;49m\u001b[38;5;241;43m.\u001b[39;49m\u001b[43mcall_flat\u001b[49m\u001b[43m(\u001b[49m\u001b[38;5;241;43m*\u001b[39;49m\u001b[43margs\u001b[49m\u001b[43m)\u001b[49m\n\u001b[1;32m    217\u001b[0m   \u001b[38;5;28;01mreturn\u001b[39;00m \u001b[38;5;28mself\u001b[39m\u001b[38;5;241m.\u001b[39mfunction_type\u001b[38;5;241m.\u001b[39mpack_output(flat_outputs)\n",
      "File \u001b[0;32m/usr/local/lib/python3.10/site-packages/tensorflow/python/eager/polymorphic_function/atomic_function.py:251\u001b[0m, in \u001b[0;36mAtomicFunction.call_flat\u001b[0;34m(self, *args)\u001b[0m\n\u001b[1;32m    249\u001b[0m \u001b[38;5;28;01mwith\u001b[39;00m record\u001b[38;5;241m.\u001b[39mstop_recording():\n\u001b[1;32m    250\u001b[0m   \u001b[38;5;28;01mif\u001b[39;00m \u001b[38;5;28mself\u001b[39m\u001b[38;5;241m.\u001b[39m_bound_context\u001b[38;5;241m.\u001b[39mexecuting_eagerly():\n\u001b[0;32m--> 251\u001b[0m     outputs \u001b[38;5;241m=\u001b[39m \u001b[38;5;28;43mself\u001b[39;49m\u001b[38;5;241;43m.\u001b[39;49m\u001b[43m_bound_context\u001b[49m\u001b[38;5;241;43m.\u001b[39;49m\u001b[43mcall_function\u001b[49m\u001b[43m(\u001b[49m\n\u001b[1;32m    252\u001b[0m \u001b[43m        \u001b[49m\u001b[38;5;28;43mself\u001b[39;49m\u001b[38;5;241;43m.\u001b[39;49m\u001b[43mname\u001b[49m\u001b[43m,\u001b[49m\n\u001b[1;32m    253\u001b[0m \u001b[43m        \u001b[49m\u001b[38;5;28;43mlist\u001b[39;49m\u001b[43m(\u001b[49m\u001b[43margs\u001b[49m\u001b[43m)\u001b[49m\u001b[43m,\u001b[49m\n\u001b[1;32m    254\u001b[0m \u001b[43m        \u001b[49m\u001b[38;5;28;43mlen\u001b[39;49m\u001b[43m(\u001b[49m\u001b[38;5;28;43mself\u001b[39;49m\u001b[38;5;241;43m.\u001b[39;49m\u001b[43mfunction_type\u001b[49m\u001b[38;5;241;43m.\u001b[39;49m\u001b[43mflat_outputs\u001b[49m\u001b[43m)\u001b[49m\u001b[43m,\u001b[49m\n\u001b[1;32m    255\u001b[0m \u001b[43m    \u001b[49m\u001b[43m)\u001b[49m\n\u001b[1;32m    256\u001b[0m   \u001b[38;5;28;01melse\u001b[39;00m:\n\u001b[1;32m    257\u001b[0m     outputs \u001b[38;5;241m=\u001b[39m make_call_op_in_graph(\n\u001b[1;32m    258\u001b[0m         \u001b[38;5;28mself\u001b[39m,\n\u001b[1;32m    259\u001b[0m         \u001b[38;5;28mlist\u001b[39m(args),\n\u001b[1;32m    260\u001b[0m         \u001b[38;5;28mself\u001b[39m\u001b[38;5;241m.\u001b[39m_bound_context\u001b[38;5;241m.\u001b[39mfunction_call_options\u001b[38;5;241m.\u001b[39mas_attrs(),\n\u001b[1;32m    261\u001b[0m     )\n",
      "File \u001b[0;32m/usr/local/lib/python3.10/site-packages/tensorflow/python/eager/context.py:1486\u001b[0m, in \u001b[0;36mContext.call_function\u001b[0;34m(self, name, tensor_inputs, num_outputs)\u001b[0m\n\u001b[1;32m   1484\u001b[0m cancellation_context \u001b[38;5;241m=\u001b[39m cancellation\u001b[38;5;241m.\u001b[39mcontext()\n\u001b[1;32m   1485\u001b[0m \u001b[38;5;28;01mif\u001b[39;00m cancellation_context \u001b[38;5;129;01mis\u001b[39;00m \u001b[38;5;28;01mNone\u001b[39;00m:\n\u001b[0;32m-> 1486\u001b[0m   outputs \u001b[38;5;241m=\u001b[39m \u001b[43mexecute\u001b[49m\u001b[38;5;241;43m.\u001b[39;49m\u001b[43mexecute\u001b[49m\u001b[43m(\u001b[49m\n\u001b[1;32m   1487\u001b[0m \u001b[43m      \u001b[49m\u001b[43mname\u001b[49m\u001b[38;5;241;43m.\u001b[39;49m\u001b[43mdecode\u001b[49m\u001b[43m(\u001b[49m\u001b[38;5;124;43m\"\u001b[39;49m\u001b[38;5;124;43mutf-8\u001b[39;49m\u001b[38;5;124;43m\"\u001b[39;49m\u001b[43m)\u001b[49m\u001b[43m,\u001b[49m\n\u001b[1;32m   1488\u001b[0m \u001b[43m      \u001b[49m\u001b[43mnum_outputs\u001b[49m\u001b[38;5;241;43m=\u001b[39;49m\u001b[43mnum_outputs\u001b[49m\u001b[43m,\u001b[49m\n\u001b[1;32m   1489\u001b[0m \u001b[43m      \u001b[49m\u001b[43minputs\u001b[49m\u001b[38;5;241;43m=\u001b[39;49m\u001b[43mtensor_inputs\u001b[49m\u001b[43m,\u001b[49m\n\u001b[1;32m   1490\u001b[0m \u001b[43m      \u001b[49m\u001b[43mattrs\u001b[49m\u001b[38;5;241;43m=\u001b[39;49m\u001b[43mattrs\u001b[49m\u001b[43m,\u001b[49m\n\u001b[1;32m   1491\u001b[0m \u001b[43m      \u001b[49m\u001b[43mctx\u001b[49m\u001b[38;5;241;43m=\u001b[39;49m\u001b[38;5;28;43mself\u001b[39;49m\u001b[43m,\u001b[49m\n\u001b[1;32m   1492\u001b[0m \u001b[43m  \u001b[49m\u001b[43m)\u001b[49m\n\u001b[1;32m   1493\u001b[0m \u001b[38;5;28;01melse\u001b[39;00m:\n\u001b[1;32m   1494\u001b[0m   outputs \u001b[38;5;241m=\u001b[39m execute\u001b[38;5;241m.\u001b[39mexecute_with_cancellation(\n\u001b[1;32m   1495\u001b[0m       name\u001b[38;5;241m.\u001b[39mdecode(\u001b[38;5;124m\"\u001b[39m\u001b[38;5;124mutf-8\u001b[39m\u001b[38;5;124m\"\u001b[39m),\n\u001b[1;32m   1496\u001b[0m       num_outputs\u001b[38;5;241m=\u001b[39mnum_outputs,\n\u001b[0;32m   (...)\u001b[0m\n\u001b[1;32m   1500\u001b[0m       cancellation_manager\u001b[38;5;241m=\u001b[39mcancellation_context,\n\u001b[1;32m   1501\u001b[0m   )\n",
      "File \u001b[0;32m/usr/local/lib/python3.10/site-packages/tensorflow/python/eager/execute.py:53\u001b[0m, in \u001b[0;36mquick_execute\u001b[0;34m(op_name, num_outputs, inputs, attrs, ctx, name)\u001b[0m\n\u001b[1;32m     51\u001b[0m \u001b[38;5;28;01mtry\u001b[39;00m:\n\u001b[1;32m     52\u001b[0m   ctx\u001b[38;5;241m.\u001b[39mensure_initialized()\n\u001b[0;32m---> 53\u001b[0m   tensors \u001b[38;5;241m=\u001b[39m \u001b[43mpywrap_tfe\u001b[49m\u001b[38;5;241;43m.\u001b[39;49m\u001b[43mTFE_Py_Execute\u001b[49m\u001b[43m(\u001b[49m\u001b[43mctx\u001b[49m\u001b[38;5;241;43m.\u001b[39;49m\u001b[43m_handle\u001b[49m\u001b[43m,\u001b[49m\u001b[43m \u001b[49m\u001b[43mdevice_name\u001b[49m\u001b[43m,\u001b[49m\u001b[43m \u001b[49m\u001b[43mop_name\u001b[49m\u001b[43m,\u001b[49m\n\u001b[1;32m     54\u001b[0m \u001b[43m                                      \u001b[49m\u001b[43minputs\u001b[49m\u001b[43m,\u001b[49m\u001b[43m \u001b[49m\u001b[43mattrs\u001b[49m\u001b[43m,\u001b[49m\u001b[43m \u001b[49m\u001b[43mnum_outputs\u001b[49m\u001b[43m)\u001b[49m\n\u001b[1;32m     55\u001b[0m \u001b[38;5;28;01mexcept\u001b[39;00m core\u001b[38;5;241m.\u001b[39m_NotOkStatusException \u001b[38;5;28;01mas\u001b[39;00m e:\n\u001b[1;32m     56\u001b[0m   \u001b[38;5;28;01mif\u001b[39;00m name \u001b[38;5;129;01mis\u001b[39;00m \u001b[38;5;129;01mnot\u001b[39;00m \u001b[38;5;28;01mNone\u001b[39;00m:\n",
      "\u001b[0;31mKeyboardInterrupt\u001b[0m: "
     ]
    }
   ],
   "source": [
    "# Modell Struktur \n",
    "\n",
    "from tensorflow.keras.models import load_model\n",
    "\n",
    "def create_model():\n",
    "    model = Sequential()\n",
    "    model.add(Embedding(input_dim=total_words,                  # Anzahl aller Wörter\n",
    "                        output_dim=100,                         # Umwandlung des Wortes (des Integers) in den einen n-dimensionanlen Vektor \n",
    "                        input_length=(max_sequence_len-1)))     # Länge der Eingaben (Anzahl Wörter)\n",
    "    model.add(Bidirectional(LSTM(150)))\n",
    "    model.add(Dense(total_words, activation='softmax'))\n",
    "    \n",
    "    # Optimizer und Modell-Compile\n",
    "    adam = Adam(learning_rate=0.01)\n",
    "    model.compile(loss='categorical_crossentropy', optimizer=adam, metrics=['accuracy'])\n",
    "    \n",
    "    return model\n",
    "\n",
    "# Prüfen, ob das Modell bereits existiert\n",
    "if os.path.exists(model_dir) and traning_new_model == False:\n",
    "    print(\"Modell gefunden. Lade bestehendes Modell...\")\n",
    "    model = load_model(model_dir)  \n",
    "    \n",
    "else:\n",
    "    if traning_new_model ==True:\n",
    "        print(\"Neuse Model soll traniert werden\")\n",
    "    else: \n",
    "        print(\"Altes Modell nicht gefunden\")\n",
    "    \n",
    "    print(\"Startet Training \\n\\n\")\n",
    "    model = create_model()  # Neues Modell erstellen\n",
    "    \n",
    "    # Modell trainieren\n",
    "    history = model.fit(xs, ys, epochs=80, verbose=1)\n",
    "    \n",
    "    # Modell speichern\n",
    "    model.save(model_dir)\n",
    "    print(f\"\\nModell gespeichert unter: {model_dir}\")\n"
   ]
  },
  {
   "cell_type": "code",
   "execution_count": null,
   "metadata": {},
   "outputs": [
    {
     "name": "stdout",
     "output_type": "stream",
     "text": [
      "Embedding Eingabedimensionen: 1691\n",
      "Form der Eingabedaten: (None, 11)\n",
      "Form der Ausgabedaten: (None, 11, 100)\n",
      "Embedding Gewichtedimensionen: (1691, 100)\n",
      "Embedding Ausgabedimensionen: 100\n"
     ]
    }
   ],
   "source": [
    "# Zugriff auf Embedding-Schicht\n",
    "embedding_layer = model.layers[0]  # Die erste Schicht ist die Embedding-Schicht\n",
    "\n",
    "# Eingabedimensionen (Vokabulargröße) und Ausgabedimensionen (Embedding-Dimension)\n",
    "embedding_input_dim = embedding_layer.input_dim                 # Anzahl der Wörter im Vokabular\n",
    "embedding_input_shape = embedding_layer.input_shape             # Form der Eingabedaten (z.B. Batchsize, Satzlänge)\n",
    "embedding_output_shape = embedding_layer.output_shape           # Form der Ausgabedaten (z.B. Batchsize, Satzlänge, Embedding-Dimension)\n",
    "\n",
    "embedding_weights = embedding_layer.get_weights()               # Zugriff auf die Gewichte der Embedding-Schicht\n",
    "embedding_output_dim = embedding_layer.output_dim               # Anzahl der Dimensionen für jedes Wort (z.B. 100 für 100-Dimensionales Embedding)\n",
    "\n",
    "\n",
    "# Ausgabe der Informationen\n",
    "print(f\"Embedding Eingabedimensionen: {embedding_input_dim}\")\n",
    "print(f\"Form der Eingabedaten: {embedding_input_shape}\")  # Form der Eingabedaten\n",
    "print(f\"Form der Ausgabedaten: {embedding_output_shape}\")  # Form der Ausgabedaten\n",
    "\n",
    "print(f\"Embedding Gewichtedimensionen: {embedding_weights[0].shape}\")  # Gewichtedimensionen der Embedding-Matrix\n",
    "print(f\"Embedding Ausgabedimensionen: {embedding_output_dim}\")\n"
   ]
  },
  {
   "cell_type": "markdown",
   "metadata": {},
   "source": [
    "## Verwendung "
   ]
  },
  {
   "cell_type": "markdown",
   "metadata": {},
   "source": [
    "### Text generieren"
   ]
  },
  {
   "cell_type": "code",
   "execution_count": null,
   "metadata": {},
   "outputs": [
    {
     "name": "stdout",
     "output_type": "stream",
     "text": [
      "Erweiterter Text: Hallo ich bin habe sie seither nicht wiedergesehen nicht und bei und der\n"
     ]
    }
   ],
   "source": [
    "next_words = 10\n",
    "seed_text = example_text\n",
    "\n",
    "for _ in range(next_words):\n",
    "    # Tokenisiere den aktuellen Seed-Text und führe Padding durch\n",
    "    token_list = tokenizer.texts_to_sequences([seed_text])[0]\n",
    "    token_list = pad_sequences([token_list], maxlen=max_sequence_len-1, padding='pre')\n",
    "    \n",
    "    # Mache eine Vorhersage basierend auf dem aktuellen Seed-Text\n",
    "    predicted_probs = model.predict(token_list, verbose=0)[0]\n",
    "    predicted = np.argmax(predicted_probs)  # Bestimme das Wort mit der höchsten Wahrscheinlichkeit\n",
    "    \n",
    "    # Finde das vorhergesagte Wort im Tokenizer-Wörterbuch\n",
    "    output_word = \"\"\n",
    "    for word, index in tokenizer.word_index.items():\n",
    "        if index == predicted:\n",
    "            output_word = word\n",
    "            break\n",
    "    \n",
    "    # Wenn das Wort gefunden wurde, erweitere den Seed-Text\n",
    "    if output_word:\n",
    "        seed_text += \" \" + output_word\n",
    "    else:\n",
    "        print(\"Kein Wort gefunden für den vorhergesagten Index.\")\n",
    "        break\n",
    "\n",
    "# Ausgabe des vollständigen Textes\n",
    "print(\"Erweiterter Text:\", seed_text)\n"
   ]
  },
  {
   "cell_type": "markdown",
   "metadata": {},
   "source": [
    "### Nextes Word vorhesagen  "
   ]
  },
  {
   "cell_type": "code",
   "execution_count": null,
   "metadata": {},
   "outputs": [
    {
     "name": "stdout",
     "output_type": "stream",
     "text": [
      "Eingabe: 'Ich' tokeiziert zu: [36]\n",
      "Mit Paddig: [[ 0  0  0  0  0  0  0  0  0  0 36]]\n",
      "\n",
      "Top 10 nächste Wörter für 'Ich':\n",
      "habe: 32.4507 %\n",
      "kratzte: 16.7647 %\n",
      "war: 15.3996 %\n",
      "kenne: 11.5549 %\n",
      "muss: 10.2910 %\n",
      "nehme: 9.5364 %\n",
      "ist: 0.1979 %\n",
      "sind: 0.1383 %\n",
      "hat: 0.1127 %\n",
      "waren: 0.0677 %\n"
     ]
    }
   ],
   "source": [
    "import numpy as np\n",
    "\n",
    "top_k = 10  # Anzahl der Top-Wörter\n",
    "seed_text = \"Ich\"\n",
    "\n",
    "# Tokenisierung und Padding des Eingabetexts\n",
    "token_list = tokenizer.texts_to_sequences([seed_text])[0]\n",
    "print(f\"Eingabe: '{seed_text}' tokeiziert zu: {token_list}\")\n",
    "token_list = pad_sequences([token_list], maxlen=max_sequence_len-1, padding='pre')\n",
    "print(f\"Mit Paddig: {token_list}\")\n",
    "\n",
    "# Vorhersagen berechnen\n",
    "predictions = model.predict(token_list, verbose=0)[0]  # Softmax-Ausgabe\n",
    "\n",
    "# Top-10 wahrscheinlichste Wörter finden\n",
    "top_indices = np.argsort(predictions)[-top_k:][::-1]  #Sortiere absteigend\n",
    "\n",
    "# Wörter und Wahrscheinlichkeiten sammeln\n",
    "top_words = [(word, predictions[index]) for word, index in tokenizer.word_index.items() if index in top_indices]\n",
    "\n",
    "# Sortiere die Wörter nach Wahrscheinlichkeit in absteigender Reihenfolge\n",
    "top_words = sorted(top_words, key=lambda x: x[1], reverse=True)\n",
    "\n",
    "# Ausgabe der Top-10 Wörter und Wahrscheinlichkeiten\n",
    "print(f\"\\nTop {top_k} nächste Wörter für '{seed_text}':\")\n",
    "for word, prob in top_words:\n",
    "    print(f\"{word}: {(prob * 100):.4f} %\")\n"
   ]
  },
  {
   "cell_type": "markdown",
   "metadata": {},
   "source": [
    "## Konvertierung "
   ]
  },
  {
   "cell_type": "code",
   "execution_count": null,
   "metadata": {},
   "outputs": [
    {
     "name": "stdout",
     "output_type": "stream",
     "text": [
      "/bin/bash: line 1: cd: hero_to_zero_lstm: No such file or directory\n",
      "ls: cannot access 'hero_to_zero_lstm': No such file or directory\n"
     ]
    }
   ],
   "source": [
    "if convert_to_js_model:\n",
    "    #print(f\"Konveriert neues Modell in '{js_model_dir}'\\n\")\n",
    "    #! tensorflowjs_converter --input_format=tf_saved_model {model_file} {js_model_dir}\n",
    "#\n",
    "    #print(f\"Kopiert Tokenizer in '{js_model_dir}'\")\n",
    "    #! cp -r {word_index_file} {js_model_dir}\n",
    "    #\n",
    "    ! cd {model_dir}\n",
    "    ! ls -al {model_dir}\n",
    "\n",
    "else:\n",
    "    print(\"Konvertiertes Model bereits vorhanden\")\n"
   ]
  },
  {
   "cell_type": "markdown",
   "metadata": {},
   "source": [
    "## In React Kopieren "
   ]
  },
  {
   "cell_type": "code",
   "execution_count": null,
   "metadata": {},
   "outputs": [
    {
     "name": "stdout",
     "output_type": "stream",
     "text": [
      "Kopiere JS-Model in React-Model\n"
     ]
    }
   ],
   "source": [
    "if copie_js_model_to_react:\n",
    "    print(\"Kopiere JS-Model in React-Model\")\n",
    "    ! cp -r {js_model_dir} {react_model_dir}\n",
    "else:\n",
    "    print(\"JS-Model bereits im React-Model vorhanden\")"
   ]
  }
 ],
 "metadata": {
  "kernelspec": {
   "display_name": "Python 3",
   "language": "python",
   "name": "python3"
  },
  "language_info": {
   "codemirror_mode": {
    "name": "ipython",
    "version": 3
   },
   "file_extension": ".py",
   "mimetype": "text/x-python",
   "name": "python",
   "nbconvert_exporter": "python",
   "pygments_lexer": "ipython3",
   "version": "3.10.15"
  }
 },
 "nbformat": 4,
 "nbformat_minor": 2
}
