{
 "cells": [
  {
   "cell_type": "markdown",
   "metadata": {},
   "source": [
    "# NLP wiht LSTM TensorFlow Youtube Tutorial \n",
    "\n",
    "Video: https://www.youtube.com/watch?v=ZMudJXhsUpY&list=PLQY2H8rRoyvzDbLUZkbudP-MFQZwNmU4S&index=6\n",
    "\n",
    "Code: https://colab.research.google.com/github/lmoroney/dlaicourse/blob/master/TensorFlow%20In%20Practice/Course%203%20-%20NLP/Course%203%20-%20Week%204%20-%20Lesson%202%20-%20Notebook.ipynb#scrollTo=w9vH8Y59ajYL"
   ]
  },
  {
   "cell_type": "code",
   "execution_count": null,
   "metadata": {},
   "outputs": [],
   "source": [
    "traning_new_model = False                # Soll ein neues Modell traniert werden ?\n",
    "copie_js_model_to_react = True          # Soll das js Modell direkt rüber kopiert werden ?"
   ]
  },
  {
   "cell_type": "markdown",
   "metadata": {},
   "source": [
    "## Setup "
   ]
  },
  {
   "cell_type": "code",
   "execution_count": 26,
   "metadata": {},
   "outputs": [
    {
     "name": "stdout",
     "output_type": "stream",
     "text": [
      "1\n",
      "Python 3.10.15\n",
      "2.15.1\n",
      "2.15.0\n"
     ]
    }
   ],
   "source": [
    "import tensorflow as tf\n",
    "import keras \n",
    "\n",
    "from tensorflow.keras.preprocessing.sequence import pad_sequences\n",
    "from tensorflow.keras.layers import Embedding, LSTM, Dense, Bidirectional, Input\n",
    "from tensorflow.keras.preprocessing.text import Tokenizer\n",
    "from tensorflow.keras.models import Sequential\n",
    "from tensorflow.keras.optimizers import Adam\n",
    "\n",
    "import numpy as np \n",
    "import os\n",
    "\n",
    "TF_USE_LEGACY_KERAS=1 # https://github.com/tensorflow/tfjs/issues/8328#issuecomment-2212490809\n",
    "\n",
    "! echo $TF_USE_LEGACY_KERAS\n",
    "! python3 --version\n",
    "print(tf.__version__)\n",
    "print(keras.__version__)\n"
   ]
  },
  {
   "cell_type": "code",
   "execution_count": null,
   "metadata": {},
   "outputs": [
    {
     "name": "stdout",
     "output_type": "stream",
     "text": [
      "/workspace/algorithem/next_word_prediciton/rnns/models/lstm_js\n",
      "/workspace/webpage/silvan-webpage/public/models/lstm_js\n"
     ]
    }
   ],
   "source": [
    "# Modellname ohne führenden Schrägstrich\n",
    "model_name = \"lstm\"  # ohne führendes \"/\"\n",
    "\n",
    "text_file = os.path.abspath(\"../../example_text.txt\")\n",
    "model_file = os.path.join(os.path.abspath(\"./models\"), model_name + \".h5\")\n",
    "js_model_dir = os.path.abspath(\"./models/lstm_js\")\n",
    "react_model_path = os.path.join(os.path.abspath(\"/workspace/webpage/silvan-webpage/public/models\"))\n",
    "\n",
    "print(js_model_dir)\n",
    "print(react_model_path)"
   ]
  },
  {
   "cell_type": "markdown",
   "metadata": {},
   "source": [
    "## Data"
   ]
  },
  {
   "cell_type": "code",
   "execution_count": 28,
   "metadata": {},
   "outputs": [
    {
     "name": "stdout",
     "output_type": "stream",
     "text": [
      "Inhalte des Datensatzes: \n",
      "\n",
      "Wie geht es dir?\n",
      "Mir geht's gut, danke.\n",
      "Was machst du heute?\n",
      "Hast du gut geschlafen?\n",
      "Wo wohnst du?\n",
      "Ich wohne in Berlin.\n",
      "Wie spät ist es?\n",
      "Es ist schon ziemlich spät.\n",
      "Hast du heute Zeit?\n",
      "Was hast du am Wochenende vor?\n",
      "Kannst du mir bitte helf\n"
     ]
    }
   ],
   "source": [
    "# Datensatz laden\n",
    "data = open(text_file, 'rb').read().decode(encoding='utf-8')\n",
    "\n",
    "print(f\"Inhalte des Datensatzes: \\n\\n{data[:250]}\")"
   ]
  },
  {
   "cell_type": "code",
   "execution_count": 29,
   "metadata": {},
   "outputs": [
    {
     "name": "stdout",
     "output_type": "stream",
     "text": [
      "Der Tokenizer kennt 200 Wörter\n",
      "Die Wörter werden folgenden Indexe zugenortnet: {'\\r': 1, 'du': 2, 'ich': 3, 'das': 4, 'hast': 5, 'habe': 6, 'was': 7, 'wie': 8, 'es': 9, 'ist': 10, 'heute': 11, 'schon': 12, 'kannst': 13, 'möchtest': 14, 'hier': 15, 'wann': 16, 'nicht': 17, 'lange': 18, 'kann': 19, 'wo': 20, 'in': 21, 'zeit': 22, 'zu': 23, 'noch': 24, 'zum': 25, 'der': 26, 'bin': 27, 'dir': 28, 'mir': 29, 'gut': 30, 'bitte': 31, 'etwas': 32, 'gehen': 33, 'muss': 34, 'war': 35, 'machst': 36, 'spät': 37, 'ziemlich': 38, 'wochenende': 39, 'frei': 40, 'wir': 41, 'uns': 42, 'mich': 43, 'schön': 44, 'den': 45, 'film': 46, 'viel': 47, 'tun': 48, 'mit': 49, 'keine': 50, 'einen': 51, 'dauert': 52, 'finde': 53, 'die': 54, 'nächste': 55, 'gibt': 56, 'komme': 57, 'bleibst': 58, 'gleich': 59, 'an': 60, 'meinen': 61, 'vergessen': 62, 'dein': 63, 'morgen': 64, 'bus': 65, 'weit': 66, 'bis': 67, 'eine': 68, 'geht': 69, \"geht's\": 70, 'danke': 71, 'geschlafen': 72, 'wohnst': 73, 'wohne': 74, 'berlin': 75, 'am': 76, 'vor': 77, 'helfen': 78, 'gestern': 79, 'gemacht': 80, 'hunger': 81, 'trinken': 82, 'arbeiten': 83, 'sie': 84, 'arbeite': 85, 'als': 86, 'lehrer': 87, 'treffen': 88, 'freue': 89, 'dich': 90, 'sehen': 91, 'wetter': 92, 'oder': 93, 'kalt': 94, 'draußen': 95, 'regnet': 96, 'seit': 97, 'stunden': 98, 'fenster': 99, 'schließen': 100, 'ins': 101, 'kino': 102, 'für': 103, 'musik': 104, 'hörst': 105, 'gerne': 106, 'gesehen': 107, 'kommst': 108, 'gehört': 109, 'einkaufen': 110, 'isst': 111, 'mittagessen': 112, 'lust': 113, 'kochen': 114, 'moment': 115, 'gesagt': 116, 'wiederholen': 117, 'verstanden': 118, 'lauter': 119, 'sprechen': 120, 'kostet': 121, 'u': 122, 'bahn': 123, 'station': 124, 'ein': 125, 'gutes': 126, 'restaurant': 127, 'bahnhof': 128, 'karte': 129, 'bezahlen': 130, 'alles': 131, 'zurück': 132, 'jetzt': 133, 'los': 134, 'ruf': 135, 'wenn': 136, 'schlüssel': 137, 'gekauft': 138, 'wirklich': 139, 'gefrühstückt': 140, 'abendessen': 141, 'anbieten': 142, 'lieblingsessen': 143, 'pläne': 144, 'fängt': 145, 'verpasst': 146, 'stadtzentrum': 147, 'erklären': 148, 'erwartet': 149, 'klingt': 150, 'interessant': 151, 'sehr': 152, 'müde': 153, 'denkst': 154, 'darüber': 155, 'tag': 156, 'bist': 157, 'aufgestanden': 158, 'machen': 159, 'fertig': 160, 'wohin': 161, 'früh': 162, 'aufstehen': 163, 'erledigt': 164, 'fast': 165, 'deiner': 166, 'freizeit': 167, 'gegessen': 168, 'satt': 169, 'durstig': 170, 'lieblingsort': 171, 'stadt': 172, 'wlan': 173, 'mein': 174, 'handy': 175, 'aufladen': 176, 'brauchst': 177, 'hilfe': 178, 'beste': 179, 'teil': 180, 'deines': 181, 'tages': 182, 'fährst': 183, 'urlaub': 184, 'adresse': 185, 'gefunden': 186, 'frage': 187, 'stellen': 188, 'kennen': 189, 'arbeit': 190, 'erledigen': 191, 'gute': 192, 'idee': 193, 'eilig': 194, 'anprobieren': 195, 'groß': 196, 'zimmer': 197, 'von': 198, 'später': 199}\n"
     ]
    }
   ],
   "source": [
    "# Corpus erstellen\n",
    "tokenizer = Tokenizer()\n",
    "corpus = data.lower().split(\"\\n\")\n",
    "tokenizer.fit_on_texts(corpus)\n",
    "total_words = len(tokenizer.word_index) + 1\n",
    "\n",
    "print(f\"Der Tokenizer kennt {total_words} Wörter\")\n",
    "print(f\"Die Wörter werden folgenden Indexe zugenortnet: {tokenizer.word_index}\")\n"
   ]
  },
  {
   "cell_type": "code",
   "execution_count": 30,
   "metadata": {},
   "outputs": [],
   "source": [
    "# Datensatu generieren\n",
    "input_sequences = []\n",
    "\n",
    "# Wandelt jede Zeile in eine Liste von Wortindizes \n",
    "for line in corpus:\n",
    "\ttoken_list = tokenizer.texts_to_sequences([line])[0]\n",
    "\n",
    "\t# n-Gramm-Sequenz generieren\n",
    "\tfor i in range(1, len(token_list)):\n",
    "\n",
    "\t\tn_gram_sequence = token_list[:i+1]\n",
    "\t\tinput_sequences.append(n_gram_sequence)\n",
    "\n",
    "# Alle Sequences auf gleiche Laenge bringen \n",
    "max_sequence_len = max([len(x) for x in input_sequences])\n",
    "input_sequences = np.array(pad_sequences(input_sequences, maxlen=max_sequence_len, padding='pre'))\n",
    "\n",
    "# Aufteilen in Prädiktoren und Labels\n",
    "xs, labels = input_sequences[:,:-1],input_sequences[:,-1]\n",
    "ys = tf.keras.utils.to_categorical(labels, num_classes=total_words)"
   ]
  },
  {
   "cell_type": "markdown",
   "metadata": {},
   "source": [
    "## Modell"
   ]
  },
  {
   "cell_type": "code",
   "execution_count": 32,
   "metadata": {},
   "outputs": [
    {
     "name": "stdout",
     "output_type": "stream",
     "text": [
      "Neuse Model soll traniert werden\n",
      "Startet Training \n",
      "\n",
      "\n",
      "Epoch 1/100\n",
      "15/15 [==============================] - 6s 26ms/step - loss: 5.1329 - accuracy: 0.1553\n",
      "Epoch 2/100\n",
      "15/15 [==============================] - 0s 24ms/step - loss: 4.3290 - accuracy: 0.2660\n",
      "Epoch 3/100\n",
      "15/15 [==============================] - 0s 18ms/step - loss: 3.6931 - accuracy: 0.3000\n",
      "Epoch 4/100\n",
      "15/15 [==============================] - 0s 17ms/step - loss: 3.3312 - accuracy: 0.3362\n",
      "Epoch 5/100\n",
      "15/15 [==============================] - 0s 17ms/step - loss: 2.9932 - accuracy: 0.3489\n",
      "Epoch 6/100\n",
      "15/15 [==============================] - 0s 24ms/step - loss: 2.5968 - accuracy: 0.3766\n",
      "Epoch 7/100\n",
      "15/15 [==============================] - 0s 17ms/step - loss: 2.1341 - accuracy: 0.4574\n",
      "Epoch 8/100\n",
      "15/15 [==============================] - 0s 18ms/step - loss: 1.7110 - accuracy: 0.5319\n",
      "Epoch 9/100\n",
      "15/15 [==============================] - 0s 17ms/step - loss: 1.3448 - accuracy: 0.6085\n",
      "Epoch 10/100\n",
      "15/15 [==============================] - 0s 24ms/step - loss: 1.0826 - accuracy: 0.6787\n",
      "Epoch 11/100\n",
      "15/15 [==============================] - 0s 22ms/step - loss: 0.9522 - accuracy: 0.7043\n",
      "Epoch 12/100\n",
      "15/15 [==============================] - 0s 20ms/step - loss: 0.8848 - accuracy: 0.7277\n",
      "Epoch 13/100\n",
      "15/15 [==============================] - 0s 17ms/step - loss: 0.7598 - accuracy: 0.7532\n",
      "Epoch 14/100\n",
      "15/15 [==============================] - 0s 25ms/step - loss: 0.7096 - accuracy: 0.7489\n",
      "Epoch 15/100\n",
      "15/15 [==============================] - 0s 20ms/step - loss: 0.6976 - accuracy: 0.7574\n",
      "Epoch 16/100\n",
      "15/15 [==============================] - 0s 17ms/step - loss: 0.6616 - accuracy: 0.7553\n",
      "Epoch 17/100\n",
      "15/15 [==============================] - 0s 16ms/step - loss: 0.6551 - accuracy: 0.7447\n",
      "Epoch 18/100\n",
      "15/15 [==============================] - 0s 24ms/step - loss: 0.6265 - accuracy: 0.7660\n",
      "Epoch 19/100\n",
      "15/15 [==============================] - 0s 18ms/step - loss: 0.6061 - accuracy: 0.7596\n",
      "Epoch 20/100\n",
      "15/15 [==============================] - 0s 18ms/step - loss: 0.6223 - accuracy: 0.7532\n",
      "Epoch 21/100\n",
      "15/15 [==============================] - 0s 16ms/step - loss: 0.5862 - accuracy: 0.7723\n",
      "Epoch 22/100\n",
      "15/15 [==============================] - 0s 26ms/step - loss: 0.6022 - accuracy: 0.7617\n",
      "Epoch 23/100\n",
      "15/15 [==============================] - 0s 26ms/step - loss: 0.5870 - accuracy: 0.7553\n",
      "Epoch 24/100\n",
      "15/15 [==============================] - 0s 20ms/step - loss: 0.5806 - accuracy: 0.7638\n",
      "Epoch 25/100\n",
      "15/15 [==============================] - 0s 23ms/step - loss: 0.5747 - accuracy: 0.7617\n",
      "Epoch 26/100\n",
      "15/15 [==============================] - 0s 17ms/step - loss: 0.5864 - accuracy: 0.7702\n",
      "Epoch 27/100\n",
      "15/15 [==============================] - 0s 16ms/step - loss: 0.5799 - accuracy: 0.7596\n",
      "Epoch 28/100\n",
      "15/15 [==============================] - 0s 16ms/step - loss: 0.5689 - accuracy: 0.7574\n",
      "Epoch 29/100\n",
      "15/15 [==============================] - 0s 21ms/step - loss: 0.5681 - accuracy: 0.7532\n",
      "Epoch 30/100\n",
      "15/15 [==============================] - 0s 20ms/step - loss: 0.5550 - accuracy: 0.7723\n",
      "Epoch 31/100\n",
      "15/15 [==============================] - 0s 21ms/step - loss: 0.5712 - accuracy: 0.7574\n",
      "Epoch 32/100\n",
      "15/15 [==============================] - 0s 18ms/step - loss: 0.5621 - accuracy: 0.7660\n",
      "Epoch 33/100\n",
      "15/15 [==============================] - 0s 21ms/step - loss: 0.5505 - accuracy: 0.7638\n",
      "Epoch 34/100\n",
      "15/15 [==============================] - 0s 18ms/step - loss: 0.5457 - accuracy: 0.7681\n",
      "Epoch 35/100\n",
      "15/15 [==============================] - 0s 17ms/step - loss: 0.5548 - accuracy: 0.7553\n",
      "Epoch 36/100\n",
      "15/15 [==============================] - 0s 15ms/step - loss: 0.5287 - accuracy: 0.7702\n",
      "Epoch 37/100\n",
      "15/15 [==============================] - 0s 16ms/step - loss: 0.5431 - accuracy: 0.7702\n",
      "Epoch 38/100\n",
      "15/15 [==============================] - 0s 24ms/step - loss: 0.5386 - accuracy: 0.7638\n",
      "Epoch 39/100\n",
      "15/15 [==============================] - 0s 24ms/step - loss: 0.5420 - accuracy: 0.7638\n",
      "Epoch 40/100\n",
      "15/15 [==============================] - 0s 18ms/step - loss: 0.5398 - accuracy: 0.7702\n",
      "Epoch 41/100\n",
      "15/15 [==============================] - 0s 22ms/step - loss: 0.5483 - accuracy: 0.7723\n",
      "Epoch 42/100\n",
      "15/15 [==============================] - 0s 16ms/step - loss: 0.5419 - accuracy: 0.7638\n",
      "Epoch 43/100\n",
      "15/15 [==============================] - 0s 17ms/step - loss: 0.5363 - accuracy: 0.7596\n",
      "Epoch 44/100\n",
      "15/15 [==============================] - 0s 18ms/step - loss: 0.5318 - accuracy: 0.7745\n",
      "Epoch 45/100\n",
      "15/15 [==============================] - 0s 19ms/step - loss: 0.5324 - accuracy: 0.7596\n",
      "Epoch 46/100\n",
      "15/15 [==============================] - 0s 24ms/step - loss: 0.5348 - accuracy: 0.7489\n",
      "Epoch 47/100\n",
      "15/15 [==============================] - 0s 20ms/step - loss: 0.5247 - accuracy: 0.7787\n",
      "Epoch 48/100\n",
      "15/15 [==============================] - 0s 21ms/step - loss: 0.5249 - accuracy: 0.7745\n",
      "Epoch 49/100\n",
      "15/15 [==============================] - 0s 22ms/step - loss: 0.5294 - accuracy: 0.7681\n",
      "Epoch 50/100\n",
      "15/15 [==============================] - 0s 20ms/step - loss: 0.5308 - accuracy: 0.7596\n",
      "Epoch 51/100\n",
      "15/15 [==============================] - 0s 20ms/step - loss: 0.5239 - accuracy: 0.7660\n",
      "Epoch 52/100\n",
      "15/15 [==============================] - 0s 17ms/step - loss: 0.5226 - accuracy: 0.7681\n",
      "Epoch 53/100\n",
      "15/15 [==============================] - 0s 28ms/step - loss: 0.5293 - accuracy: 0.7723\n",
      "Epoch 54/100\n",
      "15/15 [==============================] - 0s 22ms/step - loss: 0.5234 - accuracy: 0.7660\n",
      "Epoch 55/100\n",
      "15/15 [==============================] - 0s 21ms/step - loss: 0.5352 - accuracy: 0.7532\n",
      "Epoch 56/100\n",
      "15/15 [==============================] - 0s 24ms/step - loss: 0.5232 - accuracy: 0.7702\n",
      "Epoch 57/100\n",
      "15/15 [==============================] - 0s 25ms/step - loss: 0.5188 - accuracy: 0.7766\n",
      "Epoch 58/100\n",
      "15/15 [==============================] - 0s 18ms/step - loss: 0.5225 - accuracy: 0.7617\n",
      "Epoch 59/100\n",
      "15/15 [==============================] - 0s 18ms/step - loss: 0.5166 - accuracy: 0.7532\n",
      "Epoch 60/100\n",
      "15/15 [==============================] - 0s 22ms/step - loss: 0.5251 - accuracy: 0.7723\n",
      "Epoch 61/100\n",
      "15/15 [==============================] - 0s 20ms/step - loss: 0.5280 - accuracy: 0.7617\n",
      "Epoch 62/100\n",
      "15/15 [==============================] - 0s 22ms/step - loss: 0.5216 - accuracy: 0.7660\n",
      "Epoch 63/100\n",
      "15/15 [==============================] - 0s 26ms/step - loss: 0.5135 - accuracy: 0.7702\n",
      "Epoch 64/100\n",
      "15/15 [==============================] - 0s 24ms/step - loss: 0.5173 - accuracy: 0.7596\n",
      "Epoch 65/100\n",
      "15/15 [==============================] - 0s 30ms/step - loss: 0.5183 - accuracy: 0.7745\n",
      "Epoch 66/100\n",
      "15/15 [==============================] - 1s 33ms/step - loss: 0.5230 - accuracy: 0.7660\n",
      "Epoch 67/100\n",
      "15/15 [==============================] - 0s 25ms/step - loss: 0.5215 - accuracy: 0.7617\n",
      "Epoch 68/100\n",
      "15/15 [==============================] - 0s 27ms/step - loss: 0.5181 - accuracy: 0.7681\n",
      "Epoch 69/100\n",
      "15/15 [==============================] - 0s 27ms/step - loss: 0.5166 - accuracy: 0.7638\n",
      "Epoch 70/100\n",
      "15/15 [==============================] - 0s 19ms/step - loss: 0.5196 - accuracy: 0.7596\n",
      "Epoch 71/100\n",
      "15/15 [==============================] - 0s 19ms/step - loss: 0.5148 - accuracy: 0.7723\n",
      "Epoch 72/100\n",
      "15/15 [==============================] - 0s 21ms/step - loss: 0.5238 - accuracy: 0.7702\n",
      "Epoch 73/100\n",
      "15/15 [==============================] - 0s 18ms/step - loss: 0.5160 - accuracy: 0.7553\n",
      "Epoch 74/100\n",
      "15/15 [==============================] - 0s 19ms/step - loss: 0.5174 - accuracy: 0.7766\n",
      "Epoch 75/100\n",
      "15/15 [==============================] - 0s 22ms/step - loss: 0.5115 - accuracy: 0.7809\n",
      "Epoch 76/100\n",
      "15/15 [==============================] - 0s 26ms/step - loss: 0.5158 - accuracy: 0.7617\n",
      "Epoch 77/100\n",
      "15/15 [==============================] - 0s 22ms/step - loss: 0.5203 - accuracy: 0.7553\n",
      "Epoch 78/100\n",
      "15/15 [==============================] - 0s 19ms/step - loss: 0.5330 - accuracy: 0.7617\n",
      "Epoch 79/100\n",
      "15/15 [==============================] - 0s 25ms/step - loss: 0.5055 - accuracy: 0.7745\n",
      "Epoch 80/100\n",
      "15/15 [==============================] - 0s 21ms/step - loss: 0.5129 - accuracy: 0.7872\n",
      "Epoch 81/100\n",
      "15/15 [==============================] - 0s 19ms/step - loss: 0.5124 - accuracy: 0.7809\n",
      "Epoch 82/100\n",
      "15/15 [==============================] - 0s 28ms/step - loss: 0.5114 - accuracy: 0.7723\n",
      "Epoch 83/100\n",
      "15/15 [==============================] - 0s 27ms/step - loss: 0.5122 - accuracy: 0.7532\n",
      "Epoch 84/100\n",
      "15/15 [==============================] - 0s 23ms/step - loss: 0.5139 - accuracy: 0.7574\n",
      "Epoch 85/100\n",
      "15/15 [==============================] - 0s 23ms/step - loss: 0.5120 - accuracy: 0.7596\n",
      "Epoch 86/100\n",
      "15/15 [==============================] - 0s 28ms/step - loss: 0.5132 - accuracy: 0.7681\n",
      "Epoch 87/100\n",
      "15/15 [==============================] - 0s 31ms/step - loss: 0.5056 - accuracy: 0.7681\n",
      "Epoch 88/100\n",
      "15/15 [==============================] - 0s 27ms/step - loss: 0.5081 - accuracy: 0.7809\n",
      "Epoch 89/100\n",
      "15/15 [==============================] - 0s 28ms/step - loss: 0.5189 - accuracy: 0.7702\n",
      "Epoch 90/100\n",
      "15/15 [==============================] - 0s 23ms/step - loss: 0.5080 - accuracy: 0.7702\n",
      "Epoch 91/100\n",
      "15/15 [==============================] - 0s 22ms/step - loss: 0.5171 - accuracy: 0.7660\n",
      "Epoch 92/100\n",
      "15/15 [==============================] - 0s 26ms/step - loss: 0.5092 - accuracy: 0.7745\n",
      "Epoch 93/100\n",
      "15/15 [==============================] - 0s 20ms/step - loss: 0.5180 - accuracy: 0.7681\n",
      "Epoch 94/100\n",
      "15/15 [==============================] - 0s 22ms/step - loss: 0.5066 - accuracy: 0.7638\n",
      "Epoch 95/100\n",
      "15/15 [==============================] - 0s 29ms/step - loss: 0.5188 - accuracy: 0.7617\n",
      "Epoch 96/100\n",
      "15/15 [==============================] - 0s 23ms/step - loss: 0.5184 - accuracy: 0.7723\n",
      "Epoch 97/100\n",
      "15/15 [==============================] - 0s 22ms/step - loss: 0.5108 - accuracy: 0.7638\n",
      "Epoch 98/100\n",
      "15/15 [==============================] - 0s 27ms/step - loss: 0.5091 - accuracy: 0.7702\n",
      "Epoch 99/100\n",
      "15/15 [==============================] - 0s 23ms/step - loss: 0.5106 - accuracy: 0.7681\n",
      "Epoch 100/100\n",
      "15/15 [==============================] - 0s 24ms/step - loss: 0.5058 - accuracy: 0.7681\n"
     ]
    },
    {
     "name": "stderr",
     "output_type": "stream",
     "text": [
      "/usr/local/lib/python3.10/site-packages/keras/src/engine/training.py:3103: UserWarning: You are saving your model as an HDF5 file via `model.save()`. This file format is considered legacy. We recommend using instead the native Keras format, e.g. `model.save('my_model.keras')`.\n",
      "  saving_api.save_model(\n"
     ]
    },
    {
     "name": "stdout",
     "output_type": "stream",
     "text": [
      "Modell gespeichert unter: /workspace/algorithem/next_word_prediciton/rnns/models/lstm.h5\n"
     ]
    }
   ],
   "source": [
    "# Modell Struktur \n",
    "\n",
    "from tensorflow.keras.models import load_model\n",
    "\n",
    "def create_model():\n",
    "    model = Sequential()\n",
    "    model.add(Embedding(input_dim=total_words, output_dim=100, input_shape=(max_sequence_len - 1,)))\n",
    "    model.add(Bidirectional(LSTM(150)))\n",
    "    model.add(Dense(total_words, activation='softmax'))\n",
    "    \n",
    "    # Optimizer und Modell-Compile\n",
    "    adam = Adam(learning_rate=0.01)\n",
    "    model.compile(loss='categorical_crossentropy', optimizer=adam, metrics=['accuracy'])\n",
    "    \n",
    "    return model\n",
    "\n",
    "# Prüfen, ob das Modell bereits existiert\n",
    "if os.path.exists(model_file) and traning_new_model == False:\n",
    "    print(\"Modell gefunden. Lade bestehendes Modell...\")\n",
    "    model = load_model(model_file)  \n",
    "    \n",
    "else:\n",
    "    if traning_new_model ==True:\n",
    "        print(\"Neuse Model soll traniert werden\")\n",
    "    else: \n",
    "        print(\"Altes Modell nicht gefunden\")\n",
    "    \n",
    "    print(\"Startet Training \\n\\n\")\n",
    "    model = create_model()  # Neues Modell erstellen\n",
    "    \n",
    "    # Modell trainieren\n",
    "    history = model.fit(xs, ys, epochs=100, verbose=1)\n",
    "    \n",
    "    # Modell speichern\n",
    "    model.save(model_file)\n",
    "    print(f\"Modell gespeichert unter: {model_file}\")\n",
    "\n"
   ]
  },
  {
   "cell_type": "markdown",
   "metadata": {},
   "source": [
    "## Verwendung "
   ]
  },
  {
   "cell_type": "markdown",
   "metadata": {},
   "source": [
    "### Text generieren"
   ]
  },
  {
   "cell_type": "code",
   "execution_count": 33,
   "metadata": {},
   "outputs": [
    {
     "name": "stdout",
     "output_type": "stream",
     "text": [
      "1/1 [==============================] - 1s 883ms/step\n",
      "Hallo ich bin gleich\n"
     ]
    }
   ],
   "source": [
    "seed_text = \"Hallo ich bin\"\n",
    "next_words = 1\n",
    "  \n",
    "for _ in range(next_words):\n",
    "\ttoken_list = tokenizer.texts_to_sequences([seed_text])[0]\n",
    "\ttoken_list = pad_sequences([token_list], maxlen=max_sequence_len-1, padding='pre')\n",
    "\tpredicted = np.argmax(model.predict(token_list), axis=-1)\n",
    "\toutput_word = \"\"\n",
    "\tfor word, index in tokenizer.word_index.items():\n",
    "\t\tif index == predicted:\n",
    "\t\t\toutput_word = word\n",
    "\t\t\tbreak\n",
    "\tseed_text += \" \" + output_word\n",
    "print(seed_text)"
   ]
  },
  {
   "cell_type": "markdown",
   "metadata": {},
   "source": [
    "### Nextes Word vorhesagen  "
   ]
  },
  {
   "cell_type": "code",
   "execution_count": 34,
   "metadata": {},
   "outputs": [
    {
     "name": "stdout",
     "output_type": "stream",
     "text": [
      "Top 10 nächste Wörter für 'Wie':\n",
      "lange: 34.5012 %\n",
      "war: 21.3129 %\n",
      "geht: 11.2767 %\n",
      "groß: 8.8589 %\n",
      "spät: 8.8236 %\n",
      "weit: 7.2790 %\n",
      "komme: 6.3575 %\n",
      "ist: 0.1092 %\n",
      "hast: 0.0547 %\n",
      "dauert: 0.0521 %\n"
     ]
    }
   ],
   "source": [
    "import numpy as np\n",
    "\n",
    "seed_text = \"Wie\"\n",
    "top_k = 10  # Anzahl der Top-Wörter\n",
    "\n",
    "# Tokenisierung und Padding des Eingabetexts\n",
    "token_list = tokenizer.texts_to_sequences([seed_text])[0]\n",
    "token_list = pad_sequences([token_list], maxlen=max_sequence_len-1, padding='pre')\n",
    "\n",
    "# Vorhersagen berechnen\n",
    "predictions = model.predict(token_list, verbose=0)[0]  # Softmax-Ausgabe\n",
    "\n",
    "# Top-10 wahrscheinlichste Wörter finden\n",
    "top_indices = np.argsort(predictions)[-top_k:][::-1]  #Sortiere absteigend\n",
    "\n",
    "# Wörter und Wahrscheinlichkeiten sammeln\n",
    "top_words = [(word, predictions[index]) for word, index in tokenizer.word_index.items() if index in top_indices]\n",
    "\n",
    "# Sortiere die Wörter nach Wahrscheinlichkeit in absteigender Reihenfolge\n",
    "top_words = sorted(top_words, key=lambda x: x[1], reverse=True)\n",
    "\n",
    "# Ausgabe der Top-10 Wörter und Wahrscheinlichkeiten\n",
    "print(f\"Top {top_k} nächste Wörter für '{seed_text}':\")\n",
    "for word, prob in top_words:\n",
    "    print(f\"{word}: {(prob * 100):.4f} %\")\n"
   ]
  },
  {
   "cell_type": "markdown",
   "metadata": {},
   "source": [
    "## Konvertierung "
   ]
  },
  {
   "cell_type": "code",
   "execution_count": 35,
   "metadata": {},
   "outputs": [
    {
     "name": "stdout",
     "output_type": "stream",
     "text": [
      "Konveriert neues Modell \n",
      "\n",
      "\n",
      "/bin/bash: line 1: tensorflowjs_converter: command not found\n"
     ]
    }
   ],
   "source": [
    "if traning_new_model:\n",
    "    print(\"Konveriert neues Modell \\n\\n\")\n",
    "    ! tensorflowjs_converter --input_format=keras {model_file} {js_model_dir}\n",
    "else:\n",
    "    print(\"Konvertiertes Model bereits vorhanden\")\n"
   ]
  },
  {
   "cell_type": "code",
   "execution_count": 40,
   "metadata": {},
   "outputs": [
    {
     "name": "stdout",
     "output_type": "stream",
     "text": [
      "Kopiere JS-Model in React-Model\n"
     ]
    }
   ],
   "source": [
    "if copie_js_model_to_react:\n",
    "    print(\"Kopiere JS-Model in React-Model\")\n",
    "    ! cp -r {js_model_dir} {react_model_path}\n",
    "else:\n",
    "    print(\"JS-Model bereits im React-Model vorhanden\")"
   ]
  }
 ],
 "metadata": {
  "kernelspec": {
   "display_name": "Python 3",
   "language": "python",
   "name": "python3"
  },
  "language_info": {
   "codemirror_mode": {
    "name": "ipython",
    "version": 3
   },
   "file_extension": ".py",
   "mimetype": "text/x-python",
   "name": "python",
   "nbconvert_exporter": "python",
   "pygments_lexer": "ipython3",
   "version": "3.10.15"
  }
 },
 "nbformat": 4,
 "nbformat_minor": 2
}
