{
 "cells": [
  {
   "cell_type": "markdown",
   "metadata": {},
   "source": [
    "# NLP wiht LSTM TensorFlow Youtube Tutorial (GRU Variante)\n",
    "\n",
    "Video: https://www.youtube.com/watch?v=ZMudJXhsUpY&list=PLQY2H8rRoyvzDbLUZkbudP-MFQZwNmU4S&index=6\n",
    "\n",
    "Code: https://colab.research.google.com/github/lmoroney/dlaicourse/blob/master/TensorFlow%20In%20Practice/Course%203%20-%20NLP/Course%203%20-%20Week%204%20-%20Lesson%202%20-%20Notebook.ipynb#scrollTo=w9vH8Y59ajYL"
   ]
  },
  {
   "cell_type": "code",
   "execution_count": 33,
   "metadata": {},
   "outputs": [],
   "source": [
    "traning_new_model = True                # Soll ein neues Modell traniert werden ?\n",
    "copie_js_model_to_react = True          # Soll das js Modell direkt rüber kopiert werden ?"
   ]
  },
  {
   "cell_type": "markdown",
   "metadata": {},
   "source": [
    "## Setup "
   ]
  },
  {
   "cell_type": "code",
   "execution_count": 34,
   "metadata": {},
   "outputs": [
    {
     "name": "stdout",
     "output_type": "stream",
     "text": [
      "\n",
      "Python 3.10.15\n",
      "2.15.1\n",
      "2.15.0\n"
     ]
    }
   ],
   "source": [
    "import tensorflow as tf\n",
    "import keras \n",
    "\n",
    "from tensorflow.keras.preprocessing.sequence import pad_sequences\n",
    "from tensorflow.keras.layers import Embedding, LSTM, Dense, Bidirectional, GRU\n",
    "from tensorflow.keras.preprocessing.text import Tokenizer\n",
    "from tensorflow.keras.models import Sequential\n",
    "from tensorflow.keras.optimizers import Adam\n",
    "\n",
    "import numpy as np \n",
    "import os\n",
    "\n",
    "#os.environ[\"TF_USE_LEGACY_KERAS\"] = \"1\" # https://github.com/tensorflow/tfjs/issues/8328#issuecomment-2212490809\n",
    "\n",
    "! echo $TF_USE_LEGACY_KERAS\n",
    "! python3 --version\n",
    "print(tf.__version__)\n",
    "print(keras.__version__)\n"
   ]
  },
  {
   "cell_type": "code",
   "execution_count": 35,
   "metadata": {},
   "outputs": [
    {
     "name": "stdout",
     "output_type": "stream",
     "text": [
      "/workspace/algorithem/next_word_prediciton/rnns/models/gru_js\n",
      "/workspace/webpage/silvan-webpage/public/models\n"
     ]
    }
   ],
   "source": [
    "# Modellname ohne führenden Schrägstrich\n",
    "model_name = \"gru\"  # ohne führendes \"/\"\n",
    "\n",
    "text_file = os.path.abspath(\"../../example_text.txt\")\n",
    "model_file = os.path.join(os.path.abspath(\"./models\"), model_name + \".h5\")\n",
    "js_model_dir = os.path.join(os.path.abspath(\"./models\"), model_name + \"_js\")\n",
    "react_model_path = os.path.join(os.path.abspath(\"/workspace/webpage/silvan-webpage/public/models\"))\n",
    "\n",
    "print(js_model_dir)\n",
    "print(react_model_path)"
   ]
  },
  {
   "cell_type": "markdown",
   "metadata": {},
   "source": [
    "## Data"
   ]
  },
  {
   "cell_type": "code",
   "execution_count": 36,
   "metadata": {},
   "outputs": [
    {
     "name": "stdout",
     "output_type": "stream",
     "text": [
      "Inhalte des Datensatzes: \n",
      "\n",
      "Wie geht es dir?\n",
      "Mir geht's gut, danke.\n",
      "Was machst du heute?\n",
      "Hast du gut geschlafen?\n",
      "Wo wohnst du?\n",
      "Ich wohne in Berlin.\n",
      "Wie spät ist es?\n",
      "Es ist schon ziemlich spät.\n",
      "Hast du heute Zeit?\n",
      "Was hast du am Wochenende vor?\n",
      "Kannst du mir bitte helf\n"
     ]
    }
   ],
   "source": [
    "# Datensatz laden\n",
    "data = open(text_file, 'rb').read().decode(encoding='utf-8')\n",
    "\n",
    "print(f\"Inhalte des Datensatzes: \\n\\n{data[:250]}\")"
   ]
  },
  {
   "cell_type": "code",
   "execution_count": 37,
   "metadata": {},
   "outputs": [
    {
     "name": "stdout",
     "output_type": "stream",
     "text": [
      "Der Tokenizer kennt 200 Wörter\n",
      "Die Wörter werden folgenden Indexe zugenortnet: {'\\r': 1, 'du': 2, 'ich': 3, 'das': 4, 'hast': 5, 'habe': 6, 'was': 7, 'wie': 8, 'es': 9, 'ist': 10, 'heute': 11, 'schon': 12, 'kannst': 13, 'möchtest': 14, 'hier': 15, 'wann': 16, 'nicht': 17, 'lange': 18, 'kann': 19, 'wo': 20, 'in': 21, 'zeit': 22, 'zu': 23, 'noch': 24, 'zum': 25, 'der': 26, 'bin': 27, 'dir': 28, 'mir': 29, 'gut': 30, 'bitte': 31, 'etwas': 32, 'gehen': 33, 'muss': 34, 'war': 35, 'machst': 36, 'spät': 37, 'ziemlich': 38, 'wochenende': 39, 'frei': 40, 'wir': 41, 'uns': 42, 'mich': 43, 'schön': 44, 'den': 45, 'film': 46, 'viel': 47, 'tun': 48, 'mit': 49, 'keine': 50, 'einen': 51, 'dauert': 52, 'finde': 53, 'die': 54, 'nächste': 55, 'gibt': 56, 'komme': 57, 'bleibst': 58, 'gleich': 59, 'an': 60, 'meinen': 61, 'vergessen': 62, 'dein': 63, 'morgen': 64, 'bus': 65, 'weit': 66, 'bis': 67, 'eine': 68, 'geht': 69, \"geht's\": 70, 'danke': 71, 'geschlafen': 72, 'wohnst': 73, 'wohne': 74, 'berlin': 75, 'am': 76, 'vor': 77, 'helfen': 78, 'gestern': 79, 'gemacht': 80, 'hunger': 81, 'trinken': 82, 'arbeiten': 83, 'sie': 84, 'arbeite': 85, 'als': 86, 'lehrer': 87, 'treffen': 88, 'freue': 89, 'dich': 90, 'sehen': 91, 'wetter': 92, 'oder': 93, 'kalt': 94, 'draußen': 95, 'regnet': 96, 'seit': 97, 'stunden': 98, 'fenster': 99, 'schließen': 100, 'ins': 101, 'kino': 102, 'für': 103, 'musik': 104, 'hörst': 105, 'gerne': 106, 'gesehen': 107, 'kommst': 108, 'gehört': 109, 'einkaufen': 110, 'isst': 111, 'mittagessen': 112, 'lust': 113, 'kochen': 114, 'moment': 115, 'gesagt': 116, 'wiederholen': 117, 'verstanden': 118, 'lauter': 119, 'sprechen': 120, 'kostet': 121, 'u': 122, 'bahn': 123, 'station': 124, 'ein': 125, 'gutes': 126, 'restaurant': 127, 'bahnhof': 128, 'karte': 129, 'bezahlen': 130, 'alles': 131, 'zurück': 132, 'jetzt': 133, 'los': 134, 'ruf': 135, 'wenn': 136, 'schlüssel': 137, 'gekauft': 138, 'wirklich': 139, 'gefrühstückt': 140, 'abendessen': 141, 'anbieten': 142, 'lieblingsessen': 143, 'pläne': 144, 'fängt': 145, 'verpasst': 146, 'stadtzentrum': 147, 'erklären': 148, 'erwartet': 149, 'klingt': 150, 'interessant': 151, 'sehr': 152, 'müde': 153, 'denkst': 154, 'darüber': 155, 'tag': 156, 'bist': 157, 'aufgestanden': 158, 'machen': 159, 'fertig': 160, 'wohin': 161, 'früh': 162, 'aufstehen': 163, 'erledigt': 164, 'fast': 165, 'deiner': 166, 'freizeit': 167, 'gegessen': 168, 'satt': 169, 'durstig': 170, 'lieblingsort': 171, 'stadt': 172, 'wlan': 173, 'mein': 174, 'handy': 175, 'aufladen': 176, 'brauchst': 177, 'hilfe': 178, 'beste': 179, 'teil': 180, 'deines': 181, 'tages': 182, 'fährst': 183, 'urlaub': 184, 'adresse': 185, 'gefunden': 186, 'frage': 187, 'stellen': 188, 'kennen': 189, 'arbeit': 190, 'erledigen': 191, 'gute': 192, 'idee': 193, 'eilig': 194, 'anprobieren': 195, 'groß': 196, 'zimmer': 197, 'von': 198, 'später': 199}\n"
     ]
    }
   ],
   "source": [
    "# Corpus erstellen\n",
    "tokenizer = Tokenizer()\n",
    "corpus = data.lower().split(\"\\n\")\n",
    "tokenizer.fit_on_texts(corpus)\n",
    "total_words = len(tokenizer.word_index) + 1\n",
    "\n",
    "print(f\"Der Tokenizer kennt {total_words} Wörter\")\n",
    "print(f\"Die Wörter werden folgenden Indexe zugenortnet: {tokenizer.word_index}\")\n"
   ]
  },
  {
   "cell_type": "code",
   "execution_count": 38,
   "metadata": {},
   "outputs": [],
   "source": [
    "# Datensatu generieren\n",
    "input_sequences = []\n",
    "\n",
    "# Wandelt jede Zeile in eine Liste von Wortindizes \n",
    "for line in corpus:\n",
    "\ttoken_list = tokenizer.texts_to_sequences([line])[0]\n",
    "\n",
    "\t# n-Gramm-Sequenz generieren\n",
    "\tfor i in range(1, len(token_list)):\n",
    "\n",
    "\t\tn_gram_sequence = token_list[:i+1]\n",
    "\t\tinput_sequences.append(n_gram_sequence)\n",
    "\n",
    "# Alle Sequences auf gleiche Laenge bringen \n",
    "max_sequence_len = max([len(x) for x in input_sequences])\n",
    "input_sequences = np.array(pad_sequences(input_sequences, maxlen=max_sequence_len, padding='pre'))\n",
    "\n",
    "# Aufteilen in Prädiktoren und Labels\n",
    "xs, labels = input_sequences[:,:-1],input_sequences[:,-1]\n",
    "ys = tf.keras.utils.to_categorical(labels, num_classes=total_words)"
   ]
  },
  {
   "cell_type": "markdown",
   "metadata": {},
   "source": [
    "## Modell"
   ]
  },
  {
   "cell_type": "code",
   "execution_count": 39,
   "metadata": {},
   "outputs": [
    {
     "name": "stdout",
     "output_type": "stream",
     "text": [
      "Neuse Model soll traniert werden\n",
      "Startet Training \n",
      "\n",
      "\n",
      "Epoch 1/100\n",
      "15/15 [==============================] - 9s 18ms/step - loss: 5.0164 - accuracy: 0.2128\n",
      "Epoch 2/100\n",
      "15/15 [==============================] - 0s 15ms/step - loss: 3.9121 - accuracy: 0.3043\n",
      "Epoch 3/100\n",
      "15/15 [==============================] - 0s 19ms/step - loss: 3.1794 - accuracy: 0.3489\n",
      "Epoch 4/100\n",
      "15/15 [==============================] - 0s 22ms/step - loss: 2.6470 - accuracy: 0.3723\n",
      "Epoch 5/100\n",
      "15/15 [==============================] - 0s 15ms/step - loss: 2.0488 - accuracy: 0.4532\n",
      "Epoch 6/100\n",
      "15/15 [==============================] - 0s 15ms/step - loss: 1.5242 - accuracy: 0.5745\n",
      "Epoch 7/100\n",
      "15/15 [==============================] - 0s 14ms/step - loss: 1.1764 - accuracy: 0.6574\n",
      "Epoch 8/100\n",
      "15/15 [==============================] - 0s 20ms/step - loss: 1.0129 - accuracy: 0.7043\n",
      "Epoch 9/100\n",
      "15/15 [==============================] - 0s 14ms/step - loss: 0.8460 - accuracy: 0.7447\n",
      "Epoch 10/100\n",
      "15/15 [==============================] - 0s 14ms/step - loss: 0.8562 - accuracy: 0.7383\n",
      "Epoch 11/100\n",
      "15/15 [==============================] - 0s 15ms/step - loss: 0.7713 - accuracy: 0.7319\n",
      "Epoch 12/100\n",
      "15/15 [==============================] - 0s 14ms/step - loss: 0.7086 - accuracy: 0.7532\n",
      "Epoch 13/100\n",
      "15/15 [==============================] - 0s 21ms/step - loss: 0.6847 - accuracy: 0.7170\n",
      "Epoch 14/100\n",
      "15/15 [==============================] - 0s 15ms/step - loss: 0.6940 - accuracy: 0.7574\n",
      "Epoch 15/100\n",
      "15/15 [==============================] - 0s 14ms/step - loss: 0.6388 - accuracy: 0.7617\n",
      "Epoch 16/100\n",
      "15/15 [==============================] - 0s 14ms/step - loss: 0.6472 - accuracy: 0.7511\n",
      "Epoch 17/100\n",
      "15/15 [==============================] - 0s 15ms/step - loss: 0.6540 - accuracy: 0.7617\n",
      "Epoch 18/100\n",
      "15/15 [==============================] - 0s 22ms/step - loss: 0.5930 - accuracy: 0.7681\n",
      "Epoch 19/100\n",
      "15/15 [==============================] - 0s 14ms/step - loss: 0.6000 - accuracy: 0.7681\n",
      "Epoch 20/100\n",
      "15/15 [==============================] - 0s 14ms/step - loss: 0.6059 - accuracy: 0.7702\n",
      "Epoch 21/100\n",
      "15/15 [==============================] - 0s 14ms/step - loss: 0.5944 - accuracy: 0.7745\n",
      "Epoch 22/100\n",
      "15/15 [==============================] - 0s 13ms/step - loss: 0.5953 - accuracy: 0.7638\n",
      "Epoch 23/100\n",
      "15/15 [==============================] - 0s 22ms/step - loss: 0.5835 - accuracy: 0.7702\n",
      "Epoch 24/100\n",
      "15/15 [==============================] - 0s 14ms/step - loss: 0.6219 - accuracy: 0.7553\n",
      "Epoch 25/100\n",
      "15/15 [==============================] - 0s 15ms/step - loss: 0.5679 - accuracy: 0.7681\n",
      "Epoch 26/100\n",
      "15/15 [==============================] - 0s 14ms/step - loss: 0.5767 - accuracy: 0.7660\n",
      "Epoch 27/100\n",
      "15/15 [==============================] - 0s 26ms/step - loss: 0.5722 - accuracy: 0.7809\n",
      "Epoch 28/100\n",
      "15/15 [==============================] - 0s 16ms/step - loss: 0.5733 - accuracy: 0.7574\n",
      "Epoch 29/100\n",
      "15/15 [==============================] - 0s 17ms/step - loss: 0.5944 - accuracy: 0.7511\n",
      "Epoch 30/100\n",
      "15/15 [==============================] - 0s 18ms/step - loss: 0.5687 - accuracy: 0.7766\n",
      "Epoch 31/100\n",
      "15/15 [==============================] - 0s 26ms/step - loss: 0.5883 - accuracy: 0.7617\n",
      "Epoch 32/100\n",
      "15/15 [==============================] - 0s 24ms/step - loss: 0.5762 - accuracy: 0.7787\n",
      "Epoch 33/100\n",
      "15/15 [==============================] - 0s 20ms/step - loss: 0.5783 - accuracy: 0.7745\n",
      "Epoch 34/100\n",
      "15/15 [==============================] - 0s 18ms/step - loss: 0.5833 - accuracy: 0.7553\n",
      "Epoch 35/100\n",
      "15/15 [==============================] - 0s 24ms/step - loss: 0.5640 - accuracy: 0.7660\n",
      "Epoch 36/100\n",
      "15/15 [==============================] - 0s 17ms/step - loss: 0.5853 - accuracy: 0.7681\n",
      "Epoch 37/100\n",
      "15/15 [==============================] - 0s 20ms/step - loss: 0.5673 - accuracy: 0.7702\n",
      "Epoch 38/100\n",
      "15/15 [==============================] - 0s 28ms/step - loss: 0.5690 - accuracy: 0.7511\n",
      "Epoch 39/100\n",
      "15/15 [==============================] - 0s 21ms/step - loss: 0.5806 - accuracy: 0.7660\n",
      "Epoch 40/100\n",
      "15/15 [==============================] - 0s 18ms/step - loss: 0.5668 - accuracy: 0.7553\n",
      "Epoch 41/100\n",
      "15/15 [==============================] - 0s 18ms/step - loss: 0.5572 - accuracy: 0.7745\n",
      "Epoch 42/100\n",
      "15/15 [==============================] - 0s 25ms/step - loss: 0.5606 - accuracy: 0.7596\n",
      "Epoch 43/100\n",
      "15/15 [==============================] - 0s 20ms/step - loss: 0.5480 - accuracy: 0.7681\n",
      "Epoch 44/100\n",
      "15/15 [==============================] - 0s 16ms/step - loss: 0.5488 - accuracy: 0.7638\n",
      "Epoch 45/100\n",
      "15/15 [==============================] - 0s 16ms/step - loss: 0.5591 - accuracy: 0.7426\n",
      "Epoch 46/100\n",
      "15/15 [==============================] - 0s 23ms/step - loss: 0.5703 - accuracy: 0.7660\n",
      "Epoch 47/100\n",
      "15/15 [==============================] - 0s 22ms/step - loss: 0.5607 - accuracy: 0.7574\n",
      "Epoch 48/100\n",
      "15/15 [==============================] - 0s 18ms/step - loss: 0.5525 - accuracy: 0.7638\n",
      "Epoch 49/100\n",
      "15/15 [==============================] - 0s 22ms/step - loss: 0.5506 - accuracy: 0.7702\n",
      "Epoch 50/100\n",
      "15/15 [==============================] - 0s 19ms/step - loss: 0.5361 - accuracy: 0.7660\n",
      "Epoch 51/100\n",
      "15/15 [==============================] - 0s 17ms/step - loss: 0.5473 - accuracy: 0.7702\n",
      "Epoch 52/100\n",
      "15/15 [==============================] - 0s 16ms/step - loss: 0.5447 - accuracy: 0.7702\n",
      "Epoch 53/100\n",
      "15/15 [==============================] - 0s 18ms/step - loss: 0.5496 - accuracy: 0.7596\n",
      "Epoch 54/100\n",
      "15/15 [==============================] - 0s 29ms/step - loss: 0.5455 - accuracy: 0.7723\n",
      "Epoch 55/100\n",
      "15/15 [==============================] - 0s 22ms/step - loss: 0.5602 - accuracy: 0.7596\n",
      "Epoch 56/100\n",
      "15/15 [==============================] - 0s 16ms/step - loss: 0.5555 - accuracy: 0.7702\n",
      "Epoch 57/100\n",
      "15/15 [==============================] - 0s 23ms/step - loss: 0.5353 - accuracy: 0.7702\n",
      "Epoch 58/100\n",
      "15/15 [==============================] - 0s 17ms/step - loss: 0.5456 - accuracy: 0.7681\n",
      "Epoch 59/100\n",
      "15/15 [==============================] - 0s 17ms/step - loss: 0.5520 - accuracy: 0.7532\n",
      "Epoch 60/100\n",
      "15/15 [==============================] - 0s 18ms/step - loss: 0.5404 - accuracy: 0.7702\n",
      "Epoch 61/100\n",
      "15/15 [==============================] - 0s 25ms/step - loss: 0.5467 - accuracy: 0.7574\n",
      "Epoch 62/100\n",
      "15/15 [==============================] - 1s 34ms/step - loss: 0.5391 - accuracy: 0.7681\n",
      "Epoch 63/100\n",
      "15/15 [==============================] - 0s 21ms/step - loss: 0.5470 - accuracy: 0.7638\n",
      "Epoch 64/100\n",
      "15/15 [==============================] - 0s 27ms/step - loss: 0.5603 - accuracy: 0.7596\n",
      "Epoch 65/100\n",
      "15/15 [==============================] - 0s 24ms/step - loss: 0.5522 - accuracy: 0.7638\n",
      "Epoch 66/100\n",
      "15/15 [==============================] - 0s 21ms/step - loss: 0.5405 - accuracy: 0.7787\n",
      "Epoch 67/100\n",
      "15/15 [==============================] - 0s 27ms/step - loss: 0.5361 - accuracy: 0.7617\n",
      "Epoch 68/100\n",
      "15/15 [==============================] - 0s 22ms/step - loss: 0.5331 - accuracy: 0.7574\n",
      "Epoch 69/100\n",
      "15/15 [==============================] - 0s 23ms/step - loss: 0.5512 - accuracy: 0.7660\n",
      "Epoch 70/100\n",
      "15/15 [==============================] - 0s 25ms/step - loss: 0.5421 - accuracy: 0.7617\n",
      "Epoch 71/100\n",
      "15/15 [==============================] - 0s 21ms/step - loss: 0.5332 - accuracy: 0.7766\n",
      "Epoch 72/100\n",
      "15/15 [==============================] - 0s 25ms/step - loss: 0.5333 - accuracy: 0.7723\n",
      "Epoch 73/100\n",
      "15/15 [==============================] - 0s 25ms/step - loss: 0.5409 - accuracy: 0.7511\n",
      "Epoch 74/100\n",
      "15/15 [==============================] - 0s 23ms/step - loss: 0.5384 - accuracy: 0.7638\n",
      "Epoch 75/100\n",
      "15/15 [==============================] - 0s 29ms/step - loss: 0.5369 - accuracy: 0.7596\n",
      "Epoch 76/100\n",
      "15/15 [==============================] - 0s 24ms/step - loss: 0.5539 - accuracy: 0.7617\n",
      "Epoch 77/100\n",
      "15/15 [==============================] - 0s 21ms/step - loss: 0.5409 - accuracy: 0.7681\n",
      "Epoch 78/100\n",
      "15/15 [==============================] - 0s 22ms/step - loss: 0.5446 - accuracy: 0.7596\n",
      "Epoch 79/100\n",
      "15/15 [==============================] - 0s 17ms/step - loss: 0.5453 - accuracy: 0.7660\n",
      "Epoch 80/100\n",
      "15/15 [==============================] - 0s 23ms/step - loss: 0.5395 - accuracy: 0.7723\n",
      "Epoch 81/100\n",
      "15/15 [==============================] - 0s 20ms/step - loss: 0.5294 - accuracy: 0.7745\n",
      "Epoch 82/100\n",
      "15/15 [==============================] - 0s 28ms/step - loss: 0.5418 - accuracy: 0.7617\n",
      "Epoch 83/100\n",
      "15/15 [==============================] - 0s 25ms/step - loss: 0.5284 - accuracy: 0.7766\n",
      "Epoch 84/100\n",
      "15/15 [==============================] - 0s 20ms/step - loss: 0.5473 - accuracy: 0.7596\n",
      "Epoch 85/100\n",
      "15/15 [==============================] - 0s 27ms/step - loss: 0.5382 - accuracy: 0.7660\n",
      "Epoch 86/100\n",
      "15/15 [==============================] - 0s 29ms/step - loss: 0.5358 - accuracy: 0.7638\n",
      "Epoch 87/100\n",
      "15/15 [==============================] - 0s 21ms/step - loss: 0.5281 - accuracy: 0.7702\n",
      "Epoch 88/100\n",
      "15/15 [==============================] - 0s 22ms/step - loss: 0.5396 - accuracy: 0.7596\n",
      "Epoch 89/100\n",
      "15/15 [==============================] - 0s 18ms/step - loss: 0.5290 - accuracy: 0.7617\n",
      "Epoch 90/100\n",
      "15/15 [==============================] - 0s 21ms/step - loss: 0.5297 - accuracy: 0.7617\n",
      "Epoch 91/100\n",
      "15/15 [==============================] - 0s 16ms/step - loss: 0.5331 - accuracy: 0.7681\n",
      "Epoch 92/100\n",
      "15/15 [==============================] - 0s 18ms/step - loss: 0.5271 - accuracy: 0.7596\n",
      "Epoch 93/100\n",
      "15/15 [==============================] - 0s 26ms/step - loss: 0.5441 - accuracy: 0.7766\n",
      "Epoch 94/100\n",
      "15/15 [==============================] - 0s 18ms/step - loss: 0.5427 - accuracy: 0.7617\n",
      "Epoch 95/100\n",
      "15/15 [==============================] - 0s 19ms/step - loss: 0.5433 - accuracy: 0.7596\n",
      "Epoch 96/100\n",
      "15/15 [==============================] - 0s 23ms/step - loss: 0.5537 - accuracy: 0.7404\n",
      "Epoch 97/100\n",
      "15/15 [==============================] - 0s 23ms/step - loss: 0.5800 - accuracy: 0.7553\n",
      "Epoch 98/100\n",
      "15/15 [==============================] - 0s 17ms/step - loss: 0.5885 - accuracy: 0.7702\n",
      "Epoch 99/100\n",
      "15/15 [==============================] - 0s 17ms/step - loss: 0.7301 - accuracy: 0.7511\n",
      "Epoch 100/100\n",
      "15/15 [==============================] - 0s 19ms/step - loss: 1.1619 - accuracy: 0.7191\n",
      "Modell gespeichert unter: /workspace/algorithem/next_word_prediciton/rnns/models/gru.h5\n"
     ]
    }
   ],
   "source": [
    "# Modell Struktur \n",
    "\n",
    "from tensorflow.keras.models import load_model\n",
    "\n",
    "def create_model():\n",
    "    model = Sequential()\n",
    "    model.add(Embedding(input_dim=total_words,                  # Anzahl aller Wörter\n",
    "                        output_dim=100,                         # Umwandlung des Wortes (des Integers) in den einen n-dimensionanlen Vektor \n",
    "                        input_length=(max_sequence_len - 1)))   # Länge der Eingaben\n",
    "    model.add(Bidirectional(GRU(150)))\n",
    "    model.add(Dense(total_words, activation='softmax'))\n",
    "    \n",
    "    # Optimizer und Modell-Compile\n",
    "    adam = Adam(learning_rate=0.01)\n",
    "    model.compile(loss='categorical_crossentropy', optimizer=adam, metrics=['accuracy'])\n",
    "    \n",
    "    return model\n",
    "\n",
    "# Prüfen, ob das Modell bereits existiert\n",
    "if os.path.exists(model_file) and traning_new_model == False:\n",
    "    print(\"Modell gefunden. Lade bestehendes Modell...\")\n",
    "    model = load_model(model_file)  \n",
    "    \n",
    "else:\n",
    "    if traning_new_model ==True:\n",
    "        print(\"Neuse Model soll traniert werden\")\n",
    "    else: \n",
    "        print(\"Altes Modell nicht gefunden\")\n",
    "    \n",
    "    print(\"Startet Training \\n\\n\")\n",
    "    model = create_model()  # Neues Modell erstellen\n",
    "    \n",
    "    # Modell trainieren\n",
    "    history = model.fit(xs, ys, epochs=100, verbose=1)\n",
    "    \n",
    "    # Modell speichern\n",
    "    model.save(model_file)\n",
    "    print(f\"Modell gespeichert unter: {model_file}\")\n"
   ]
  },
  {
   "cell_type": "code",
   "execution_count": 40,
   "metadata": {},
   "outputs": [
    {
     "name": "stdout",
     "output_type": "stream",
     "text": [
      "Embedding Eingabedimensionen: 200\n",
      "Embedding Ausgabedimensionen: 100\n",
      "Embedding Gewichtedimensionen: (200, 100)\n"
     ]
    }
   ],
   "source": [
    "# Zugriff auf die Dimensionen der Embedding-Schicht\n",
    "embedding_layer = model.layers[0]  # Die erste Schicht ist die Embedding-Schicht\n",
    "embedding_input_dim = embedding_layer.input_dim  # Eingabedimensionen (total_words)\n",
    "embedding_output_dim = embedding_layer.output_dim  # Ausgabedimensionen (Embedding Dimension)\n",
    "embedding_weights = embedding_layer.get_weights()  # Zugriff auf die Gewichte der Embedding-Schicht\n",
    "\n",
    "print(f\"Embedding Eingabedimensionen: {embedding_input_dim}\")\n",
    "print(f\"Embedding Ausgabedimensionen: {embedding_output_dim}\")\n",
    "print(f\"Embedding Gewichtedimensionen: {embedding_weights[0].shape}\")  # Die Dimensionen der Gewichtsmatrix"
   ]
  },
  {
   "cell_type": "markdown",
   "metadata": {},
   "source": [
    "## Verwendung "
   ]
  },
  {
   "cell_type": "markdown",
   "metadata": {},
   "source": [
    "### Text generieren"
   ]
  },
  {
   "cell_type": "code",
   "execution_count": 41,
   "metadata": {},
   "outputs": [
    {
     "name": "stdout",
     "output_type": "stream",
     "text": [
      "1/1 [==============================] - 1s 718ms/step\n",
      "Hallo ich bin sehr\n"
     ]
    }
   ],
   "source": [
    "seed_text = \"Hallo ich bin\"\n",
    "next_words = 1\n",
    "  \n",
    "for _ in range(next_words):\n",
    "\ttoken_list = tokenizer.texts_to_sequences([seed_text])[0]\n",
    "\ttoken_list = pad_sequences([token_list], maxlen=max_sequence_len-1, padding='pre')\n",
    "\tpredicted = np.argmax(model.predict(token_list), axis=-1)\n",
    "\toutput_word = \"\"\n",
    "\tfor word, index in tokenizer.word_index.items():\n",
    "\t\tif index == predicted:\n",
    "\t\t\toutput_word = word\n",
    "\t\t\tbreak\n",
    "\tseed_text += \" \" + output_word\n",
    "print(seed_text)"
   ]
  },
  {
   "cell_type": "markdown",
   "metadata": {},
   "source": [
    "### Nextes Word vorhesagen  "
   ]
  },
  {
   "cell_type": "code",
   "execution_count": 42,
   "metadata": {},
   "outputs": [
    {
     "name": "stdout",
     "output_type": "stream",
     "text": [
      "Top 10 nächste Wörter für 'Wie':\n",
      "lange: 65.9119 %\n",
      "spät: 13.2886 %\n",
      "war: 7.2031 %\n",
      "komme: 3.9320 %\n",
      "groß: 2.9829 %\n",
      "weit: 1.7126 %\n",
      "hast: 0.9615 %\n",
      "ist: 0.7165 %\n",
      "geht: 0.6608 %\n",
      "muss: 0.2782 %\n"
     ]
    }
   ],
   "source": [
    "import numpy as np\n",
    "\n",
    "seed_text = \"Wie\"\n",
    "top_k = 10  # Anzahl der Top-Wörter\n",
    "\n",
    "# Tokenisierung und Padding des Eingabetexts\n",
    "token_list = tokenizer.texts_to_sequences([seed_text])[0]\n",
    "token_list = pad_sequences([token_list], maxlen=max_sequence_len-1, padding='pre')\n",
    "\n",
    "# Vorhersagen berechnen\n",
    "predictions = model.predict(token_list, verbose=0)[0]  # Softmax-Ausgabe\n",
    "\n",
    "# Top-10 wahrscheinlichste Wörter finden\n",
    "top_indices = np.argsort(predictions)[-top_k:][::-1]  #Sortiere absteigend\n",
    "\n",
    "# Wörter und Wahrscheinlichkeiten sammeln\n",
    "top_words = [(word, predictions[index]) for word, index in tokenizer.word_index.items() if index in top_indices]\n",
    "\n",
    "# Sortiere die Wörter nach Wahrscheinlichkeit in absteigender Reihenfolge\n",
    "top_words = sorted(top_words, key=lambda x: x[1], reverse=True)\n",
    "\n",
    "# Ausgabe der Top-10 Wörter und Wahrscheinlichkeiten\n",
    "print(f\"Top {top_k} nächste Wörter für '{seed_text}':\")\n",
    "for word, prob in top_words:\n",
    "    print(f\"{word}: {(prob * 100):.4f} %\")\n"
   ]
  },
  {
   "cell_type": "markdown",
   "metadata": {},
   "source": [
    "## Konvertierung "
   ]
  },
  {
   "cell_type": "code",
   "execution_count": null,
   "metadata": {},
   "outputs": [
    {
     "name": "stdout",
     "output_type": "stream",
     "text": [
      "Konveriert neues Modell \n",
      "\n",
      "\n"
     ]
    },
    {
     "name": "stdout",
     "output_type": "stream",
     "text": [
      "2024-11-06 21:39:04.293398: I tensorflow/core/util/port.cc:113] oneDNN custom operations are on. You may see slightly different numerical results due to floating-point round-off errors from different computation orders. To turn them off, set the environment variable `TF_ENABLE_ONEDNN_OPTS=0`.\n",
      "2024-11-06 21:39:04.426102: E external/local_xla/xla/stream_executor/cuda/cuda_dnn.cc:9261] Unable to register cuDNN factory: Attempting to register factory for plugin cuDNN when one has already been registered\n",
      "2024-11-06 21:39:04.426180: E external/local_xla/xla/stream_executor/cuda/cuda_fft.cc:607] Unable to register cuFFT factory: Attempting to register factory for plugin cuFFT when one has already been registered\n",
      "2024-11-06 21:39:04.431224: E external/local_xla/xla/stream_executor/cuda/cuda_blas.cc:1515] Unable to register cuBLAS factory: Attempting to register factory for plugin cuBLAS when one has already been registered\n",
      "2024-11-06 21:39:04.489114: I tensorflow/core/platform/cpu_feature_guard.cc:182] This TensorFlow binary is optimized to use available CPU instructions in performance-critical operations.\n",
      "To enable the following instructions: AVX2 AVX512F AVX512_VNNI FMA, in other operations, rebuild TensorFlow with the appropriate compiler flags.\n",
      "2024-11-06 21:39:07.612336: W tensorflow/compiler/tf2tensorrt/utils/py_utils.cc:38] TF-TRT Warning: Could not find TensorRT\n",
      "WARNING:root:TensorFlow Decision Forests 1.8.1 is compatible with the following TensorFlow Versions: ['2.15.0']. However, TensorFlow 2.15.1 was detected. This can cause issues with the TF API and symbols in the custom C++ ops. See the TF and TF-DF compatibility table at https://github.com/tensorflow/decision-forests/blob/main/documentation/known_issues.md#compatibility-table.\n",
      "Traceback (most recent call last):\n",
      "  File \"/usr/local/bin/tensorflowjs_converter\", line 8, in <module>\n",
      "    sys.exit(pip_main())\n",
      "  File \"/usr/local/lib/python3.10/site-packages/tensorflowjs/converters/converter.py\", line 959, in pip_main\n",
      "    main([' '.join(sys.argv[1:])])\n",
      "  File \"/usr/local/lib/python3.10/site-packages/tensorflowjs/converters/converter.py\", line 963, in main\n",
      "    convert(argv[0].split(' '))\n",
      "  File \"/usr/local/lib/python3.10/site-packages/tensorflowjs/converters/converter.py\", line 949, in convert\n",
      "    _dispatch_converter(input_format, output_format, args, quantization_dtype_map,\n",
      "  File \"/usr/local/lib/python3.10/site-packages/tensorflowjs/converters/converter.py\", line 655, in _dispatch_converter\n",
      "    tf_saved_model_conversion_v2.convert_tf_saved_model(\n",
      "  File \"/usr/local/lib/python3.10/site-packages/tensorflowjs/converters/tf_saved_model_conversion_v2.py\", line 982, in convert_tf_saved_model\n",
      "    _convert_tf_saved_model(output_dir, saved_model_dir=saved_model_dir,\n",
      "  File \"/usr/local/lib/python3.10/site-packages/tensorflowjs/converters/tf_saved_model_conversion_v2.py\", line 757, in _convert_tf_saved_model\n",
      "    saved_model_sigature = _find_signature(saved_model_dir, saved_model_tags,\n",
      "  File \"/usr/local/lib/python3.10/site-packages/tensorflowjs/converters/tf_saved_model_conversion_v2.py\", line 589, in _find_signature\n",
      "    meta_graph = get_meta_graph_def(saved_model_dir, saved_model_tags)\n",
      "  File \"/usr/local/lib/python3.10/site-packages/tensorflow/python/tools/saved_model_utils.py\", line 113, in get_meta_graph_def\n",
      "    saved_model = read_saved_model(saved_model_dir)\n",
      "  File \"/usr/local/lib/python3.10/site-packages/tensorflow/python/tools/saved_model_utils.py\", line 51, in read_saved_model\n",
      "    raise IOError(\"SavedModel file does not exist at: %s\" % saved_model_dir)\n",
      "OSError: SavedModel file does not exist at: /workspace/algorithem/next_word_prediciton/rnns/models/gru.h5\n"
     ]
    }
   ],
   "source": [
    "if traning_new_model:\n",
    "    print(\"Konveriert neues Modell \\n\\n\")\n",
    "    ! tensorflowjs_converter --input_format=keras {model_file} {js_model_dir}\n",
    "else:\n",
    "    print(\"Konvertiertes Model bereits vorhanden\")\n"
   ]
  },
  {
   "cell_type": "code",
   "execution_count": 44,
   "metadata": {},
   "outputs": [
    {
     "name": "stdout",
     "output_type": "stream",
     "text": [
      "Kopiere JS-Model in React-Model\n"
     ]
    }
   ],
   "source": [
    "if copie_js_model_to_react:\n",
    "    print(\"Kopiere JS-Model in React-Model\")\n",
    "    ! cp -r {js_model_dir} {react_model_path}\n",
    "else:\n",
    "    print(\"JS-Model bereits im React-Model vorhanden\")"
   ]
  }
 ],
 "metadata": {
  "kernelspec": {
   "display_name": "Python 3",
   "language": "python",
   "name": "python3"
  },
  "language_info": {
   "codemirror_mode": {
    "name": "ipython",
    "version": 3
   },
   "file_extension": ".py",
   "mimetype": "text/x-python",
   "name": "python",
   "nbconvert_exporter": "python",
   "pygments_lexer": "ipython3",
   "version": "3.10.15"
  }
 },
 "nbformat": 4,
 "nbformat_minor": 2
}
