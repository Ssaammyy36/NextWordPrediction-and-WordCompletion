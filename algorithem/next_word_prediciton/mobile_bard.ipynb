{
 "cells": [
  {
   "cell_type": "markdown",
   "metadata": {},
   "source": [
    "# Mobile Bard\n",
    "\n",
    "Model: https://huggingface.co/google/mobilebert-\n",
    "\n",
    "Quelle: https://www.reddit.com/r/MachineLearning/comments/1dootto/d_running_googlemobilebertuncased_on_an_iphone/"
   ]
  },
  {
   "cell_type": "code",
   "execution_count": 6,
   "metadata": {},
   "outputs": [
    {
     "name": "stdout",
     "output_type": "stream",
     "text": [
      "[{'score': 0.12046127766370773, 'token': 6994, 'token_str': 'tool', 'sequence': 'huggingface is creating a tool that the community uses to solve nlp tasks.'}, {'score': 0.09160243719816208, 'token': 4132, 'token_str': 'platform', 'sequence': 'huggingface is creating a platform that the community uses to solve nlp tasks.'}, {'score': 0.09063337743282318, 'token': 2291, 'token_str': 'system', 'sequence': 'huggingface is creating a system that the community uses to solve nlp tasks.'}, {'score': 0.05025903880596161, 'token': 2944, 'token_str': 'model', 'sequence': 'huggingface is creating a model that the community uses to solve nlp tasks.'}, {'score': 0.04429984837770462, 'token': 7705, 'token_str': 'framework', 'sequence': 'huggingface is creating a framework that the community uses to solve nlp tasks.'}]\n"
     ]
    }
   ],
   "source": [
    "from transformers import pipeline\n",
    "\n",
    "fill_mask = pipeline(\n",
    "    \"fill-mask\",\n",
    "    model=\"google/mobilebert-uncased\",\n",
    "    tokenizer=\"google/mobilebert-uncased\"\n",
    ")\n",
    "\n",
    "print(\n",
    "    fill_mask(f\"HuggingFace is creating a {fill_mask.tokenizer.mask_token} that the community uses to solve NLP tasks.\")\n",
    ")"
   ]
  },
  {
   "cell_type": "code",
   "execution_count": 7,
   "metadata": {},
   "outputs": [
    {
     "name": "stdout",
     "output_type": "stream",
     "text": [
      "HuggingFace is creating a new album . \"\n"
     ]
    }
   ],
   "source": [
    "from transformers import pipeline\n",
    "\n",
    "# 1. Load MobileBERT Model\n",
    "fill_mask = pipeline(\n",
    "    \"fill-mask\",\n",
    "    model=\"google/mobilebert-uncased\",\n",
    "    tokenizer=\"google/mobilebert-uncased\"\n",
    ")\n",
    "\n",
    "# 2. Funktion zum Vorhersagen des nächsten Wortes\n",
    "def predict_next_word(sentence, top_k=1):\n",
    "    # Füge das Masken-Token am Ende des Satzes hinzu\n",
    "    masked_sentence = sentence + \" \" + fill_mask.tokenizer.mask_token\n",
    "    \n",
    "    # Lasse das Modell die möglichen Wörter vorhersagen\n",
    "    predictions = fill_mask(masked_sentence, top_k=top_k)\n",
    "    \n",
    "    # Gebe das wahrscheinlichste nächste Wort zurück\n",
    "    next_word = predictions[0]['token_str'].strip()\n",
    "    return next_word\n",
    "\n",
    "# 3. Testen: Satz schrittweise vervollständigen\n",
    "sentence = \"HuggingFace is creating\"\n",
    "for _ in range(5):  # Generiere 5 Wörter\n",
    "    next_word = predict_next_word(sentence)\n",
    "    sentence += \" \" + next_word  # Füge das vorhergesagte Wort an den Satz an\n",
    "\n",
    "print(sentence)\n"
   ]
  }
 ],
 "metadata": {
  "kernelspec": {
   "display_name": "Python 3",
   "language": "python",
   "name": "python3"
  },
  "language_info": {
   "codemirror_mode": {
    "name": "ipython",
    "version": 3
   },
   "file_extension": ".py",
   "mimetype": "text/x-python",
   "name": "python",
   "nbconvert_exporter": "python",
   "pygments_lexer": "ipython3",
   "version": "3.11.10"
  }
 },
 "nbformat": 4,
 "nbformat_minor": 2
}
